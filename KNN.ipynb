{
 "cells": [
  {
   "cell_type": "markdown",
   "metadata": {},
   "source": [
    "### Objective: To apply kNN on amazon fine food reviews using both kd-tree and brute force algo"
   ]
  },
  {
   "cell_type": "code",
   "execution_count": 131,
   "metadata": {
    "_uuid": "f51cb16a4c4ea190e1c7fa0333cd571e2cbd81a7",
    "collapsed": true
   },
   "outputs": [],
   "source": [
    "import warnings\n",
    "warnings.filterwarnings(\"ignore\")\n",
    "\n",
    "#import sqlite3\n",
    "import pandas as pd\n",
    "import numpy as np\n",
    "import nltk\n",
    "import string\n",
    "import matplotlib.pyplot as plt\n",
    "import seaborn as sns\n",
    "from sklearn.feature_extraction.text import TfidfTransformer\n",
    "from sklearn.feature_extraction.text import TfidfVectorizer\n",
    "\n",
    "from sklearn.feature_extraction.text import CountVectorizer\n",
    "from sklearn.metrics import confusion_matrix\n",
    "from sklearn import metrics\n",
    "from sklearn.metrics import roc_curve, auc\n",
    "from nltk.stem.porter import PorterStemmer\n",
    "\n",
    "import re\n",
    "\n",
    "import string\n",
    "from nltk.corpus import stopwords\n",
    "from nltk.stem import PorterStemmer\n",
    "from nltk.stem.wordnet import WordNetLemmatizer\n",
    "\n",
    "from gensim.models import Word2Vec\n",
    "from gensim.models import KeyedVectors\n",
    "import pickle\n"
   ]
  },
  {
   "cell_type": "code",
   "execution_count": 132,
   "metadata": {
    "_uuid": "70ef06627a52e981e464795b975946873b4c72ba",
    "collapsed": true
   },
   "outputs": [],
   "source": [
    "from sklearn.model_selection import train_test_split\n",
    "from sklearn.neighbors import KNeighborsClassifier\n",
    "from sklearn.metrics import accuracy_score\n",
    "from sklearn.model_selection import cross_val_score\n",
    "from collections import Counter\n",
    "from sklearn.metrics import accuracy_score\n",
    "from sklearn.model_selection import cross_validate"
   ]
  },
  {
   "cell_type": "code",
   "execution_count": 133,
   "metadata": {
    "_uuid": "74f3e4e14429a0ad38be28806e7db402965d0a56",
    "collapsed": true
   },
   "outputs": [],
   "source": [
    "from sklearn.decomposition import TruncatedSVD\n",
    "import matplotlib.pyplot as plt"
   ]
  },
  {
   "cell_type": "code",
   "execution_count": 134,
   "metadata": {
    "_uuid": "22633d3f129e46f0c9768518db214e0d736d4e3a"
   },
   "outputs": [
    {
     "data": {
      "text/html": [
       "<div>\n",
       "<style scoped>\n",
       "    .dataframe tbody tr th:only-of-type {\n",
       "        vertical-align: middle;\n",
       "    }\n",
       "\n",
       "    .dataframe tbody tr th {\n",
       "        vertical-align: top;\n",
       "    }\n",
       "\n",
       "    .dataframe thead th {\n",
       "        text-align: right;\n",
       "    }\n",
       "</style>\n",
       "<table border=\"1\" class=\"dataframe\">\n",
       "  <thead>\n",
       "    <tr style=\"text-align: right;\">\n",
       "      <th></th>\n",
       "      <th>Id</th>\n",
       "      <th>ProductId</th>\n",
       "      <th>UserId</th>\n",
       "      <th>ProfileName</th>\n",
       "      <th>HelpfulnessNumerator</th>\n",
       "      <th>HelpfulnessDenominator</th>\n",
       "      <th>Score</th>\n",
       "      <th>Time</th>\n",
       "      <th>Summary</th>\n",
       "      <th>Text</th>\n",
       "    </tr>\n",
       "  </thead>\n",
       "  <tbody>\n",
       "    <tr>\n",
       "      <th>0</th>\n",
       "      <td>1</td>\n",
       "      <td>B001E4KFG0</td>\n",
       "      <td>A3SGXH7AUHU8GW</td>\n",
       "      <td>delmartian</td>\n",
       "      <td>1</td>\n",
       "      <td>1</td>\n",
       "      <td>5</td>\n",
       "      <td>1303862400</td>\n",
       "      <td>Good Quality Dog Food</td>\n",
       "      <td>I have bought several of the Vitality canned d...</td>\n",
       "    </tr>\n",
       "    <tr>\n",
       "      <th>1</th>\n",
       "      <td>2</td>\n",
       "      <td>B00813GRG4</td>\n",
       "      <td>A1D87F6ZCVE5NK</td>\n",
       "      <td>dll pa</td>\n",
       "      <td>0</td>\n",
       "      <td>0</td>\n",
       "      <td>1</td>\n",
       "      <td>1346976000</td>\n",
       "      <td>Not as Advertised</td>\n",
       "      <td>Product arrived labeled as Jumbo Salted Peanut...</td>\n",
       "    </tr>\n",
       "    <tr>\n",
       "      <th>2</th>\n",
       "      <td>3</td>\n",
       "      <td>B000LQOCH0</td>\n",
       "      <td>ABXLMWJIXXAIN</td>\n",
       "      <td>Natalia Corres \"Natalia Corres\"</td>\n",
       "      <td>1</td>\n",
       "      <td>1</td>\n",
       "      <td>4</td>\n",
       "      <td>1219017600</td>\n",
       "      <td>\"Delight\" says it all</td>\n",
       "      <td>This is a confection that has been around a fe...</td>\n",
       "    </tr>\n",
       "    <tr>\n",
       "      <th>3</th>\n",
       "      <td>4</td>\n",
       "      <td>B000UA0QIQ</td>\n",
       "      <td>A395BORC6FGVXV</td>\n",
       "      <td>Karl</td>\n",
       "      <td>3</td>\n",
       "      <td>3</td>\n",
       "      <td>2</td>\n",
       "      <td>1307923200</td>\n",
       "      <td>Cough Medicine</td>\n",
       "      <td>If you are looking for the secret ingredient i...</td>\n",
       "    </tr>\n",
       "    <tr>\n",
       "      <th>4</th>\n",
       "      <td>5</td>\n",
       "      <td>B006K2ZZ7K</td>\n",
       "      <td>A1UQRSCLF8GW1T</td>\n",
       "      <td>Michael D. Bigham \"M. Wassir\"</td>\n",
       "      <td>0</td>\n",
       "      <td>0</td>\n",
       "      <td>5</td>\n",
       "      <td>1350777600</td>\n",
       "      <td>Great taffy</td>\n",
       "      <td>Great taffy at a great price.  There was a wid...</td>\n",
       "    </tr>\n",
       "  </tbody>\n",
       "</table>\n",
       "</div>"
      ],
      "text/plain": [
       "   Id                        ...                                                                       Text\n",
       "0   1                        ...                          I have bought several of the Vitality canned d...\n",
       "1   2                        ...                          Product arrived labeled as Jumbo Salted Peanut...\n",
       "2   3                        ...                          This is a confection that has been around a fe...\n",
       "3   4                        ...                          If you are looking for the secret ingredient i...\n",
       "4   5                        ...                          Great taffy at a great price.  There was a wid...\n",
       "\n",
       "[5 rows x 10 columns]"
      ]
     },
     "execution_count": 134,
     "metadata": {},
     "output_type": "execute_result"
    }
   ],
   "source": [
    "# Loading data \n",
    "customer_reviews = pd.read_csv('../input/Reviews.csv')\n",
    "customer_reviews.head()"
   ]
  },
  {
   "cell_type": "code",
   "execution_count": 135,
   "metadata": {
    "_uuid": "f27ff5fc70e61d56e5720102d4f8d98b3c2ea059"
   },
   "outputs": [
    {
     "data": {
      "text/plain": [
       "(568454, 10)"
      ]
     },
     "execution_count": 135,
     "metadata": {},
     "output_type": "execute_result"
    }
   ],
   "source": [
    "customer_reviews.shape \n",
    "# there are 568454 reviews food products from amazon"
   ]
  },
  {
   "cell_type": "code",
   "execution_count": 136,
   "metadata": {
    "_uuid": "07b74faf0ccecb5fa7f297b1fac62037f3b1bf61"
   },
   "outputs": [
    {
     "data": {
      "text/html": [
       "<div>\n",
       "<style scoped>\n",
       "    .dataframe tbody tr th:only-of-type {\n",
       "        vertical-align: middle;\n",
       "    }\n",
       "\n",
       "    .dataframe tbody tr th {\n",
       "        vertical-align: top;\n",
       "    }\n",
       "\n",
       "    .dataframe thead th {\n",
       "        text-align: right;\n",
       "    }\n",
       "</style>\n",
       "<table border=\"1\" class=\"dataframe\">\n",
       "  <thead>\n",
       "    <tr style=\"text-align: right;\">\n",
       "      <th></th>\n",
       "      <th>Id</th>\n",
       "      <th>ProductId</th>\n",
       "      <th>UserId</th>\n",
       "      <th>ProfileName</th>\n",
       "      <th>HelpfulnessNumerator</th>\n",
       "      <th>HelpfulnessDenominator</th>\n",
       "      <th>Score</th>\n",
       "      <th>Time</th>\n",
       "      <th>Summary</th>\n",
       "      <th>Text</th>\n",
       "    </tr>\n",
       "  </thead>\n",
       "  <tbody>\n",
       "    <tr>\n",
       "      <th>0</th>\n",
       "      <td>1</td>\n",
       "      <td>B001E4KFG0</td>\n",
       "      <td>A3SGXH7AUHU8GW</td>\n",
       "      <td>delmartian</td>\n",
       "      <td>1</td>\n",
       "      <td>1</td>\n",
       "      <td>5</td>\n",
       "      <td>1303862400</td>\n",
       "      <td>Good Quality Dog Food</td>\n",
       "      <td>I have bought several of the Vitality canned d...</td>\n",
       "    </tr>\n",
       "    <tr>\n",
       "      <th>1</th>\n",
       "      <td>2</td>\n",
       "      <td>B00813GRG4</td>\n",
       "      <td>A1D87F6ZCVE5NK</td>\n",
       "      <td>dll pa</td>\n",
       "      <td>0</td>\n",
       "      <td>0</td>\n",
       "      <td>1</td>\n",
       "      <td>1346976000</td>\n",
       "      <td>Not as Advertised</td>\n",
       "      <td>Product arrived labeled as Jumbo Salted Peanut...</td>\n",
       "    </tr>\n",
       "    <tr>\n",
       "      <th>2</th>\n",
       "      <td>3</td>\n",
       "      <td>B000LQOCH0</td>\n",
       "      <td>ABXLMWJIXXAIN</td>\n",
       "      <td>Natalia Corres \"Natalia Corres\"</td>\n",
       "      <td>1</td>\n",
       "      <td>1</td>\n",
       "      <td>4</td>\n",
       "      <td>1219017600</td>\n",
       "      <td>\"Delight\" says it all</td>\n",
       "      <td>This is a confection that has been around a fe...</td>\n",
       "    </tr>\n",
       "    <tr>\n",
       "      <th>3</th>\n",
       "      <td>4</td>\n",
       "      <td>B000UA0QIQ</td>\n",
       "      <td>A395BORC6FGVXV</td>\n",
       "      <td>Karl</td>\n",
       "      <td>3</td>\n",
       "      <td>3</td>\n",
       "      <td>2</td>\n",
       "      <td>1307923200</td>\n",
       "      <td>Cough Medicine</td>\n",
       "      <td>If you are looking for the secret ingredient i...</td>\n",
       "    </tr>\n",
       "    <tr>\n",
       "      <th>4</th>\n",
       "      <td>5</td>\n",
       "      <td>B006K2ZZ7K</td>\n",
       "      <td>A1UQRSCLF8GW1T</td>\n",
       "      <td>Michael D. Bigham \"M. Wassir\"</td>\n",
       "      <td>0</td>\n",
       "      <td>0</td>\n",
       "      <td>5</td>\n",
       "      <td>1350777600</td>\n",
       "      <td>Great taffy</td>\n",
       "      <td>Great taffy at a great price.  There was a wid...</td>\n",
       "    </tr>\n",
       "  </tbody>\n",
       "</table>\n",
       "</div>"
      ],
      "text/plain": [
       "   Id                        ...                                                                       Text\n",
       "0   1                        ...                          I have bought several of the Vitality canned d...\n",
       "1   2                        ...                          Product arrived labeled as Jumbo Salted Peanut...\n",
       "2   3                        ...                          This is a confection that has been around a fe...\n",
       "3   4                        ...                          If you are looking for the secret ingredient i...\n",
       "4   5                        ...                          Great taffy at a great price.  There was a wid...\n",
       "\n",
       "[5 rows x 10 columns]"
      ]
     },
     "execution_count": 136,
     "metadata": {},
     "output_type": "execute_result"
    }
   ],
   "source": [
    "# keeping those reviews where score is either less than 3 or greater than 3\n",
    "\n",
    "filtered_data = customer_reviews[customer_reviews.Score!=3]\n",
    "filtered_data.head()"
   ]
  },
  {
   "cell_type": "code",
   "execution_count": 137,
   "metadata": {
    "_uuid": "01c4021794df3113521b18d1a37601b459a9c6ec"
   },
   "outputs": [
    {
     "data": {
      "text/plain": [
       "(525814, 10)"
      ]
     },
     "execution_count": 137,
     "metadata": {},
     "output_type": "execute_result"
    }
   ],
   "source": [
    "#looking at the number of attributes and size of the data after filtering\n",
    "filtered_data.shape"
   ]
  },
  {
   "cell_type": "code",
   "execution_count": 138,
   "metadata": {
    "_uuid": "2b7afdef0ebc917ae7143b865be57e17a46668a7"
   },
   "outputs": [
    {
     "data": {
      "text/html": [
       "<div>\n",
       "<style scoped>\n",
       "    .dataframe tbody tr th:only-of-type {\n",
       "        vertical-align: middle;\n",
       "    }\n",
       "\n",
       "    .dataframe tbody tr th {\n",
       "        vertical-align: top;\n",
       "    }\n",
       "\n",
       "    .dataframe thead th {\n",
       "        text-align: right;\n",
       "    }\n",
       "</style>\n",
       "<table border=\"1\" class=\"dataframe\">\n",
       "  <thead>\n",
       "    <tr style=\"text-align: right;\">\n",
       "      <th></th>\n",
       "      <th>Id</th>\n",
       "      <th>ProductId</th>\n",
       "      <th>UserId</th>\n",
       "      <th>ProfileName</th>\n",
       "      <th>HelpfulnessNumerator</th>\n",
       "      <th>HelpfulnessDenominator</th>\n",
       "      <th>Score</th>\n",
       "      <th>Time</th>\n",
       "      <th>Summary</th>\n",
       "      <th>Text</th>\n",
       "    </tr>\n",
       "  </thead>\n",
       "  <tbody>\n",
       "    <tr>\n",
       "      <th>0</th>\n",
       "      <td>1</td>\n",
       "      <td>B001E4KFG0</td>\n",
       "      <td>A3SGXH7AUHU8GW</td>\n",
       "      <td>delmartian</td>\n",
       "      <td>1</td>\n",
       "      <td>1</td>\n",
       "      <td>positive</td>\n",
       "      <td>1303862400</td>\n",
       "      <td>Good Quality Dog Food</td>\n",
       "      <td>I have bought several of the Vitality canned d...</td>\n",
       "    </tr>\n",
       "    <tr>\n",
       "      <th>1</th>\n",
       "      <td>2</td>\n",
       "      <td>B00813GRG4</td>\n",
       "      <td>A1D87F6ZCVE5NK</td>\n",
       "      <td>dll pa</td>\n",
       "      <td>0</td>\n",
       "      <td>0</td>\n",
       "      <td>negative</td>\n",
       "      <td>1346976000</td>\n",
       "      <td>Not as Advertised</td>\n",
       "      <td>Product arrived labeled as Jumbo Salted Peanut...</td>\n",
       "    </tr>\n",
       "    <tr>\n",
       "      <th>2</th>\n",
       "      <td>3</td>\n",
       "      <td>B000LQOCH0</td>\n",
       "      <td>ABXLMWJIXXAIN</td>\n",
       "      <td>Natalia Corres \"Natalia Corres\"</td>\n",
       "      <td>1</td>\n",
       "      <td>1</td>\n",
       "      <td>positive</td>\n",
       "      <td>1219017600</td>\n",
       "      <td>\"Delight\" says it all</td>\n",
       "      <td>This is a confection that has been around a fe...</td>\n",
       "    </tr>\n",
       "    <tr>\n",
       "      <th>3</th>\n",
       "      <td>4</td>\n",
       "      <td>B000UA0QIQ</td>\n",
       "      <td>A395BORC6FGVXV</td>\n",
       "      <td>Karl</td>\n",
       "      <td>3</td>\n",
       "      <td>3</td>\n",
       "      <td>negative</td>\n",
       "      <td>1307923200</td>\n",
       "      <td>Cough Medicine</td>\n",
       "      <td>If you are looking for the secret ingredient i...</td>\n",
       "    </tr>\n",
       "    <tr>\n",
       "      <th>4</th>\n",
       "      <td>5</td>\n",
       "      <td>B006K2ZZ7K</td>\n",
       "      <td>A1UQRSCLF8GW1T</td>\n",
       "      <td>Michael D. Bigham \"M. Wassir\"</td>\n",
       "      <td>0</td>\n",
       "      <td>0</td>\n",
       "      <td>positive</td>\n",
       "      <td>1350777600</td>\n",
       "      <td>Great taffy</td>\n",
       "      <td>Great taffy at a great price.  There was a wid...</td>\n",
       "    </tr>\n",
       "  </tbody>\n",
       "</table>\n",
       "</div>"
      ],
      "text/plain": [
       "   Id                        ...                                                                       Text\n",
       "0   1                        ...                          I have bought several of the Vitality canned d...\n",
       "1   2                        ...                          Product arrived labeled as Jumbo Salted Peanut...\n",
       "2   3                        ...                          This is a confection that has been around a fe...\n",
       "3   4                        ...                          If you are looking for the secret ingredient i...\n",
       "4   5                        ...                          Great taffy at a great price.  There was a wid...\n",
       "\n",
       "[5 rows x 10 columns]"
      ]
     },
     "execution_count": 138,
     "metadata": {},
     "output_type": "execute_result"
    }
   ],
   "source": [
    "# converting Score >3 into postive and <3 into negative\n",
    "\n",
    "def convert(x):\n",
    "    if x>3:\n",
    "        return \"positive\"\n",
    "    return \"negative\"\n",
    "\n",
    "\n",
    "filtered_data['Score'] = filtered_data['Score'].map(convert)\n",
    "filtered_data.head()"
   ]
  },
  {
   "cell_type": "markdown",
   "metadata": {
    "_uuid": "40f9b308ef22ddadfdbc91bdbbec5c6e3aa244cf"
   },
   "source": [
    "# Exploratory Data Analysis"
   ]
  },
  {
   "cell_type": "markdown",
   "metadata": {
    "_uuid": "b7ef658f651f780927bd4b392378041bd4a0f050"
   },
   "source": [
    "## Data Cleaning"
   ]
  },
  {
   "cell_type": "markdown",
   "metadata": {
    "_uuid": "44cb0500eae8e857dce61a9b824e22da06dfffee"
   },
   "source": [
    "After analysis it was found that a review with same parameter other than ProductId may belong to same product.Hence we first sort the data according to ProductId and then just keep first similar product review and delete the others"
   ]
  },
  {
   "cell_type": "code",
   "execution_count": 139,
   "metadata": {
    "_uuid": "24bd3589c09c814b6cbc0e98869b9bdf7d81d168"
   },
   "outputs": [
    {
     "data": {
      "text/plain": [
       "(364173, 10)"
      ]
     },
     "execution_count": 139,
     "metadata": {},
     "output_type": "execute_result"
    }
   ],
   "source": [
    "\n",
    "sorted_data = filtered_data.sort_values(['ProductId'])\n",
    "sorted_data.drop_duplicates({\"UserId\",\"ProfileName\",\"Time\",\"Text\"} , keep = 'first' , inplace = True )\n",
    "sorted_data.shape"
   ]
  },
  {
   "cell_type": "markdown",
   "metadata": {
    "_uuid": "8e86268280cd9cfabba9a14babdf50c6ea83e024"
   },
   "source": [
    "### Observation:\n",
    "HelpfulnessNumerator is greater than HelpfulnessDenominator is not practically possible hence removing such rows\n"
   ]
  },
  {
   "cell_type": "code",
   "execution_count": 140,
   "metadata": {
    "_uuid": "cfdb32060aa3b8b0f75e096ace8b03266fa0db7f"
   },
   "outputs": [
    {
     "data": {
      "text/plain": [
       "(364171, 10)"
      ]
     },
     "execution_count": 140,
     "metadata": {},
     "output_type": "execute_result"
    }
   ],
   "source": [
    "# removing rows where HelpfulnessNumerator is greater than HelpfulnessDenominator\n",
    "final_data = sorted_data[sorted_data.HelpfulnessNumerator <= sorted_data.HelpfulnessDenominator]\n",
    "final_data.shape"
   ]
  },
  {
   "cell_type": "code",
   "execution_count": 141,
   "metadata": {
    "_uuid": "a40fe209fb3848513ab715b3ae535fe4e2fe294c"
   },
   "outputs": [
    {
     "data": {
      "text/plain": [
       "69.25852107399194"
      ]
     },
     "execution_count": 141,
     "metadata": {},
     "output_type": "execute_result"
    }
   ],
   "source": [
    "# checking how much data is still remaining\n",
    "(final_data['Id'].size/filtered_data['Id'].size)*100"
   ]
  },
  {
   "cell_type": "markdown",
   "metadata": {
    "_uuid": "426ceabb9eee56f6c0f852a8d61d2a9420e0d6a1"
   },
   "source": [
    "Only 69.25% of data is remaining after removing duplicates and non pratical values"
   ]
  },
  {
   "cell_type": "markdown",
   "metadata": {
    "_uuid": "0ff8e3e1611c6e3f964ab68d4eca1345bfa490c3"
   },
   "source": [
    "# Text Preprocessing"
   ]
  },
  {
   "cell_type": "markdown",
   "metadata": {
    "_uuid": "6c7a956bdf066b1ddf648480cb9a347f069799b9"
   },
   "source": [
    "### Preprocessing phase involves following steps:\n",
    "1. removing the html tags\n",
    "2. Remove any punctuations or limited set of special characters like , or . or # etc.\n",
    "3. Check if the word is made up of english letters and is not alpha-numeric\n",
    "4. Check to see if the length of the word is greater than 2 (as it was researched that there is no adjective in 2-letters)\n",
    "5. Convert the word to lowercase\n",
    "6. Remove Stopwords\n",
    "7. Stemming "
   ]
  },
  {
   "cell_type": "code",
   "execution_count": 142,
   "metadata": {
    "_uuid": "e5c4b95e2d9e24272ac5e735e0974bcae9188a50"
   },
   "outputs": [
    {
     "name": "stdout",
     "output_type": "stream",
     "text": [
      "[nltk_data] Error loading stopwords: <urlopen error [Errno -3]\n",
      "[nltk_data]     Temporary failure in name resolution>\n",
      "{\"she's\", 'wasn', \"weren't\", 'below', 'did', 'd', \"you'll\", \"didn't\", 'been', 'above', 'up', 'each', 'under', 'now', 'is', \"you're\", 'didn', 'for', 'no', 'shouldn', 'don', 'as', 'than', 'after', 'being', 'themselves', 'and', 'do', \"you've\", 've', \"won't\", 'has', 'wouldn', 'or', 'any', 'hadn', 'while', 'mustn', 'out', 'those', 'few', 'will', 'doesn', 'shan', 'ma', 'too', 'had', 'the', 'our', 're', 'it', 'does', 'their', 'down', \"should've\", 'during', 'these', 'its', 'yourself', 'but', 'very', 'should', 'about', 'all', 'some', 'in', 'have', 'himself', 'here', 'o', 'your', \"needn't\", \"you'd\", 'couldn', 'on', 'she', 'needn', 'what', 'myself', 'which', \"isn't\", 'him', 'because', 'his', 'by', 'with', 'doing', 'll', 'where', 'until', 'of', 'both', 'against', 'won', \"couldn't\", 'isn', 'so', 'further', 'at', 'whom', \"shouldn't\", \"it's\", 'from', 'there', 'if', 'then', 'me', 'into', 'yourselves', 'hers', 'an', 'once', 'just', 'm', 'a', 'weren', 'only', 'when', 'who', 'most', \"doesn't\", 'were', 'haven', 'we', 'same', 'my', 'ours', 'was', \"don't\", 'such', \"hasn't\", 'you', 'yours', 'own', 'other', 'between', 'i', 'them', 'how', 'be', 'her', 'that', \"mightn't\", 'why', 'nor', \"wouldn't\", 'hasn', 'theirs', 't', 'am', 'they', 'herself', \"wasn't\", \"shan't\", 'to', 'having', 'more', 'are', \"that'll\", 'ourselves', 'he', \"aren't\", 'this', 'ain', 'over', \"hadn't\", 'through', 'before', 'can', 'mightn', 's', 'aren', \"mustn't\", 'y', 'again', \"haven't\", 'off', 'itself'}\n"
     ]
    }
   ],
   "source": [
    "nltk.download('stopwords')\n",
    "stop = set(stopwords.words('english'))  # set of english stopwords\n",
    "stop.remove(\"not\")  \n",
    "print(stop)\n",
    "\n",
    "sno = nltk.stem.SnowballStemmer('english') # initializing snowball stemmer\n",
    "\n"
   ]
  },
  {
   "cell_type": "code",
   "execution_count": 143,
   "metadata": {
    "_uuid": "89e25ac47ff28d8011aa8f48c5a7e1702c84fbd1",
    "collapsed": true
   },
   "outputs": [],
   "source": [
    "def cleanhtml(sentence):    # function for removing html\n",
    "    cleanr = re.compile('<.*?>')\n",
    "    cleantxt = re.sub(cleanr , ' ' , str(sentence))\n",
    "    return cleantxt\n",
    "\n",
    "def cleanpunc(sentence):    # function for removing punctuation\n",
    "    clean = re.sub(r'[?|!|\\'|\"|#|.|,|)|(|\\|/]', r' ' , sentence)\n",
    "    return clean\n"
   ]
  },
  {
   "cell_type": "markdown",
   "metadata": {},
   "source": [
    "### Feature Engineering"
   ]
  },
  {
   "cell_type": "code",
   "execution_count": 144,
   "metadata": {
    "_uuid": "125a03975264f8d20a3bfead29667d97a6cbdd53"
   },
   "outputs": [
    {
     "data": {
      "text/html": [
       "<div>\n",
       "<style scoped>\n",
       "    .dataframe tbody tr th:only-of-type {\n",
       "        vertical-align: middle;\n",
       "    }\n",
       "\n",
       "    .dataframe tbody tr th {\n",
       "        vertical-align: top;\n",
       "    }\n",
       "\n",
       "    .dataframe thead th {\n",
       "        text-align: right;\n",
       "    }\n",
       "</style>\n",
       "<table border=\"1\" class=\"dataframe\">\n",
       "  <thead>\n",
       "    <tr style=\"text-align: right;\">\n",
       "      <th></th>\n",
       "      <th>Id</th>\n",
       "      <th>ProductId</th>\n",
       "      <th>UserId</th>\n",
       "      <th>ProfileName</th>\n",
       "      <th>HelpfulnessNumerator</th>\n",
       "      <th>HelpfulnessDenominator</th>\n",
       "      <th>Score</th>\n",
       "      <th>Time</th>\n",
       "      <th>Summary</th>\n",
       "      <th>Text</th>\n",
       "      <th>com_text</th>\n",
       "    </tr>\n",
       "  </thead>\n",
       "  <tbody>\n",
       "    <tr>\n",
       "      <th>150523</th>\n",
       "      <td>150524</td>\n",
       "      <td>0006641040</td>\n",
       "      <td>ACITT7DI6IDDL</td>\n",
       "      <td>shari zychinski</td>\n",
       "      <td>0</td>\n",
       "      <td>0</td>\n",
       "      <td>positive</td>\n",
       "      <td>939340800</td>\n",
       "      <td>EVERY book is educational</td>\n",
       "      <td>this witty little book makes my son laugh at l...</td>\n",
       "      <td>EVERY book is educational this witty little bo...</td>\n",
       "    </tr>\n",
       "    <tr>\n",
       "      <th>150505</th>\n",
       "      <td>150506</td>\n",
       "      <td>0006641040</td>\n",
       "      <td>A2IW4PEEKO2R0U</td>\n",
       "      <td>Tracy</td>\n",
       "      <td>1</td>\n",
       "      <td>1</td>\n",
       "      <td>positive</td>\n",
       "      <td>1194739200</td>\n",
       "      <td>Love the book, miss the hard cover version</td>\n",
       "      <td>I grew up reading these Sendak books, and watc...</td>\n",
       "      <td>Love the book, miss the hard cover version I g...</td>\n",
       "    </tr>\n",
       "    <tr>\n",
       "      <th>150506</th>\n",
       "      <td>150507</td>\n",
       "      <td>0006641040</td>\n",
       "      <td>A1S4A3IQ2MU7V4</td>\n",
       "      <td>sally sue \"sally sue\"</td>\n",
       "      <td>1</td>\n",
       "      <td>1</td>\n",
       "      <td>positive</td>\n",
       "      <td>1191456000</td>\n",
       "      <td>chicken soup with rice months</td>\n",
       "      <td>This is a fun way for children to learn their ...</td>\n",
       "      <td>chicken soup with rice months This is a fun wa...</td>\n",
       "    </tr>\n",
       "    <tr>\n",
       "      <th>150507</th>\n",
       "      <td>150508</td>\n",
       "      <td>0006641040</td>\n",
       "      <td>AZGXZ2UUK6X</td>\n",
       "      <td>Catherine Hallberg \"(Kate)\"</td>\n",
       "      <td>1</td>\n",
       "      <td>1</td>\n",
       "      <td>positive</td>\n",
       "      <td>1076025600</td>\n",
       "      <td>a good swingy rhythm for reading aloud</td>\n",
       "      <td>This is a great little book to read aloud- it ...</td>\n",
       "      <td>a good swingy rhythm for reading aloud This is...</td>\n",
       "    </tr>\n",
       "    <tr>\n",
       "      <th>150508</th>\n",
       "      <td>150509</td>\n",
       "      <td>0006641040</td>\n",
       "      <td>A3CMRKGE0P909G</td>\n",
       "      <td>Teresa</td>\n",
       "      <td>3</td>\n",
       "      <td>4</td>\n",
       "      <td>positive</td>\n",
       "      <td>1018396800</td>\n",
       "      <td>A great way to learn the months</td>\n",
       "      <td>This is a book of poetry about the months of t...</td>\n",
       "      <td>A great way to learn the months This is a book...</td>\n",
       "    </tr>\n",
       "  </tbody>\n",
       "</table>\n",
       "</div>"
      ],
      "text/plain": [
       "            Id                        ...                                                                   com_text\n",
       "150523  150524                        ...                          EVERY book is educational this witty little bo...\n",
       "150505  150506                        ...                          Love the book, miss the hard cover version I g...\n",
       "150506  150507                        ...                          chicken soup with rice months This is a fun wa...\n",
       "150507  150508                        ...                          a good swingy rhythm for reading aloud This is...\n",
       "150508  150509                        ...                          A great way to learn the months This is a book...\n",
       "\n",
       "[5 rows x 11 columns]"
      ]
     },
     "execution_count": 144,
     "metadata": {},
     "output_type": "execute_result"
    }
   ],
   "source": [
    "# concatenating summary and text features to\n",
    "final_data['com_text'] = final_data['Summary'] + ' ' + final_data['Text'] \n",
    "final_data.head()"
   ]
  },
  {
   "cell_type": "code",
   "execution_count": 145,
   "metadata": {
    "_uuid": "ad90ac4f42287f0c074b7e4583ab2132617d24fa",
    "collapsed": true
   },
   "outputs": [],
   "source": [
    "i = 0\n",
    "final_string = []\n",
    "all_pos_words = []\n",
    "all_neg_words = []\n",
    "str1 = ' '\n",
    "s = ' '\n",
    "ss = final_data['com_text'].values\n",
    "for sent in ss:\n",
    "    filtered_sentence=[]\n",
    "    #print(sent);\n",
    "    sent=cleanhtml(sent) # removing HTMl tags\n",
    "    for w in sent.split():\n",
    "        for cleaned_words in cleanpunc(w).split():\n",
    "            if((cleaned_words.isalpha()) & (len(cleaned_words)>2)):# checking if word is not alpha numeric and length is greater than 2\n",
    "                if(cleaned_words.lower() not in stop):\n",
    "                    s=(sno.stem(cleaned_words.lower())).encode('utf8')\n",
    "                    filtered_sentence.append(s)\n",
    "                    if (final_data['Score'].values)[i] == 'positive': \n",
    "                        all_pos_words.append(s) \n",
    "                    if(final_data['Score'].values)[i] == 'negative':\n",
    "                        all_neg_words.append(s) \n",
    "                else:\n",
    "                    continue\n",
    "            else:\n",
    "                continue \n",
    "    \n",
    "    str1 = b\" \".join(filtered_sentence) #final string of cleaned words\n",
    "    \n",
    "    \n",
    "    final_string.append(str1)\n",
    "    i+=1\n",
    "            \n",
    "        "
   ]
  },
  {
   "cell_type": "code",
   "execution_count": 146,
   "metadata": {
    "_uuid": "2863d04128d3b23f54c27695f374836546cfd6a8",
    "scrolled": true
   },
   "outputs": [
    {
     "data": {
      "text/plain": [
       "positive    307061\n",
       "negative     57110\n",
       "Name: Score, dtype: int64"
      ]
     },
     "execution_count": 146,
     "metadata": {},
     "output_type": "execute_result"
    }
   ],
   "source": [
    "final_data['CleanedText'] = final_string  # adding extra column for preprocessed review\n",
    "final_data['CleanedText'] = final_data['CleanedText'].str.decode(\"utf8\")\n",
    "#final_data.head()\n",
    "final_data['Score'].value_counts()"
   ]
  },
  {
   "cell_type": "code",
   "execution_count": 147,
   "metadata": {
    "_uuid": "f212391dcec27d8a60e39125f8c64d7066769374"
   },
   "outputs": [
    {
     "data": {
      "text/html": [
       "<div>\n",
       "<style scoped>\n",
       "    .dataframe tbody tr th:only-of-type {\n",
       "        vertical-align: middle;\n",
       "    }\n",
       "\n",
       "    .dataframe tbody tr th {\n",
       "        vertical-align: top;\n",
       "    }\n",
       "\n",
       "    .dataframe thead th {\n",
       "        text-align: right;\n",
       "    }\n",
       "</style>\n",
       "<table border=\"1\" class=\"dataframe\">\n",
       "  <thead>\n",
       "    <tr style=\"text-align: right;\">\n",
       "      <th></th>\n",
       "      <th>Id</th>\n",
       "      <th>ProductId</th>\n",
       "      <th>UserId</th>\n",
       "      <th>ProfileName</th>\n",
       "      <th>HelpfulnessNumerator</th>\n",
       "      <th>HelpfulnessDenominator</th>\n",
       "      <th>Score</th>\n",
       "      <th>Time</th>\n",
       "      <th>Summary</th>\n",
       "      <th>Text</th>\n",
       "      <th>com_text</th>\n",
       "      <th>CleanedText</th>\n",
       "    </tr>\n",
       "  </thead>\n",
       "  <tbody>\n",
       "    <tr>\n",
       "      <th>150523</th>\n",
       "      <td>150524</td>\n",
       "      <td>0006641040</td>\n",
       "      <td>ACITT7DI6IDDL</td>\n",
       "      <td>shari zychinski</td>\n",
       "      <td>0</td>\n",
       "      <td>0</td>\n",
       "      <td>positive</td>\n",
       "      <td>939340800</td>\n",
       "      <td>EVERY book is educational</td>\n",
       "      <td>this witty little book makes my son laugh at l...</td>\n",
       "      <td>EVERY book is educational this witty little bo...</td>\n",
       "      <td>everi book educ witti littl book make son laug...</td>\n",
       "    </tr>\n",
       "    <tr>\n",
       "      <th>150505</th>\n",
       "      <td>150506</td>\n",
       "      <td>0006641040</td>\n",
       "      <td>A2IW4PEEKO2R0U</td>\n",
       "      <td>Tracy</td>\n",
       "      <td>1</td>\n",
       "      <td>1</td>\n",
       "      <td>positive</td>\n",
       "      <td>1194739200</td>\n",
       "      <td>Love the book, miss the hard cover version</td>\n",
       "      <td>I grew up reading these Sendak books, and watc...</td>\n",
       "      <td>Love the book, miss the hard cover version I g...</td>\n",
       "      <td>love book miss hard cover version grew read se...</td>\n",
       "    </tr>\n",
       "    <tr>\n",
       "      <th>150506</th>\n",
       "      <td>150507</td>\n",
       "      <td>0006641040</td>\n",
       "      <td>A1S4A3IQ2MU7V4</td>\n",
       "      <td>sally sue \"sally sue\"</td>\n",
       "      <td>1</td>\n",
       "      <td>1</td>\n",
       "      <td>positive</td>\n",
       "      <td>1191456000</td>\n",
       "      <td>chicken soup with rice months</td>\n",
       "      <td>This is a fun way for children to learn their ...</td>\n",
       "      <td>chicken soup with rice months This is a fun wa...</td>\n",
       "      <td>chicken soup rice month fun way children learn...</td>\n",
       "    </tr>\n",
       "    <tr>\n",
       "      <th>150507</th>\n",
       "      <td>150508</td>\n",
       "      <td>0006641040</td>\n",
       "      <td>AZGXZ2UUK6X</td>\n",
       "      <td>Catherine Hallberg \"(Kate)\"</td>\n",
       "      <td>1</td>\n",
       "      <td>1</td>\n",
       "      <td>positive</td>\n",
       "      <td>1076025600</td>\n",
       "      <td>a good swingy rhythm for reading aloud</td>\n",
       "      <td>This is a great little book to read aloud- it ...</td>\n",
       "      <td>a good swingy rhythm for reading aloud This is...</td>\n",
       "      <td>good swingi rhythm read aloud great littl book...</td>\n",
       "    </tr>\n",
       "    <tr>\n",
       "      <th>150508</th>\n",
       "      <td>150509</td>\n",
       "      <td>0006641040</td>\n",
       "      <td>A3CMRKGE0P909G</td>\n",
       "      <td>Teresa</td>\n",
       "      <td>3</td>\n",
       "      <td>4</td>\n",
       "      <td>positive</td>\n",
       "      <td>1018396800</td>\n",
       "      <td>A great way to learn the months</td>\n",
       "      <td>This is a book of poetry about the months of t...</td>\n",
       "      <td>A great way to learn the months This is a book...</td>\n",
       "      <td>great way learn month book poetri month year g...</td>\n",
       "    </tr>\n",
       "  </tbody>\n",
       "</table>\n",
       "</div>"
      ],
      "text/plain": [
       "            Id                        ...                                                                CleanedText\n",
       "150523  150524                        ...                          everi book educ witti littl book make son laug...\n",
       "150505  150506                        ...                          love book miss hard cover version grew read se...\n",
       "150506  150507                        ...                          chicken soup rice month fun way children learn...\n",
       "150507  150508                        ...                          good swingi rhythm read aloud great littl book...\n",
       "150508  150509                        ...                          great way learn month book poetri month year g...\n",
       "\n",
       "[5 rows x 12 columns]"
      ]
     },
     "execution_count": 147,
     "metadata": {},
     "output_type": "execute_result"
    }
   ],
   "source": [
    "final_data.head()"
   ]
  },
  {
   "cell_type": "markdown",
   "metadata": {
    "_uuid": "51adc7384a159e4d53793e1488ca04e6ab692fd7"
   },
   "source": [
    "### Observation:\n",
    "Dataset is highly imbalanced. Out of 364171 reviews only 57110 reviews are negative and rest are positive. \n",
    "\n",
    " "
   ]
  },
  {
   "cell_type": "code",
   "execution_count": 148,
   "metadata": {
    "_uuid": "57807ea6c984275176e97dac78822d91540dcb65",
    "collapsed": true
   },
   "outputs": [],
   "source": [
    "# sorting whole  data based on time\n",
    "b = final_data\n",
    "b['Time'] = pd.to_datetime(b['Time'], unit = \"s\")\n",
    "b.sort_values('Time', inplace = True)\n"
   ]
  },
  {
   "cell_type": "code",
   "execution_count": 149,
   "metadata": {
    "_uuid": "9df0adba95aeb569a7e99ba04731ad7860236ba0"
   },
   "outputs": [
    {
     "data": {
      "text/html": [
       "<div>\n",
       "<style scoped>\n",
       "    .dataframe tbody tr th:only-of-type {\n",
       "        vertical-align: middle;\n",
       "    }\n",
       "\n",
       "    .dataframe tbody tr th {\n",
       "        vertical-align: top;\n",
       "    }\n",
       "\n",
       "    .dataframe thead th {\n",
       "        text-align: right;\n",
       "    }\n",
       "</style>\n",
       "<table border=\"1\" class=\"dataframe\">\n",
       "  <thead>\n",
       "    <tr style=\"text-align: right;\">\n",
       "      <th></th>\n",
       "      <th>Id</th>\n",
       "      <th>ProductId</th>\n",
       "      <th>UserId</th>\n",
       "      <th>ProfileName</th>\n",
       "      <th>HelpfulnessNumerator</th>\n",
       "      <th>HelpfulnessDenominator</th>\n",
       "      <th>Score</th>\n",
       "      <th>Time</th>\n",
       "      <th>Summary</th>\n",
       "      <th>Text</th>\n",
       "      <th>com_text</th>\n",
       "      <th>CleanedText</th>\n",
       "    </tr>\n",
       "  </thead>\n",
       "  <tbody>\n",
       "    <tr>\n",
       "      <th>150523</th>\n",
       "      <td>150524</td>\n",
       "      <td>0006641040</td>\n",
       "      <td>ACITT7DI6IDDL</td>\n",
       "      <td>shari zychinski</td>\n",
       "      <td>0</td>\n",
       "      <td>0</td>\n",
       "      <td>positive</td>\n",
       "      <td>1999-10-08</td>\n",
       "      <td>EVERY book is educational</td>\n",
       "      <td>this witty little book makes my son laugh at l...</td>\n",
       "      <td>EVERY book is educational this witty little bo...</td>\n",
       "      <td>everi book educ witti littl book make son laug...</td>\n",
       "    </tr>\n",
       "    <tr>\n",
       "      <th>150500</th>\n",
       "      <td>150501</td>\n",
       "      <td>0006641040</td>\n",
       "      <td>AJ46FKXOVC7NR</td>\n",
       "      <td>Nicholas A Mesiano</td>\n",
       "      <td>2</td>\n",
       "      <td>2</td>\n",
       "      <td>positive</td>\n",
       "      <td>1999-10-25</td>\n",
       "      <td>This whole series is great way to spend time w...</td>\n",
       "      <td>I can remember seeing the show when it aired o...</td>\n",
       "      <td>This whole series is great way to spend time w...</td>\n",
       "      <td>whole seri great way spend time child rememb s...</td>\n",
       "    </tr>\n",
       "    <tr>\n",
       "      <th>451855</th>\n",
       "      <td>451856</td>\n",
       "      <td>B00004CXX9</td>\n",
       "      <td>AIUWLEQ1ADEG5</td>\n",
       "      <td>Elizabeth Medina</td>\n",
       "      <td>0</td>\n",
       "      <td>0</td>\n",
       "      <td>positive</td>\n",
       "      <td>1999-12-02</td>\n",
       "      <td>Entertainingl Funny!</td>\n",
       "      <td>Beetlejuice is a well written movie ..... ever...</td>\n",
       "      <td>Entertainingl Funny! Beetlejuice is a well wri...</td>\n",
       "      <td>entertainingl funni beetlejuic well written mo...</td>\n",
       "    </tr>\n",
       "    <tr>\n",
       "      <th>374358</th>\n",
       "      <td>374359</td>\n",
       "      <td>B00004CI84</td>\n",
       "      <td>A344SMIA5JECGM</td>\n",
       "      <td>Vincent P. Ross</td>\n",
       "      <td>1</td>\n",
       "      <td>2</td>\n",
       "      <td>positive</td>\n",
       "      <td>1999-12-06</td>\n",
       "      <td>A modern day fairy tale</td>\n",
       "      <td>A twist of rumplestiskin captured on film, sta...</td>\n",
       "      <td>A modern day fairy tale A twist of rumplestisk...</td>\n",
       "      <td>modern day fairi tale twist rumplestiskin capt...</td>\n",
       "    </tr>\n",
       "    <tr>\n",
       "      <th>451854</th>\n",
       "      <td>451855</td>\n",
       "      <td>B00004CXX9</td>\n",
       "      <td>AJH6LUC1UT1ON</td>\n",
       "      <td>The Phantom of the Opera</td>\n",
       "      <td>0</td>\n",
       "      <td>0</td>\n",
       "      <td>positive</td>\n",
       "      <td>2000-01-03</td>\n",
       "      <td>FANTASTIC!</td>\n",
       "      <td>Beetlejuice is an excellent and funny movie. K...</td>\n",
       "      <td>FANTASTIC! Beetlejuice is an excellent and fun...</td>\n",
       "      <td>fantast beetlejuic excel funni movi keaton hil...</td>\n",
       "    </tr>\n",
       "    <tr>\n",
       "      <th>374421</th>\n",
       "      <td>374422</td>\n",
       "      <td>B00004CI84</td>\n",
       "      <td>A1048CYU0OV4O8</td>\n",
       "      <td>Judy L. Eans</td>\n",
       "      <td>2</td>\n",
       "      <td>2</td>\n",
       "      <td>positive</td>\n",
       "      <td>2000-01-09</td>\n",
       "      <td>GREAT</td>\n",
       "      <td>THIS IS ONE MOVIE THAT SHOULD BE IN YOUR MOVIE...</td>\n",
       "      <td>GREAT THIS IS ONE MOVIE THAT SHOULD BE IN YOUR...</td>\n",
       "      <td>great one movi movi collect fill comedi action...</td>\n",
       "    </tr>\n",
       "    <tr>\n",
       "      <th>374342</th>\n",
       "      <td>374343</td>\n",
       "      <td>B00004CI84</td>\n",
       "      <td>A1B2IZU1JLZA6</td>\n",
       "      <td>Wes</td>\n",
       "      <td>19</td>\n",
       "      <td>23</td>\n",
       "      <td>negative</td>\n",
       "      <td>2000-01-19</td>\n",
       "      <td>WARNING: CLAMSHELL EDITION IS EDITED TV VERSION</td>\n",
       "      <td>I, myself always enjoyed this movie, it's very...</td>\n",
       "      <td>WARNING: CLAMSHELL EDITION IS EDITED TV VERSIO...</td>\n",
       "      <td>clamshel edit edit version alway enjoy movi fu...</td>\n",
       "    </tr>\n",
       "    <tr>\n",
       "      <th>76881</th>\n",
       "      <td>76882</td>\n",
       "      <td>B00002N8SM</td>\n",
       "      <td>A32DW342WBJ6BX</td>\n",
       "      <td>Buttersugar</td>\n",
       "      <td>0</td>\n",
       "      <td>0</td>\n",
       "      <td>positive</td>\n",
       "      <td>2000-01-24</td>\n",
       "      <td>A sure death for flies</td>\n",
       "      <td>I bought a few of these after my apartment was...</td>\n",
       "      <td>A sure death for flies I bought a few of these...</td>\n",
       "      <td>sure death fli bought apart infest fruit fli h...</td>\n",
       "    </tr>\n",
       "    <tr>\n",
       "      <th>374449</th>\n",
       "      <td>374450</td>\n",
       "      <td>B00004CI84</td>\n",
       "      <td>ACJR7EQF9S6FP</td>\n",
       "      <td>Jeremy Robertson</td>\n",
       "      <td>2</td>\n",
       "      <td>3</td>\n",
       "      <td>positive</td>\n",
       "      <td>2000-02-26</td>\n",
       "      <td>Bettlejuice...Bettlejuice...BETTLEJUICE!</td>\n",
       "      <td>What happens when you say his name three times...</td>\n",
       "      <td>Bettlejuice...Bettlejuice...BETTLEJUICE! What ...</td>\n",
       "      <td>bettlejuic bettlejuic bettlejuic happen say na...</td>\n",
       "    </tr>\n",
       "    <tr>\n",
       "      <th>374399</th>\n",
       "      <td>374400</td>\n",
       "      <td>B00004CI84</td>\n",
       "      <td>A2DEE7F9XKP3ZR</td>\n",
       "      <td>jerome</td>\n",
       "      <td>0</td>\n",
       "      <td>3</td>\n",
       "      <td>positive</td>\n",
       "      <td>2000-06-03</td>\n",
       "      <td>Research - Beatlejuice video - French version</td>\n",
       "      <td>I'm getting crazy.I'm looking for Beatlejuice ...</td>\n",
       "      <td>Research - Beatlejuice video - French version ...</td>\n",
       "      <td>research beatlejuic video french version get c...</td>\n",
       "    </tr>\n",
       "    <tr>\n",
       "      <th>451902</th>\n",
       "      <td>451903</td>\n",
       "      <td>B00004CXX9</td>\n",
       "      <td>A2DEE7F9XKP3ZR</td>\n",
       "      <td>jerome</td>\n",
       "      <td>0</td>\n",
       "      <td>1</td>\n",
       "      <td>positive</td>\n",
       "      <td>2000-06-03</td>\n",
       "      <td>Research</td>\n",
       "      <td>I'm getting crazy.&lt;p&gt;Is it really impossible t...</td>\n",
       "      <td>Research I'm getting crazy.&lt;p&gt;Is it really imp...</td>\n",
       "      <td>research get crazi realli imposs today not fin...</td>\n",
       "    </tr>\n",
       "    <tr>\n",
       "      <th>1244</th>\n",
       "      <td>1245</td>\n",
       "      <td>B00002Z754</td>\n",
       "      <td>A29Z5PI9BW2PU3</td>\n",
       "      <td>Robbie</td>\n",
       "      <td>7</td>\n",
       "      <td>7</td>\n",
       "      <td>positive</td>\n",
       "      <td>2000-06-23</td>\n",
       "      <td>Great Product</td>\n",
       "      <td>This was a really good idea and the final prod...</td>\n",
       "      <td>Great Product This was a really good idea and ...</td>\n",
       "      <td>great product realli good idea final product o...</td>\n",
       "    </tr>\n",
       "    <tr>\n",
       "      <th>1243</th>\n",
       "      <td>1244</td>\n",
       "      <td>B00002Z754</td>\n",
       "      <td>A3B8RCEI0FXFI6</td>\n",
       "      <td>B G Chase</td>\n",
       "      <td>10</td>\n",
       "      <td>10</td>\n",
       "      <td>positive</td>\n",
       "      <td>2000-06-29</td>\n",
       "      <td>WOW Make your own 'slickers' !</td>\n",
       "      <td>I just received my shipment and could hardly w...</td>\n",
       "      <td>WOW Make your own 'slickers' ! I just received...</td>\n",
       "      <td>wow make slicker receiv shipment could hard wa...</td>\n",
       "    </tr>\n",
       "    <tr>\n",
       "      <th>131216</th>\n",
       "      <td>131217</td>\n",
       "      <td>B00004RAMX</td>\n",
       "      <td>A5NQLNC6QPGSI</td>\n",
       "      <td>Kim Nason</td>\n",
       "      <td>7</td>\n",
       "      <td>8</td>\n",
       "      <td>positive</td>\n",
       "      <td>2000-07-31</td>\n",
       "      <td>End your Gopher Problems</td>\n",
       "      <td>I have just recently purchased the Woodstream ...</td>\n",
       "      <td>End your Gopher Problems I have just recently ...</td>\n",
       "      <td>end gopher problem recent purchas woodstream c...</td>\n",
       "    </tr>\n",
       "    <tr>\n",
       "      <th>149769</th>\n",
       "      <td>149770</td>\n",
       "      <td>B00004S1C5</td>\n",
       "      <td>A1KXONFPU2XQ5K</td>\n",
       "      <td>Stephanie Manley</td>\n",
       "      <td>8</td>\n",
       "      <td>8</td>\n",
       "      <td>positive</td>\n",
       "      <td>2000-08-09</td>\n",
       "      <td>Very easy to use</td>\n",
       "      <td>This are so much easier to use than the Wilson...</td>\n",
       "      <td>Very easy to use This are so much easier to us...</td>\n",
       "      <td>easi use much easier use wilson past color col...</td>\n",
       "    </tr>\n",
       "    <tr>\n",
       "      <th>149788</th>\n",
       "      <td>149789</td>\n",
       "      <td>B00004S1C6</td>\n",
       "      <td>A1KXONFPU2XQ5K</td>\n",
       "      <td>Stephanie Manley</td>\n",
       "      <td>26</td>\n",
       "      <td>28</td>\n",
       "      <td>positive</td>\n",
       "      <td>2000-08-09</td>\n",
       "      <td>A must have!</td>\n",
       "      <td>These are easy to use, they do not make a mess...</td>\n",
       "      <td>A must have! These are easy to use, they do no...</td>\n",
       "      <td>must easi use not make mess offer vibrant colo...</td>\n",
       "    </tr>\n",
       "    <tr>\n",
       "      <th>374420</th>\n",
       "      <td>374421</td>\n",
       "      <td>B00004CI84</td>\n",
       "      <td>A1FJOY14X3MUHE</td>\n",
       "      <td>Justin Howard</td>\n",
       "      <td>2</td>\n",
       "      <td>2</td>\n",
       "      <td>positive</td>\n",
       "      <td>2000-08-15</td>\n",
       "      <td>A fresh, original film from master storyteller...</td>\n",
       "      <td>This is such a great film, I don't even know h...</td>\n",
       "      <td>A fresh, original film from master storyteller...</td>\n",
       "      <td>fresh origin film master storytel tim burton g...</td>\n",
       "    </tr>\n",
       "    <tr>\n",
       "      <th>374407</th>\n",
       "      <td>374408</td>\n",
       "      <td>B00004CI84</td>\n",
       "      <td>A1GB1Q193DNFGR</td>\n",
       "      <td>Bruce Lee Pullen</td>\n",
       "      <td>5</td>\n",
       "      <td>5</td>\n",
       "      <td>positive</td>\n",
       "      <td>2000-10-03</td>\n",
       "      <td>Fabulous Comedic Fanasy Directed by a Master</td>\n",
       "      <td>Beetlejuice is an awe-inspiring wonderfully am...</td>\n",
       "      <td>Fabulous Comedic Fanasy Directed by a Master B...</td>\n",
       "      <td>fabul comed fanasi direct master beetlejuic wo...</td>\n",
       "    </tr>\n",
       "    <tr>\n",
       "      <th>149767</th>\n",
       "      <td>149768</td>\n",
       "      <td>B00004S1C5</td>\n",
       "      <td>A7P76IGRZZBFJ</td>\n",
       "      <td>E. Thompson \"Soooooper Genius\"</td>\n",
       "      <td>18</td>\n",
       "      <td>18</td>\n",
       "      <td>positive</td>\n",
       "      <td>2000-12-05</td>\n",
       "      <td>Who Needs Wilton?</td>\n",
       "      <td>I'm sick of scads of nasty toothpicks all over...</td>\n",
       "      <td>Who Needs Wilton? I'm sick of scads of nasty t...</td>\n",
       "      <td>need wilton sick scad nasti toothpick counter ...</td>\n",
       "    </tr>\n",
       "    <tr>\n",
       "      <th>374382</th>\n",
       "      <td>374383</td>\n",
       "      <td>B00004CI84</td>\n",
       "      <td>A34NBH479RB0E</td>\n",
       "      <td>\"dmab6395\"</td>\n",
       "      <td>0</td>\n",
       "      <td>1</td>\n",
       "      <td>positive</td>\n",
       "      <td>2000-12-19</td>\n",
       "      <td>FUNNY</td>\n",
       "      <td>I THOUGHT THIS MOVIE WAS SO FUNNY, MICHAEL KEA...</td>\n",
       "      <td>FUNNY I THOUGHT THIS MOVIE WAS SO FUNNY, MICHA...</td>\n",
       "      <td>funni thought movi funni michael keaton beetle...</td>\n",
       "    </tr>\n",
       "  </tbody>\n",
       "</table>\n",
       "</div>"
      ],
      "text/plain": [
       "            Id                        ...                                                                CleanedText\n",
       "150523  150524                        ...                          everi book educ witti littl book make son laug...\n",
       "150500  150501                        ...                          whole seri great way spend time child rememb s...\n",
       "451855  451856                        ...                          entertainingl funni beetlejuic well written mo...\n",
       "374358  374359                        ...                          modern day fairi tale twist rumplestiskin capt...\n",
       "451854  451855                        ...                          fantast beetlejuic excel funni movi keaton hil...\n",
       "374421  374422                        ...                          great one movi movi collect fill comedi action...\n",
       "374342  374343                        ...                          clamshel edit edit version alway enjoy movi fu...\n",
       "76881    76882                        ...                          sure death fli bought apart infest fruit fli h...\n",
       "374449  374450                        ...                          bettlejuic bettlejuic bettlejuic happen say na...\n",
       "374399  374400                        ...                          research beatlejuic video french version get c...\n",
       "451902  451903                        ...                          research get crazi realli imposs today not fin...\n",
       "1244      1245                        ...                          great product realli good idea final product o...\n",
       "1243      1244                        ...                          wow make slicker receiv shipment could hard wa...\n",
       "131216  131217                        ...                          end gopher problem recent purchas woodstream c...\n",
       "149769  149770                        ...                          easi use much easier use wilson past color col...\n",
       "149788  149789                        ...                          must easi use not make mess offer vibrant colo...\n",
       "374420  374421                        ...                          fresh origin film master storytel tim burton g...\n",
       "374407  374408                        ...                          fabul comed fanasi direct master beetlejuic wo...\n",
       "149767  149768                        ...                          need wilton sick scad nasti toothpick counter ...\n",
       "374382  374383                        ...                          funni thought movi funni michael keaton beetle...\n",
       "\n",
       "[20 rows x 12 columns]"
      ]
     },
     "execution_count": 149,
     "metadata": {},
     "output_type": "execute_result"
    }
   ],
   "source": [
    "b.head(20) "
   ]
  },
  {
   "cell_type": "markdown",
   "metadata": {
    "_uuid": "3749fdfbfbcae658902f11b6be9ccf1f27e7ff5a"
   },
   "source": [
    "After reading first few reviews it is found that the data still has few reviews that does not belong to food products. These reviews are of products like books or movies."
   ]
  },
  {
   "cell_type": "code",
   "execution_count": 150,
   "metadata": {
    "_uuid": "61c1b404e888782babf7a4d93f16121aeb482435",
    "collapsed": true
   },
   "outputs": [],
   "source": [
    "# removing reviews that belong to other products\n",
    "regex =  re.compile(r'book|entertaining|funny|movie|show|film|series|educational|storyteller|comedic') \n",
    "text =    b.Text.str.lower().str.contains(regex)\n",
    "b.drop(b[text].index , inplace=True )"
   ]
  },
  {
   "cell_type": "code",
   "execution_count": 151,
   "metadata": {
    "_uuid": "bda0c547ea9245d84d66d8e85d64a5b78beae633"
   },
   "outputs": [
    {
     "data": {
      "text/plain": [
       "(353205, 12)"
      ]
     },
     "execution_count": 151,
     "metadata": {},
     "output_type": "execute_result"
    }
   ],
   "source": [
    "# Number of reviews left\n",
    "b.shape"
   ]
  },
  {
   "cell_type": "code",
   "execution_count": 152,
   "metadata": {
    "_uuid": "a10cc607753cc428f6940814a7c2c9e045b56383"
   },
   "outputs": [
    {
     "data": {
      "text/html": [
       "<div>\n",
       "<style scoped>\n",
       "    .dataframe tbody tr th:only-of-type {\n",
       "        vertical-align: middle;\n",
       "    }\n",
       "\n",
       "    .dataframe tbody tr th {\n",
       "        vertical-align: top;\n",
       "    }\n",
       "\n",
       "    .dataframe thead th {\n",
       "        text-align: right;\n",
       "    }\n",
       "</style>\n",
       "<table border=\"1\" class=\"dataframe\">\n",
       "  <thead>\n",
       "    <tr style=\"text-align: right;\">\n",
       "      <th></th>\n",
       "      <th>Id</th>\n",
       "      <th>ProductId</th>\n",
       "      <th>UserId</th>\n",
       "      <th>ProfileName</th>\n",
       "      <th>HelpfulnessNumerator</th>\n",
       "      <th>HelpfulnessDenominator</th>\n",
       "      <th>Score</th>\n",
       "      <th>Time</th>\n",
       "      <th>Summary</th>\n",
       "      <th>Text</th>\n",
       "      <th>com_text</th>\n",
       "      <th>CleanedText</th>\n",
       "      <th>text length</th>\n",
       "    </tr>\n",
       "  </thead>\n",
       "  <tbody>\n",
       "    <tr>\n",
       "      <th>76881</th>\n",
       "      <td>76882</td>\n",
       "      <td>B00002N8SM</td>\n",
       "      <td>A32DW342WBJ6BX</td>\n",
       "      <td>Buttersugar</td>\n",
       "      <td>0</td>\n",
       "      <td>0</td>\n",
       "      <td>positive</td>\n",
       "      <td>2000-01-24</td>\n",
       "      <td>A sure death for flies</td>\n",
       "      <td>I bought a few of these after my apartment was...</td>\n",
       "      <td>A sure death for flies I bought a few of these...</td>\n",
       "      <td>sure death fli bought apart infest fruit fli h...</td>\n",
       "      <td>172</td>\n",
       "    </tr>\n",
       "    <tr>\n",
       "      <th>374449</th>\n",
       "      <td>374450</td>\n",
       "      <td>B00004CI84</td>\n",
       "      <td>ACJR7EQF9S6FP</td>\n",
       "      <td>Jeremy Robertson</td>\n",
       "      <td>2</td>\n",
       "      <td>3</td>\n",
       "      <td>positive</td>\n",
       "      <td>2000-02-26</td>\n",
       "      <td>Bettlejuice...Bettlejuice...BETTLEJUICE!</td>\n",
       "      <td>What happens when you say his name three times...</td>\n",
       "      <td>Bettlejuice...Bettlejuice...BETTLEJUICE! What ...</td>\n",
       "      <td>bettlejuic bettlejuic bettlejuic happen say na...</td>\n",
       "      <td>633</td>\n",
       "    </tr>\n",
       "    <tr>\n",
       "      <th>1244</th>\n",
       "      <td>1245</td>\n",
       "      <td>B00002Z754</td>\n",
       "      <td>A29Z5PI9BW2PU3</td>\n",
       "      <td>Robbie</td>\n",
       "      <td>7</td>\n",
       "      <td>7</td>\n",
       "      <td>positive</td>\n",
       "      <td>2000-06-23</td>\n",
       "      <td>Great Product</td>\n",
       "      <td>This was a really good idea and the final prod...</td>\n",
       "      <td>Great Product This was a really good idea and ...</td>\n",
       "      <td>great product realli good idea final product o...</td>\n",
       "      <td>116</td>\n",
       "    </tr>\n",
       "    <tr>\n",
       "      <th>1243</th>\n",
       "      <td>1244</td>\n",
       "      <td>B00002Z754</td>\n",
       "      <td>A3B8RCEI0FXFI6</td>\n",
       "      <td>B G Chase</td>\n",
       "      <td>10</td>\n",
       "      <td>10</td>\n",
       "      <td>positive</td>\n",
       "      <td>2000-06-29</td>\n",
       "      <td>WOW Make your own 'slickers' !</td>\n",
       "      <td>I just received my shipment and could hardly w...</td>\n",
       "      <td>WOW Make your own 'slickers' ! I just received...</td>\n",
       "      <td>wow make slicker receiv shipment could hard wa...</td>\n",
       "      <td>250</td>\n",
       "    </tr>\n",
       "    <tr>\n",
       "      <th>131216</th>\n",
       "      <td>131217</td>\n",
       "      <td>B00004RAMX</td>\n",
       "      <td>A5NQLNC6QPGSI</td>\n",
       "      <td>Kim Nason</td>\n",
       "      <td>7</td>\n",
       "      <td>8</td>\n",
       "      <td>positive</td>\n",
       "      <td>2000-07-31</td>\n",
       "      <td>End your Gopher Problems</td>\n",
       "      <td>I have just recently purchased the Woodstream ...</td>\n",
       "      <td>End your Gopher Problems I have just recently ...</td>\n",
       "      <td>end gopher problem recent purchas woodstream c...</td>\n",
       "      <td>275</td>\n",
       "    </tr>\n",
       "  </tbody>\n",
       "</table>\n",
       "</div>"
      ],
      "text/plain": [
       "            Id     ...     text length\n",
       "76881    76882     ...             172\n",
       "374449  374450     ...             633\n",
       "1244      1245     ...             116\n",
       "1243      1244     ...             250\n",
       "131216  131217     ...             275\n",
       "\n",
       "[5 rows x 13 columns]"
      ]
     },
     "execution_count": 152,
     "metadata": {},
     "output_type": "execute_result"
    }
   ],
   "source": [
    "# creating a new column to get the length of each text\n",
    "b['text length'] = b['CleanedText'].apply(len)\n",
    "b.head()"
   ]
  },
  {
   "cell_type": "code",
   "execution_count": 153,
   "metadata": {
    "_uuid": "f4f120e71437db9a30587d459582f00f91f91e7e"
   },
   "outputs": [
    {
     "data": {
      "text/plain": [
       "<seaborn.axisgrid.FacetGrid at 0x7fd84e778320>"
      ]
     },
     "execution_count": 153,
     "metadata": {},
     "output_type": "execute_result"
    },
    {
     "data": {
      "image/png": "[encoded data removed]",
      "text/plain": [
       "<Figure size 432x216 with 2 Axes>"
      ]
     },
     "metadata": {},
     "output_type": "display_data"
    }
   ],
   "source": [
    "import seaborn as sns\n",
    "g = sns.FacetGrid(data = b , col = 'Score')\n",
    "g.map(plt.hist , 'text length' , bins = 50)"
   ]
  },
  {
   "cell_type": "code",
   "execution_count": 154,
   "metadata": {
    "_uuid": "40430eb06550068b9e8c32e3e4c7bc758dd99e5c"
   },
   "outputs": [
    {
     "data": {
      "text/plain": [
       "<matplotlib.axes._subplots.AxesSubplot at 0x7fd88593fcc0>"
      ]
     },
     "execution_count": 154,
     "metadata": {},
     "output_type": "execute_result"
    },
    {
     "data": {
      "image/png": "[encoded data removed]",
      "text/plain": [
       "<Figure size 432x288 with 1 Axes>"
      ]
     },
     "metadata": {},
     "output_type": "display_data"
    }
   ],
   "source": [
    "sns.boxplot(x='Score', y='text length', data=b)"
   ]
  },
  {
   "cell_type": "markdown",
   "metadata": {},
   "source": [
    " From above plots it is clear that text length is not that good feature for classification"
   ]
  },
  {
   "cell_type": "markdown",
   "metadata": {
    "_uuid": "674e3b4bb9056b663a18912fb9cdf49f7b284b0e"
   },
   "source": [
    "### Function for standardizing data"
   ]
  },
  {
   "cell_type": "code",
   "execution_count": 155,
   "metadata": {
    "_uuid": "29a65607a32ed02270ac8a455439e41795e5181b",
    "collapsed": true
   },
   "outputs": [],
   "source": [
    "from sklearn.preprocessing import StandardScaler"
   ]
  },
  {
   "cell_type": "code",
   "execution_count": 156,
   "metadata": {
    "_uuid": "26caf4d07d8f4e03f2af85c853c8e26bdbed6d06",
    "collapsed": true
   },
   "outputs": [],
   "source": [
    "\n",
    "def std_data(matrix):\n",
    "    scaler  = StandardScaler(with_mean=False)\n",
    "    scaler.fit(matrix)\n",
    "    return scaler.transform(matrix) \n",
    " "
   ]
  },
  {
   "cell_type": "code",
   "execution_count": 157,
   "metadata": {
    "_uuid": "26a9ab5645147430dfef751630832757bc23a940",
    "collapsed": true
   },
   "outputs": [],
   "source": [
    "# taking top 60k points for training and testing\n",
    "sampled_data = b.head(60000)"
   ]
  },
  {
   "cell_type": "code",
   "execution_count": 158,
   "metadata": {
    "_uuid": "feabe1d0e20786313b67d65c97984cb2452cedc4"
   },
   "outputs": [
    {
     "data": {
      "text/plain": [
       "positive    53151\n",
       "negative     6849\n",
       "Name: Score, dtype: int64"
      ]
     },
     "execution_count": 158,
     "metadata": {},
     "output_type": "execute_result"
    }
   ],
   "source": [
    "sampled_data['Score'].value_counts()"
   ]
  },
  {
   "cell_type": "markdown",
   "metadata": {
    "_uuid": "fdc4c03a125968ab2c98b8b3dff29c3100ffb4a3"
   },
   "source": [
    "### Function to find optimal K for KNN "
   ]
  },
  {
   "cell_type": "code",
   "execution_count": 159,
   "metadata": {
    "_uuid": "de93b20c78767eed283da70cbe54752379116f51",
    "collapsed": true
   },
   "outputs": [],
   "source": [
    "from sklearn.model_selection import RandomizedSearchCV\n",
    "#from sklearn.naive_bayes import MultinomialNB\n",
    "from sklearn.model_selection import TimeSeriesSplit,GridSearchCV\n",
    "#from sklearn.grid_search import GridSearchCV\n",
    "from sklearn.metrics import classification_report\n"
   ]
  },
  {
   "cell_type": "code",
   "execution_count": 160,
   "metadata": {
    "_uuid": "6fa4f4b332f40a03f85c5ede43f62065cf9745f0",
    "collapsed": true
   },
   "outputs": [],
   "source": [
    "# using brute force algorithm\n",
    "\n",
    "def find_optimal_k_brute(X_train , Y_train):\n",
    "    \n",
    "    neighbors = list( x for x in range(1,20) if x%2!=0)\n",
    "    tuned_parameters = {'n_neighbors': neighbors}\n",
    "\n",
    "    clf = KNeighborsClassifier( weights = 'distance' , algorithm = 'brute' , n_jobs = -1 )\n",
    "    tscv = TimeSeriesSplit(n_splits=3)                    \n",
    "    knn_clf = RandomizedSearchCV(clf,tuned_parameters , cv = tscv,scoring='f1' , n_jobs = -1 , verbose = 1)\n",
    "    knn_clf.fit(X_train , Y_train) \n",
    "    \n",
    "    cv_score = list(knn_clf.cv_results_.get('mean_test_score'))\n",
    "    k_values = neighbors\n",
    "    for i in range(len(cv_score)):\n",
    "        print('f1_score for k = ',k_values[i],'is ',cv_score[i] )\n",
    "\n",
    "    acc_score= knn_clf.cv_results_.get('mean_test_score')\n",
    "    error = [1-x for x in acc_score]\n",
    "\n",
    "    hyperparam = neighbors\n",
    "    plt.plot(hyperparam ,error ,'g' ,label=\"knn classifier\"  )\n",
    "    plt.xlabel('Hyperparam')\n",
    "    plt.ylabel('error')\n",
    "    plt.title('error for each k')\n",
    "    plt.legend()\n",
    "    plt.grid()\n",
    "    plt.show()\n",
    "    print(\"best parameter:\" ,knn_clf.best_params_ )\n",
    "    return knn_clf.best_params_['n_neighbors']\n"
   ]
  },
  {
   "cell_type": "code",
   "execution_count": 161,
   "metadata": {
    "_uuid": "ca5175383b5aa207ce80e7c443aa6871309767ac",
    "collapsed": true
   },
   "outputs": [],
   "source": [
    "# using kd tree \n",
    "\n",
    "def find_optimal_k_kd_tree(X_train , Y_train):\n",
    "    \n",
    "    \n",
    "    neighbors = list( x for x in range(1,20) if x%2!=0)\n",
    "    tuned_parameters = {'n_neighbors': neighbors}\n",
    "\n",
    "    clf = KNeighborsClassifier( weights = 'distance' , algorithm = 'kd_tree' , n_jobs = -1 )\n",
    "    tscv = TimeSeriesSplit(n_splits=3)  \n",
    "    knn_clf = RandomizedSearchCV(clf,tuned_parameters , cv = tscv,scoring='f1' , n_jobs = -1 , verbose = 1)\n",
    "    knn_clf.fit(X_train , Y_train) \n",
    "    \n",
    "    cv_score = list(knn_clf.cv_results_.get('mean_test_score'))\n",
    "    k_values = neighbors\n",
    "    for i in range(len(cv_score)):\n",
    "        print('f1_score for k = ',k_values[i],'is ',cv_score[i] )\n",
    "\n",
    "    acc_score= knn_clf.cv_results_.get('mean_test_score')\n",
    "    error = [1-x for x in acc_score]\n",
    "\n",
    "    hyperparam = neighbors\n",
    "    plt.plot(hyperparam ,error ,'g' ,label=\"knn classifier\"  )\n",
    "    plt.xlabel('Hyperparam')\n",
    "    plt.ylabel('error')\n",
    "    plt.title('error for each k')\n",
    "    plt.legend()\n",
    "    plt.grid()\n",
    "    plt.show()\n",
    "    print(\"best parameter:\" ,knn_clf.best_params_ )\n",
    "    return knn_clf.best_params_['n_neighbors']\n",
    "\n",
    "\n"
   ]
  },
  {
   "cell_type": "markdown",
   "metadata": {
    "_uuid": "89230ebf44514780f0a5c483030ed4ba0a7682d4"
   },
   "source": [
    "### Function to fit data into model and find accuracy "
   ]
  },
  {
   "cell_type": "code",
   "execution_count": 162,
   "metadata": {
    "_uuid": "1c9e0c589d4a4b5a0c85a60955980a5706d0c95d",
    "collapsed": true
   },
   "outputs": [],
   "source": [
    "def brute_model(X_train , Y_train , X_test , Y_test , k ):\n",
    "    # instantiate learning model k = optimal_k\n",
    "    knn_optimal = KNeighborsClassifier(n_neighbors=k , n_jobs = -1 , weights = 'distance'  , algorithm = 'brute' )\n",
    "\n",
    "    # fitting the model\n",
    "    knn_optimal.fit(X_train , Y_train)\n",
    "    \n",
    "    print('Test accuracy: ',knn_optimal.score(X_test , Y_test))\n",
    "    # train accuracy\n",
    "    #print('Train accuracy: ',knn_optimal.score(X_train , Y_train))\n",
    "\n",
    "    test_prediction = knn_optimal.predict(X_test)\n",
    "    print(classification_report(Y_test, test_prediction))\n",
    "\n",
    "    import scikitplot.metrics as sciplot\n",
    "    sciplot.plot_confusion_matrix(Y_test, test_prediction)\n",
    "    plt.show()\n",
    "    "
   ]
  },
  {
   "cell_type": "code",
   "execution_count": 163,
   "metadata": {
    "_uuid": "be47e0eb88f0dfd4c2a9b7eb402fb5979212aafa",
    "collapsed": true
   },
   "outputs": [],
   "source": [
    "def kd_tree_model(X_train , Y_train , X_test , Y_test , k ):\n",
    "    # instantiate learning model k = optimal_k\n",
    "    knn_optimal = KNeighborsClassifier(n_neighbors=k , n_jobs = -1 , weights = 'distance'  , algorithm = 'kd_tree' )\n",
    "\n",
    "    # fitting the model\n",
    "    knn_optimal.fit(X_train , Y_train)\n",
    "    \n",
    "    print('Test accuracy: ',knn_optimal.score(X_test , Y_test))\n",
    "    # train accuracy\n",
    "    #print('Train accuracy: ',knn_optimal.score(X_train , Y_train))\n",
    "\n",
    "    test_prediction = knn_optimal.predict(X_test)\n",
    "    print(classification_report(Y_test, test_prediction))\n",
    "\n",
    "    import scikitplot.metrics as sciplot\n",
    "    sciplot.plot_confusion_matrix(Y_test, test_prediction)\n",
    "    plt.show()"
   ]
  },
  {
   "cell_type": "markdown",
   "metadata": {
    "_uuid": "1335640bd81c828e54b90587b8a3e11baf9f0061"
   },
   "source": [
    "#### Splittting the data into train and test"
   ]
  },
  {
   "cell_type": "code",
   "execution_count": 164,
   "metadata": {
    "_uuid": "115817aa9343b5e4e5adbe35bd68ea605ce7a767",
    "collapsed": true
   },
   "outputs": [],
   "source": [
    "\n",
    "# splitting  data into train and test set\n",
    "def response_label(sign):\n",
    "    if sign == \"positive\":\n",
    "        return 1                               # positive-----> 1\n",
    "    else:\n",
    "        return -1                              # negative-----> -1 \n",
    "    \n",
    "sampled_data[\"Score\"] = sampled_data[\"Score\"].map(response_label)\n",
    "X_train, X_test, Y_train, Y_test  = train_test_split(sampled_data['CleanedText'],sampled_data['Score'], test_size=0.3, random_state=45)\n"
   ]
  },
  {
   "cell_type": "markdown",
   "metadata": {
    "_uuid": "07dffb920a9653f1779723d01c2d8d6d022843ac"
   },
   "source": [
    "## Bag of Words"
   ]
  },
  {
   "cell_type": "code",
   "execution_count": 128,
   "metadata": {
    "_uuid": "faff45dbbcd6028ca8ceda290f75f27f86c7736a"
   },
   "outputs": [
    {
     "name": "stdout",
     "output_type": "stream",
     "text": [
      "Train Dataset:  (42000, 2000)\n",
      "Test Dataset:  (18000, 2000)\n"
     ]
    }
   ],
   "source": [
    "#CountVectorizer()--> Converts a collection of text documents to a matrix of token counts\n",
    "\n",
    "# Initialize a CountVectorizer object: count_vectorizer\n",
    "#CountVectorizer()--> Converts a collection of text documents to a matrix of token counts\n",
    "\n",
    "# Initialize a CountVectorizer object: count_vectorizer\n",
    "count_vect = CountVectorizer(ngram_range = (1,2) , dtype = 'float' , min_df = 50 , max_features = 2000)\n",
    "\n",
    "# Transforming train/test data into bag of words\n",
    "bow_X_train_matrix = count_vect.fit_transform(X_train.values)\n",
    "print(\"Train Dataset: \", bow_X_train_matrix.shape)\n",
    "\n",
    "bow_X_test_matrix = count_vect.transform(X_test.values)\n",
    "print(\"Test Dataset: \" , bow_X_test_matrix.shape)"
   ]
  },
  {
   "cell_type": "code",
   "execution_count": 129,
   "metadata": {
    "_uuid": "b614d602a1488778f0844f73ce837b035ec3a710",
    "collapsed": true
   },
   "outputs": [],
   "source": [
    "# standarzing both train and test matrix \n",
    "\n",
    "bow_std_X_train_matrix = std_data(bow_X_train_matrix)\n",
    "bow_std_X_test_matrix = std_data(bow_X_test_matrix)"
   ]
  },
  {
   "cell_type": "markdown",
   "metadata": {
    "_uuid": "c0012bbcb5ca27635812bdcd6d5befca00a16364"
   },
   "source": [
    "## Brute Force"
   ]
  },
  {
   "cell_type": "code",
   "execution_count": 130,
   "metadata": {
    "_uuid": "136b0633c49a9eca0c2ab42cf22c763db9ce1e34"
   },
   "outputs": [
    {
     "name": "stdout",
     "output_type": "stream",
     "text": [
      "Fitting 3 folds for each of 10 candidates, totalling 30 fits\n"
     ]
    },
    {
     "name": "stderr",
     "output_type": "stream",
     "text": [
      "[Parallel(n_jobs=-1)]: Using backend LokyBackend with 4 concurrent workers.\n",
      "[Parallel(n_jobs=-1)]: Done  30 out of  30 | elapsed:  9.5min finished\n"
     ]
    },
    {
     "name": "stdout",
     "output_type": "stream",
     "text": [
      "f1_score for k =  1 is  0.9195235186635335\n",
      "f1_score for k =  3 is  0.9386672336879385\n",
      "f1_score for k =  5 is  0.9422438797947527\n",
      "f1_score for k =  7 is  0.9428209671790334\n",
      "f1_score for k =  9 is  0.9420084243054034\n",
      "f1_score for k =  11 is  0.9415688001434338\n",
      "f1_score for k =  13 is  0.9411914805490018\n",
      "f1_score for k =  15 is  0.9408165600989642\n",
      "f1_score for k =  17 is  0.9406488920190648\n",
      "f1_score for k =  19 is  0.9403347741651348\n"
     ]
    },
    {
     "data": {
      "image/png": "[encoded data removed]",
      "text/plain": [
       "<Figure size 432x288 with 1 Axes>"
      ]
     },
     "metadata": {},
     "output_type": "display_data"
    },
    {
     "name": "stdout",
     "output_type": "stream",
     "text": [
      "best parameter: {'n_neighbors': 7}\n"
     ]
    }
   ],
   "source": [
    "# finding optimal k using find_optimal_k_brute() function\n",
    "brute_optimal_k = find_optimal_k_brute(bow_std_X_train_matrix , Y_train)"
   ]
  },
  {
   "cell_type": "code",
   "execution_count": 96,
   "metadata": {
    "_uuid": "979d68743c4f837f1066f4eaaee29eacab73619c"
   },
   "outputs": [
    {
     "data": {
      "text/plain": [
       "7"
      ]
     },
     "execution_count": 96,
     "metadata": {},
     "output_type": "execute_result"
    }
   ],
   "source": [
    "brute_optimal_k"
   ]
  },
  {
   "cell_type": "code",
   "execution_count": 95,
   "metadata": {
    "_uuid": "0146fdecdc6453acf736cb35d37ee83ca4c7effb"
   },
   "outputs": [
    {
     "name": "stdout",
     "output_type": "stream",
     "text": [
      "Test accuracy:  0.9003888888888889\n",
      "              precision    recall  f1-score   support\n",
      "\n",
      "          -1       0.80      0.16      0.27      2042\n",
      "           1       0.90      0.99      0.95     15958\n",
      "\n",
      "   micro avg       0.90      0.90      0.90     18000\n",
      "   macro avg       0.85      0.58      0.61     18000\n",
      "weighted avg       0.89      0.90      0.87     18000\n",
      "\n"
     ]
    },
    {
     "data": {
      "image/png": "[encoded data removed]",
      "text/plain": [
       "<Figure size 432x288 with 2 Axes>"
      ]
     },
     "metadata": {},
     "output_type": "display_data"
    }
   ],
   "source": [
    "# testing & predicting accuracy of model using brute_optimal_k\n",
    "brute_model(bow_std_X_train_matrix , Y_train,bow_std_X_test_matrix,Y_test,  brute_optimal_k )"
   ]
  },
  {
   "cell_type": "markdown",
   "metadata": {
    "_uuid": "2ebf507d52e543eb33c8183cd30704ac26b2f4a1"
   },
   "source": [
    "## kd-tree"
   ]
  },
  {
   "cell_type": "code",
   "execution_count": 98,
   "metadata": {
    "_uuid": "103113aab167954e87543a95229429ff2b114108"
   },
   "outputs": [
    {
     "name": "stdout",
     "output_type": "stream",
     "text": [
      "Fitting 3 folds for each of 10 candidates, totalling 30 fits\n"
     ]
    },
    {
     "name": "stderr",
     "output_type": "stream",
     "text": [
      "[Parallel(n_jobs=-1)]: Using backend LokyBackend with 4 concurrent workers.\n",
      "[Parallel(n_jobs=-1)]: Done  30 out of  30 | elapsed:  9.3min finished\n"
     ]
    },
    {
     "name": "stdout",
     "output_type": "stream",
     "text": [
      "f1_score for k =  1 is  0.9195235186635335\n",
      "f1_score for k =  3 is  0.9386672336879385\n",
      "f1_score for k =  5 is  0.9422438797947527\n",
      "f1_score for k =  7 is  0.9428209671790334\n",
      "f1_score for k =  9 is  0.9420084243054034\n",
      "f1_score for k =  11 is  0.9415688001434338\n",
      "f1_score for k =  13 is  0.9411914805490018\n",
      "f1_score for k =  15 is  0.9408165600989642\n",
      "f1_score for k =  17 is  0.9406488920190648\n",
      "f1_score for k =  19 is  0.9403347741651348\n"
     ]
    },
    {
     "data": {
      "image/png": "[encoded data removed]",
      "text/plain": [
       "<Figure size 432x288 with 1 Axes>"
      ]
     },
     "metadata": {},
     "output_type": "display_data"
    },
    {
     "name": "stdout",
     "output_type": "stream",
     "text": [
      "best parameter: {'n_neighbors': 7}\n"
     ]
    }
   ],
   "source": [
    "optimal_k = find_optimal_k_kd_tree(bow_std_X_train_matrix , Y_train)"
   ]
  },
  {
   "cell_type": "code",
   "execution_count": 99,
   "metadata": {
    "_uuid": "bda4922bb1363961ea3b0f4ef81cfc8f917e9ff0"
   },
   "outputs": [
    {
     "name": "stdout",
     "output_type": "stream",
     "text": [
      "Test accuracy:  0.9003888888888889\n",
      "              precision    recall  f1-score   support\n",
      "\n",
      "          -1       0.80      0.16      0.27      2042\n",
      "           1       0.90      0.99      0.95     15958\n",
      "\n",
      "   micro avg       0.90      0.90      0.90     18000\n",
      "   macro avg       0.85      0.58      0.61     18000\n",
      "weighted avg       0.89      0.90      0.87     18000\n",
      "\n"
     ]
    },
    {
     "data": {
      "image/png": "[encoded data removed]",
      "text/plain": [
       "<Figure size 432x288 with 2 Axes>"
      ]
     },
     "metadata": {},
     "output_type": "display_data"
    }
   ],
   "source": [
    "kd_tree_model(bow_std_X_train_matrix , Y_train,bow_std_X_test_matrix,Y_test,  brute_optimal_k )"
   ]
  },
  {
   "cell_type": "markdown",
   "metadata": {
    "_uuid": "4610f0cb51c9854d4d4ffbc102a550510790fd89"
   },
   "source": [
    "# TF-IDF"
   ]
  },
  {
   "cell_type": "code",
   "execution_count": 100,
   "metadata": {
    "_uuid": "5f63104121b84d0d98fe524103c3167423e4dcc4"
   },
   "outputs": [
    {
     "name": "stdout",
     "output_type": "stream",
     "text": [
      "(42000, 2000)\n",
      "(18000, 2000)\n"
     ]
    }
   ],
   "source": [
    "tf_idf_vect = TfidfVectorizer(ngram_range=(1,2) , min_df = 50 , max_features = 2000)\n",
    "# Transforming train/test data into tf-idf\n",
    "tf_idf_X_train_matrix = tf_idf_vect.fit_transform(X_train.values)\n",
    "print(tf_idf_X_train_matrix.shape)\n",
    "tf_idf_X_test_matrix = tf_idf_vect.transform(X_test.values)\n",
    "print(tf_idf_X_test_matrix.shape)\n"
   ]
  },
  {
   "cell_type": "code",
   "execution_count": 102,
   "metadata": {
    "_uuid": "c548f7aa5527d202a115cdaf017c3c3f6e8d1436",
    "collapsed": true
   },
   "outputs": [],
   "source": [
    "# standardizing train/test data using std_data() function\n",
    "tfidf_std_X_train_matrix = std_data(tf_idf_X_train_matrix)\n",
    "tfidf_std_X_test_matrix = std_data(tf_idf_X_test_matrix)"
   ]
  },
  {
   "cell_type": "code",
   "execution_count": 103,
   "metadata": {
    "_uuid": "78bfc0f881c4d9ce0f85dd55e186a5dd53288fb2"
   },
   "outputs": [
    {
     "name": "stdout",
     "output_type": "stream",
     "text": [
      "Fitting 3 folds for each of 10 candidates, totalling 30 fits\n"
     ]
    },
    {
     "name": "stderr",
     "output_type": "stream",
     "text": [
      "[Parallel(n_jobs=-1)]: Using backend LokyBackend with 4 concurrent workers.\n",
      "[Parallel(n_jobs=-1)]: Done  30 out of  30 | elapsed:  9.9min finished\n"
     ]
    },
    {
     "name": "stdout",
     "output_type": "stream",
     "text": [
      "f1_score for k =  1 is  0.9334402901304214\n",
      "f1_score for k =  3 is  0.9334256581494628\n",
      "f1_score for k =  5 is  0.9401771420443709\n",
      "f1_score for k =  7 is  0.9404032877848781\n",
      "f1_score for k =  9 is  0.9402996089663617\n",
      "f1_score for k =  11 is  0.940080477502526\n",
      "f1_score for k =  13 is  0.9398476631610018\n",
      "f1_score for k =  15 is  0.9396413214840068\n",
      "f1_score for k =  17 is  0.9395142719331394\n",
      "f1_score for k =  19 is  0.9394925427496099\n"
     ]
    },
    {
     "data": {
      "image/png": "[encoded data removed]",
      "text/plain": [
       "<Figure size 432x288 with 1 Axes>"
      ]
     },
     "metadata": {},
     "output_type": "display_data"
    },
    {
     "name": "stdout",
     "output_type": "stream",
     "text": [
      "best parameter: {'n_neighbors': 7}\n"
     ]
    }
   ],
   "source": [
    "# finding optimal k using find_optimal_k_brute() function\n",
    "brute_optimal_k = find_optimal_k_brute(tfidf_std_X_train_matrix , Y_train)"
   ]
  },
  {
   "cell_type": "code",
   "execution_count": 104,
   "metadata": {
    "_uuid": "1caaf78b6d913ed3ba1749c93009ed99b716e4e6"
   },
   "outputs": [
    {
     "name": "stdout",
     "output_type": "stream",
     "text": [
      "Test accuracy:  0.8932777777777777\n",
      "              precision    recall  f1-score   support\n",
      "\n",
      "          -1       0.75      0.09      0.16      2042\n",
      "           1       0.90      1.00      0.94     15958\n",
      "\n",
      "   micro avg       0.89      0.89      0.89     18000\n",
      "   macro avg       0.82      0.54      0.55     18000\n",
      "weighted avg       0.88      0.89      0.85     18000\n",
      "\n"
     ]
    },
    {
     "data": {
      "image/png": "[encoded data removed]",
      "text/plain": [
       "<Figure size 432x288 with 2 Axes>"
      ]
     },
     "metadata": {},
     "output_type": "display_data"
    }
   ],
   "source": [
    "brute_model(tfidf_std_X_train_matrix , Y_train,tfidf_std_X_test_matrix,Y_test,  brute_optimal_k )"
   ]
  },
  {
   "cell_type": "markdown",
   "metadata": {
    "_uuid": "fd27a7650a3edfaf64a2e1c64283003f3616bbb9"
   },
   "source": [
    "## kd tree"
   ]
  },
  {
   "cell_type": "code",
   "execution_count": 105,
   "metadata": {
    "_uuid": "3d5df9382aa6037257985deed1069a66cafce7ab"
   },
   "outputs": [
    {
     "name": "stdout",
     "output_type": "stream",
     "text": [
      "Fitting 3 folds for each of 10 candidates, totalling 30 fits\n"
     ]
    },
    {
     "name": "stderr",
     "output_type": "stream",
     "text": [
      "[Parallel(n_jobs=-1)]: Using backend LokyBackend with 4 concurrent workers.\n",
      "[Parallel(n_jobs=-1)]: Done  30 out of  30 | elapsed:  9.7min finished\n"
     ]
    },
    {
     "name": "stdout",
     "output_type": "stream",
     "text": [
      "f1_score for k =  1 is  0.9334402901304214\n",
      "f1_score for k =  3 is  0.9334256581494628\n",
      "f1_score for k =  5 is  0.9401771420443709\n",
      "f1_score for k =  7 is  0.9404032877848781\n",
      "f1_score for k =  9 is  0.9402996089663617\n",
      "f1_score for k =  11 is  0.940080477502526\n",
      "f1_score for k =  13 is  0.9398476631610018\n",
      "f1_score for k =  15 is  0.9396413214840068\n",
      "f1_score for k =  17 is  0.9395142719331394\n",
      "f1_score for k =  19 is  0.9394925427496099\n"
     ]
    },
    {
     "data": {
      "image/png": "[encoded data removed]",
      "text/plain": [
       "<Figure size 432x288 with 1 Axes>"
      ]
     },
     "metadata": {},
     "output_type": "display_data"
    },
    {
     "name": "stdout",
     "output_type": "stream",
     "text": [
      "best parameter: {'n_neighbors': 7}\n"
     ]
    }
   ],
   "source": [
    "optimal_k = find_optimal_k_kd_tree(tfidf_std_X_train_matrix , Y_train)"
   ]
  },
  {
   "cell_type": "code",
   "execution_count": 106,
   "metadata": {
    "_uuid": "41cad90cad8c96d82fceebf8cc8ea5b3492f346f"
   },
   "outputs": [
    {
     "name": "stdout",
     "output_type": "stream",
     "text": [
      "Test accuracy:  0.8932777777777777\n",
      "              precision    recall  f1-score   support\n",
      "\n",
      "          -1       0.75      0.09      0.16      2042\n",
      "           1       0.90      1.00      0.94     15958\n",
      "\n",
      "   micro avg       0.89      0.89      0.89     18000\n",
      "   macro avg       0.82      0.54      0.55     18000\n",
      "weighted avg       0.88      0.89      0.85     18000\n",
      "\n"
     ]
    },
    {
     "data": {
      "image/png": "[encoded data removed]",
      "text/plain": [
       "<Figure size 432x288 with 2 Axes>"
      ]
     },
     "metadata": {},
     "output_type": "display_data"
    }
   ],
   "source": [
    "kd_tree_model(tfidf_std_X_train_matrix , Y_train,tfidf_std_X_test_matrix,Y_test,  brute_optimal_k )"
   ]
  },
  {
   "cell_type": "markdown",
   "metadata": {
    "_uuid": "e94b94bad7dcf06e9be54b2a6e6a56695d796f26"
   },
   "source": [
    "# avg word2vec"
   ]
  },
  {
   "cell_type": "code",
   "execution_count": 107,
   "metadata": {
    "_uuid": "c96d3403b7009739efc551daa1b2eadf247e8cd2",
    "collapsed": true
   },
   "outputs": [],
   "source": [
    "list_of_sent=[]\n",
    "for sent in X_train.values:\n",
    "    list_of_sent.append(sent.split())\n",
    "    \n",
    "w2v_model=Word2Vec(list_of_sent,min_count=5,size=50, workers=4) \n",
    "\n",
    "sent_vectors = [];\n",
    "for sent in list_of_sent:\n",
    "    sent_vec = np.zeros(50)\n",
    "    cnt_words =0;\n",
    "    for word in sent:\n",
    "        if word in w2v_model:\n",
    "            vec = w2v_model.wv[word]\n",
    "            sent_vec += vec\n",
    "            cnt_words += 1\n",
    "    if cnt_words != 0:\n",
    "        sent_vec /= cnt_words\n",
    "    sent_vectors.append(sent_vec)\n",
    "\n",
    "w2vec_X_train_matrix = np.array(sent_vectors)\n"
   ]
  },
  {
   "cell_type": "code",
   "execution_count": 108,
   "metadata": {
    "_uuid": "e39e1d1f451bcb0c5ff426e32170be9b3d9c87f0",
    "collapsed": true
   },
   "outputs": [],
   "source": [
    "list_of_sent=[]\n",
    "for sent in X_test.values:\n",
    "    list_of_sent.append(sent.split())\n",
    "    \n",
    "sent_vectors = [];\n",
    "for sent in list_of_sent:\n",
    "    sent_vec = np.zeros(50)\n",
    "    cnt_words =0;\n",
    "    for word in sent:\n",
    "        if word in w2v_model:\n",
    "            vec = w2v_model.wv[word]\n",
    "            sent_vec += vec\n",
    "            cnt_words += 1\n",
    "    if cnt_words != 0:\n",
    "        sent_vec /= cnt_words\n",
    "    sent_vectors.append(sent_vec)\n",
    "    \n",
    "w2vec_X_test_matrix = np.array(sent_vectors)\n"
   ]
  },
  {
   "cell_type": "code",
   "execution_count": 109,
   "metadata": {
    "_uuid": "78e818b1bbe2c08839de2b477609cd4df4074fd6",
    "collapsed": true
   },
   "outputs": [],
   "source": [
    "# standrizing data\n",
    "w2vec_std_X_train_matrix = std_data(w2vec_X_train_matrix)\n",
    "w2vec_std_X_test_matrix = std_data(w2vec_X_test_matrix)"
   ]
  },
  {
   "cell_type": "code",
   "execution_count": 110,
   "metadata": {
    "_uuid": "4e8a0ffdd67bf8ccbc2d20bb065400879d104adc"
   },
   "outputs": [
    {
     "name": "stdout",
     "output_type": "stream",
     "text": [
      "Fitting 3 folds for each of 10 candidates, totalling 30 fits\n"
     ]
    },
    {
     "name": "stderr",
     "output_type": "stream",
     "text": [
      "[Parallel(n_jobs=-1)]: Using backend LokyBackend with 4 concurrent workers.\n",
      "[Parallel(n_jobs=-1)]: Done  30 out of  30 | elapsed:  6.0min finished\n"
     ]
    },
    {
     "name": "stdout",
     "output_type": "stream",
     "text": [
      "f1_score for k =  1 is  0.9284267035765651\n",
      "f1_score for k =  3 is  0.942455049662511\n",
      "f1_score for k =  5 is  0.9452027683360246\n",
      "f1_score for k =  7 is  0.9466942710202739\n",
      "f1_score for k =  9 is  0.9465016442776306\n",
      "f1_score for k =  11 is  0.9469454533091985\n",
      "f1_score for k =  13 is  0.9464760151797094\n",
      "f1_score for k =  15 is  0.9465478768246419\n",
      "f1_score for k =  17 is  0.9466694570840123\n",
      "f1_score for k =  19 is  0.9463801568792295\n"
     ]
    },
    {
     "data": {
      "image/png": "[encoded data removed]",
      "text/plain": [
       "<Figure size 432x288 with 1 Axes>"
      ]
     },
     "metadata": {},
     "output_type": "display_data"
    },
    {
     "name": "stdout",
     "output_type": "stream",
     "text": [
      "best parameter: {'n_neighbors': 11}\n"
     ]
    }
   ],
   "source": [
    "brute_optimal_k = find_optimal_k_brute(w2vec_std_X_train_matrix , Y_train)"
   ]
  },
  {
   "cell_type": "code",
   "execution_count": 112,
   "metadata": {
    "_uuid": "804ee95f11049111c1536b09e7128e033687caca"
   },
   "outputs": [
    {
     "name": "stdout",
     "output_type": "stream",
     "text": [
      "Test accuracy:  0.9066111111111111\n",
      "              precision    recall  f1-score   support\n",
      "\n",
      "          -1       0.74      0.27      0.40      2042\n",
      "           1       0.91      0.99      0.95     15958\n",
      "\n",
      "   micro avg       0.91      0.91      0.91     18000\n",
      "   macro avg       0.83      0.63      0.67     18000\n",
      "weighted avg       0.89      0.91      0.89     18000\n",
      "\n"
     ]
    },
    {
     "data": {
      "image/png": "[encoded data removed]",
      "text/plain": [
       "<Figure size 432x288 with 2 Axes>"
      ]
     },
     "metadata": {},
     "output_type": "display_data"
    }
   ],
   "source": [
    "brute_model(w2vec_std_X_train_matrix , Y_train,w2vec_std_X_test_matrix,Y_test,  brute_optimal_k )"
   ]
  },
  {
   "cell_type": "markdown",
   "metadata": {
    "_uuid": "4bf631dbb7715b9ba9f6191a03b9ebacd320da3d"
   },
   "source": [
    "## kd tree"
   ]
  },
  {
   "cell_type": "code",
   "execution_count": 115,
   "metadata": {
    "_uuid": "3771e052a61a3970d9f6c86988374a100b6b8a17"
   },
   "outputs": [
    {
     "name": "stdout",
     "output_type": "stream",
     "text": [
      "Fitting 3 folds for each of 10 candidates, totalling 30 fits\n"
     ]
    },
    {
     "name": "stderr",
     "output_type": "stream",
     "text": [
      "[Parallel(n_jobs=-1)]: Using backend LokyBackend with 4 concurrent workers.\n",
      "[Parallel(n_jobs=-1)]: Done  30 out of  30 | elapsed: 28.7min finished\n"
     ]
    },
    {
     "name": "stdout",
     "output_type": "stream",
     "text": [
      "f1_score for k =  1 is  0.9284267035765651\n",
      "f1_score for k =  3 is  0.942455049662511\n",
      "f1_score for k =  5 is  0.9452027683360246\n",
      "f1_score for k =  7 is  0.9466942710202739\n",
      "f1_score for k =  9 is  0.9465016442776306\n",
      "f1_score for k =  11 is  0.9469454533091985\n",
      "f1_score for k =  13 is  0.9464760151797094\n",
      "f1_score for k =  15 is  0.9465478768246419\n",
      "f1_score for k =  17 is  0.9466694570840123\n",
      "f1_score for k =  19 is  0.9463801568792295\n"
     ]
    },
    {
     "data": {
      "image/png": "[encoded data removed]",
      "text/plain": [
       "<Figure size 432x288 with 1 Axes>"
      ]
     },
     "metadata": {},
     "output_type": "display_data"
    },
    {
     "name": "stdout",
     "output_type": "stream",
     "text": [
      "best parameter: {'n_neighbors': 11}\n"
     ]
    }
   ],
   "source": [
    "optimal_k = find_optimal_k_kd_tree(w2vec_std_X_train_matrix , Y_train)"
   ]
  },
  {
   "cell_type": "code",
   "execution_count": 116,
   "metadata": {
    "_uuid": "f5cf96db7dc1cd5a30e92aa1584749611f965923"
   },
   "outputs": [
    {
     "name": "stdout",
     "output_type": "stream",
     "text": [
      "Test accuracy:  0.9066111111111111\n",
      "              precision    recall  f1-score   support\n",
      "\n",
      "          -1       0.74      0.27      0.40      2042\n",
      "           1       0.91      0.99      0.95     15958\n",
      "\n",
      "   micro avg       0.91      0.91      0.91     18000\n",
      "   macro avg       0.83      0.63      0.67     18000\n",
      "weighted avg       0.89      0.91      0.89     18000\n",
      "\n"
     ]
    },
    {
     "data": {
      "image/png": "[encoded data removed]",
      "text/plain": [
       "<Figure size 432x288 with 2 Axes>"
      ]
     },
     "metadata": {},
     "output_type": "display_data"
    }
   ],
   "source": [
    "kd_tree_model(w2vec_std_X_train_matrix , Y_train,w2vec_std_X_test_matrix,Y_test,  optimal_k )"
   ]
  },
  {
   "cell_type": "markdown",
   "metadata": {
    "_uuid": "9239b3f503db4783a192a6befebbfefa8ad056d9",
    "collapsed": true
   },
   "source": [
    "# tf-idf word2vec"
   ]
  },
  {
   "cell_type": "code",
   "execution_count": 120,
   "metadata": {
    "_uuid": "a208aa863845d218ee0be90a3378afdaaa61a57d",
    "collapsed": true
   },
   "outputs": [],
   "source": [
    "list_of_sent=[]\n",
    "for sent in X_train.values:\n",
    "    list_of_sent.append(sent.split())\n",
    "\n",
    "w2v_model=Word2Vec(list_of_sent,min_count=5,size=50, workers=4)\n",
    "\n",
    "model = TfidfVectorizer()\n",
    "tf_idf_matrix = model.fit_transform(X_train.values)\n",
    "# we are converting a dictionary with word as a key, and the idf as a value\n",
    "dictionary = dict(zip(model.get_feature_names(), list(model.idf_)))\n",
    "    \n",
    "tfidf_feat = tf_idf_vect.get_feature_names()\n",
    "tfidf_sent_vectors_X_train = []\n",
    "row=0\n",
    "for sent in list_of_sent: #list_of_sent\n",
    "    sent_vec = np.zeros(50)\n",
    "    weight_sum =0;\n",
    "    for word in sent:\n",
    "        if word in w2v_model:\n",
    "            vec = w2v_model.wv[word]\n",
    "         # obtain the tf_idfidf of a word in a sentence/review\n",
    "            tf_idf = dictionary[word]*(sent.count(word)/len(sent))\n",
    "            sent_vec += (vec * tf_idf)\n",
    "            weight_sum += tf_idf\n",
    "    if weight_sum != 0:\n",
    "        sent_vec /= weight_sum\n",
    "    tfidf_sent_vectors_X_train.append(sent_vec)\n",
    "    row += 1"
   ]
  },
  {
   "cell_type": "code",
   "execution_count": 122,
   "metadata": {
    "_uuid": "c04db1e02d5bd403ae8c0adfd63aa77c8bc18721",
    "collapsed": true
   },
   "outputs": [],
   "source": [
    "list_of_sent=[]\n",
    "for sent in X_test.values:\n",
    "    list_of_sent.append(sent.split())\n",
    "\n",
    "\n",
    "tfidf_sent_vectors_X_test = [];\n",
    "row=0;\n",
    "for sent in list_of_sent: #list_of_sent\n",
    "    sent_vec = np.zeros(50)\n",
    "    weight_sum =0;\n",
    "    for word in sent:\n",
    "        if word in w2v_model:\n",
    "            vec = w2v_model.wv[word]\n",
    "               # obtain the tf_idfidf of a word in a sentence/review\n",
    "            tf_idf = dictionary[word]*(sent.count(word)/len(sent))\n",
    "            sent_vec += (vec * tf_idf)\n",
    "            weight_sum += tf_idf\n",
    "    if weight_sum != 0:\n",
    "        sent_vec /= weight_sum\n",
    "    tfidf_sent_vectors_X_test.append(sent_vec)\n",
    "    row += 1\n",
    "\n",
    "    "
   ]
  },
  {
   "cell_type": "code",
   "execution_count": 123,
   "metadata": {
    "_uuid": "b3d0e5e2c48c6a1e1a628fcb08b38e38160e6ae0",
    "collapsed": true
   },
   "outputs": [],
   "source": [
    "\n",
    "tfidf_w2vec_std_X_train_matrix = std_data(tfidf_sent_vectors_X_train)\n",
    "tfidf_w2vec_std_X_test_matrix = std_data(tfidf_sent_vectors_X_test)\n"
   ]
  },
  {
   "cell_type": "code",
   "execution_count": 124,
   "metadata": {
    "_uuid": "7500989b770bdd5686ea2a195d06d66e4fecb7a5"
   },
   "outputs": [
    {
     "name": "stdout",
     "output_type": "stream",
     "text": [
      "Fitting 3 folds for each of 10 candidates, totalling 30 fits\n"
     ]
    },
    {
     "name": "stderr",
     "output_type": "stream",
     "text": [
      "[Parallel(n_jobs=-1)]: Using backend LokyBackend with 4 concurrent workers.\n",
      "[Parallel(n_jobs=-1)]: Done  30 out of  30 | elapsed:  6.0min finished\n"
     ]
    },
    {
     "name": "stdout",
     "output_type": "stream",
     "text": [
      "f1_score for k =  1 is  0.9214079117760613\n",
      "f1_score for k =  3 is  0.9372310541144433\n",
      "f1_score for k =  5 is  0.9417321335425249\n",
      "f1_score for k =  7 is  0.9435178659750239\n",
      "f1_score for k =  9 is  0.9439495002300121\n",
      "f1_score for k =  11 is  0.9442772987149024\n",
      "f1_score for k =  13 is  0.9446351520823104\n",
      "f1_score for k =  15 is  0.9444183434370736\n",
      "f1_score for k =  17 is  0.9443553221137684\n",
      "f1_score for k =  19 is  0.9444967591492006\n"
     ]
    },
    {
     "data": {
      "image/png": "[encoded data removed]",
      "text/plain": [
       "<Figure size 432x288 with 1 Axes>"
      ]
     },
     "metadata": {},
     "output_type": "display_data"
    },
    {
     "name": "stdout",
     "output_type": "stream",
     "text": [
      "best parameter: {'n_neighbors': 13}\n"
     ]
    }
   ],
   "source": [
    "\n",
    "brute_optimal_k = find_optimal_k_brute(tfidf_w2vec_std_X_train_matrix,Y_train )\n"
   ]
  },
  {
   "cell_type": "code",
   "execution_count": 125,
   "metadata": {
    "_uuid": "8c079af9fa6bc435ec7f90ad7c6aafa86971e8ab"
   },
   "outputs": [
    {
     "name": "stdout",
     "output_type": "stream",
     "text": [
      "Test accuracy:  0.9021111111111111\n",
      "              precision    recall  f1-score   support\n",
      "\n",
      "          -1       0.72      0.22      0.34      2042\n",
      "           1       0.91      0.99      0.95     15958\n",
      "\n",
      "   micro avg       0.90      0.90      0.90     18000\n",
      "   macro avg       0.82      0.61      0.64     18000\n",
      "weighted avg       0.89      0.90      0.88     18000\n",
      "\n"
     ]
    },
    {
     "data": {
      "image/png": "[encoded data removed]",
      "text/plain": [
       "<Figure size 432x288 with 2 Axes>"
      ]
     },
     "metadata": {},
     "output_type": "display_data"
    }
   ],
   "source": [
    "brute_model(tfidf_w2vec_std_X_train_matrix , Y_train,tfidf_w2vec_std_X_test_matrix,Y_test,  brute_optimal_k )"
   ]
  },
  {
   "cell_type": "markdown",
   "metadata": {
    "_uuid": "c1b8ad1fa104e363e0d2c847369bc32d61f6361c"
   },
   "source": [
    "## kd-tree"
   ]
  },
  {
   "cell_type": "code",
   "execution_count": 126,
   "metadata": {
    "_uuid": "a8091e944aab7621abcf474b86976710c98c13e9"
   },
   "outputs": [
    {
     "name": "stdout",
     "output_type": "stream",
     "text": [
      "Fitting 3 folds for each of 10 candidates, totalling 30 fits\n"
     ]
    },
    {
     "name": "stderr",
     "output_type": "stream",
     "text": [
      "[Parallel(n_jobs=-1)]: Using backend LokyBackend with 4 concurrent workers.\n",
      "[Parallel(n_jobs=-1)]: Done  30 out of  30 | elapsed: 23.5min finished\n"
     ]
    },
    {
     "name": "stdout",
     "output_type": "stream",
     "text": [
      "f1_score for k =  1 is  0.9214079117760613\n",
      "f1_score for k =  3 is  0.9372310541144433\n",
      "f1_score for k =  5 is  0.9417321335425249\n",
      "f1_score for k =  7 is  0.9435178659750239\n",
      "f1_score for k =  9 is  0.9439495002300121\n",
      "f1_score for k =  11 is  0.9442772987149024\n",
      "f1_score for k =  13 is  0.9446351520823104\n",
      "f1_score for k =  15 is  0.9444183434370736\n",
      "f1_score for k =  17 is  0.9443553221137684\n",
      "f1_score for k =  19 is  0.9444967591492006\n"
     ]
    },
    {
     "data": {
      "image/png": "[encoded data removed]",
      "text/plain": [
       "<Figure size 432x288 with 1 Axes>"
      ]
     },
     "metadata": {},
     "output_type": "display_data"
    },
    {
     "name": "stdout",
     "output_type": "stream",
     "text": [
      "best parameter: {'n_neighbors': 13}\n"
     ]
    }
   ],
   "source": [
    "optimal_k = find_optimal_k_kd_tree(tfidf_w2vec_std_X_train_matrix , Y_train)"
   ]
  },
  {
   "cell_type": "code",
   "execution_count": 127,
   "metadata": {
    "_uuid": "dfc048ab4351d3d6fbdff650b3e890cdc12cd58f"
   },
   "outputs": [
    {
     "name": "stdout",
     "output_type": "stream",
     "text": [
      "Test accuracy:  0.9021111111111111\n",
      "              precision    recall  f1-score   support\n",
      "\n",
      "          -1       0.72      0.22      0.34      2042\n",
      "           1       0.91      0.99      0.95     15958\n",
      "\n",
      "   micro avg       0.90      0.90      0.90     18000\n",
      "   macro avg       0.82      0.61      0.64     18000\n",
      "weighted avg       0.89      0.90      0.88     18000\n",
      "\n"
     ]
    },
    {
     "data": {
      "image/png": "[encoded data removed]",
      "text/plain": [
       "<Figure size 432x288 with 2 Axes>"
      ]
     },
     "metadata": {},
     "output_type": "display_data"
    }
   ],
   "source": [
    "kd_tree_model(tfidf_w2vec_std_X_train_matrix , Y_train,tfidf_w2vec_std_X_test_matrix,Y_test,  optimal_k )"
   ]
  },
  {
   "cell_type": "code",
   "execution_count": 1,
   "metadata": {
    "collapsed": true
   },
   "outputs": [],
   "source": [
    "from prettytable import PrettyTable\n",
    "x = PrettyTable()"
   ]
  },
  {
   "cell_type": "code",
   "execution_count": 2,
   "metadata": {},
   "outputs": [
    {
     "name": "stdout",
     "output_type": "stream",
     "text": [
      "+---------------------------------+------------------+-----------+--------+----------+\n",
      "|              Model              | Hyperparameter k | precision | recall | f1-score |\n",
      "+---------------------------------+------------------+-----------+--------+----------+\n",
      "|      knn using bow & brute      |        7         |    0.89   |  0.90  |   0.87   |\n",
      "|     knn using bow & kd_tree     |        7         |    0.89   |  0.90  |   0.87   |\n",
      "|     knn using tfidf & brute     |        7         |    0.88   |  0.89  |   0.85   |\n",
      "|    knn using tfidf & kd_tree    |        7         |    0.88   |  0.89  |   0.85   |\n",
      "|     knn using w2vec & brute     |        11        |    0.89   |  0.91  |   0.89   |\n",
      "|    knn using w2vec & kd_tree    |        11        |    0.89   |  0.91  |   0.89   |\n",
      "|  knn using tfidf-w2vec & brute  |        13        |    0.89   |  0.90  |   0.88   |\n",
      "| knn using tfidf-w2vec & kd_tree |        13        |    0.89   |  0.90  |   0.88   |\n",
      "+---------------------------------+------------------+-----------+--------+----------+\n"
     ]
    }
   ],
   "source": [
    "x.field_names = [\"Model\", \"Hyperparameter k\", \"precision\", \"recall\" , \"f1-score\"]\n",
    "x.add_row(['knn using bow & brute' , '7' , '0.89' , '0.90' , '0.87'])\n",
    "x.add_row(['knn using bow & kd_tree' , '7' , '0.89' , '0.90' , '0.87'])\n",
    "x.add_row(['knn using tfidf & brute' , '7' , '0.88' , '0.89' , '0.85'])\n",
    "x.add_row(['knn using tfidf & kd_tree' , '7' , '0.88' , '0.89' , '0.85'])\n",
    "x.add_row(['knn using w2vec & brute' , '11' , '0.89' , '0.91' , '0.89'])\n",
    "x.add_row(['knn using w2vec & kd_tree' , '11' , '0.89' , '0.91' , '0.89'])\n",
    "x.add_row(['knn using tfidf-w2vec & brute' , '13' , '0.89' , '0.90' , '0.88'])\n",
    "x.add_row(['knn using tfidf-w2vec & kd_tree' , '13' , '0.89' , '0.90' , '0.88'])\n",
    "print(x)"
   ]
  },
  {
   "cell_type": "markdown",
   "metadata": {
    "_uuid": "8bcd82d2b00e1a5427ff7cad62f3b2b4acc3e654"
   },
   "source": [
    "### Observation\n",
    "1. Among all four text to vector conversion technique avg w2vec is giving compartively better classification results using kNN.  \n",
    "2. BOW and Tf-Idf generates vector of very high dimensions hence it is not good to apply knn using kd-tree algo since kd-tree doesn't work well in high dimensions\n",
    "3. kNN is a quite slow algorithm even after taking a very small sample out of whole dataset there is huge delay in getting output.\n",
    "4. Performance of both algo brute force and kd-tree is almost similar.\n",
    "5. Train and test time for both brute force and kd tree is also almost same.\n",
    "\n",
    "\n",
    "\n",
    " "
   ]
  },
  {
   "cell_type": "markdown",
   "metadata": {
    "_uuid": "253cf50247e2df33f526427a1f3de0a9ae69cecc"
   },
   "source": [
    "### Conclusion\n",
    "1. kNN performs poorly in case of both high dimensions and unbalanced data.\n",
    "2. Since kNN doesn't work well in high dimensions hence it is not good for classifying text data.\n",
    " "
   ]
  },
  {
   "cell_type": "code",
   "execution_count": null,
   "metadata": {
    "_uuid": "a92b3cb353e7e6cdfcf4238a790045981801781e",
    "collapsed": true
   },
   "outputs": [],
   "source": [
    "import sys\n",
    "sys.path.append('C:\\\\Users\\\\tushar\\\\AppData\\\\Local\\\\MiKTeX\\\\2.9\\\\pdftex\\\\config')"
   ]
  },
  {
   "cell_type": "code",
   "execution_count": null,
   "metadata": {
    "_uuid": "d06bde73fae3a917274fdd21457ef2606a35c776",
    "collapsed": true
   },
   "outputs": [],
   "source": []
  }
 ],
 "metadata": {
  "kernelspec": {
   "display_name": "Python 3",
   "language": "python",
   "name": "python3"
  },
  "language_info": {
   "codemirror_mode": {
    "name": "ipython",
    "version": 3
   },
   "file_extension": ".py",
   "mimetype": "text/x-python",
   "name": "python",
   "nbconvert_exporter": "python",
   "pygments_lexer": "ipython3",
   "version": "3.6.3"
  }
 },
 "nbformat": 4,
 "nbformat_minor": 1
}
