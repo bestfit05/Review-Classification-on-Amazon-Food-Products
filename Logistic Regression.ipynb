{
 "cells": [
  {
   "cell_type": "markdown",
   "metadata": {},
   "source": [
    "### Obective: To apply Logistic Regression on amazon fine food reviews"
   ]
  },
  {
   "cell_type": "code",
   "execution_count": 1,
   "metadata": {
    "_uuid": "7d8f2b757f1c28947f51e5576017f7c29db9addf",
    "collapsed": true
   },
   "outputs": [],
   "source": [
    "import warnings\n",
    "warnings.filterwarnings(\"ignore\")\n",
    "\n",
    "#import sqlite3\n",
    "import pandas as pd\n",
    "import numpy as np\n",
    "import nltk\n",
    "import string\n",
    "import matplotlib.pyplot as plt\n",
    "import seaborn as sns\n",
    "from sklearn.feature_extraction.text import TfidfTransformer\n",
    "from sklearn.feature_extraction.text import TfidfVectorizer\n",
    "\n",
    "from sklearn.feature_extraction.text import CountVectorizer\n",
    "from sklearn.metrics import confusion_matrix\n",
    "from sklearn import metrics\n",
    "from sklearn.metrics import roc_curve, auc\n",
    "from nltk.stem.porter import PorterStemmer\n",
    "\n",
    "import re\n",
    "\n",
    "import string\n",
    "from nltk.corpus import stopwords\n",
    "from nltk.stem import PorterStemmer\n",
    "from nltk.stem.wordnet import WordNetLemmatizer\n",
    "\n",
    "from gensim.models import Word2Vec\n",
    "from gensim.models import KeyedVectors\n",
    "import pickle\n"
   ]
  },
  {
   "cell_type": "code",
   "execution_count": 2,
   "metadata": {
    "_uuid": "8a5c6ece16f9adf11a621ce634d2e328bac68add",
    "collapsed": true
   },
   "outputs": [],
   "source": [
    "from sklearn.model_selection import train_test_split\n",
    "from sklearn.neighbors import KNeighborsClassifier\n",
    "from sklearn.metrics import accuracy_score\n",
    "from sklearn.model_selection import cross_val_score\n",
    "from collections import Counter\n",
    "from sklearn.metrics import accuracy_score\n",
    "from sklearn.model_selection import cross_validate\n"
   ]
  },
  {
   "cell_type": "code",
   "execution_count": 3,
   "metadata": {
    "_uuid": "859f17991109b1094a519ee45f55b9d20ed77bfd",
    "collapsed": true
   },
   "outputs": [],
   "source": [
    "from sklearn.decomposition import TruncatedSVD\n",
    "from sklearn.linear_model import LogisticRegression\n"
   ]
  },
  {
   "cell_type": "code",
   "execution_count": 4,
   "metadata": {
    "_uuid": "0f7949f7f69def79e579c51b20c5bf96385a3284",
    "collapsed": true
   },
   "outputs": [],
   "source": [
    "from sklearn.naive_bayes import MultinomialNB\n",
    "from sklearn.model_selection import TimeSeriesSplit,GridSearchCV\n",
    "#from sklearn.grid_search import GridSearchCV\n",
    "from sklearn.metrics import classification_report\n"
   ]
  },
  {
   "cell_type": "code",
   "execution_count": 5,
   "metadata": {
    "_uuid": "e5521a884531722d70aa85fb0d93f902d24dff15"
   },
   "outputs": [
    {
     "data": {
      "text/html": [
       "<div>\n",
       "<style scoped>\n",
       "    .dataframe tbody tr th:only-of-type {\n",
       "        vertical-align: middle;\n",
       "    }\n",
       "\n",
       "    .dataframe tbody tr th {\n",
       "        vertical-align: top;\n",
       "    }\n",
       "\n",
       "    .dataframe thead th {\n",
       "        text-align: right;\n",
       "    }\n",
       "</style>\n",
       "<table border=\"1\" class=\"dataframe\">\n",
       "  <thead>\n",
       "    <tr style=\"text-align: right;\">\n",
       "      <th></th>\n",
       "      <th>Id</th>\n",
       "      <th>ProductId</th>\n",
       "      <th>UserId</th>\n",
       "      <th>ProfileName</th>\n",
       "      <th>HelpfulnessNumerator</th>\n",
       "      <th>HelpfulnessDenominator</th>\n",
       "      <th>Score</th>\n",
       "      <th>Time</th>\n",
       "      <th>Summary</th>\n",
       "      <th>Text</th>\n",
       "    </tr>\n",
       "  </thead>\n",
       "  <tbody>\n",
       "    <tr>\n",
       "      <th>0</th>\n",
       "      <td>1</td>\n",
       "      <td>B001E4KFG0</td>\n",
       "      <td>A3SGXH7AUHU8GW</td>\n",
       "      <td>delmartian</td>\n",
       "      <td>1</td>\n",
       "      <td>1</td>\n",
       "      <td>5</td>\n",
       "      <td>1303862400</td>\n",
       "      <td>Good Quality Dog Food</td>\n",
       "      <td>I have bought several of the Vitality canned d...</td>\n",
       "    </tr>\n",
       "    <tr>\n",
       "      <th>1</th>\n",
       "      <td>2</td>\n",
       "      <td>B00813GRG4</td>\n",
       "      <td>A1D87F6ZCVE5NK</td>\n",
       "      <td>dll pa</td>\n",
       "      <td>0</td>\n",
       "      <td>0</td>\n",
       "      <td>1</td>\n",
       "      <td>1346976000</td>\n",
       "      <td>Not as Advertised</td>\n",
       "      <td>Product arrived labeled as Jumbo Salted Peanut...</td>\n",
       "    </tr>\n",
       "    <tr>\n",
       "      <th>2</th>\n",
       "      <td>3</td>\n",
       "      <td>B000LQOCH0</td>\n",
       "      <td>ABXLMWJIXXAIN</td>\n",
       "      <td>Natalia Corres \"Natalia Corres\"</td>\n",
       "      <td>1</td>\n",
       "      <td>1</td>\n",
       "      <td>4</td>\n",
       "      <td>1219017600</td>\n",
       "      <td>\"Delight\" says it all</td>\n",
       "      <td>This is a confection that has been around a fe...</td>\n",
       "    </tr>\n",
       "    <tr>\n",
       "      <th>3</th>\n",
       "      <td>4</td>\n",
       "      <td>B000UA0QIQ</td>\n",
       "      <td>A395BORC6FGVXV</td>\n",
       "      <td>Karl</td>\n",
       "      <td>3</td>\n",
       "      <td>3</td>\n",
       "      <td>2</td>\n",
       "      <td>1307923200</td>\n",
       "      <td>Cough Medicine</td>\n",
       "      <td>If you are looking for the secret ingredient i...</td>\n",
       "    </tr>\n",
       "    <tr>\n",
       "      <th>4</th>\n",
       "      <td>5</td>\n",
       "      <td>B006K2ZZ7K</td>\n",
       "      <td>A1UQRSCLF8GW1T</td>\n",
       "      <td>Michael D. Bigham \"M. Wassir\"</td>\n",
       "      <td>0</td>\n",
       "      <td>0</td>\n",
       "      <td>5</td>\n",
       "      <td>1350777600</td>\n",
       "      <td>Great taffy</td>\n",
       "      <td>Great taffy at a great price.  There was a wid...</td>\n",
       "    </tr>\n",
       "  </tbody>\n",
       "</table>\n",
       "</div>"
      ],
      "text/plain": [
       "   Id                        ...                                                                       Text\n",
       "0   1                        ...                          I have bought several of the Vitality canned d...\n",
       "1   2                        ...                          Product arrived labeled as Jumbo Salted Peanut...\n",
       "2   3                        ...                          This is a confection that has been around a fe...\n",
       "3   4                        ...                          If you are looking for the secret ingredient i...\n",
       "4   5                        ...                          Great taffy at a great price.  There was a wid...\n",
       "\n",
       "[5 rows x 10 columns]"
      ]
     },
     "execution_count": 5,
     "metadata": {},
     "output_type": "execute_result"
    }
   ],
   "source": [
    "# Loading data \n",
    "customer_reviews = pd.read_csv('../input/Reviews.csv')\n",
    "customer_reviews.head()"
   ]
  },
  {
   "cell_type": "code",
   "execution_count": 6,
   "metadata": {
    "_uuid": "ad7aa38b7f0fb08f2139d12af8cc9c6a87a28d4f"
   },
   "outputs": [
    {
     "data": {
      "text/plain": [
       "(568454, 10)"
      ]
     },
     "execution_count": 6,
     "metadata": {},
     "output_type": "execute_result"
    }
   ],
   "source": [
    "customer_reviews.shape \n",
    "# there are 568454 reviews food products from amazon"
   ]
  },
  {
   "cell_type": "code",
   "execution_count": 7,
   "metadata": {
    "_uuid": "87f17ac3957bf787aadaac581381ed0dad714115"
   },
   "outputs": [
    {
     "data": {
      "text/html": [
       "<div>\n",
       "<style scoped>\n",
       "    .dataframe tbody tr th:only-of-type {\n",
       "        vertical-align: middle;\n",
       "    }\n",
       "\n",
       "    .dataframe tbody tr th {\n",
       "        vertical-align: top;\n",
       "    }\n",
       "\n",
       "    .dataframe thead th {\n",
       "        text-align: right;\n",
       "    }\n",
       "</style>\n",
       "<table border=\"1\" class=\"dataframe\">\n",
       "  <thead>\n",
       "    <tr style=\"text-align: right;\">\n",
       "      <th></th>\n",
       "      <th>Id</th>\n",
       "      <th>ProductId</th>\n",
       "      <th>UserId</th>\n",
       "      <th>ProfileName</th>\n",
       "      <th>HelpfulnessNumerator</th>\n",
       "      <th>HelpfulnessDenominator</th>\n",
       "      <th>Score</th>\n",
       "      <th>Time</th>\n",
       "      <th>Summary</th>\n",
       "      <th>Text</th>\n",
       "    </tr>\n",
       "  </thead>\n",
       "  <tbody>\n",
       "    <tr>\n",
       "      <th>0</th>\n",
       "      <td>1</td>\n",
       "      <td>B001E4KFG0</td>\n",
       "      <td>A3SGXH7AUHU8GW</td>\n",
       "      <td>delmartian</td>\n",
       "      <td>1</td>\n",
       "      <td>1</td>\n",
       "      <td>5</td>\n",
       "      <td>1303862400</td>\n",
       "      <td>Good Quality Dog Food</td>\n",
       "      <td>I have bought several of the Vitality canned d...</td>\n",
       "    </tr>\n",
       "    <tr>\n",
       "      <th>1</th>\n",
       "      <td>2</td>\n",
       "      <td>B00813GRG4</td>\n",
       "      <td>A1D87F6ZCVE5NK</td>\n",
       "      <td>dll pa</td>\n",
       "      <td>0</td>\n",
       "      <td>0</td>\n",
       "      <td>1</td>\n",
       "      <td>1346976000</td>\n",
       "      <td>Not as Advertised</td>\n",
       "      <td>Product arrived labeled as Jumbo Salted Peanut...</td>\n",
       "    </tr>\n",
       "    <tr>\n",
       "      <th>2</th>\n",
       "      <td>3</td>\n",
       "      <td>B000LQOCH0</td>\n",
       "      <td>ABXLMWJIXXAIN</td>\n",
       "      <td>Natalia Corres \"Natalia Corres\"</td>\n",
       "      <td>1</td>\n",
       "      <td>1</td>\n",
       "      <td>4</td>\n",
       "      <td>1219017600</td>\n",
       "      <td>\"Delight\" says it all</td>\n",
       "      <td>This is a confection that has been around a fe...</td>\n",
       "    </tr>\n",
       "    <tr>\n",
       "      <th>3</th>\n",
       "      <td>4</td>\n",
       "      <td>B000UA0QIQ</td>\n",
       "      <td>A395BORC6FGVXV</td>\n",
       "      <td>Karl</td>\n",
       "      <td>3</td>\n",
       "      <td>3</td>\n",
       "      <td>2</td>\n",
       "      <td>1307923200</td>\n",
       "      <td>Cough Medicine</td>\n",
       "      <td>If you are looking for the secret ingredient i...</td>\n",
       "    </tr>\n",
       "    <tr>\n",
       "      <th>4</th>\n",
       "      <td>5</td>\n",
       "      <td>B006K2ZZ7K</td>\n",
       "      <td>A1UQRSCLF8GW1T</td>\n",
       "      <td>Michael D. Bigham \"M. Wassir\"</td>\n",
       "      <td>0</td>\n",
       "      <td>0</td>\n",
       "      <td>5</td>\n",
       "      <td>1350777600</td>\n",
       "      <td>Great taffy</td>\n",
       "      <td>Great taffy at a great price.  There was a wid...</td>\n",
       "    </tr>\n",
       "  </tbody>\n",
       "</table>\n",
       "</div>"
      ],
      "text/plain": [
       "   Id                        ...                                                                       Text\n",
       "0   1                        ...                          I have bought several of the Vitality canned d...\n",
       "1   2                        ...                          Product arrived labeled as Jumbo Salted Peanut...\n",
       "2   3                        ...                          This is a confection that has been around a fe...\n",
       "3   4                        ...                          If you are looking for the secret ingredient i...\n",
       "4   5                        ...                          Great taffy at a great price.  There was a wid...\n",
       "\n",
       "[5 rows x 10 columns]"
      ]
     },
     "execution_count": 7,
     "metadata": {},
     "output_type": "execute_result"
    }
   ],
   "source": [
    "# keeping those reviews where score is either less than 3 or greater than 3\n",
    "\n",
    "filtered_data = customer_reviews[customer_reviews.Score!=3]\n",
    "filtered_data.head()"
   ]
  },
  {
   "cell_type": "code",
   "execution_count": 8,
   "metadata": {
    "_uuid": "4652e2cb349903d29e997a0bd8373dcd671e376f"
   },
   "outputs": [
    {
     "data": {
      "text/plain": [
       "(525814, 10)"
      ]
     },
     "execution_count": 8,
     "metadata": {},
     "output_type": "execute_result"
    }
   ],
   "source": [
    "#looking at the number of attributes and size of the data after filtering\n",
    "filtered_data.shape"
   ]
  },
  {
   "cell_type": "code",
   "execution_count": 9,
   "metadata": {
    "_uuid": "d4f05e434ed61ae88b00f15ecbfcc83b38d9e12e"
   },
   "outputs": [
    {
     "data": {
      "text/html": [
       "<div>\n",
       "<style scoped>\n",
       "    .dataframe tbody tr th:only-of-type {\n",
       "        vertical-align: middle;\n",
       "    }\n",
       "\n",
       "    .dataframe tbody tr th {\n",
       "        vertical-align: top;\n",
       "    }\n",
       "\n",
       "    .dataframe thead th {\n",
       "        text-align: right;\n",
       "    }\n",
       "</style>\n",
       "<table border=\"1\" class=\"dataframe\">\n",
       "  <thead>\n",
       "    <tr style=\"text-align: right;\">\n",
       "      <th></th>\n",
       "      <th>Id</th>\n",
       "      <th>ProductId</th>\n",
       "      <th>UserId</th>\n",
       "      <th>ProfileName</th>\n",
       "      <th>HelpfulnessNumerator</th>\n",
       "      <th>HelpfulnessDenominator</th>\n",
       "      <th>Score</th>\n",
       "      <th>Time</th>\n",
       "      <th>Summary</th>\n",
       "      <th>Text</th>\n",
       "    </tr>\n",
       "  </thead>\n",
       "  <tbody>\n",
       "    <tr>\n",
       "      <th>0</th>\n",
       "      <td>1</td>\n",
       "      <td>B001E4KFG0</td>\n",
       "      <td>A3SGXH7AUHU8GW</td>\n",
       "      <td>delmartian</td>\n",
       "      <td>1</td>\n",
       "      <td>1</td>\n",
       "      <td>positive</td>\n",
       "      <td>1303862400</td>\n",
       "      <td>Good Quality Dog Food</td>\n",
       "      <td>I have bought several of the Vitality canned d...</td>\n",
       "    </tr>\n",
       "    <tr>\n",
       "      <th>1</th>\n",
       "      <td>2</td>\n",
       "      <td>B00813GRG4</td>\n",
       "      <td>A1D87F6ZCVE5NK</td>\n",
       "      <td>dll pa</td>\n",
       "      <td>0</td>\n",
       "      <td>0</td>\n",
       "      <td>negative</td>\n",
       "      <td>1346976000</td>\n",
       "      <td>Not as Advertised</td>\n",
       "      <td>Product arrived labeled as Jumbo Salted Peanut...</td>\n",
       "    </tr>\n",
       "    <tr>\n",
       "      <th>2</th>\n",
       "      <td>3</td>\n",
       "      <td>B000LQOCH0</td>\n",
       "      <td>ABXLMWJIXXAIN</td>\n",
       "      <td>Natalia Corres \"Natalia Corres\"</td>\n",
       "      <td>1</td>\n",
       "      <td>1</td>\n",
       "      <td>positive</td>\n",
       "      <td>1219017600</td>\n",
       "      <td>\"Delight\" says it all</td>\n",
       "      <td>This is a confection that has been around a fe...</td>\n",
       "    </tr>\n",
       "    <tr>\n",
       "      <th>3</th>\n",
       "      <td>4</td>\n",
       "      <td>B000UA0QIQ</td>\n",
       "      <td>A395BORC6FGVXV</td>\n",
       "      <td>Karl</td>\n",
       "      <td>3</td>\n",
       "      <td>3</td>\n",
       "      <td>negative</td>\n",
       "      <td>1307923200</td>\n",
       "      <td>Cough Medicine</td>\n",
       "      <td>If you are looking for the secret ingredient i...</td>\n",
       "    </tr>\n",
       "    <tr>\n",
       "      <th>4</th>\n",
       "      <td>5</td>\n",
       "      <td>B006K2ZZ7K</td>\n",
       "      <td>A1UQRSCLF8GW1T</td>\n",
       "      <td>Michael D. Bigham \"M. Wassir\"</td>\n",
       "      <td>0</td>\n",
       "      <td>0</td>\n",
       "      <td>positive</td>\n",
       "      <td>1350777600</td>\n",
       "      <td>Great taffy</td>\n",
       "      <td>Great taffy at a great price.  There was a wid...</td>\n",
       "    </tr>\n",
       "  </tbody>\n",
       "</table>\n",
       "</div>"
      ],
      "text/plain": [
       "   Id                        ...                                                                       Text\n",
       "0   1                        ...                          I have bought several of the Vitality canned d...\n",
       "1   2                        ...                          Product arrived labeled as Jumbo Salted Peanut...\n",
       "2   3                        ...                          This is a confection that has been around a fe...\n",
       "3   4                        ...                          If you are looking for the secret ingredient i...\n",
       "4   5                        ...                          Great taffy at a great price.  There was a wid...\n",
       "\n",
       "[5 rows x 10 columns]"
      ]
     },
     "execution_count": 9,
     "metadata": {},
     "output_type": "execute_result"
    }
   ],
   "source": [
    "# converting Score >3 into postive and <3 into negative\n",
    "\n",
    "def convert(x):\n",
    "    if x>3:\n",
    "        return \"positive\"\n",
    "    return \"negative\"\n",
    "\n",
    "\n",
    "filtered_data['Score'] = filtered_data['Score'].map(convert)\n",
    "filtered_data.head()"
   ]
  },
  {
   "cell_type": "markdown",
   "metadata": {
    "_uuid": "eab1adc00759e8e9ce42070896f246e7ebaba964"
   },
   "source": [
    "# Exploratory Data Analysis"
   ]
  },
  {
   "cell_type": "markdown",
   "metadata": {
    "_uuid": "2ad3b185cff62a8e26d8ffe1451b3ffdffc6aa2a"
   },
   "source": [
    "## Data Cleaning"
   ]
  },
  {
   "cell_type": "markdown",
   "metadata": {
    "_uuid": "86deef7eccac06ebf1c268860de6a2adebd869c8"
   },
   "source": [
    "After analysis it was found that a review with same parameter other than ProductId may belong to same product.Hence we first sort the data according to ProductId and then just keep first similar product review and delete the others"
   ]
  },
  {
   "cell_type": "code",
   "execution_count": 10,
   "metadata": {
    "_uuid": "2cde549cdc78bd6c3fb71f0f95ae47c18a5d6ca2"
   },
   "outputs": [
    {
     "data": {
      "text/plain": [
       "(364173, 10)"
      ]
     },
     "execution_count": 10,
     "metadata": {},
     "output_type": "execute_result"
    }
   ],
   "source": [
    "\n",
    "sorted_data = filtered_data.sort_values(['ProductId'])\n",
    "sorted_data.drop_duplicates({\"UserId\",\"ProfileName\",\"Time\",\"Text\"} , keep = 'first' , inplace = True )\n",
    "sorted_data.shape"
   ]
  },
  {
   "cell_type": "markdown",
   "metadata": {
    "_uuid": "3e5ac19e6217e4aaed365ec6cbd473e693ba2a43"
   },
   "source": [
    "### Observation:\n",
    "HelpfulnessNumerator is greater than HelpfulnessDenominator is not practically possible hence removing such rows\n"
   ]
  },
  {
   "cell_type": "code",
   "execution_count": 11,
   "metadata": {
    "_uuid": "bb7b5f917d8f707f64c73e7812364036bb784a7b"
   },
   "outputs": [
    {
     "data": {
      "text/plain": [
       "(364171, 10)"
      ]
     },
     "execution_count": 11,
     "metadata": {},
     "output_type": "execute_result"
    }
   ],
   "source": [
    "# removing rows where HelpfulnessNumerator is greater than HelpfulnessDenominator\n",
    "final_data = sorted_data[sorted_data.HelpfulnessNumerator <= sorted_data.HelpfulnessDenominator]\n",
    "final_data.shape"
   ]
  },
  {
   "cell_type": "code",
   "execution_count": 12,
   "metadata": {
    "_uuid": "6f47d4e314f650f8dcd98c5b34b541559813496a"
   },
   "outputs": [
    {
     "data": {
      "text/plain": [
       "69.25852107399194"
      ]
     },
     "execution_count": 12,
     "metadata": {},
     "output_type": "execute_result"
    }
   ],
   "source": [
    "\n",
    "# checking how much data is still remaining\n",
    "(final_data['Id'].size/filtered_data['Id'].size)*100"
   ]
  },
  {
   "cell_type": "markdown",
   "metadata": {
    "_uuid": "87b6f8846bdba3504344af6f90b7f6d58e342629"
   },
   "source": [
    "Only 69.25% of data is remaining after removing duplicates and non pratical values"
   ]
  },
  {
   "cell_type": "markdown",
   "metadata": {
    "_uuid": "0ae68059b308654abecbe61b51d3fe2e5fdc544f"
   },
   "source": [
    "# Text Preprocessing"
   ]
  },
  {
   "cell_type": "markdown",
   "metadata": {
    "_uuid": "2ab223e3a04e5f504de02e9a855ff72b8ce484cf"
   },
   "source": [
    "### Preprocessing phase involves following steps:\n",
    "1. removing the html tags\n",
    "2. Remove any punctuations or limited set of special characters like , or . or # etc.\n",
    "3. Check if the word is made up of english letters and is not alpha-numeric\n",
    "4. Check to see if the length of the word is greater than 2 (as it was researched that there is no adjective in 2-letters)\n",
    "5. Convert the word to lowercase\n",
    "6. Remove Stopwords\n",
    "7. Stemming "
   ]
  },
  {
   "cell_type": "code",
   "execution_count": 13,
   "metadata": {
    "_uuid": "b5bcc5560b45b5353ae61edb11775df76e01e48d"
   },
   "outputs": [
    {
     "name": "stdout",
     "output_type": "stream",
     "text": [
      "{'over', 'own', 'wouldn', 'then', 'wasn', 'its', 'yourselves', 'yours', 'about', 'other', 'or', 'itself', 'my', 'nor', 'their', 'an', 'having', \"shan't\", 'be', \"don't\", 'under', 'most', \"needn't\", 'what', 'while', 'themselves', 'where', 'with', 'because', 'our', 'have', \"didn't\", 'by', 'don', 'below', 'more', 'here', 'there', \"shouldn't\", 'of', 'weren', \"wasn't\", 'very', 'when', 'each', \"it's\", 'too', 'at', \"she's\", 'himself', 'such', 'did', 'if', 'ours', 'on', \"wouldn't\", 'doing', 'before', 'she', 'yourself', 'your', 'are', 'how', 'didn', 'm', 'isn', 've', \"hasn't\", 'but', 'all', 'they', 'been', 'into', 'this', 'them', 'any', 'will', \"you've\", 'through', \"mustn't\", 're', 'is', \"isn't\", 'ma', 'it', 'few', \"couldn't\", 'd', 'hadn', 'after', 'to', 'was', \"that'll\", 's', \"should've\", 'ourselves', 'o', 'aren', 'do', 'mustn', \"you're\", \"you'd\", 'those', 'between', 'am', 'which', 'these', 'her', 'same', 'mightn', 'from', 'just', 'me', 'hasn', 'so', 'won', 'should', 'up', 'shouldn', 'haven', 'who', 'and', 'as', 'herself', \"doesn't\", 'i', 'above', 'shan', 'that', 'out', 'now', \"won't\", 'being', 'both', 'off', 'only', 'until', 'again', 'does', 'a', 'y', 't', 'can', \"aren't\", 'in', 'down', 'were', 'than', 'needn', 'you', 'for', 'his', 'had', 'couldn', 'him', 'myself', \"hadn't\", 'll', 'during', 'we', \"you'll\", 'theirs', 'whom', 'has', 'against', \"mightn't\", 'some', 'no', 'doesn', 'once', 'further', \"weren't\", 'the', 'why', 'ain', \"haven't\", 'hers', 'he'}\n"
     ]
    }
   ],
   "source": [
    "#nltk.download('stopwords')\n",
    "stop = set(stopwords.words('english'))  # set of english stopwords\n",
    "stop.remove(\"not\")  \n",
    "print(stop)\n",
    "\n",
    "sno = nltk.stem.SnowballStemmer('english') # initializing snowball stemmer\n",
    "\n"
   ]
  },
  {
   "cell_type": "code",
   "execution_count": 14,
   "metadata": {
    "_uuid": "8f7648546e61cd58b7415d94fbdeef9a7e9519b4",
    "collapsed": true
   },
   "outputs": [],
   "source": [
    "def cleanhtml(sentence):    # function for removing html\n",
    "    cleanr = re.compile('<.*?>')\n",
    "    cleantxt = re.sub(cleanr , ' ' , str(sentence))\n",
    "    return cleantxt\n",
    "\n",
    "def cleanpunc(sentence):    # function for removing punctuation\n",
    "    clean = re.sub(r'[?|!|\\'|\"|#|.|,|)|(|\\|/]', r' ' , sentence)\n",
    "    return clean\n"
   ]
  },
  {
   "cell_type": "code",
   "execution_count": 15,
   "metadata": {
    "_uuid": "37f87516444854758485dc4ef3b2c13bee07bb2f"
   },
   "outputs": [
    {
     "data": {
      "text/html": [
       "<div>\n",
       "<style scoped>\n",
       "    .dataframe tbody tr th:only-of-type {\n",
       "        vertical-align: middle;\n",
       "    }\n",
       "\n",
       "    .dataframe tbody tr th {\n",
       "        vertical-align: top;\n",
       "    }\n",
       "\n",
       "    .dataframe thead th {\n",
       "        text-align: right;\n",
       "    }\n",
       "</style>\n",
       "<table border=\"1\" class=\"dataframe\">\n",
       "  <thead>\n",
       "    <tr style=\"text-align: right;\">\n",
       "      <th></th>\n",
       "      <th>Id</th>\n",
       "      <th>ProductId</th>\n",
       "      <th>UserId</th>\n",
       "      <th>ProfileName</th>\n",
       "      <th>HelpfulnessNumerator</th>\n",
       "      <th>HelpfulnessDenominator</th>\n",
       "      <th>Score</th>\n",
       "      <th>Time</th>\n",
       "      <th>Summary</th>\n",
       "      <th>Text</th>\n",
       "      <th>com_text</th>\n",
       "    </tr>\n",
       "  </thead>\n",
       "  <tbody>\n",
       "    <tr>\n",
       "      <th>150523</th>\n",
       "      <td>150524</td>\n",
       "      <td>0006641040</td>\n",
       "      <td>ACITT7DI6IDDL</td>\n",
       "      <td>shari zychinski</td>\n",
       "      <td>0</td>\n",
       "      <td>0</td>\n",
       "      <td>positive</td>\n",
       "      <td>939340800</td>\n",
       "      <td>EVERY book is educational</td>\n",
       "      <td>this witty little book makes my son laugh at l...</td>\n",
       "      <td>EVERY book is educational this witty little bo...</td>\n",
       "    </tr>\n",
       "    <tr>\n",
       "      <th>150505</th>\n",
       "      <td>150506</td>\n",
       "      <td>0006641040</td>\n",
       "      <td>A2IW4PEEKO2R0U</td>\n",
       "      <td>Tracy</td>\n",
       "      <td>1</td>\n",
       "      <td>1</td>\n",
       "      <td>positive</td>\n",
       "      <td>1194739200</td>\n",
       "      <td>Love the book, miss the hard cover version</td>\n",
       "      <td>I grew up reading these Sendak books, and watc...</td>\n",
       "      <td>Love the book, miss the hard cover version I g...</td>\n",
       "    </tr>\n",
       "    <tr>\n",
       "      <th>150506</th>\n",
       "      <td>150507</td>\n",
       "      <td>0006641040</td>\n",
       "      <td>A1S4A3IQ2MU7V4</td>\n",
       "      <td>sally sue \"sally sue\"</td>\n",
       "      <td>1</td>\n",
       "      <td>1</td>\n",
       "      <td>positive</td>\n",
       "      <td>1191456000</td>\n",
       "      <td>chicken soup with rice months</td>\n",
       "      <td>This is a fun way for children to learn their ...</td>\n",
       "      <td>chicken soup with rice months This is a fun wa...</td>\n",
       "    </tr>\n",
       "    <tr>\n",
       "      <th>150507</th>\n",
       "      <td>150508</td>\n",
       "      <td>0006641040</td>\n",
       "      <td>AZGXZ2UUK6X</td>\n",
       "      <td>Catherine Hallberg \"(Kate)\"</td>\n",
       "      <td>1</td>\n",
       "      <td>1</td>\n",
       "      <td>positive</td>\n",
       "      <td>1076025600</td>\n",
       "      <td>a good swingy rhythm for reading aloud</td>\n",
       "      <td>This is a great little book to read aloud- it ...</td>\n",
       "      <td>a good swingy rhythm for reading aloud This is...</td>\n",
       "    </tr>\n",
       "    <tr>\n",
       "      <th>150508</th>\n",
       "      <td>150509</td>\n",
       "      <td>0006641040</td>\n",
       "      <td>A3CMRKGE0P909G</td>\n",
       "      <td>Teresa</td>\n",
       "      <td>3</td>\n",
       "      <td>4</td>\n",
       "      <td>positive</td>\n",
       "      <td>1018396800</td>\n",
       "      <td>A great way to learn the months</td>\n",
       "      <td>This is a book of poetry about the months of t...</td>\n",
       "      <td>A great way to learn the months This is a book...</td>\n",
       "    </tr>\n",
       "  </tbody>\n",
       "</table>\n",
       "</div>"
      ],
      "text/plain": [
       "            Id                        ...                                                                   com_text\n",
       "150523  150524                        ...                          EVERY book is educational this witty little bo...\n",
       "150505  150506                        ...                          Love the book, miss the hard cover version I g...\n",
       "150506  150507                        ...                          chicken soup with rice months This is a fun wa...\n",
       "150507  150508                        ...                          a good swingy rhythm for reading aloud This is...\n",
       "150508  150509                        ...                          A great way to learn the months This is a book...\n",
       "\n",
       "[5 rows x 11 columns]"
      ]
     },
     "execution_count": 15,
     "metadata": {},
     "output_type": "execute_result"
    }
   ],
   "source": [
    "final_data['com_text'] = final_data['Summary'] + ' ' + final_data['Text'] \n",
    "final_data.head()"
   ]
  },
  {
   "cell_type": "code",
   "execution_count": 16,
   "metadata": {
    "_uuid": "e75133f0287d3875f7eb4a9539f32d6b7c521ce3",
    "collapsed": true
   },
   "outputs": [],
   "source": [
    "i = 0\n",
    "final_string = []\n",
    "all_pos_words = []\n",
    "all_neg_words = []\n",
    "str1 = ' '\n",
    "s = ' '\n",
    "ss = final_data['com_text'].values\n",
    "for sent in ss:\n",
    "    filtered_sentence=[]\n",
    "    #print(sent);\n",
    "    sent=cleanhtml(sent) # removing HTMl tags\n",
    "    for w in sent.split():\n",
    "        for cleaned_words in cleanpunc(w).split():\n",
    "            if((cleaned_words.isalpha()) & (len(cleaned_words)>2)):# checking if word is not alpha numeric and length is greater than 2\n",
    "                if(cleaned_words.lower() not in stop):\n",
    "                    s=(sno.stem(cleaned_words.lower())).encode('utf8')\n",
    "                    filtered_sentence.append(s)\n",
    "                    if (final_data['Score'].values)[i] == 'positive': \n",
    "                        all_pos_words.append(s) \n",
    "                    if(final_data['Score'].values)[i] == 'negative':\n",
    "                        all_neg_words.append(s) \n",
    "                else:\n",
    "                    continue\n",
    "            else:\n",
    "                continue \n",
    "    \n",
    "    str1 = b\" \".join(filtered_sentence) #final string of cleaned words\n",
    "    \n",
    "    \n",
    "    final_string.append(str1)\n",
    "    i+=1\n",
    "            \n",
    "        "
   ]
  },
  {
   "cell_type": "code",
   "execution_count": 17,
   "metadata": {
    "_uuid": "b18c3698a5c30742429364d2c0ade4ae741d8efd",
    "scrolled": true
   },
   "outputs": [
    {
     "data": {
      "text/plain": [
       "positive    307061\n",
       "negative     57110\n",
       "Name: Score, dtype: int64"
      ]
     },
     "execution_count": 17,
     "metadata": {},
     "output_type": "execute_result"
    }
   ],
   "source": [
    "final_data['CleanedText'] = final_string  # adding extra column for preprocessed review\n",
    "final_data['CleanedText'] = final_data['CleanedText'].str.decode(\"utf8\")\n",
    "#final_data.head()\n",
    "final_data['Score'].value_counts()"
   ]
  },
  {
   "cell_type": "markdown",
   "metadata": {
    "_uuid": "6647f30c857fc9be0386bf16ed9a715778d12397"
   },
   "source": [
    "### Observation:\n",
    "Dataset is highly imbalanced. Out of 364171 reviews only 57110 reviews are negative and rest are positive. \n",
    " "
   ]
  },
  {
   "cell_type": "code",
   "execution_count": 18,
   "metadata": {
    "_uuid": "68e73a022892ec02265e4d15986b4467f839659d",
    "collapsed": true
   },
   "outputs": [],
   "source": [
    "# sorting whole  data based on time\n",
    "b = final_data\n",
    "b['Time'] = pd.to_datetime(b['Time'], unit = \"s\")\n",
    "b.sort_values('Time', inplace = True)\n",
    "\n",
    "#sampled_data.sort_values('Time',axis=0,kind=\"quicksort\", ascending=True , inplace = True)"
   ]
  },
  {
   "cell_type": "code",
   "execution_count": 19,
   "metadata": {
    "_uuid": "3744149276f27b2358c4cc5c2d6808a6fd82b17b"
   },
   "outputs": [
    {
     "data": {
      "text/html": [
       "<div>\n",
       "<style scoped>\n",
       "    .dataframe tbody tr th:only-of-type {\n",
       "        vertical-align: middle;\n",
       "    }\n",
       "\n",
       "    .dataframe tbody tr th {\n",
       "        vertical-align: top;\n",
       "    }\n",
       "\n",
       "    .dataframe thead th {\n",
       "        text-align: right;\n",
       "    }\n",
       "</style>\n",
       "<table border=\"1\" class=\"dataframe\">\n",
       "  <thead>\n",
       "    <tr style=\"text-align: right;\">\n",
       "      <th></th>\n",
       "      <th>Id</th>\n",
       "      <th>ProductId</th>\n",
       "      <th>UserId</th>\n",
       "      <th>ProfileName</th>\n",
       "      <th>HelpfulnessNumerator</th>\n",
       "      <th>HelpfulnessDenominator</th>\n",
       "      <th>Score</th>\n",
       "      <th>Time</th>\n",
       "      <th>Summary</th>\n",
       "      <th>Text</th>\n",
       "      <th>com_text</th>\n",
       "      <th>CleanedText</th>\n",
       "    </tr>\n",
       "  </thead>\n",
       "  <tbody>\n",
       "    <tr>\n",
       "      <th>150523</th>\n",
       "      <td>150524</td>\n",
       "      <td>0006641040</td>\n",
       "      <td>ACITT7DI6IDDL</td>\n",
       "      <td>shari zychinski</td>\n",
       "      <td>0</td>\n",
       "      <td>0</td>\n",
       "      <td>positive</td>\n",
       "      <td>1999-10-08</td>\n",
       "      <td>EVERY book is educational</td>\n",
       "      <td>this witty little book makes my son laugh at l...</td>\n",
       "      <td>EVERY book is educational this witty little bo...</td>\n",
       "      <td>everi book educ witti littl book make son laug...</td>\n",
       "    </tr>\n",
       "    <tr>\n",
       "      <th>150500</th>\n",
       "      <td>150501</td>\n",
       "      <td>0006641040</td>\n",
       "      <td>AJ46FKXOVC7NR</td>\n",
       "      <td>Nicholas A Mesiano</td>\n",
       "      <td>2</td>\n",
       "      <td>2</td>\n",
       "      <td>positive</td>\n",
       "      <td>1999-10-25</td>\n",
       "      <td>This whole series is great way to spend time w...</td>\n",
       "      <td>I can remember seeing the show when it aired o...</td>\n",
       "      <td>This whole series is great way to spend time w...</td>\n",
       "      <td>whole seri great way spend time child rememb s...</td>\n",
       "    </tr>\n",
       "    <tr>\n",
       "      <th>451855</th>\n",
       "      <td>451856</td>\n",
       "      <td>B00004CXX9</td>\n",
       "      <td>AIUWLEQ1ADEG5</td>\n",
       "      <td>Elizabeth Medina</td>\n",
       "      <td>0</td>\n",
       "      <td>0</td>\n",
       "      <td>positive</td>\n",
       "      <td>1999-12-02</td>\n",
       "      <td>Entertainingl Funny!</td>\n",
       "      <td>Beetlejuice is a well written movie ..... ever...</td>\n",
       "      <td>Entertainingl Funny! Beetlejuice is a well wri...</td>\n",
       "      <td>entertainingl funni beetlejuic well written mo...</td>\n",
       "    </tr>\n",
       "    <tr>\n",
       "      <th>374358</th>\n",
       "      <td>374359</td>\n",
       "      <td>B00004CI84</td>\n",
       "      <td>A344SMIA5JECGM</td>\n",
       "      <td>Vincent P. Ross</td>\n",
       "      <td>1</td>\n",
       "      <td>2</td>\n",
       "      <td>positive</td>\n",
       "      <td>1999-12-06</td>\n",
       "      <td>A modern day fairy tale</td>\n",
       "      <td>A twist of rumplestiskin captured on film, sta...</td>\n",
       "      <td>A modern day fairy tale A twist of rumplestisk...</td>\n",
       "      <td>modern day fairi tale twist rumplestiskin capt...</td>\n",
       "    </tr>\n",
       "    <tr>\n",
       "      <th>451854</th>\n",
       "      <td>451855</td>\n",
       "      <td>B00004CXX9</td>\n",
       "      <td>AJH6LUC1UT1ON</td>\n",
       "      <td>The Phantom of the Opera</td>\n",
       "      <td>0</td>\n",
       "      <td>0</td>\n",
       "      <td>positive</td>\n",
       "      <td>2000-01-03</td>\n",
       "      <td>FANTASTIC!</td>\n",
       "      <td>Beetlejuice is an excellent and funny movie. K...</td>\n",
       "      <td>FANTASTIC! Beetlejuice is an excellent and fun...</td>\n",
       "      <td>fantast beetlejuic excel funni movi keaton hil...</td>\n",
       "    </tr>\n",
       "    <tr>\n",
       "      <th>374421</th>\n",
       "      <td>374422</td>\n",
       "      <td>B00004CI84</td>\n",
       "      <td>A1048CYU0OV4O8</td>\n",
       "      <td>Judy L. Eans</td>\n",
       "      <td>2</td>\n",
       "      <td>2</td>\n",
       "      <td>positive</td>\n",
       "      <td>2000-01-09</td>\n",
       "      <td>GREAT</td>\n",
       "      <td>THIS IS ONE MOVIE THAT SHOULD BE IN YOUR MOVIE...</td>\n",
       "      <td>GREAT THIS IS ONE MOVIE THAT SHOULD BE IN YOUR...</td>\n",
       "      <td>great one movi movi collect fill comedi action...</td>\n",
       "    </tr>\n",
       "    <tr>\n",
       "      <th>374342</th>\n",
       "      <td>374343</td>\n",
       "      <td>B00004CI84</td>\n",
       "      <td>A1B2IZU1JLZA6</td>\n",
       "      <td>Wes</td>\n",
       "      <td>19</td>\n",
       "      <td>23</td>\n",
       "      <td>negative</td>\n",
       "      <td>2000-01-19</td>\n",
       "      <td>WARNING: CLAMSHELL EDITION IS EDITED TV VERSION</td>\n",
       "      <td>I, myself always enjoyed this movie, it's very...</td>\n",
       "      <td>WARNING: CLAMSHELL EDITION IS EDITED TV VERSIO...</td>\n",
       "      <td>clamshel edit edit version alway enjoy movi fu...</td>\n",
       "    </tr>\n",
       "    <tr>\n",
       "      <th>76881</th>\n",
       "      <td>76882</td>\n",
       "      <td>B00002N8SM</td>\n",
       "      <td>A32DW342WBJ6BX</td>\n",
       "      <td>Buttersugar</td>\n",
       "      <td>0</td>\n",
       "      <td>0</td>\n",
       "      <td>positive</td>\n",
       "      <td>2000-01-24</td>\n",
       "      <td>A sure death for flies</td>\n",
       "      <td>I bought a few of these after my apartment was...</td>\n",
       "      <td>A sure death for flies I bought a few of these...</td>\n",
       "      <td>sure death fli bought apart infest fruit fli h...</td>\n",
       "    </tr>\n",
       "    <tr>\n",
       "      <th>374449</th>\n",
       "      <td>374450</td>\n",
       "      <td>B00004CI84</td>\n",
       "      <td>ACJR7EQF9S6FP</td>\n",
       "      <td>Jeremy Robertson</td>\n",
       "      <td>2</td>\n",
       "      <td>3</td>\n",
       "      <td>positive</td>\n",
       "      <td>2000-02-26</td>\n",
       "      <td>Bettlejuice...Bettlejuice...BETTLEJUICE!</td>\n",
       "      <td>What happens when you say his name three times...</td>\n",
       "      <td>Bettlejuice...Bettlejuice...BETTLEJUICE! What ...</td>\n",
       "      <td>bettlejuic bettlejuic bettlejuic happen say na...</td>\n",
       "    </tr>\n",
       "    <tr>\n",
       "      <th>374399</th>\n",
       "      <td>374400</td>\n",
       "      <td>B00004CI84</td>\n",
       "      <td>A2DEE7F9XKP3ZR</td>\n",
       "      <td>jerome</td>\n",
       "      <td>0</td>\n",
       "      <td>3</td>\n",
       "      <td>positive</td>\n",
       "      <td>2000-06-03</td>\n",
       "      <td>Research - Beatlejuice video - French version</td>\n",
       "      <td>I'm getting crazy.I'm looking for Beatlejuice ...</td>\n",
       "      <td>Research - Beatlejuice video - French version ...</td>\n",
       "      <td>research beatlejuic video french version get c...</td>\n",
       "    </tr>\n",
       "    <tr>\n",
       "      <th>451902</th>\n",
       "      <td>451903</td>\n",
       "      <td>B00004CXX9</td>\n",
       "      <td>A2DEE7F9XKP3ZR</td>\n",
       "      <td>jerome</td>\n",
       "      <td>0</td>\n",
       "      <td>1</td>\n",
       "      <td>positive</td>\n",
       "      <td>2000-06-03</td>\n",
       "      <td>Research</td>\n",
       "      <td>I'm getting crazy.&lt;p&gt;Is it really impossible t...</td>\n",
       "      <td>Research I'm getting crazy.&lt;p&gt;Is it really imp...</td>\n",
       "      <td>research get crazi realli imposs today not fin...</td>\n",
       "    </tr>\n",
       "    <tr>\n",
       "      <th>1244</th>\n",
       "      <td>1245</td>\n",
       "      <td>B00002Z754</td>\n",
       "      <td>A29Z5PI9BW2PU3</td>\n",
       "      <td>Robbie</td>\n",
       "      <td>7</td>\n",
       "      <td>7</td>\n",
       "      <td>positive</td>\n",
       "      <td>2000-06-23</td>\n",
       "      <td>Great Product</td>\n",
       "      <td>This was a really good idea and the final prod...</td>\n",
       "      <td>Great Product This was a really good idea and ...</td>\n",
       "      <td>great product realli good idea final product o...</td>\n",
       "    </tr>\n",
       "    <tr>\n",
       "      <th>1243</th>\n",
       "      <td>1244</td>\n",
       "      <td>B00002Z754</td>\n",
       "      <td>A3B8RCEI0FXFI6</td>\n",
       "      <td>B G Chase</td>\n",
       "      <td>10</td>\n",
       "      <td>10</td>\n",
       "      <td>positive</td>\n",
       "      <td>2000-06-29</td>\n",
       "      <td>WOW Make your own 'slickers' !</td>\n",
       "      <td>I just received my shipment and could hardly w...</td>\n",
       "      <td>WOW Make your own 'slickers' ! I just received...</td>\n",
       "      <td>wow make slicker receiv shipment could hard wa...</td>\n",
       "    </tr>\n",
       "    <tr>\n",
       "      <th>131216</th>\n",
       "      <td>131217</td>\n",
       "      <td>B00004RAMX</td>\n",
       "      <td>A5NQLNC6QPGSI</td>\n",
       "      <td>Kim Nason</td>\n",
       "      <td>7</td>\n",
       "      <td>8</td>\n",
       "      <td>positive</td>\n",
       "      <td>2000-07-31</td>\n",
       "      <td>End your Gopher Problems</td>\n",
       "      <td>I have just recently purchased the Woodstream ...</td>\n",
       "      <td>End your Gopher Problems I have just recently ...</td>\n",
       "      <td>end gopher problem recent purchas woodstream c...</td>\n",
       "    </tr>\n",
       "    <tr>\n",
       "      <th>149769</th>\n",
       "      <td>149770</td>\n",
       "      <td>B00004S1C5</td>\n",
       "      <td>A1KXONFPU2XQ5K</td>\n",
       "      <td>Stephanie Manley</td>\n",
       "      <td>8</td>\n",
       "      <td>8</td>\n",
       "      <td>positive</td>\n",
       "      <td>2000-08-09</td>\n",
       "      <td>Very easy to use</td>\n",
       "      <td>This are so much easier to use than the Wilson...</td>\n",
       "      <td>Very easy to use This are so much easier to us...</td>\n",
       "      <td>easi use much easier use wilson past color col...</td>\n",
       "    </tr>\n",
       "    <tr>\n",
       "      <th>149788</th>\n",
       "      <td>149789</td>\n",
       "      <td>B00004S1C6</td>\n",
       "      <td>A1KXONFPU2XQ5K</td>\n",
       "      <td>Stephanie Manley</td>\n",
       "      <td>26</td>\n",
       "      <td>28</td>\n",
       "      <td>positive</td>\n",
       "      <td>2000-08-09</td>\n",
       "      <td>A must have!</td>\n",
       "      <td>These are easy to use, they do not make a mess...</td>\n",
       "      <td>A must have! These are easy to use, they do no...</td>\n",
       "      <td>must easi use not make mess offer vibrant colo...</td>\n",
       "    </tr>\n",
       "    <tr>\n",
       "      <th>374420</th>\n",
       "      <td>374421</td>\n",
       "      <td>B00004CI84</td>\n",
       "      <td>A1FJOY14X3MUHE</td>\n",
       "      <td>Justin Howard</td>\n",
       "      <td>2</td>\n",
       "      <td>2</td>\n",
       "      <td>positive</td>\n",
       "      <td>2000-08-15</td>\n",
       "      <td>A fresh, original film from master storyteller...</td>\n",
       "      <td>This is such a great film, I don't even know h...</td>\n",
       "      <td>A fresh, original film from master storyteller...</td>\n",
       "      <td>fresh origin film master storytel tim burton g...</td>\n",
       "    </tr>\n",
       "    <tr>\n",
       "      <th>374407</th>\n",
       "      <td>374408</td>\n",
       "      <td>B00004CI84</td>\n",
       "      <td>A1GB1Q193DNFGR</td>\n",
       "      <td>Bruce Lee Pullen</td>\n",
       "      <td>5</td>\n",
       "      <td>5</td>\n",
       "      <td>positive</td>\n",
       "      <td>2000-10-03</td>\n",
       "      <td>Fabulous Comedic Fanasy Directed by a Master</td>\n",
       "      <td>Beetlejuice is an awe-inspiring wonderfully am...</td>\n",
       "      <td>Fabulous Comedic Fanasy Directed by a Master B...</td>\n",
       "      <td>fabul comed fanasi direct master beetlejuic wo...</td>\n",
       "    </tr>\n",
       "    <tr>\n",
       "      <th>149767</th>\n",
       "      <td>149768</td>\n",
       "      <td>B00004S1C5</td>\n",
       "      <td>A7P76IGRZZBFJ</td>\n",
       "      <td>E. Thompson \"Soooooper Genius\"</td>\n",
       "      <td>18</td>\n",
       "      <td>18</td>\n",
       "      <td>positive</td>\n",
       "      <td>2000-12-05</td>\n",
       "      <td>Who Needs Wilton?</td>\n",
       "      <td>I'm sick of scads of nasty toothpicks all over...</td>\n",
       "      <td>Who Needs Wilton? I'm sick of scads of nasty t...</td>\n",
       "      <td>need wilton sick scad nasti toothpick counter ...</td>\n",
       "    </tr>\n",
       "    <tr>\n",
       "      <th>374382</th>\n",
       "      <td>374383</td>\n",
       "      <td>B00004CI84</td>\n",
       "      <td>A34NBH479RB0E</td>\n",
       "      <td>\"dmab6395\"</td>\n",
       "      <td>0</td>\n",
       "      <td>1</td>\n",
       "      <td>positive</td>\n",
       "      <td>2000-12-19</td>\n",
       "      <td>FUNNY</td>\n",
       "      <td>I THOUGHT THIS MOVIE WAS SO FUNNY, MICHAEL KEA...</td>\n",
       "      <td>FUNNY I THOUGHT THIS MOVIE WAS SO FUNNY, MICHA...</td>\n",
       "      <td>funni thought movi funni michael keaton beetle...</td>\n",
       "    </tr>\n",
       "  </tbody>\n",
       "</table>\n",
       "</div>"
      ],
      "text/plain": [
       "            Id                        ...                                                                CleanedText\n",
       "150523  150524                        ...                          everi book educ witti littl book make son laug...\n",
       "150500  150501                        ...                          whole seri great way spend time child rememb s...\n",
       "451855  451856                        ...                          entertainingl funni beetlejuic well written mo...\n",
       "374358  374359                        ...                          modern day fairi tale twist rumplestiskin capt...\n",
       "451854  451855                        ...                          fantast beetlejuic excel funni movi keaton hil...\n",
       "374421  374422                        ...                          great one movi movi collect fill comedi action...\n",
       "374342  374343                        ...                          clamshel edit edit version alway enjoy movi fu...\n",
       "76881    76882                        ...                          sure death fli bought apart infest fruit fli h...\n",
       "374449  374450                        ...                          bettlejuic bettlejuic bettlejuic happen say na...\n",
       "374399  374400                        ...                          research beatlejuic video french version get c...\n",
       "451902  451903                        ...                          research get crazi realli imposs today not fin...\n",
       "1244      1245                        ...                          great product realli good idea final product o...\n",
       "1243      1244                        ...                          wow make slicker receiv shipment could hard wa...\n",
       "131216  131217                        ...                          end gopher problem recent purchas woodstream c...\n",
       "149769  149770                        ...                          easi use much easier use wilson past color col...\n",
       "149788  149789                        ...                          must easi use not make mess offer vibrant colo...\n",
       "374420  374421                        ...                          fresh origin film master storytel tim burton g...\n",
       "374407  374408                        ...                          fabul comed fanasi direct master beetlejuic wo...\n",
       "149767  149768                        ...                          need wilton sick scad nasti toothpick counter ...\n",
       "374382  374383                        ...                          funni thought movi funni michael keaton beetle...\n",
       "\n",
       "[20 rows x 12 columns]"
      ]
     },
     "execution_count": 19,
     "metadata": {},
     "output_type": "execute_result"
    }
   ],
   "source": [
    "b.head(20) "
   ]
  },
  {
   "cell_type": "markdown",
   "metadata": {
    "_uuid": "94613d2bde24d0e6410dbe5f425b88b6bfb98197"
   },
   "source": [
    "After reading first few reviews it is found that the data still has few reviews that does not belong to food products. These reviews are of products like books or movies."
   ]
  },
  {
   "cell_type": "code",
   "execution_count": 20,
   "metadata": {
    "_uuid": "36dcc046eafb995bcbd976edb76502c7b972ba89",
    "collapsed": true
   },
   "outputs": [],
   "source": [
    "# removing reviews that belong to other products\n",
    "regex =  re.compile(r'book|entertaining|funny|movie|show|film|series|educational|storyteller|comedic') \n",
    "text =    b.Text.str.lower().str.contains(regex)\n",
    "b.drop(b[text].index , inplace=True )"
   ]
  },
  {
   "cell_type": "code",
   "execution_count": 21,
   "metadata": {
    "_uuid": "e4bcbd190e6459c531d3fae3b37516e5edcf9d16"
   },
   "outputs": [
    {
     "data": {
      "text/plain": [
       "(353205, 12)"
      ]
     },
     "execution_count": 21,
     "metadata": {},
     "output_type": "execute_result"
    }
   ],
   "source": [
    "# Number of reviews left\n",
    "b.shape"
   ]
  },
  {
   "cell_type": "code",
   "execution_count": 22,
   "metadata": {
    "_uuid": "d81e0172d86bc165c800c0b9ac1917fbfa745f09"
   },
   "outputs": [
    {
     "data": {
      "text/html": [
       "<div>\n",
       "<style scoped>\n",
       "    .dataframe tbody tr th:only-of-type {\n",
       "        vertical-align: middle;\n",
       "    }\n",
       "\n",
       "    .dataframe tbody tr th {\n",
       "        vertical-align: top;\n",
       "    }\n",
       "\n",
       "    .dataframe thead th {\n",
       "        text-align: right;\n",
       "    }\n",
       "</style>\n",
       "<table border=\"1\" class=\"dataframe\">\n",
       "  <thead>\n",
       "    <tr style=\"text-align: right;\">\n",
       "      <th></th>\n",
       "      <th>Id</th>\n",
       "      <th>ProductId</th>\n",
       "      <th>UserId</th>\n",
       "      <th>ProfileName</th>\n",
       "      <th>HelpfulnessNumerator</th>\n",
       "      <th>HelpfulnessDenominator</th>\n",
       "      <th>Score</th>\n",
       "      <th>Time</th>\n",
       "      <th>Summary</th>\n",
       "      <th>Text</th>\n",
       "      <th>com_text</th>\n",
       "      <th>CleanedText</th>\n",
       "      <th>text length</th>\n",
       "    </tr>\n",
       "  </thead>\n",
       "  <tbody>\n",
       "    <tr>\n",
       "      <th>76881</th>\n",
       "      <td>76882</td>\n",
       "      <td>B00002N8SM</td>\n",
       "      <td>A32DW342WBJ6BX</td>\n",
       "      <td>Buttersugar</td>\n",
       "      <td>0</td>\n",
       "      <td>0</td>\n",
       "      <td>positive</td>\n",
       "      <td>2000-01-24</td>\n",
       "      <td>A sure death for flies</td>\n",
       "      <td>I bought a few of these after my apartment was...</td>\n",
       "      <td>A sure death for flies I bought a few of these...</td>\n",
       "      <td>sure death fli bought apart infest fruit fli h...</td>\n",
       "      <td>172</td>\n",
       "    </tr>\n",
       "    <tr>\n",
       "      <th>374449</th>\n",
       "      <td>374450</td>\n",
       "      <td>B00004CI84</td>\n",
       "      <td>ACJR7EQF9S6FP</td>\n",
       "      <td>Jeremy Robertson</td>\n",
       "      <td>2</td>\n",
       "      <td>3</td>\n",
       "      <td>positive</td>\n",
       "      <td>2000-02-26</td>\n",
       "      <td>Bettlejuice...Bettlejuice...BETTLEJUICE!</td>\n",
       "      <td>What happens when you say his name three times...</td>\n",
       "      <td>Bettlejuice...Bettlejuice...BETTLEJUICE! What ...</td>\n",
       "      <td>bettlejuic bettlejuic bettlejuic happen say na...</td>\n",
       "      <td>633</td>\n",
       "    </tr>\n",
       "    <tr>\n",
       "      <th>1244</th>\n",
       "      <td>1245</td>\n",
       "      <td>B00002Z754</td>\n",
       "      <td>A29Z5PI9BW2PU3</td>\n",
       "      <td>Robbie</td>\n",
       "      <td>7</td>\n",
       "      <td>7</td>\n",
       "      <td>positive</td>\n",
       "      <td>2000-06-23</td>\n",
       "      <td>Great Product</td>\n",
       "      <td>This was a really good idea and the final prod...</td>\n",
       "      <td>Great Product This was a really good idea and ...</td>\n",
       "      <td>great product realli good idea final product o...</td>\n",
       "      <td>116</td>\n",
       "    </tr>\n",
       "    <tr>\n",
       "      <th>1243</th>\n",
       "      <td>1244</td>\n",
       "      <td>B00002Z754</td>\n",
       "      <td>A3B8RCEI0FXFI6</td>\n",
       "      <td>B G Chase</td>\n",
       "      <td>10</td>\n",
       "      <td>10</td>\n",
       "      <td>positive</td>\n",
       "      <td>2000-06-29</td>\n",
       "      <td>WOW Make your own 'slickers' !</td>\n",
       "      <td>I just received my shipment and could hardly w...</td>\n",
       "      <td>WOW Make your own 'slickers' ! I just received...</td>\n",
       "      <td>wow make slicker receiv shipment could hard wa...</td>\n",
       "      <td>250</td>\n",
       "    </tr>\n",
       "    <tr>\n",
       "      <th>131216</th>\n",
       "      <td>131217</td>\n",
       "      <td>B00004RAMX</td>\n",
       "      <td>A5NQLNC6QPGSI</td>\n",
       "      <td>Kim Nason</td>\n",
       "      <td>7</td>\n",
       "      <td>8</td>\n",
       "      <td>positive</td>\n",
       "      <td>2000-07-31</td>\n",
       "      <td>End your Gopher Problems</td>\n",
       "      <td>I have just recently purchased the Woodstream ...</td>\n",
       "      <td>End your Gopher Problems I have just recently ...</td>\n",
       "      <td>end gopher problem recent purchas woodstream c...</td>\n",
       "      <td>275</td>\n",
       "    </tr>\n",
       "  </tbody>\n",
       "</table>\n",
       "</div>"
      ],
      "text/plain": [
       "            Id     ...     text length\n",
       "76881    76882     ...             172\n",
       "374449  374450     ...             633\n",
       "1244      1245     ...             116\n",
       "1243      1244     ...             250\n",
       "131216  131217     ...             275\n",
       "\n",
       "[5 rows x 13 columns]"
      ]
     },
     "execution_count": 22,
     "metadata": {},
     "output_type": "execute_result"
    }
   ],
   "source": [
    "# creating a new column to get the length of each text\n",
    "b['text length'] = b['CleanedText'].apply(len)\n",
    "b.head()"
   ]
  },
  {
   "cell_type": "code",
   "execution_count": 23,
   "metadata": {
    "_uuid": "31a83169505e76c2f8899fbc013eaa113772985c"
   },
   "outputs": [
    {
     "data": {
      "image/png": "[encoded data removed]",
      "text/plain": [
       "<Figure size 432x216 with 2 Axes>"
      ]
     },
     "metadata": {},
     "output_type": "display_data"
    }
   ],
   "source": [
    "import seaborn as sns\n",
    "g = sns.FacetGrid(data = b , col = 'Score')\n",
    "g.map(plt.hist , 'text length' , bins = 50)\n",
    "plt.show()"
   ]
  },
  {
   "cell_type": "code",
   "execution_count": 24,
   "metadata": {
    "_uuid": "a6993eb8f7ae90e6f1871e64a86067fc1118fcab"
   },
   "outputs": [
    {
     "data": {
      "image/png": "[encoded data removed]",
      "text/plain": [
       "<Figure size 432x288 with 1 Axes>"
      ]
     },
     "metadata": {},
     "output_type": "display_data"
    }
   ],
   "source": [
    "sns.boxplot(x='Score', y='text length', data=b)\n",
    "plt.show()"
   ]
  },
  {
   "cell_type": "markdown",
   "metadata": {
    "_uuid": "c514ffee9e1c646d5507efb7ce78214906b3d041"
   },
   "source": [
    "### Function for standardizing data"
   ]
  },
  {
   "cell_type": "code",
   "execution_count": 25,
   "metadata": {
    "_uuid": "664f815b85f24972b9647dd028654056d91a44bd",
    "collapsed": true
   },
   "outputs": [],
   "source": [
    "from sklearn.preprocessing import StandardScaler"
   ]
  },
  {
   "cell_type": "code",
   "execution_count": 26,
   "metadata": {
    "_uuid": "deb6ee5090b6da135a128f871552fa93c3d9b5ab",
    "collapsed": true
   },
   "outputs": [],
   "source": [
    "\n",
    "def std_data(matrix):\n",
    "    scaler  = StandardScaler(with_mean=False)\n",
    "    scaler.fit(matrix)\n",
    "    return scaler.transform(matrix) \n",
    " "
   ]
  },
  {
   "cell_type": "code",
   "execution_count": 41,
   "metadata": {
    "_uuid": "bb4f6aa77cb0647a6f792d131bdae6c3928efa53",
    "collapsed": true
   },
   "outputs": [],
   "source": [
    "# picking top 100k data points \n",
    "sampled_data = b.head(100000)"
   ]
  },
  {
   "cell_type": "code",
   "execution_count": 42,
   "metadata": {
    "_uuid": "0982003f3844bda60b28e0c275999215ec9fb909",
    "collapsed": true
   },
   "outputs": [],
   "source": [
    "sampled_data.sort_values(by = 'Time' , inplace = True)"
   ]
  },
  {
   "cell_type": "code",
   "execution_count": 43,
   "metadata": {
    "_kg_hide-output": true,
    "_uuid": "01d92e0700eb784ee54fc8dea218a96db48aa349"
   },
   "outputs": [
    {
     "data": {
      "text/html": [
       "<div>\n",
       "<style scoped>\n",
       "    .dataframe tbody tr th:only-of-type {\n",
       "        vertical-align: middle;\n",
       "    }\n",
       "\n",
       "    .dataframe tbody tr th {\n",
       "        vertical-align: top;\n",
       "    }\n",
       "\n",
       "    .dataframe thead th {\n",
       "        text-align: right;\n",
       "    }\n",
       "</style>\n",
       "<table border=\"1\" class=\"dataframe\">\n",
       "  <thead>\n",
       "    <tr style=\"text-align: right;\">\n",
       "      <th></th>\n",
       "      <th>Id</th>\n",
       "      <th>ProductId</th>\n",
       "      <th>UserId</th>\n",
       "      <th>ProfileName</th>\n",
       "      <th>HelpfulnessNumerator</th>\n",
       "      <th>HelpfulnessDenominator</th>\n",
       "      <th>Score</th>\n",
       "      <th>Time</th>\n",
       "      <th>Summary</th>\n",
       "      <th>Text</th>\n",
       "      <th>com_text</th>\n",
       "      <th>CleanedText</th>\n",
       "      <th>text length</th>\n",
       "    </tr>\n",
       "  </thead>\n",
       "  <tbody>\n",
       "    <tr>\n",
       "      <th>76881</th>\n",
       "      <td>76882</td>\n",
       "      <td>B00002N8SM</td>\n",
       "      <td>A32DW342WBJ6BX</td>\n",
       "      <td>Buttersugar</td>\n",
       "      <td>0</td>\n",
       "      <td>0</td>\n",
       "      <td>positive</td>\n",
       "      <td>2000-01-24</td>\n",
       "      <td>A sure death for flies</td>\n",
       "      <td>I bought a few of these after my apartment was...</td>\n",
       "      <td>A sure death for flies I bought a few of these...</td>\n",
       "      <td>sure death fli bought apart infest fruit fli h...</td>\n",
       "      <td>172</td>\n",
       "    </tr>\n",
       "    <tr>\n",
       "      <th>374449</th>\n",
       "      <td>374450</td>\n",
       "      <td>B00004CI84</td>\n",
       "      <td>ACJR7EQF9S6FP</td>\n",
       "      <td>Jeremy Robertson</td>\n",
       "      <td>2</td>\n",
       "      <td>3</td>\n",
       "      <td>positive</td>\n",
       "      <td>2000-02-26</td>\n",
       "      <td>Bettlejuice...Bettlejuice...BETTLEJUICE!</td>\n",
       "      <td>What happens when you say his name three times...</td>\n",
       "      <td>Bettlejuice...Bettlejuice...BETTLEJUICE! What ...</td>\n",
       "      <td>bettlejuic bettlejuic bettlejuic happen say na...</td>\n",
       "      <td>633</td>\n",
       "    </tr>\n",
       "    <tr>\n",
       "      <th>1244</th>\n",
       "      <td>1245</td>\n",
       "      <td>B00002Z754</td>\n",
       "      <td>A29Z5PI9BW2PU3</td>\n",
       "      <td>Robbie</td>\n",
       "      <td>7</td>\n",
       "      <td>7</td>\n",
       "      <td>positive</td>\n",
       "      <td>2000-06-23</td>\n",
       "      <td>Great Product</td>\n",
       "      <td>This was a really good idea and the final prod...</td>\n",
       "      <td>Great Product This was a really good idea and ...</td>\n",
       "      <td>great product realli good idea final product o...</td>\n",
       "      <td>116</td>\n",
       "    </tr>\n",
       "    <tr>\n",
       "      <th>1243</th>\n",
       "      <td>1244</td>\n",
       "      <td>B00002Z754</td>\n",
       "      <td>A3B8RCEI0FXFI6</td>\n",
       "      <td>B G Chase</td>\n",
       "      <td>10</td>\n",
       "      <td>10</td>\n",
       "      <td>positive</td>\n",
       "      <td>2000-06-29</td>\n",
       "      <td>WOW Make your own 'slickers' !</td>\n",
       "      <td>I just received my shipment and could hardly w...</td>\n",
       "      <td>WOW Make your own 'slickers' ! I just received...</td>\n",
       "      <td>wow make slicker receiv shipment could hard wa...</td>\n",
       "      <td>250</td>\n",
       "    </tr>\n",
       "    <tr>\n",
       "      <th>131216</th>\n",
       "      <td>131217</td>\n",
       "      <td>B00004RAMX</td>\n",
       "      <td>A5NQLNC6QPGSI</td>\n",
       "      <td>Kim Nason</td>\n",
       "      <td>7</td>\n",
       "      <td>8</td>\n",
       "      <td>positive</td>\n",
       "      <td>2000-07-31</td>\n",
       "      <td>End your Gopher Problems</td>\n",
       "      <td>I have just recently purchased the Woodstream ...</td>\n",
       "      <td>End your Gopher Problems I have just recently ...</td>\n",
       "      <td>end gopher problem recent purchas woodstream c...</td>\n",
       "      <td>275</td>\n",
       "    </tr>\n",
       "  </tbody>\n",
       "</table>\n",
       "</div>"
      ],
      "text/plain": [
       "            Id     ...     text length\n",
       "76881    76882     ...             172\n",
       "374449  374450     ...             633\n",
       "1244      1245     ...             116\n",
       "1243      1244     ...             250\n",
       "131216  131217     ...             275\n",
       "\n",
       "[5 rows x 13 columns]"
      ]
     },
     "execution_count": 43,
     "metadata": {},
     "output_type": "execute_result"
    }
   ],
   "source": [
    "sampled_data.head()"
   ]
  },
  {
   "cell_type": "code",
   "execution_count": 44,
   "metadata": {
    "_uuid": "078f516ed9f163498d46dfbb1707c98c0bff3092",
    "collapsed": true
   },
   "outputs": [],
   "source": [
    "# splitting  data into train and test set\n",
    "def response_label(sign):\n",
    "    if sign == \"positive\":\n",
    "        return 1                               # positive-----> 1\n",
    "    else:\n",
    "        return -1                              # negative-----> -1 \n",
    "    \n",
    "sampled_data[\"Score\"] = sampled_data[\"Score\"].map(response_label)\n",
    "X_train, X_test, Y_train, Y_test , len_train , len_test  = train_test_split(sampled_data['CleanedText'],sampled_data['Score'],sampled_data['text length'], test_size=0.3, random_state=45)"
   ]
  },
  {
   "cell_type": "code",
   "execution_count": 45,
   "metadata": {
    "_uuid": "256efe29e8a07ea4e9807dc0838d85477197042b"
   },
   "outputs": [
    {
     "data": {
      "text/plain": [
       " 1    61494\n",
       "-1     8506\n",
       "Name: Score, dtype: int64"
      ]
     },
     "execution_count": 45,
     "metadata": {},
     "output_type": "execute_result"
    }
   ],
   "source": [
    "Y_train.value_counts()"
   ]
  },
  {
   "cell_type": "markdown",
   "metadata": {
    "_uuid": "1cfdfcaea63bd892dd42744da74f09bb5a3fa441"
   },
   "source": [
    "## Bag of Words"
   ]
  },
  {
   "cell_type": "markdown",
   "metadata": {
    "_uuid": "4455f18e44e008eb9f5fa13c388bb1d3f19fde85"
   },
   "source": [
    "#### Vectorizing & Standarzing both train and test data"
   ]
  },
  {
   "cell_type": "code",
   "execution_count": 35,
   "metadata": {
    "_uuid": "055b08beb7141671bc43afb68307c1f46573169f"
   },
   "outputs": [
    {
     "name": "stdout",
     "output_type": "stream",
     "text": [
      "Train Dataset:  (70000, 923115)\n",
      "Test Dataset:  (30000, 923115)\n"
     ]
    }
   ],
   "source": [
    "#CountVectorizer()--> Converts a collection of text documents to a matrix of token counts\n",
    "\n",
    "# Initialize a CountVectorizer object: count_vectorizer\n",
    "count_vect = CountVectorizer(ngram_range = (1,2) , dtype = 'float')\n",
    "\n",
    "# Transforming train/test data into bag of words\n",
    "bow_X_train_matrix = count_vect.fit_transform(X_train.values)\n",
    "print(\"Train Dataset: \", bow_X_train_matrix.shape)\n",
    "\n",
    "bow_X_test_matrix = count_vect.transform(X_test.values)\n",
    "print(\"Test Dataset: \" , bow_X_test_matrix.shape)"
   ]
  },
  {
   "cell_type": "code",
   "execution_count": 38,
   "metadata": {
    "_uuid": "1f4d1f9dba47f064598b14552f2ac94d40028df7",
    "collapsed": true
   },
   "outputs": [],
   "source": [
    "from scipy.sparse import hstack\n",
    "bow_X_train_matrix = hstack((bow_X_train_matrix,np.array(len_train)[:,None]))\n",
    "bow_X_test_matrix = hstack((bow_X_test_matrix,np.array(len_test)[:,None]))"
   ]
  },
  {
   "cell_type": "code",
   "execution_count": 39,
   "metadata": {
    "_uuid": "ae930753b41870eae7314fe012966cbcf8c16e46",
    "collapsed": true
   },
   "outputs": [],
   "source": [
    "# standarzing both train and test matrix \n",
    "bow_std_X_train_matrix = std_data(bow_X_train_matrix)\n",
    "bow_std_X_test_matrix = std_data(bow_X_test_matrix)"
   ]
  },
  {
   "cell_type": "markdown",
   "metadata": {
    "_uuid": "82eb4111cf7e014b078770b3f72c9a3444f846a6"
   },
   "source": [
    "###  Grid Search Cross Validation \n"
   ]
  },
  {
   "cell_type": "code",
   "execution_count": 46,
   "metadata": {
    "_uuid": "83319040977ed3ae6758d640e2a349de553cbbd7"
   },
   "outputs": [
    {
     "data": {
      "text/plain": [
       "GridSearchCV(cv=TimeSeriesSplit(max_train_size=None, n_splits=10),\n",
       "       error_score='raise-deprecating',\n",
       "       estimator=LogisticRegression(C=1.0, class_weight=None, dual=False, fit_intercept=True,\n",
       "          intercept_scaling=1, max_iter=100, multi_class='warn',\n",
       "          n_jobs=None, penalty='l2', random_state=None, solver='warn',\n",
       "          tol=0.0001, verbose=0, warm_start=False),\n",
       "       fit_params=None, iid='warn', n_jobs=-1,\n",
       "       param_grid=[{'C': [0.0001, 0.01, 1, 100, 10000]}],\n",
       "       pre_dispatch='2*n_jobs', refit=True, return_train_score='warn',\n",
       "       scoring='f1', verbose=0)"
      ]
     },
     "execution_count": 46,
     "metadata": {},
     "output_type": "execute_result"
    }
   ],
   "source": [
    "from sklearn.model_selection import RandomizedSearchCV\n",
    "\n",
    "tuned_parameters = [{'C': [10**-4, 10**-2, 10**0, 10**2, 10**4]}]\n",
    "# grid search\n",
    "LR_model = LogisticRegression(penalty = 'l2')\n",
    "tscv = TimeSeriesSplit(n_splits=10)                    \n",
    "BOW_l2_clf_using_grid = GridSearchCV(LR_model, tuned_parameters, cv = tscv,scoring='f1' , n_jobs = -1)\n",
    "BOW_l2_clf_using_grid.fit(bow_std_X_train_matrix , Y_train)"
   ]
  },
  {
   "cell_type": "code",
   "execution_count": 47,
   "metadata": {
    "_uuid": "553573330a93f11b7bc7e0e0e36fa414a1d207ea"
   },
   "outputs": [
    {
     "name": "stdout",
     "output_type": "stream",
     "text": [
      "f1_score for each C =  0.0001 is  0.9389320263311436\n",
      "f1_score for each C =  0.01 is  0.9402431112583883\n",
      "f1_score for each C =  1 is  0.9415790948432426\n",
      "f1_score for each C =  100 is  0.94205938278329\n",
      "f1_score for each C =  10000 is  0.9420511548190318\n"
     ]
    }
   ],
   "source": [
    "cv_score = list(BOW_l2_clf_using_grid.cv_results_.get('mean_test_score'))\n",
    "C_values = [10**-4, 10**-2, 10**0, 10**2, 10**4]\n",
    "for i in range(len(cv_score)):\n",
    "    print('f1_score for each C = ',C_values[i],'is ',cv_score[i] )"
   ]
  },
  {
   "cell_type": "code",
   "execution_count": 48,
   "metadata": {
    "_uuid": "5647ad4eb4ebcd4dca39e0781b179853a70087ac"
   },
   "outputs": [
    {
     "data": {
      "text/plain": [
       "GridSearchCV(cv=TimeSeriesSplit(max_train_size=None, n_splits=10),\n",
       "       error_score='raise-deprecating',\n",
       "       estimator=LogisticRegression(C=1.0, class_weight=None, dual=False, fit_intercept=True,\n",
       "          intercept_scaling=1, max_iter=100, multi_class='warn',\n",
       "          n_jobs=None, penalty='l1', random_state=None, solver='warn',\n",
       "          tol=0.0001, verbose=0, warm_start=False),\n",
       "       fit_params=None, iid='warn', n_jobs=-1,\n",
       "       param_grid=[{'C': [0.0001, 0.01, 1, 100, 10000]}],\n",
       "       pre_dispatch='2*n_jobs', refit=True, return_train_score='warn',\n",
       "       scoring='f1', verbose=0)"
      ]
     },
     "execution_count": 48,
     "metadata": {},
     "output_type": "execute_result"
    }
   ],
   "source": [
    "# applying grid search on l1 regulizer\n",
    "LR_model_l1 = LogisticRegression(penalty = 'l1')\n",
    "tscv = TimeSeriesSplit(n_splits=10)\n",
    "BOW_l1_clf_using_grid = GridSearchCV(LR_model_l1, tuned_parameters, cv = tscv,scoring='f1' , n_jobs=-1)\n",
    "BOW_l1_clf_using_grid.fit(bow_std_X_train_matrix , Y_train)"
   ]
  },
  {
   "cell_type": "code",
   "execution_count": 49,
   "metadata": {
    "_uuid": "f6e7b03871709822b0f337361582ccb52451232e"
   },
   "outputs": [
    {
     "name": "stdout",
     "output_type": "stream",
     "text": [
      "f1_score for each C =  0.0001 is  0.6542761024441202\n",
      "f1_score for each C =  0.01 is  0.9564764284057291\n",
      "f1_score for each C =  1 is  0.9544004749173706\n",
      "f1_score for each C =  100 is  0.9516569886197886\n",
      "f1_score for each C =  10000 is  0.9460780098772588\n"
     ]
    }
   ],
   "source": [
    "cv_score = list(BOW_l1_clf_using_grid.cv_results_.get('mean_test_score'))\n",
    "C_values = [10**-4, 10**-2, 10**0, 10**2, 10**4]\n",
    "for i in range(len(cv_score)):\n",
    "    print('f1_score for each C = ',C_values[i],'is ',cv_score[i] )"
   ]
  },
  {
   "cell_type": "code",
   "execution_count": 50,
   "metadata": {
    "_uuid": "26e6abf7df1904ab31c14c6ce92368e118467b89"
   },
   "outputs": [
    {
     "data": {
      "image/png": "[encoded data removed]",
      "text/plain": [
       "<Figure size 432x288 with 1 Axes>"
      ]
     },
     "metadata": {},
     "output_type": "display_data"
    }
   ],
   "source": [
    "\n",
    "acc_score_l2= BOW_l2_clf_using_grid.cv_results_.get('mean_test_score')\n",
    "error_l2 = [1-x for x in acc_score_l2]\n",
    "\n",
    "acc_score_l1= BOW_l1_clf_using_grid.cv_results_.get('mean_test_score')\n",
    "error_l1 = [1-x for x in acc_score_l1]\n",
    "\n",
    "hyperparam = np.array( [10**-4, 10**-2, 10**0, 10**2, 10**4] )\n",
    "\n",
    "plt.plot(hyperparam ,error_l2 ,'b', label=\"l2\" )\n",
    "plt.plot(hyperparam ,error_l1 ,'r', label=\"l1\" )\n",
    "plt.xlabel('Hyperparam')\n",
    "plt.ylabel('Missclassification error')\n",
    "plt.title('Hyperparam vs misclassification error')\n",
    "plt.legend()\n",
    "plt.show()"
   ]
  },
  {
   "cell_type": "code",
   "execution_count": 51,
   "metadata": {
    "_uuid": "2acd3a2b5c93711c4d5923ab506db994a3c4f3ed"
   },
   "outputs": [
    {
     "name": "stdout",
     "output_type": "stream",
     "text": [
      "hyperparam lambda for l2 reg: {'C': 100}\n",
      "Test accuracy:  0.9511681903932665\n",
      "Train accuracy:  0.9999918691915536\n",
      "              precision    recall  f1-score   support\n",
      "\n",
      "          -1       0.93      0.29      0.45      3702\n",
      "           1       0.91      1.00      0.95     26298\n",
      "\n",
      "   micro avg       0.91      0.91      0.91     30000\n",
      "   macro avg       0.92      0.65      0.70     30000\n",
      "weighted avg       0.91      0.91      0.89     30000\n",
      "\n"
     ]
    },
    {
     "data": {
      "image/png": "[encoded data removed]",
      "text/plain": [
       "<Figure size 432x288 with 2 Axes>"
      ]
     },
     "metadata": {},
     "output_type": "display_data"
    }
   ],
   "source": [
    "# best hyperparam for l2 reg\n",
    "print(\"hyperparam lambda for l2 reg:\" ,BOW_l2_clf_using_grid.best_params_ )\n",
    "# test accuracy\n",
    "print('Test accuracy: ',BOW_l2_clf_using_grid.score(bow_std_X_test_matrix , Y_test))\n",
    "# train accuracy\n",
    "print('Train accuracy: ',BOW_l2_clf_using_grid.score(bow_std_X_train_matrix , Y_train))\n",
    "\n",
    "test_prediction = BOW_l2_clf_using_grid.predict(bow_std_X_test_matrix)\n",
    "print(classification_report(Y_test, test_prediction))\n",
    "import scikitplot.metrics as sciplot\n",
    "sciplot.plot_confusion_matrix(Y_test, test_prediction)\n",
    "plt.show()\n",
    "\n"
   ]
  },
  {
   "cell_type": "code",
   "execution_count": 52,
   "metadata": {
    "_uuid": "e20bf54b7629722873902cd0347f66cd0d8a9107"
   },
   "outputs": [
    {
     "name": "stdout",
     "output_type": "stream",
     "text": [
      "hyperparam lambda for l1 reg: {'C': 0.01}\n",
      "Test accuracy:  0.9652178752295619\n",
      "Train accuracy:  0.9999918691915536\n",
      "              precision    recall  f1-score   support\n",
      "\n",
      "          -1       0.88      0.57      0.69      3702\n",
      "           1       0.94      0.99      0.97     26298\n",
      "\n",
      "   micro avg       0.94      0.94      0.94     30000\n",
      "   macro avg       0.91      0.78      0.83     30000\n",
      "weighted avg       0.93      0.94      0.93     30000\n",
      "\n"
     ]
    },
    {
     "data": {
      "image/png": "[encoded data removed]",
      "text/plain": [
       "<Figure size 432x288 with 2 Axes>"
      ]
     },
     "metadata": {},
     "output_type": "display_data"
    }
   ],
   "source": [
    "# best hyperparam for l1 reg\n",
    "print(\"hyperparam lambda for l1 reg:\" ,BOW_l1_clf_using_grid.best_params_ )\n",
    "# test accuracy\n",
    "print('Test accuracy: ',BOW_l1_clf_using_grid.score(bow_std_X_test_matrix , Y_test))\n",
    "# train accuracy\n",
    "print('Train accuracy: ',BOW_l1_clf_using_grid.score(bow_std_X_train_matrix , Y_train))\n",
    "\n",
    "test_prediction = BOW_l1_clf_using_grid.predict(bow_std_X_test_matrix)\n",
    "print(classification_report(Y_test, test_prediction))\n",
    "import scikitplot.metrics as sciplot\n",
    "sciplot.plot_confusion_matrix(Y_test, test_prediction)\n",
    "plt.show()"
   ]
  },
  {
   "cell_type": "markdown",
   "metadata": {
    "_uuid": "1efd77353b14d625dbf97a0dc52950b5c5167e35"
   },
   "source": [
    "### Randomized Search"
   ]
  },
  {
   "cell_type": "code",
   "execution_count": 57,
   "metadata": {
    "_uuid": "af9c345999f486883b7ee7cd0cf5032bb7c20a7b"
   },
   "outputs": [
    {
     "data": {
      "text/plain": [
       "RandomizedSearchCV(cv=TimeSeriesSplit(max_train_size=None, n_splits=10),\n",
       "          error_score='raise-deprecating',\n",
       "          estimator=LogisticRegression(C=1.0, class_weight=None, dual=False, fit_intercept=True,\n",
       "          intercept_scaling=1, max_iter=100, multi_class='warn',\n",
       "          n_jobs=None, penalty='l2', random_state=None, solver='warn',\n",
       "          tol=0.0001, verbose=0, warm_start=False),\n",
       "          fit_params=None, iid='warn', n_iter=10, n_jobs=-1,\n",
       "          param_distributions={'C': [0.0001, 0.001, 0.01, 0.1, 1, 10, 100, 1000, 10000, 100000]},\n",
       "          pre_dispatch='2*n_jobs', random_state=None, refit=True,\n",
       "          return_train_score='warn', scoring='f1', verbose=0)"
      ]
     },
     "execution_count": 57,
     "metadata": {},
     "output_type": "execute_result"
    }
   ],
   "source": [
    "tuned_parameters = {'C': [0.0001,0.001,0.01,0.1,1,10,100,1000,10000,100000]}\n",
    "# grid search\n",
    "LR_model = LogisticRegression(penalty = 'l2')\n",
    "tscv = TimeSeriesSplit(n_splits=10)\n",
    "BOW_l2_clf_using_random = RandomizedSearchCV(LR_model, tuned_parameters, cv = tscv,scoring='f1' , n_jobs = -1)\n",
    "BOW_l2_clf_using_random.fit(bow_std_X_train_matrix , Y_train)"
   ]
  },
  {
   "cell_type": "code",
   "execution_count": 58,
   "metadata": {
    "_uuid": "cb475dddf2ef7353b73b4e7602dbc7236cc4452d"
   },
   "outputs": [
    {
     "name": "stdout",
     "output_type": "stream",
     "text": [
      "f1_score for each C =  0.0001 is  0.9389320263311436\n",
      "f1_score for each C =  0.001 is  0.9397189415746331\n",
      "f1_score for each C =  0.01 is  0.9402431112583883\n",
      "f1_score for each C =  0.1 is  0.9407792814382018\n",
      "f1_score for each C =  1 is  0.9415790948432426\n",
      "f1_score for each C =  10 is  0.9419643796582562\n",
      "f1_score for each C =  100 is  0.94205938278329\n",
      "f1_score for each C =  1000 is  0.9420591431634864\n",
      "f1_score for each C =  10000 is  0.9420511548190318\n",
      "f1_score for each C =  100000 is  0.9420501446824505\n"
     ]
    }
   ],
   "source": [
    "cv_score = list(BOW_l2_clf_using_random.cv_results_.get('mean_test_score'))\n",
    "C_values = [0.0001,0.001,0.01,0.1,1,10,100,1000,10000,100000]\n",
    "for i in range(len(cv_score)):\n",
    "    print('f1_score for each C = ',C_values[i],'is ',cv_score[i] )"
   ]
  },
  {
   "cell_type": "code",
   "execution_count": 59,
   "metadata": {
    "_uuid": "e7162fb9bb63ab10063610d390724d784d6600d6"
   },
   "outputs": [
    {
     "data": {
      "text/plain": [
       "RandomizedSearchCV(cv=TimeSeriesSplit(max_train_size=None, n_splits=10),\n",
       "          error_score='raise-deprecating',\n",
       "          estimator=LogisticRegression(C=1.0, class_weight=None, dual=False, fit_intercept=True,\n",
       "          intercept_scaling=1, max_iter=100, multi_class='warn',\n",
       "          n_jobs=None, penalty='l1', random_state=None, solver='warn',\n",
       "          tol=0.0001, verbose=0, warm_start=False),\n",
       "          fit_params=None, iid='warn', n_iter=10, n_jobs=-1,\n",
       "          param_distributions={'C': [0.0001, 0.001, 0.01, 0.1, 1, 10, 100, 1000, 10000, 100000]},\n",
       "          pre_dispatch='2*n_jobs', random_state=None, refit=True,\n",
       "          return_train_score='warn', scoring='f1', verbose=0)"
      ]
     },
     "execution_count": 59,
     "metadata": {},
     "output_type": "execute_result"
    }
   ],
   "source": [
    "LR_model_l1 = LogisticRegression(penalty = 'l1')\n",
    "tscv = TimeSeriesSplit(n_splits=10)\n",
    "BOW_l1_clf_using_random = RandomizedSearchCV(LR_model_l1, tuned_parameters, cv = tscv,scoring='f1' , n_jobs = -1)\n",
    "BOW_l1_clf_using_random.fit(bow_std_X_train_matrix , Y_train)"
   ]
  },
  {
   "cell_type": "code",
   "execution_count": 60,
   "metadata": {
    "_uuid": "f2c9a6e0f26d29c233e8ce10db2b96417265607c"
   },
   "outputs": [
    {
     "name": "stdout",
     "output_type": "stream",
     "text": [
      "f1_score for each C =  0.0001 is  0.6542761024441202\n",
      "f1_score for each C =  0.001 is  0.9390408905313555\n",
      "f1_score for each C =  0.01 is  0.9564758714067575\n",
      "f1_score for each C =  0.1 is  0.9549666386004614\n",
      "f1_score for each C =  1 is  0.9544172481806655\n",
      "f1_score for each C =  10 is  0.9555405873499886\n",
      "f1_score for each C =  100 is  0.9513290734198615\n",
      "f1_score for each C =  1000 is  0.9482673541237344\n",
      "f1_score for each C =  10000 is  0.9453766736592815\n",
      "f1_score for each C =  100000 is  0.9454375569296218\n"
     ]
    }
   ],
   "source": [
    "cv_score = list(BOW_l1_clf_using_random.cv_results_.get('mean_test_score'))\n",
    "C_values = [0.0001,0.001,0.01,0.1,1,10,100,1000,10000,100000]\n",
    "for i in range(len(cv_score)):\n",
    "    print('f1_score for each C = ',C_values[i],'is ',cv_score[i] )"
   ]
  },
  {
   "cell_type": "code",
   "execution_count": 61,
   "metadata": {
    "_uuid": "c2a235d04de4b34537a211bfd226b2aa0beedb45"
   },
   "outputs": [
    {
     "data": {
      "image/png": "[encoded data removed]",
      "text/plain": [
       "<Figure size 432x288 with 1 Axes>"
      ]
     },
     "metadata": {},
     "output_type": "display_data"
    }
   ],
   "source": [
    "acc_score_l2= BOW_l2_clf_using_random.cv_results_.get('mean_test_score')\n",
    "error_l2 = [1-x for x in acc_score_l2]\n",
    "\n",
    "acc_score_l1= BOW_l1_clf_using_random.cv_results_.get('mean_test_score')\n",
    "error_l1 = [1-x for x in acc_score_l1]\n",
    "\n",
    "hyperparam = np.array( [0.0001,0.001,0.01,0.1,1,10,100,1000,10000,100000] )\n",
    "\n",
    "plt.plot(hyperparam ,error_l2 ,'b', label=\"l2\" )\n",
    "plt.plot(hyperparam ,error_l1 ,'r', label=\"l1\" )\n",
    "plt.xlabel('Hyperparam')\n",
    "plt.ylabel('Missclassification error')\n",
    "plt.title('Hyperparam vs misclassification error using random search cv')\n",
    "plt.legend()\n",
    "plt.show()"
   ]
  },
  {
   "cell_type": "code",
   "execution_count": 62,
   "metadata": {
    "_uuid": "17cdf85e1a33b11abdaa4bc6bf3117b8226c0bbb"
   },
   "outputs": [
    {
     "name": "stdout",
     "output_type": "stream",
     "text": [
      "hyperparam lambda for l2 reg: {'C': 100}\n",
      "Test accuracy:  0.9511681903932665\n",
      "Train accuracy:  0.9999918691915536\n",
      "              precision    recall  f1-score   support\n",
      "\n",
      "          -1       0.93      0.29      0.45      3702\n",
      "           1       0.91      1.00      0.95     26298\n",
      "\n",
      "   micro avg       0.91      0.91      0.91     30000\n",
      "   macro avg       0.92      0.65      0.70     30000\n",
      "weighted avg       0.91      0.91      0.89     30000\n",
      "\n"
     ]
    },
    {
     "data": {
      "image/png": "[encoded data removed]",
      "text/plain": [
       "<Figure size 432x288 with 2 Axes>"
      ]
     },
     "metadata": {},
     "output_type": "display_data"
    }
   ],
   "source": [
    "# best hyperparam for l2 reg\n",
    "print(\"hyperparam lambda for l2 reg:\" ,BOW_l2_clf_using_random.best_params_ )\n",
    "# test accuracy\n",
    "print('Test accuracy: ',BOW_l2_clf_using_random.score(bow_std_X_test_matrix , Y_test))\n",
    "# train accuracy\n",
    "print('Train accuracy: ',BOW_l2_clf_using_random.score(bow_std_X_train_matrix , Y_train))\n",
    "\n",
    "test_prediction = BOW_l2_clf_using_random.predict(bow_std_X_test_matrix)\n",
    "print(classification_report(Y_test, test_prediction))\n",
    "import scikitplot.metrics as sciplot\n",
    "sciplot.plot_confusion_matrix(Y_test, test_prediction)\n",
    "plt.show()"
   ]
  },
  {
   "cell_type": "code",
   "execution_count": 63,
   "metadata": {
    "_uuid": "0dd747dda67c5c3761705113da3681004fc7f50a"
   },
   "outputs": [
    {
     "name": "stdout",
     "output_type": "stream",
     "text": [
      "hyperparam lambda for l1 reg: {'C': 0.01}\n",
      "Test accuracy:  0.9650886695852192\n",
      "Train accuracy:  0.9999918691915536\n",
      "              precision    recall  f1-score   support\n",
      "\n",
      "          -1       0.88      0.57      0.69      3702\n",
      "           1       0.94      0.99      0.97     26298\n",
      "\n",
      "   micro avg       0.94      0.94      0.94     30000\n",
      "   macro avg       0.91      0.78      0.83     30000\n",
      "weighted avg       0.93      0.94      0.93     30000\n",
      "\n"
     ]
    },
    {
     "data": {
      "image/png": "[encoded data removed]",
      "text/plain": [
       "<Figure size 432x288 with 2 Axes>"
      ]
     },
     "metadata": {},
     "output_type": "display_data"
    }
   ],
   "source": [
    "# best hyperparam for l1 reg\n",
    "print(\"hyperparam lambda for l1 reg:\" ,BOW_l1_clf_using_random.best_params_ )\n",
    "# test accuracy\n",
    "print('Test accuracy: ',BOW_l1_clf_using_random.score(bow_std_X_test_matrix , Y_test))\n",
    "# train accuracy\n",
    "print('Train accuracy: ',BOW_l1_clf_using_random.score(bow_std_X_train_matrix , Y_train))\n",
    "\n",
    "test_prediction = BOW_l1_clf_using_random.predict(bow_std_X_test_matrix)\n",
    "print(classification_report(Y_test, test_prediction))\n",
    "import scikitplot.metrics as sciplot\n",
    "sciplot.plot_confusion_matrix(Y_test, test_prediction)\n",
    "plt.show()"
   ]
  },
  {
   "cell_type": "markdown",
   "metadata": {
    "_uuid": "34c8218616db805794875181e039e08fb0403880"
   },
   "source": [
    " ### Checking how sparsity and accuracy changes with lambda for l1 reg****"
   ]
  },
  {
   "cell_type": "code",
   "execution_count": 64,
   "metadata": {
    "_uuid": "5c59b371203c23054e9d67b839949b7c05c5480d"
   },
   "outputs": [
    {
     "name": "stdout",
     "output_type": "stream",
     "text": [
      "______________________________________________________________________________\n",
      "C =  100\n",
      "              precision    recall  f1-score   support\n",
      "\n",
      "          -1       0.92      0.44      0.59      3702\n",
      "           1       0.93      0.99      0.96     26298\n",
      "\n",
      "   micro avg       0.93      0.93      0.93     30000\n",
      "   macro avg       0.92      0.71      0.77     30000\n",
      "weighted avg       0.92      0.93      0.91     30000\n",
      "\n",
      "______________________________________________________________________________\n",
      "______________________________________________________________________________\n",
      "C =  10\n",
      "              precision    recall  f1-score   support\n",
      "\n",
      "          -1       0.92      0.53      0.68      3702\n",
      "           1       0.94      0.99      0.97     26298\n",
      "\n",
      "   micro avg       0.94      0.94      0.94     30000\n",
      "   macro avg       0.93      0.76      0.82     30000\n",
      "weighted avg       0.94      0.94      0.93     30000\n",
      "\n",
      "______________________________________________________________________________\n",
      "______________________________________________________________________________\n",
      "C =  0.1\n",
      "              precision    recall  f1-score   support\n",
      "\n",
      "          -1       0.88      0.56      0.68      3702\n",
      "           1       0.94      0.99      0.96     26298\n",
      "\n",
      "   micro avg       0.94      0.94      0.94     30000\n",
      "   macro avg       0.91      0.77      0.82     30000\n",
      "weighted avg       0.93      0.94      0.93     30000\n",
      "\n",
      "______________________________________________________________________________\n",
      "______________________________________________________________________________\n",
      "C =  0.01\n",
      "              precision    recall  f1-score   support\n",
      "\n",
      "          -1       0.88      0.57      0.69      3702\n",
      "           1       0.94      0.99      0.97     26298\n",
      "\n",
      "   micro avg       0.94      0.94      0.94     30000\n",
      "   macro avg       0.91      0.78      0.83     30000\n",
      "weighted avg       0.93      0.94      0.93     30000\n",
      "\n",
      "______________________________________________________________________________\n",
      "______________________________________________________________________________\n",
      "C =  0.001\n",
      "              precision    recall  f1-score   support\n",
      "\n",
      "          -1       0.90      0.23      0.36      3702\n",
      "           1       0.90      1.00      0.95     26298\n",
      "\n",
      "   micro avg       0.90      0.90      0.90     30000\n",
      "   macro avg       0.90      0.61      0.66     30000\n",
      "weighted avg       0.90      0.90      0.87     30000\n",
      "\n",
      "______________________________________________________________________________\n"
     ]
    }
   ],
   "source": [
    "C = [100,10,0.1,0.01,0.001]\n",
    "acc=[]\n",
    "non_zero_weight = []\n",
    "\n",
    "for val in C:\n",
    "    model = LogisticRegression(C= val, penalty= 'l1')\n",
    "    model.fit(bow_std_X_train_matrix,Y_train)\n",
    "    prediction = model.predict(bow_std_X_test_matrix)\n",
    "    non_zero_weight.append(np.count_nonzero(model.coef_))\n",
    "    acc.append(accuracy_score(Y_test, prediction)*100)\n",
    "    print('______________________________________________________________________________')\n",
    "    print('C = ' , val)\n",
    "    print(classification_report(Y_test, prediction))\n",
    "    print('______________________________________________________________________________')\n",
    "    "
   ]
  },
  {
   "cell_type": "code",
   "execution_count": 65,
   "metadata": {
    "_uuid": "678e8c444c2e6fef9e5d3b4a383fce4dfe1acfc1"
   },
   "outputs": [
    {
     "name": "stdout",
     "output_type": "stream",
     "text": [
      "C               [100, 10, 0.1, 0.01, 0.001]\n",
      "accuracy        [92.54666666666667, 93.69, 93.63666666666667, 93.73333333333333, 90.16999999999999]\n",
      "non zero weight [261822, 74757, 38786, 24545, 67]\n"
     ]
    }
   ],
   "source": [
    "# summary\n",
    "print('C              ' , C)\n",
    "print('accuracy       ',acc)\n",
    "print('non zero weight' ,non_zero_weight )"
   ]
  },
  {
   "cell_type": "markdown",
   "metadata": {
    "_uuid": "f18c00d7901b437bbf7b969e84a1bba9e3441ea3"
   },
   "source": [
    "### Observation\n",
    "Sparsity increases with increasing value of lambda."
   ]
  },
  {
   "cell_type": "markdown",
   "metadata": {
    "_uuid": "6c74905dc997062d8ffea549b0e0ba6aeb4402c4"
   },
   "source": [
    "## Pertubation  Test"
   ]
  },
  {
   "cell_type": "code",
   "execution_count": 66,
   "metadata": {
    "_uuid": "8d02af66692ee080d62f4eef912fad0f3fb970aa"
   },
   "outputs": [
    {
     "name": "stdout",
     "output_type": "stream",
     "text": [
      "weight vector before noise [[ 0.00122589  0.00035043  0.00138322 ... -0.00112518  0.00034157\n",
      "   0.16379297]]\n"
     ]
    }
   ],
   "source": [
    "\n",
    "model = LogisticRegression(C= 10, penalty= 'l2')\n",
    "model.fit(bow_std_X_train_matrix,Y_train)\n",
    "wv_before_noise = model.coef_\n",
    "print('weight vector before noise',wv_before_noise)\n",
    "\n",
    "# adding noise\n",
    "mu, sigma = 0, 0.0001 \n",
    "noise = np.random.normal(mu, sigma, 1) \n",
    "noise\n",
    "\n",
    "matrix_with_noise  = bow_std_X_train_matrix\n",
    "matrix_with_noise.data = matrix_with_noise.data + noise\n",
    "model.fit(matrix_with_noise, Y_train)\n",
    "wv_after_noise = model.coef_\n",
    "weight_change = np.abs(((wv_before_noise - wv_after_noise)+0.0001)/(wv_before_noise+0.0001) )*100"
   ]
  },
  {
   "cell_type": "code",
   "execution_count": 67,
   "metadata": {
    "_uuid": "90a85d47de95b9c004a1893ec86175934e08b05f"
   },
   "outputs": [
    {
     "name": "stdout",
     "output_type": "stream",
     "text": [
      "923116\n"
     ]
    }
   ],
   "source": [
    "print(len(weight_change[0]))"
   ]
  },
  {
   "cell_type": "code",
   "execution_count": 68,
   "metadata": {
    "_uuid": "6ffce91b095a0ab859c7fce9ebba8467e07be621"
   },
   "outputs": [
    {
     "data": {
      "image/png": "[encoded data removed]",
      "text/plain": [
       "<Figure size 432x288 with 1 Axes>"
      ]
     },
     "metadata": {},
     "output_type": "display_data"
    }
   ],
   "source": [
    "# using elbow method to identify thresold\n",
    "\n",
    "l1 =[ range(1,50)]\n",
    "\n",
    "count = []\n",
    "for i in range(1,50):\n",
    "    c = np.any(j<i for j in weight_change)\n",
    "    count.append(sum(sum(c)) / (len(weight_change[0]))*100)\n",
    "\n",
    "plt.plot(range(1,50) , count)\n",
    "plt.xlabel('thresold')\n",
    "plt.ylabel('% of weights below thresold')\n",
    "plt.show()        "
   ]
  },
  {
   "cell_type": "code",
   "execution_count": 69,
   "metadata": {
    "_uuid": "f5ae47f7e469b9a56d820d2ce629ead4f08a64ce"
   },
   "outputs": [
    {
     "name": "stdout",
     "output_type": "stream",
     "text": [
      "0.7271870490815889\n",
      "0.8092222429250495\n",
      "0.882991953340642\n"
     ]
    }
   ],
   "source": [
    "# number of weights where weight change is less than 20%\n",
    "print(weight_change[np.where(weight_change < 20)].size/len(weight_change[0]))\n",
    "# number of weights where weight change is less than 30%\n",
    "print(weight_change[np.where(weight_change < 30)].size/len(weight_change[0]))\n",
    "# number of weights where weight change is less than 50%\n",
    "print(weight_change[np.where(weight_change < 50)].size/len(weight_change[0]))"
   ]
  },
  {
   "cell_type": "markdown",
   "metadata": {
    "_uuid": "1223bccaa315bb979fabd2200c3cbce4c625b89d"
   },
   "source": [
    "approx 10.5% of wieghts has weight change of more than 50%. hence multicollinearty exits"
   ]
  },
  {
   "cell_type": "markdown",
   "metadata": {
    "_uuid": "abfe0484ba2169172203a91bd09ddd2be54a7aa0"
   },
   "source": [
    "### Observation\n",
    "About 159k wieghts changed by more than 20%  hence  "
   ]
  },
  {
   "cell_type": "markdown",
   "metadata": {
    "_uuid": "57cf7525207b65b3977b54796584b6c075f027c3"
   },
   "source": [
    "### Feature Importance"
   ]
  },
  {
   "cell_type": "code",
   "execution_count": 70,
   "metadata": {
    "_uuid": "c8b49326e609c4003c5356839d1983c155dadc2e"
   },
   "outputs": [
    {
     "name": "stdout",
     "output_type": "stream",
     "text": [
      "\t\tNegative\t\tPostive\n",
      "________________________________________________________________________________________________\n",
      "\t-0.1266\tnot worth      \t\t0.4101\tgreat          \n",
      "\t-0.1100\tnot good       \t\t0.3277\tlove           \n",
      "\t-0.0864\tone hous       \t\t0.2883\tgood           \n",
      "\t-0.0850\tnot cup        \t\t0.2625\tbest           \n",
      "\t-0.0826\tdisappoint     \t\t0.1933\tdelici         \n",
      "\t-0.0773\tnot buy        \t\t0.1787\texcel          \n",
      "\t-0.0747\tstore groceri  \t\t0.1548\tgreat tast     \n",
      "\t-0.0739\tthink order    \t\t0.1455\tfavorit        \n",
      "\t-0.0727\tworth not      \t\t0.1453\tyummi          \n",
      "\t-0.0715\tterribl        \t\t0.1445\tgreat product  \n"
     ]
    }
   ],
   "source": [
    "#Source:https://stackoverflow.com/questions/11116697/how-to-get-most-informative-features-for-scikit-learn-classifiers\n",
    "def show_most_informative_features(vectorizer, clf, n=10):\n",
    "    feature_names = vectorizer.get_feature_names()\n",
    "    coefs_with_fns = sorted(zip(clf.coef_[0], feature_names))\n",
    "    top = zip(coefs_with_fns[:n], coefs_with_fns[:-(n + 1):-1])\n",
    "    print(\"\\t\\tNegative\\t\\tPostive\")\n",
    "    print(\"________________________________________________________________________________________________\")\n",
    "    for (coef_1, fn_1), (coef_2, fn_2) in top:\n",
    "        print(\"\\t%.4f\\t%-15s\\t\\t%.4f\\t%-15s\"%(coef_1, fn_1, coef_2, fn_2))\n",
    "        \n",
    "show_most_informative_features(count_vect , model)"
   ]
  },
  {
   "cell_type": "markdown",
   "metadata": {
    "_uuid": "fdde81b2e75e0ff06187375f9537b92113d02c1d"
   },
   "source": [
    "# TF-IDF"
   ]
  },
  {
   "cell_type": "code",
   "execution_count": 90,
   "metadata": {
    "_uuid": "cbbbdd13fd241452837e33ff48fbb49ae069c0f2"
   },
   "outputs": [
    {
     "name": "stdout",
     "output_type": "stream",
     "text": [
      "(70000, 923115)\n",
      "(30000, 923115)\n"
     ]
    }
   ],
   "source": [
    "tf_idf_vect = TfidfVectorizer(ngram_range=(1,2))\n",
    "# Transforming train/test data into tf-idf\n",
    "tf_idf_X_train_matrix = tf_idf_vect.fit_transform(X_train.values)\n",
    "print(tf_idf_X_train_matrix.shape)\n",
    "tf_idf_X_test_matrix = tf_idf_vect.transform(X_test.values)\n",
    "print(tf_idf_X_test_matrix.shape)"
   ]
  },
  {
   "cell_type": "code",
   "execution_count": 91,
   "metadata": {
    "_uuid": "ecace98d70db7184e1ad5343ad5d1d580c490141",
    "collapsed": true
   },
   "outputs": [],
   "source": [
    "tf_idf_X_train_matrix = hstack((tf_idf_X_train_matrix,np.array(len_train)[:,None]))\n",
    "tf_idf_X_test_matrix = hstack((tf_idf_X_test_matrix,np.array(len_test)[:,None]))"
   ]
  },
  {
   "cell_type": "code",
   "execution_count": 92,
   "metadata": {
    "_uuid": "f9ffcabb838b6d8919518369b64cc1c28c4f585b",
    "collapsed": true
   },
   "outputs": [],
   "source": [
    "tfidf_std_X_train_matrix = std_data(tf_idf_X_train_matrix)\n",
    "tfidf_std_X_test_matrix = std_data(tf_idf_X_test_matrix)"
   ]
  },
  {
   "cell_type": "code",
   "execution_count": 88,
   "metadata": {
    "_uuid": "c1caa6f3379e5e35d03b6e61ace8e9b05fb57cc0"
   },
   "outputs": [
    {
     "data": {
      "text/plain": [
       "(30000, 923116)"
      ]
     },
     "execution_count": 88,
     "metadata": {},
     "output_type": "execute_result"
    }
   ],
   "source": [
    "tfidf_std_X_test_matrix.shape"
   ]
  },
  {
   "cell_type": "markdown",
   "metadata": {
    "_uuid": "92419d4809d6de41bfb4039345e7de8229735b15"
   },
   "source": [
    "###  Grid Search Cross Validation"
   ]
  },
  {
   "cell_type": "code",
   "execution_count": 74,
   "metadata": {
    "_uuid": "79313355b8bd63ff532b559f11ece3b53ee9bd36"
   },
   "outputs": [
    {
     "data": {
      "text/plain": [
       "GridSearchCV(cv=TimeSeriesSplit(max_train_size=None, n_splits=10),\n",
       "       error_score='raise-deprecating',\n",
       "       estimator=LogisticRegression(C=1.0, class_weight=None, dual=False, fit_intercept=True,\n",
       "          intercept_scaling=1, max_iter=100, multi_class='warn',\n",
       "          n_jobs=None, penalty='l2', random_state=None, solver='warn',\n",
       "          tol=0.0001, verbose=0, warm_start=False),\n",
       "       fit_params=None, iid='warn', n_jobs=-1,\n",
       "       param_grid=[{'C': [0.0001, 0.01, 1, 100, 10000]}],\n",
       "       pre_dispatch='2*n_jobs', refit=True, return_train_score='warn',\n",
       "       scoring='f1', verbose=0)"
      ]
     },
     "execution_count": 74,
     "metadata": {},
     "output_type": "execute_result"
    }
   ],
   "source": [
    "tuned_parameters = [{'C': [10**-4, 10**-2, 10**0, 10**2, 10**4]}]\n",
    "# grid search\n",
    "LR_model = LogisticRegression(penalty = 'l2')\n",
    "tscv = TimeSeriesSplit(n_splits=10)\n",
    "tfidf_l2_clf_using_grid = GridSearchCV(LR_model, tuned_parameters, cv = tscv,scoring='f1' , n_jobs = -1)\n",
    "tfidf_l2_clf_using_grid.fit(tfidf_std_X_train_matrix , Y_train)"
   ]
  },
  {
   "cell_type": "code",
   "execution_count": 75,
   "metadata": {
    "_uuid": "667311a03640f15ee0989440a9a9e8e810417d3b"
   },
   "outputs": [
    {
     "name": "stdout",
     "output_type": "stream",
     "text": [
      "f1_score for each C =  0.0001 is  0.9381740684348028\n",
      "f1_score for each C =  0.01 is  0.9393751333966973\n",
      "f1_score for each C =  1 is  0.9399542267082666\n",
      "f1_score for each C =  100 is  0.9404927851844914\n",
      "f1_score for each C =  10000 is  0.9404770429554553\n"
     ]
    }
   ],
   "source": [
    "cv_score = list(tfidf_l2_clf_using_grid.cv_results_.get('mean_test_score'))\n",
    "C_values = [10**-4, 10**-2, 10**0, 10**2, 10**4]\n",
    "for i in range(len(cv_score)):\n",
    "    print('f1_score for each C = ',C_values[i],'is ',cv_score[i] )"
   ]
  },
  {
   "cell_type": "code",
   "execution_count": 76,
   "metadata": {
    "_uuid": "b142c23e403f904f61f72b5c4620116bcdc224f0"
   },
   "outputs": [
    {
     "data": {
      "text/plain": [
       "GridSearchCV(cv=TimeSeriesSplit(max_train_size=None, n_splits=10),\n",
       "       error_score='raise-deprecating',\n",
       "       estimator=LogisticRegression(C=1.0, class_weight=None, dual=False, fit_intercept=True,\n",
       "          intercept_scaling=1, max_iter=100, multi_class='warn',\n",
       "          n_jobs=None, penalty='l1', random_state=None, solver='warn',\n",
       "          tol=0.0001, verbose=0, warm_start=False),\n",
       "       fit_params=None, iid='warn', n_jobs=-1,\n",
       "       param_grid=[{'C': [0.0001, 0.01, 1, 100, 10000]}],\n",
       "       pre_dispatch='2*n_jobs', refit=True, return_train_score='warn',\n",
       "       scoring='f1', verbose=0)"
      ]
     },
     "execution_count": 76,
     "metadata": {},
     "output_type": "execute_result"
    }
   ],
   "source": [
    "LR_model_l1 = LogisticRegression(penalty = 'l1')\n",
    "tscv = TimeSeriesSplit(n_splits=10)\n",
    "tfidf_l1_clf_using_grid = GridSearchCV(LR_model_l1, tuned_parameters, cv = tscv,scoring='f1' , n_jobs=-1)\n",
    "tfidf_l1_clf_using_grid.fit(tfidf_std_X_train_matrix , Y_train)"
   ]
  },
  {
   "cell_type": "code",
   "execution_count": 77,
   "metadata": {
    "_uuid": "451869aa1215b5ece2e0358e671d598babfa3b29"
   },
   "outputs": [
    {
     "name": "stdout",
     "output_type": "stream",
     "text": [
      "f1_score for each C =  0.0001 is  0.6542761024441202\n",
      "f1_score for each C =  0.01 is  0.9576271236781425\n",
      "f1_score for each C =  1 is  0.9562432371259451\n",
      "f1_score for each C =  100 is  0.9462859854765491\n",
      "f1_score for each C =  10000 is  0.9440583010922886\n"
     ]
    }
   ],
   "source": [
    "cv_score = list(tfidf_l1_clf_using_grid.cv_results_.get('mean_test_score'))\n",
    "C_values = [10**-4, 10**-2, 10**0, 10**2, 10**4]\n",
    "for i in range(len(cv_score)):\n",
    "    print('f1_score for each C = ',C_values[i],'is ',cv_score[i] )"
   ]
  },
  {
   "cell_type": "code",
   "execution_count": 78,
   "metadata": {
    "_uuid": "8c5db0f1387ebab910e36a5b016bb40d381206a9"
   },
   "outputs": [
    {
     "data": {
      "image/png": "[encoded data removed]",
      "text/plain": [
       "<Figure size 432x288 with 1 Axes>"
      ]
     },
     "metadata": {},
     "output_type": "display_data"
    }
   ],
   "source": [
    "acc_score_l2= tfidf_l2_clf_using_grid.cv_results_.get('mean_test_score')\n",
    "error_l2 = [1-x for x in acc_score_l2]\n",
    "\n",
    "acc_score_l1= tfidf_l1_clf_using_grid.cv_results_.get('mean_test_score')\n",
    "error_l1 = [1-x for x in acc_score_l1]\n",
    "\n",
    "hyperparam = np.array( [10**-4, 10**-2, 10**0, 10**2, 10**4] )\n",
    "\n",
    "plt.plot(hyperparam ,error_l2 ,'b', label=\"l2\" )\n",
    "plt.plot(hyperparam ,error_l1 ,'r', label=\"l1\" )\n",
    "plt.xlabel('Hyperparam')\n",
    "plt.ylabel('Missclassification error')\n",
    "plt.title('Hyperparam vs misclassification error')\n",
    "plt.legend()\n",
    "plt.show()"
   ]
  },
  {
   "cell_type": "code",
   "execution_count": 80,
   "metadata": {
    "_uuid": "4e0ac51b4432d122bb4a6b0d2445b9220158184a"
   },
   "outputs": [
    {
     "data": {
      "text/plain": [
       "(30000, 923115)"
      ]
     },
     "execution_count": 80,
     "metadata": {},
     "output_type": "execute_result"
    }
   ],
   "source": [
    "tfidf_std_X_test_matrix.shape"
   ]
  },
  {
   "cell_type": "code",
   "execution_count": 93,
   "metadata": {
    "_uuid": "b17fd0af8965224777a567081888e96073cb3ac9"
   },
   "outputs": [
    {
     "name": "stdout",
     "output_type": "stream",
     "text": [
      "hyperparam lambda for l2 reg: {'C': 100}\n",
      "Test accuracy:  0.9478602872194558\n",
      "Train accuracy:  0.9999918690593315\n",
      "              precision    recall  f1-score   support\n",
      "\n",
      "          -1       0.97      0.23      0.37      3702\n",
      "           1       0.90      1.00      0.95     26298\n",
      "\n",
      "   micro avg       0.90      0.90      0.90     30000\n",
      "   macro avg       0.93      0.61      0.66     30000\n",
      "weighted avg       0.91      0.90      0.88     30000\n",
      "\n"
     ]
    },
    {
     "data": {
      "image/png": "[encoded data removed]",
      "text/plain": [
       "<Figure size 432x288 with 2 Axes>"
      ]
     },
     "metadata": {},
     "output_type": "display_data"
    }
   ],
   "source": [
    "# best hyperparam for l2 reg\n",
    "print(\"hyperparam lambda for l2 reg:\" ,tfidf_l2_clf_using_grid.best_params_ )\n",
    "# test accuracy\n",
    "print('Test accuracy: ',tfidf_l2_clf_using_grid.score(tfidf_std_X_test_matrix , Y_test))\n",
    "# train accuracy\n",
    "print('Train accuracy: ',tfidf_l2_clf_using_grid.score(tfidf_std_X_train_matrix , Y_train))\n",
    "\n",
    "test_prediction = tfidf_l2_clf_using_grid.predict(tfidf_std_X_test_matrix)\n",
    "print(classification_report(Y_test, test_prediction))\n",
    "import scikitplot.metrics as sciplot\n",
    "sciplot.plot_confusion_matrix(Y_test, test_prediction)\n",
    "plt.show()"
   ]
  },
  {
   "cell_type": "code",
   "execution_count": 94,
   "metadata": {
    "_uuid": "834a57aa33b802ac16246cd1807a03c435781247"
   },
   "outputs": [
    {
     "name": "stdout",
     "output_type": "stream",
     "text": [
      "hyperparam lambda for l1 reg: {'C': 0.01}\n",
      "Test accuracy:  0.9671211502024742\n",
      "Train accuracy:  0.9998699208142957\n",
      "              precision    recall  f1-score   support\n",
      "\n",
      "          -1       0.89      0.59      0.71      3702\n",
      "           1       0.95      0.99      0.97     26298\n",
      "\n",
      "   micro avg       0.94      0.94      0.94     30000\n",
      "   macro avg       0.92      0.79      0.84     30000\n",
      "weighted avg       0.94      0.94      0.94     30000\n",
      "\n"
     ]
    },
    {
     "data": {
      "image/png": "[encoded data removed]",
      "text/plain": [
       "<Figure size 432x288 with 2 Axes>"
      ]
     },
     "metadata": {},
     "output_type": "display_data"
    }
   ],
   "source": [
    "print(\"hyperparam lambda for l1 reg:\" ,tfidf_l1_clf_using_grid.best_params_ )\n",
    "# test accuracy\n",
    "print('Test accuracy: ',tfidf_l1_clf_using_grid.score(tfidf_std_X_test_matrix , Y_test))\n",
    "# train accuracy\n",
    "print('Train accuracy: ',tfidf_l1_clf_using_grid.score(tfidf_std_X_train_matrix , Y_train))\n",
    "\n",
    "test_prediction = tfidf_l1_clf_using_grid.predict(tfidf_std_X_test_matrix)\n",
    "print(classification_report(Y_test, test_prediction))\n",
    "import scikitplot.metrics as sciplot\n",
    "sciplot.plot_confusion_matrix(Y_test, test_prediction)\n",
    "plt.show()"
   ]
  },
  {
   "cell_type": "markdown",
   "metadata": {
    "_uuid": "e786dd734074cd4fb7ee6124515152333b3969fb"
   },
   "source": [
    "## Randomized Serach"
   ]
  },
  {
   "cell_type": "code",
   "execution_count": 95,
   "metadata": {
    "_uuid": "9d742a8f74c6d8f631dfd50d346e62888a65bf15"
   },
   "outputs": [
    {
     "data": {
      "text/plain": [
       "RandomizedSearchCV(cv=TimeSeriesSplit(max_train_size=None, n_splits=10),\n",
       "          error_score='raise-deprecating',\n",
       "          estimator=LogisticRegression(C=1.0, class_weight=None, dual=False, fit_intercept=True,\n",
       "          intercept_scaling=1, max_iter=100, multi_class='warn',\n",
       "          n_jobs=None, penalty='l2', random_state=None, solver='warn',\n",
       "          tol=0.0001, verbose=0, warm_start=False),\n",
       "          fit_params=None, iid='warn', n_iter=10, n_jobs=-1,\n",
       "          param_distributions={'C': [0.0001, 0.001, 0.01, 0.1, 1, 10, 100, 1000, 10000, 100000]},\n",
       "          pre_dispatch='2*n_jobs', random_state=None, refit=True,\n",
       "          return_train_score='warn', scoring='f1', verbose=0)"
      ]
     },
     "execution_count": 95,
     "metadata": {},
     "output_type": "execute_result"
    }
   ],
   "source": [
    "tuned_parameters = {'C': [0.0001,0.001,0.01,0.1,1,10,100,1000,10000,100000]}\n",
    "# grid search\n",
    "LR_model = LogisticRegression(penalty = 'l2')\n",
    "tscv = TimeSeriesSplit(n_splits=10)\n",
    "tfidf_l2_clf_using_random = RandomizedSearchCV(LR_model, tuned_parameters, cv = tscv,scoring='f1' , n_jobs = -1)\n",
    "tfidf_l2_clf_using_random.fit(tfidf_std_X_train_matrix , Y_train)"
   ]
  },
  {
   "cell_type": "code",
   "execution_count": 96,
   "metadata": {
    "_uuid": "0146e4c0855fa5bcb14aa1779b50b90a47e5f872"
   },
   "outputs": [
    {
     "name": "stdout",
     "output_type": "stream",
     "text": [
      "f1_score for each C =  0.0001 is  0.9381740684348028\n",
      "f1_score for each C =  0.001 is  0.9390236824064357\n",
      "f1_score for each C =  0.01 is  0.9393751333966973\n",
      "f1_score for each C =  0.1 is  0.9395932670888872\n",
      "f1_score for each C =  1 is  0.9399542267082666\n",
      "f1_score for each C =  10 is  0.9403493169153093\n",
      "f1_score for each C =  100 is  0.9404927851844914\n",
      "f1_score for each C =  1000 is  0.9404690254685735\n",
      "f1_score for each C =  10000 is  0.9404770429554553\n",
      "f1_score for each C =  100000 is  0.940453176937863\n"
     ]
    }
   ],
   "source": [
    "cv_score = list(tfidf_l2_clf_using_random.cv_results_.get('mean_test_score'))\n",
    "C_values = [0.0001,0.001,0.01,0.1,1,10,100,1000,10000,100000]\n",
    "for i in range(len(cv_score)):\n",
    "    print('f1_score for each C = ',C_values[i],'is ',cv_score[i] )"
   ]
  },
  {
   "cell_type": "code",
   "execution_count": 97,
   "metadata": {
    "_uuid": "7e533db2faaf3bdadbb3d3faa8135338e6dc0c69"
   },
   "outputs": [
    {
     "data": {
      "text/plain": [
       "RandomizedSearchCV(cv=TimeSeriesSplit(max_train_size=None, n_splits=10),\n",
       "          error_score='raise-deprecating',\n",
       "          estimator=LogisticRegression(C=1.0, class_weight=None, dual=False, fit_intercept=True,\n",
       "          intercept_scaling=1, max_iter=100, multi_class='warn',\n",
       "          n_jobs=None, penalty='l1', random_state=None, solver='warn',\n",
       "          tol=0.0001, verbose=0, warm_start=False),\n",
       "          fit_params=None, iid='warn', n_iter=10, n_jobs=-1,\n",
       "          param_distributions={'C': [0.0001, 0.001, 0.01, 0.1, 1, 10, 100, 1000, 10000, 100000]},\n",
       "          pre_dispatch='2*n_jobs', random_state=None, refit=True,\n",
       "          return_train_score='warn', scoring='f1', verbose=0)"
      ]
     },
     "execution_count": 97,
     "metadata": {},
     "output_type": "execute_result"
    }
   ],
   "source": [
    "LR_model_l1 = LogisticRegression(penalty = 'l1')\n",
    "tscv = TimeSeriesSplit(n_splits=10)\n",
    "tfidf_l1_clf_using_random = RandomizedSearchCV(LR_model_l1, tuned_parameters, cv = tscv,scoring='f1' , n_jobs = -1)\n",
    "tfidf_l1_clf_using_random.fit(tfidf_std_X_train_matrix , Y_train)"
   ]
  },
  {
   "cell_type": "code",
   "execution_count": 98,
   "metadata": {
    "_uuid": "c30511d9791dfa1110d8159523bb9797083f707a"
   },
   "outputs": [
    {
     "name": "stdout",
     "output_type": "stream",
     "text": [
      "f1_score for each C =  0.0001 is  0.6542761024441202\n",
      "f1_score for each C =  0.001 is  0.939466890031485\n",
      "f1_score for each C =  0.01 is  0.9576014512290092\n",
      "f1_score for each C =  0.1 is  0.9559312572369503\n",
      "f1_score for each C =  1 is  0.9560782367922956\n",
      "f1_score for each C =  10 is  0.9511561234926991\n",
      "f1_score for each C =  100 is  0.9460629655018574\n",
      "f1_score for each C =  1000 is  0.9452585823042488\n",
      "f1_score for each C =  10000 is  0.9431537414298378\n",
      "f1_score for each C =  100000 is  0.9419248925285107\n"
     ]
    }
   ],
   "source": [
    "cv_score = list(tfidf_l1_clf_using_random.cv_results_.get('mean_test_score'))\n",
    "C_values = [0.0001,0.001,0.01,0.1,1,10,100,1000,10000,100000]\n",
    "for i in range(len(cv_score)):\n",
    "    print('f1_score for each C = ',C_values[i],'is ',cv_score[i] )"
   ]
  },
  {
   "cell_type": "code",
   "execution_count": 99,
   "metadata": {
    "_uuid": "e9f230c289e53f12e5983a38222d84152873b533"
   },
   "outputs": [
    {
     "data": {
      "image/png": "[encoded data removed]",
      "text/plain": [
       "<Figure size 432x288 with 1 Axes>"
      ]
     },
     "metadata": {},
     "output_type": "display_data"
    }
   ],
   "source": [
    "acc_score_l2= tfidf_l2_clf_using_random.cv_results_.get('mean_test_score')\n",
    "error_l2 = [1-x for x in acc_score_l2]\n",
    "\n",
    "acc_score_l1= tfidf_l1_clf_using_random.cv_results_.get('mean_test_score')\n",
    "error_l1 = [1-x for x in acc_score_l1]\n",
    "\n",
    "hyperparam = np.array( [0.0001,0.001,0.01,0.1,1,10,100,1000,10000,100000] )\n",
    "\n",
    "plt.plot(hyperparam ,error_l2 ,'b', label=\"l2\" )\n",
    "plt.plot(hyperparam ,error_l1 ,'r', label=\"l1\" )\n",
    "plt.xlabel('Hyperparam')\n",
    "plt.ylabel('Missclassification error')\n",
    "plt.title('Hyperparam vs misclassification error using random search cv')\n",
    "plt.legend()\n",
    "plt.show()"
   ]
  },
  {
   "cell_type": "code",
   "execution_count": 100,
   "metadata": {
    "_uuid": "dd75758b8a3c3ce3bbb219774c9bdf627e6c437c"
   },
   "outputs": [
    {
     "name": "stdout",
     "output_type": "stream",
     "text": [
      "hyperparam lambda for l2 reg: {'C': 100}\n",
      "Test accuracy:  0.9478602872194558\n",
      "Train accuracy:  0.9999918690593315\n",
      "              precision    recall  f1-score   support\n",
      "\n",
      "          -1       0.97      0.23      0.37      3702\n",
      "           1       0.90      1.00      0.95     26298\n",
      "\n",
      "   micro avg       0.90      0.90      0.90     30000\n",
      "   macro avg       0.93      0.61      0.66     30000\n",
      "weighted avg       0.91      0.90      0.88     30000\n",
      "\n"
     ]
    },
    {
     "data": {
      "image/png": "[encoded data removed]",
      "text/plain": [
       "<Figure size 432x288 with 2 Axes>"
      ]
     },
     "metadata": {},
     "output_type": "display_data"
    }
   ],
   "source": [
    "# best hyperparam for l2 reg\n",
    "print(\"hyperparam lambda for l2 reg:\" ,tfidf_l2_clf_using_random.best_params_ )\n",
    "# test accuracy\n",
    "print('Test accuracy: ',tfidf_l2_clf_using_random.score(tfidf_std_X_test_matrix , Y_test))\n",
    "# train accuracy\n",
    "print('Train accuracy: ',tfidf_l2_clf_using_random.score(tfidf_std_X_train_matrix , Y_train))\n",
    "\n",
    "test_prediction = tfidf_l2_clf_using_random.predict(tfidf_std_X_test_matrix)\n",
    "print(classification_report(Y_test, test_prediction))\n",
    "import scikitplot.metrics as sciplot\n",
    "sciplot.plot_confusion_matrix(Y_test, test_prediction)\n",
    "plt.show()"
   ]
  },
  {
   "cell_type": "code",
   "execution_count": 101,
   "metadata": {
    "_uuid": "59bfcb9747def84019424c745dc8ae3dc8644b99"
   },
   "outputs": [
    {
     "name": "stdout",
     "output_type": "stream",
     "text": [
      "hyperparam lambda for l1 reg: {'C': 0.01}\n",
      "Test accuracy:  0.9671546407074385\n",
      "Train accuracy:  0.9999918690593315\n",
      "              precision    recall  f1-score   support\n",
      "\n",
      "          -1       0.89      0.59      0.71      3702\n",
      "           1       0.95      0.99      0.97     26298\n",
      "\n",
      "   micro avg       0.94      0.94      0.94     30000\n",
      "   macro avg       0.92      0.79      0.84     30000\n",
      "weighted avg       0.94      0.94      0.94     30000\n",
      "\n"
     ]
    },
    {
     "data": {
      "image/png": "[encoded data removed]",
      "text/plain": [
       "<Figure size 432x288 with 2 Axes>"
      ]
     },
     "metadata": {},
     "output_type": "display_data"
    }
   ],
   "source": [
    "# best hyperparam for l1 reg\n",
    "print(\"hyperparam lambda for l1 reg:\" ,tfidf_l1_clf_using_random.best_params_ )\n",
    "# test accuracy\n",
    "print('Test accuracy: ',tfidf_l1_clf_using_random.score(tfidf_std_X_test_matrix , Y_test))\n",
    "# train accuracy\n",
    "print('Train accuracy: ',tfidf_l1_clf_using_random.score(tfidf_std_X_train_matrix , Y_train))\n",
    "\n",
    "test_prediction = tfidf_l1_clf_using_random.predict(tfidf_std_X_test_matrix)\n",
    "print(classification_report(Y_test, test_prediction))\n",
    "import scikitplot.metrics as sciplot\n",
    "sciplot.plot_confusion_matrix(Y_test, test_prediction)\n",
    "plt.show()\n"
   ]
  },
  {
   "cell_type": "markdown",
   "metadata": {
    "_uuid": "e3aaa6250bca929eb6ea11760b847556ff124f0b"
   },
   "source": [
    "### checking how sparsity changes when lambda changes"
   ]
  },
  {
   "cell_type": "code",
   "execution_count": 102,
   "metadata": {
    "_uuid": "27135d51e3d202fe841f2e20523c3626d1d02884"
   },
   "outputs": [
    {
     "name": "stdout",
     "output_type": "stream",
     "text": [
      "______________________________________________________________________________\n",
      "C =  100\n",
      "              precision    recall  f1-score   support\n",
      "\n",
      "          -1       0.95      0.32      0.48      3702\n",
      "           1       0.91      1.00      0.95     26298\n",
      "\n",
      "   micro avg       0.91      0.91      0.91     30000\n",
      "   macro avg       0.93      0.66      0.72     30000\n",
      "weighted avg       0.92      0.91      0.89     30000\n",
      "\n",
      "______________________________________________________________________________\n",
      "______________________________________________________________________________\n",
      "C =  10\n",
      "              precision    recall  f1-score   support\n",
      "\n",
      "          -1       0.94      0.46      0.62      3702\n",
      "           1       0.93      1.00      0.96     26298\n",
      "\n",
      "   micro avg       0.93      0.93      0.93     30000\n",
      "   macro avg       0.93      0.73      0.79     30000\n",
      "weighted avg       0.93      0.93      0.92     30000\n",
      "\n",
      "______________________________________________________________________________\n",
      "______________________________________________________________________________\n",
      "C =  0.1\n",
      "              precision    recall  f1-score   support\n",
      "\n",
      "          -1       0.88      0.57      0.70      3702\n",
      "           1       0.94      0.99      0.97     26298\n",
      "\n",
      "   micro avg       0.94      0.94      0.94     30000\n",
      "   macro avg       0.91      0.78      0.83     30000\n",
      "weighted avg       0.94      0.94      0.93     30000\n",
      "\n",
      "______________________________________________________________________________\n",
      "______________________________________________________________________________\n",
      "C =  0.01\n",
      "              precision    recall  f1-score   support\n",
      "\n",
      "          -1       0.89      0.59      0.71      3702\n",
      "           1       0.95      0.99      0.97     26298\n",
      "\n",
      "   micro avg       0.94      0.94      0.94     30000\n",
      "   macro avg       0.92      0.79      0.84     30000\n",
      "weighted avg       0.94      0.94      0.94     30000\n",
      "\n",
      "______________________________________________________________________________\n",
      "______________________________________________________________________________\n",
      "C =  0.001\n",
      "              precision    recall  f1-score   support\n",
      "\n",
      "          -1       0.93      0.24      0.38      3702\n",
      "           1       0.90      1.00      0.95     26298\n",
      "\n",
      "   micro avg       0.90      0.90      0.90     30000\n",
      "   macro avg       0.92      0.62      0.66     30000\n",
      "weighted avg       0.91      0.90      0.88     30000\n",
      "\n",
      "______________________________________________________________________________\n"
     ]
    }
   ],
   "source": [
    "C = [100,10,0.1,0.01,0.001]\n",
    "acc=[]\n",
    "non_zero_weight = []\n",
    "\n",
    "for val in C:\n",
    "    model = LogisticRegression(C= val, penalty= 'l1')\n",
    "    model.fit(tfidf_std_X_train_matrix,Y_train)\n",
    "    prediction = model.predict(tfidf_std_X_test_matrix)\n",
    "    non_zero_weight.append(np.count_nonzero(model.coef_))\n",
    "    acc.append(accuracy_score(Y_test, prediction)*100)\n",
    "    print('______________________________________________________________________________')\n",
    "    print('C = ' , val)\n",
    "    print(classification_report(Y_test, prediction))\n",
    "    print('______________________________________________________________________________')"
   ]
  },
  {
   "cell_type": "code",
   "execution_count": 103,
   "metadata": {
    "_uuid": "d462677b2c080ff802e35ba96ed79a9859288510"
   },
   "outputs": [
    {
     "name": "stdout",
     "output_type": "stream",
     "text": [
      "C               [100, 10, 0.1, 0.01, 0.001]\n",
      "accuracy        [91.42333333333333, 93.0, 93.82000000000001, 94.1, 90.36333333333333]\n",
      "non zero weight [240281, 78989, 39047, 22555, 76]\n"
     ]
    }
   ],
   "source": [
    "print('C              ' , C)\n",
    "print('accuracy       ',acc)\n",
    "print('non zero weight' ,non_zero_weight )"
   ]
  },
  {
   "cell_type": "markdown",
   "metadata": {
    "_uuid": "042459b4a566177c13ec177e4007ef2d21860c0e"
   },
   "source": [
    "### Observation:\n",
    "Sparsity increases as value of lambda increases for l1 regulizer while accuracy first increased and then decreased."
   ]
  },
  {
   "cell_type": "markdown",
   "metadata": {
    "_uuid": "878bca1912fa0b7c0af0ff939bd414410cf64f85"
   },
   "source": [
    "### Pertubation"
   ]
  },
  {
   "cell_type": "code",
   "execution_count": 104,
   "metadata": {
    "_uuid": "2859d8a15acaf130006db59fec9e843c6cb6f9d0"
   },
   "outputs": [
    {
     "name": "stdout",
     "output_type": "stream",
     "text": [
      "weight vector before noise [[0.00171056 0.00095295 0.00142134 ... 0.0005425  0.00051023 0.1101261 ]]\n"
     ]
    }
   ],
   "source": [
    "model = LogisticRegression(C= 10, penalty= 'l2')\n",
    "model.fit(tfidf_std_X_train_matrix,Y_train)\n",
    "wv_before_noise = model.coef_\n",
    "print('weight vector before noise',wv_before_noise)\n",
    "\n",
    "# adding noise\n",
    "mu, sigma = 0, 0.00001 \n",
    "noise = np.random.normal(mu, sigma, 1) \n",
    "noise\n",
    "\n",
    "matrix_with_noise  = tfidf_std_X_train_matrix\n",
    "matrix_with_noise.data = matrix_with_noise.data + noise\n",
    "model.fit(matrix_with_noise, Y_train)\n",
    "wv_after_noise = model.coef_\n",
    "weight_change = np.abs(((wv_before_noise - wv_after_noise)+0.00001)/(wv_before_noise+0.00001) )*100"
   ]
  },
  {
   "cell_type": "code",
   "execution_count": 105,
   "metadata": {
    "_uuid": "05b379d69724bdc1e8024f219edf2af181da4f40"
   },
   "outputs": [
    {
     "data": {
      "image/png": "[encoded data removed]",
      "text/plain": [
       "<Figure size 432x288 with 1 Axes>"
      ]
     },
     "metadata": {},
     "output_type": "display_data"
    }
   ],
   "source": [
    "l1 =[ range(1,50)]\n",
    "\n",
    "count = []\n",
    "for i in range(1,50):\n",
    "    c = np.any(j<i for j in weight_change)\n",
    "    count.append(sum(sum(c)) / (len(weight_change[0]))*100)\n",
    "\n",
    "plt.plot(range(1,50) , count)\n",
    "plt.xlabel('thresold')\n",
    "plt.ylabel('% of weights above thresold')\n",
    "plt.show()       "
   ]
  },
  {
   "cell_type": "code",
   "execution_count": 106,
   "metadata": {
    "_uuid": "d4ba6eeebc2dbb429c90b8ef30fabc57e28fe43b"
   },
   "outputs": [
    {
     "name": "stdout",
     "output_type": "stream",
     "text": [
      "0.9301507069534056\n",
      "0.9513463096728905\n",
      "0.9701911785734404\n"
     ]
    }
   ],
   "source": [
    "# number of weights where weight change is less than 20%\n",
    "print(weight_change[np.where(weight_change < 20)].size/len(weight_change[0]))\n",
    "# number of weights where weight change is less than 30%\n",
    "print(weight_change[np.where(weight_change < 30)].size/len(weight_change[0]))\n",
    "# number of weights where weight change is less than 50%\n",
    "print(weight_change[np.where(weight_change < 50)].size/len(weight_change[0]))"
   ]
  },
  {
   "cell_type": "markdown",
   "metadata": {
    "_uuid": "25335974a4e7e154deafd8cf72111346a868572c"
   },
   "source": [
    "approx 99% of weights has weight change less than 50% hence less multicollinearity exit"
   ]
  },
  {
   "cell_type": "markdown",
   "metadata": {
    "_uuid": "f3e5735e231227d318ad52d5d4d936baa23cccf0"
   },
   "source": [
    "### Feature Importance"
   ]
  },
  {
   "cell_type": "code",
   "execution_count": 107,
   "metadata": {
    "_uuid": "c2464ded03cf932b242082562223012d54072734"
   },
   "outputs": [
    {
     "name": "stdout",
     "output_type": "stream",
     "text": [
      "\t\tNegative\t\tPostive\n",
      "________________________________________________________________________________________________\n",
      "\t-0.0871\tnot good       \t\t0.2710\tgreat          \n",
      "\t-0.0837\tnot worth      \t\t0.2310\tlove           \n",
      "\t-0.0805\tdisappoint     \t\t0.2064\tgood           \n",
      "\t-0.0718\tnot buy        \t\t0.1897\tbest           \n",
      "\t-0.0696\tworst          \t\t0.1450\tdelici         \n",
      "\t-0.0687\tterribl        \t\t0.1289\texcel          \n",
      "\t-0.0667\twould not      \t\t0.1127\tfavorit        \n",
      "\t-0.0654\tnot recommend  \t\t0.1068\tproduct        \n",
      "\t-0.0617\tsecond least   \t\t0.1047\tfind           \n",
      "\t-0.0614\twast money     \t\t0.1001\tyummi          \n"
     ]
    }
   ],
   "source": [
    "show_most_informative_features(tf_idf_vect , model)"
   ]
  },
  {
   "cell_type": "markdown",
   "metadata": {
    "_uuid": "db8c196f593c967a1323453c84f5b7bfc698d198"
   },
   "source": [
    "### Avg Word2Vec"
   ]
  },
  {
   "cell_type": "code",
   "execution_count": 108,
   "metadata": {
    "_uuid": "99af941121843e015a6bc9e59f1dde81299e9fae",
    "collapsed": true
   },
   "outputs": [],
   "source": [
    "list_of_sent=[]\n",
    "for sent in X_train.values:\n",
    "    list_of_sent.append(sent.split())\n",
    "    \n",
    "w2v_model=Word2Vec(list_of_sent,min_count=5,size=50, workers=4) \n",
    "\n",
    "sent_vectors = [];\n",
    "for sent in list_of_sent:\n",
    "    sent_vec = np.zeros(50)\n",
    "    cnt_words =0;\n",
    "    for word in sent:\n",
    "        if word in w2v_model:\n",
    "            vec = w2v_model.wv[word]\n",
    "            sent_vec += vec\n",
    "            cnt_words += 1\n",
    "    if cnt_words != 0:\n",
    "        sent_vec /= cnt_words\n",
    "    sent_vectors.append(sent_vec)\n",
    "\n",
    "w2vec_X_train_matrix = np.array(sent_vectors)"
   ]
  },
  {
   "cell_type": "code",
   "execution_count": 112,
   "metadata": {
    "_uuid": "df179ff3d5988c06a6d436323bee8a07d2ba01e0",
    "collapsed": true
   },
   "outputs": [],
   "source": [
    "list_of_sent=[]\n",
    "for sent in X_test.values:\n",
    "    list_of_sent.append(sent.split())\n",
    "    \n",
    "sent_vectors = [];\n",
    "for sent in list_of_sent:\n",
    "    sent_vec = np.zeros(50)\n",
    "    cnt_words =0;\n",
    "    for word in sent:\n",
    "        if word in w2v_model:\n",
    "            vec = w2v_model.wv[word]\n",
    "            sent_vec += vec\n",
    "            cnt_words += 1\n",
    "    if cnt_words != 0:\n",
    "        sent_vec /= cnt_words\n",
    "    sent_vectors.append(sent_vec)\n",
    "    \n",
    "w2vec_X_test_matrix = np.array(sent_vectors)\n"
   ]
  },
  {
   "cell_type": "code",
   "execution_count": 116,
   "metadata": {
    "_uuid": "fd50c69d031c73f6927ef5890ad888ab40aa7aac",
    "collapsed": true
   },
   "outputs": [],
   "source": [
    "# standrizing data\n",
    "w2vec_std_X_train_matrix = std_data(w2vec_X_train_matrix)\n",
    "w2vec_std_X_test_matrix = std_data(w2vec_X_test_matrix)"
   ]
  },
  {
   "cell_type": "markdown",
   "metadata": {
    "_uuid": "09e8aacdba64c235fb6e9e23492783b0075ed310"
   },
   "source": [
    "### Grid Search"
   ]
  },
  {
   "cell_type": "code",
   "execution_count": 130,
   "metadata": {
    "_uuid": "5073f8e1ab82b71409b6ce100b577b44b7aaa27d"
   },
   "outputs": [
    {
     "name": "stdout",
     "output_type": "stream",
     "text": [
      "f1_score for each C =  0.0001 is  0.9376977617563949\n",
      "f1_score for each C =  0.01 is  0.9547488731626522\n",
      "f1_score for each C =  1 is  0.9551524731730346\n",
      "f1_score for each C =  100 is  0.9552048166744035\n",
      "f1_score for each C =  10000 is  0.9551964790576227\n"
     ]
    }
   ],
   "source": [
    "tuned_parameters = [{'C': [10**-4, 10**-2, 10**0, 10**2, 10**4]}]\n",
    "# grid search\n",
    "LR_model = LogisticRegression(penalty = 'l2')\n",
    "tscv = TimeSeriesSplit(n_splits=10)\n",
    "w2vec_l2_clf_using_grid = GridSearchCV(LR_model, tuned_parameters, cv = tscv,scoring='f1' , n_jobs = -1)\n",
    "w2vec_l2_clf_using_grid.fit(w2vec_std_X_train_matrix , Y_train)\n",
    "\n",
    "cv_score = list(w2vec_l2_clf_using_grid.cv_results_.get('mean_test_score'))\n",
    "C_values = [10**-4, 10**-2, 10**0, 10**2, 10**4]\n",
    "for i in range(len(cv_score)):\n",
    "    print('f1_score for each C = ',C_values[i],'is ',cv_score[i] )\n"
   ]
  },
  {
   "cell_type": "code",
   "execution_count": 131,
   "metadata": {
    "_uuid": "a813b680007a43b4f162c04637151c98f94c1521"
   },
   "outputs": [
    {
     "name": "stdout",
     "output_type": "stream",
     "text": [
      "f1_score for each C =  0.0001 is  0.745496271755618\n",
      "f1_score for each C =  0.01 is  0.9524627242484321\n",
      "f1_score for each C =  1 is  0.9551382055058995\n",
      "f1_score for each C =  100 is  0.9551788991994292\n",
      "f1_score for each C =  10000 is  0.955196464518527\n"
     ]
    }
   ],
   "source": [
    "LR_model_l1 = LogisticRegression(penalty = 'l1')\n",
    "tscv = TimeSeriesSplit(n_splits=10)\n",
    "w2vec_l1_clf_using_grid = GridSearchCV(LR_model_l1, tuned_parameters, cv = tscv,scoring='f1' , n_jobs=-1)\n",
    "w2vec_l1_clf_using_grid.fit(w2vec_std_X_train_matrix , Y_train)\n",
    "\n",
    "cv_score = list(w2vec_l1_clf_using_grid.cv_results_.get('mean_test_score'))\n",
    "C_values = [10**-4, 10**-2, 10**0, 10**2, 10**4]\n",
    "for i in range(len(cv_score)):\n",
    "    print('f1_score for each C = ',C_values[i],'is ',cv_score[i] )"
   ]
  },
  {
   "cell_type": "code",
   "execution_count": 118,
   "metadata": {
    "_uuid": "9efd164bb88c63daa65c81d674bde970ad5a38ef"
   },
   "outputs": [
    {
     "data": {
      "image/png": "[encoded data removed]",
      "text/plain": [
       "<Figure size 432x288 with 1 Axes>"
      ]
     },
     "metadata": {},
     "output_type": "display_data"
    }
   ],
   "source": [
    "acc_score_l2= w2vec_l2_clf_using_grid.cv_results_.get('mean_test_score')\n",
    "error_l2 = [1-x for x in acc_score_l2]\n",
    "\n",
    "acc_score_l1= w2vec_l1_clf_using_grid.cv_results_.get('mean_test_score')\n",
    "error_l1 = [1-x for x in acc_score_l1]\n",
    "\n",
    "hyperparam = np.array( [10**-4, 10**-2, 10**0, 10**2, 10**4] )\n",
    "\n",
    "plt.plot(hyperparam ,error_l2 ,'b', label=\"l2\" )\n",
    "plt.plot(hyperparam ,error_l1 ,'r', label=\"l1\" )\n",
    "plt.xlabel('Hyperparam')\n",
    "plt.ylabel('Missclassification error')\n",
    "plt.title('Hyperparam vs misclassification error')\n",
    "plt.legend()\n",
    "plt.show()"
   ]
  },
  {
   "cell_type": "code",
   "execution_count": 119,
   "metadata": {
    "_uuid": "b1d558c30bcb127b2ea0afd3b3515e1e090988be"
   },
   "outputs": [
    {
     "name": "stdout",
     "output_type": "stream",
     "text": [
      "hyperparam lambda for l2 reg: {'C': 100}\n",
      "Test accuracy:  0.9540334742054996\n",
      "Train accuracy:  0.9557589747671734\n",
      "              precision    recall  f1-score   support\n",
      "\n",
      "          -1       0.74      0.52      0.61      3702\n",
      "           1       0.93      0.97      0.95     26298\n",
      "\n",
      "   micro avg       0.92      0.92      0.92     30000\n",
      "   macro avg       0.84      0.74      0.78     30000\n",
      "weighted avg       0.91      0.92      0.91     30000\n",
      "\n"
     ]
    },
    {
     "data": {
      "image/png": "[encoded data removed]",
      "text/plain": [
       "<Figure size 432x288 with 2 Axes>"
      ]
     },
     "metadata": {},
     "output_type": "display_data"
    }
   ],
   "source": [
    "# best hyperparam for l2 reg\n",
    "print(\"hyperparam lambda for l2 reg:\" ,w2vec_l2_clf_using_grid.best_params_ )\n",
    "# test accuracy\n",
    "print('Test accuracy: ',w2vec_l2_clf_using_grid.score(w2vec_std_X_test_matrix , Y_test))\n",
    "# train accuracy\n",
    "print('Train accuracy: ',w2vec_l2_clf_using_grid.score(w2vec_std_X_train_matrix , Y_train))\n",
    "\n",
    "test_prediction = w2vec_l2_clf_using_grid.predict(w2vec_std_X_test_matrix)\n",
    "print(classification_report(Y_test, test_prediction))\n",
    "import scikitplot.metrics as sciplot\n",
    "sciplot.plot_confusion_matrix(Y_test, test_prediction)\n",
    "plt.show()"
   ]
  },
  {
   "cell_type": "code",
   "execution_count": 120,
   "metadata": {
    "_uuid": "d23b4c947b027b5ae54fcdb54b1e5869e608702c"
   },
   "outputs": [
    {
     "name": "stdout",
     "output_type": "stream",
     "text": [
      "hyperparam lambda for l1 reg: {'C': 1}\n",
      "Test accuracy:  0.9540174249757987\n",
      "Train accuracy:  0.9557596790626592\n",
      "              precision    recall  f1-score   support\n",
      "\n",
      "          -1       0.74      0.52      0.61      3702\n",
      "           1       0.93      0.97      0.95     26298\n",
      "\n",
      "   micro avg       0.92      0.92      0.92     30000\n",
      "   macro avg       0.84      0.74      0.78     30000\n",
      "weighted avg       0.91      0.92      0.91     30000\n",
      "\n"
     ]
    },
    {
     "data": {
      "image/png": "[encoded data removed]",
      "text/plain": [
       "<Figure size 432x288 with 2 Axes>"
      ]
     },
     "metadata": {},
     "output_type": "display_data"
    }
   ],
   "source": [
    "print(\"hyperparam lambda for l1 reg:\" ,w2vec_l1_clf_using_grid.best_params_ )\n",
    "# test accuracy\n",
    "print('Test accuracy: ',w2vec_l1_clf_using_grid.score(w2vec_std_X_test_matrix , Y_test))\n",
    "# train accuracy\n",
    "print('Train accuracy: ',w2vec_l1_clf_using_grid.score(w2vec_std_X_train_matrix , Y_train))\n",
    "\n",
    "test_prediction = w2vec_l1_clf_using_grid.predict(w2vec_std_X_test_matrix)\n",
    "print(classification_report(Y_test, test_prediction))\n",
    "import scikitplot.metrics as sciplot\n",
    "sciplot.plot_confusion_matrix(Y_test, test_prediction)\n",
    "plt.show()"
   ]
  },
  {
   "cell_type": "markdown",
   "metadata": {
    "_uuid": "367c97e1239e8cdd75fbd7a70adc0736166a477f"
   },
   "source": [
    " ### Randomized Search"
   ]
  },
  {
   "cell_type": "code",
   "execution_count": 132,
   "metadata": {
    "_uuid": "71c5272986d57724e3b9c840c23fa65e2de51e54"
   },
   "outputs": [
    {
     "name": "stdout",
     "output_type": "stream",
     "text": [
      "f1_score for each C =  0.0001 is  0.9376977617563949\n",
      "f1_score for each C =  0.001 is  0.9502917610069528\n",
      "f1_score for each C =  0.01 is  0.9547488731626522\n",
      "f1_score for each C =  0.1 is  0.9552026499834799\n",
      "f1_score for each C =  1 is  0.9551524731730346\n",
      "f1_score for each C =  10 is  0.9551949555430072\n",
      "f1_score for each C =  100 is  0.9552048166744035\n",
      "f1_score for each C =  1000 is  0.9551964790576227\n",
      "f1_score for each C =  10000 is  0.9551964790576227\n",
      "f1_score for each C =  100000 is  0.9551964790576227\n",
      "--------------------------------------------------------------------------------------------\n",
      "f1_score for each C =  0.0001 is  0.745496271755618\n",
      "f1_score for each C =  0.001 is  0.9397479514063568\n",
      "f1_score for each C =  0.01 is  0.9524444498377826\n",
      "f1_score for each C =  0.1 is  0.9549859248778372\n",
      "f1_score for each C =  1 is  0.9551556764534351\n",
      "f1_score for each C =  10 is  0.9551424515296122\n",
      "f1_score for each C =  100 is  0.9551872777959193\n",
      "f1_score for each C =  1000 is  0.9551789582915202\n",
      "f1_score for each C =  10000 is  0.9551614357869488\n",
      "f1_score for each C =  100000 is  0.9552123865390747\n"
     ]
    }
   ],
   "source": [
    "tuned_parameters = {'C': [0.0001,0.001,0.01,0.1,1,10,100,1000,10000,100000]}\n",
    "# grid search\n",
    "LR_model = LogisticRegression(penalty = 'l2')\n",
    "tscv = TimeSeriesSplit(n_splits=10)\n",
    "w2vec_l2_clf_using_random = RandomizedSearchCV(LR_model, tuned_parameters, cv = tscv,scoring='f1' , n_jobs = -1)\n",
    "w2vec_l2_clf_using_random.fit(w2vec_std_X_train_matrix , Y_train)\n",
    "\n",
    "cv_score = list(w2vec_l2_clf_using_random.cv_results_.get('mean_test_score'))\n",
    "C_values = [0.0001,0.001,0.01,0.1,1,10,100,1000,10000,100000]\n",
    "for i in range(len(cv_score)):\n",
    "    print('f1_score for each C = ',C_values[i],'is ',cv_score[i] )\n",
    "\n",
    "print('--------------------------------------------------------------------------------------------')\n",
    "LR_model_l1 = LogisticRegression(penalty = 'l1')\n",
    "tscv = TimeSeriesSplit(n_splits=10)\n",
    "w2vec_l1_clf_using_random = RandomizedSearchCV(LR_model_l1, tuned_parameters, cv = tscv,scoring='f1' , n_jobs = -1)\n",
    "w2vec_l1_clf_using_random.fit(w2vec_std_X_train_matrix , Y_train)\n",
    "\n",
    "cv_score = list(w2vec_l1_clf_using_random.cv_results_.get('mean_test_score'))\n",
    "C_values = [0.0001,0.001,0.01,0.1,1,10,100,1000,10000,100000]\n",
    "for i in range(len(cv_score)):\n",
    "    print('f1_score for each C = ',C_values[i],'is ',cv_score[i] )\n"
   ]
  },
  {
   "cell_type": "code",
   "execution_count": 122,
   "metadata": {
    "_uuid": "1ac160056f606dad6dc1ee397b0667fec0ef1ef7"
   },
   "outputs": [
    {
     "data": {
      "image/png": "[encoded data removed]",
      "text/plain": [
       "<Figure size 432x288 with 1 Axes>"
      ]
     },
     "metadata": {},
     "output_type": "display_data"
    }
   ],
   "source": [
    "acc_score_l2= w2vec_l2_clf_using_random.cv_results_.get('mean_test_score')\n",
    "error_l2 = [1-x for x in acc_score_l2]\n",
    "\n",
    "acc_score_l1= w2vec_l1_clf_using_random.cv_results_.get('mean_test_score')\n",
    "error_l1 = [1-x for x in acc_score_l1]\n",
    "\n",
    "hyperparam = np.array( [0.0001,0.001,0.01,0.1,1,10,100,1000,10000,100000] )\n",
    "\n",
    "plt.plot(hyperparam ,error_l2 ,'b', label=\"l2\" )\n",
    "plt.plot(hyperparam ,error_l1 ,'r', label=\"l1\" )\n",
    "plt.xlabel('Hyperparam')\n",
    "plt.ylabel('Missclassification error')\n",
    "plt.title('Hyperparam vs misclassification error using random search cv')\n",
    "plt.legend()\n",
    "plt.show()"
   ]
  },
  {
   "cell_type": "code",
   "execution_count": 123,
   "metadata": {
    "_uuid": "3360682f434756af85f99306702b88e00f9de837"
   },
   "outputs": [
    {
     "name": "stdout",
     "output_type": "stream",
     "text": [
      "hyperparam lambda for l2 reg: {'C': 100}\n",
      "Test accuracy:  0.9540334742054996\n",
      "Train accuracy:  0.9557589747671734\n",
      "              precision    recall  f1-score   support\n",
      "\n",
      "          -1       0.74      0.52      0.61      3702\n",
      "           1       0.93      0.97      0.95     26298\n",
      "\n",
      "   micro avg       0.92      0.92      0.92     30000\n",
      "   macro avg       0.84      0.74      0.78     30000\n",
      "weighted avg       0.91      0.92      0.91     30000\n",
      "\n"
     ]
    },
    {
     "data": {
      "image/png": "[encoded data removed]",
      "text/plain": [
       "<Figure size 432x288 with 2 Axes>"
      ]
     },
     "metadata": {},
     "output_type": "display_data"
    }
   ],
   "source": [
    "# best hyperparam for l2 reg\n",
    "print(\"hyperparam lambda for l2 reg:\" ,w2vec_l2_clf_using_random.best_params_ )\n",
    "# test accuracy\n",
    "print('Test accuracy: ',w2vec_l2_clf_using_random.score(w2vec_std_X_test_matrix , Y_test))\n",
    "# train accuracy\n",
    "print('Train accuracy: ',w2vec_l2_clf_using_random.score(w2vec_std_X_train_matrix , Y_train))\n",
    "\n",
    "test_prediction = w2vec_l2_clf_using_random.predict(w2vec_std_X_test_matrix)\n",
    "print(classification_report(Y_test, test_prediction))\n",
    "import scikitplot.metrics as sciplot\n",
    "sciplot.plot_confusion_matrix(Y_test, test_prediction)\n",
    "plt.show()"
   ]
  },
  {
   "cell_type": "code",
   "execution_count": 124,
   "metadata": {
    "_uuid": "e6b8c00e20611b9fda271d494b3c3dd8150c9835"
   },
   "outputs": [
    {
     "name": "stdout",
     "output_type": "stream",
     "text": [
      "hyperparam lambda for l1 reg: {'C': 10}\n",
      "Test accuracy:  0.9539767649687221\n",
      "Train accuracy:  0.9557589747671734\n",
      "              precision    recall  f1-score   support\n",
      "\n",
      "          -1       0.74      0.52      0.61      3702\n",
      "           1       0.93      0.97      0.95     26298\n",
      "\n",
      "   micro avg       0.92      0.92      0.92     30000\n",
      "   macro avg       0.84      0.74      0.78     30000\n",
      "weighted avg       0.91      0.92      0.91     30000\n",
      "\n"
     ]
    },
    {
     "data": {
      "image/png": "[encoded data removed]",
      "text/plain": [
       "<Figure size 432x288 with 2 Axes>"
      ]
     },
     "metadata": {},
     "output_type": "display_data"
    }
   ],
   "source": [
    "# best hyperparam for l1 reg\n",
    "print(\"hyperparam lambda for l1 reg:\" ,w2vec_l1_clf_using_random.best_params_ )\n",
    "# test accuracy\n",
    "print('Test accuracy: ',w2vec_l1_clf_using_random.score(w2vec_std_X_test_matrix , Y_test))\n",
    "# train accuracy\n",
    "print('Train accuracy: ',w2vec_l1_clf_using_random.score(w2vec_std_X_train_matrix , Y_train))\n",
    "\n",
    "test_prediction = w2vec_l1_clf_using_random.predict(w2vec_std_X_test_matrix)\n",
    "print(classification_report(Y_test, test_prediction))\n",
    "import scikitplot.metrics as sciplot\n",
    "sciplot.plot_confusion_matrix(Y_test, test_prediction)\n",
    "plt.show()\n"
   ]
  },
  {
   "cell_type": "markdown",
   "metadata": {
    "_uuid": "0c80bfb5e6aec1309309341cecb0618e2745e19a"
   },
   "source": [
    "### Checking how the sparsity of wieght vector changes for different values of lamda"
   ]
  },
  {
   "cell_type": "code",
   "execution_count": 125,
   "metadata": {
    "_uuid": "027ecd31e929bbcb996e5e4916edf8bf3c1f74ab"
   },
   "outputs": [
    {
     "name": "stdout",
     "output_type": "stream",
     "text": [
      "______________________________________________________________________________\n",
      "C =  100\n",
      "              precision    recall  f1-score   support\n",
      "\n",
      "          -1       0.74      0.52      0.61      3702\n",
      "           1       0.93      0.97      0.95     26298\n",
      "\n",
      "   micro avg       0.92      0.92      0.92     30000\n",
      "   macro avg       0.84      0.74      0.78     30000\n",
      "weighted avg       0.91      0.92      0.91     30000\n",
      "\n",
      "______________________________________________________________________________\n",
      "______________________________________________________________________________\n",
      "C =  10\n",
      "              precision    recall  f1-score   support\n",
      "\n",
      "          -1       0.74      0.52      0.61      3702\n",
      "           1       0.93      0.97      0.95     26298\n",
      "\n",
      "   micro avg       0.92      0.92      0.92     30000\n",
      "   macro avg       0.84      0.74      0.78     30000\n",
      "weighted avg       0.91      0.92      0.91     30000\n",
      "\n",
      "______________________________________________________________________________\n",
      "______________________________________________________________________________\n",
      "C =  0.1\n",
      "              precision    recall  f1-score   support\n",
      "\n",
      "          -1       0.74      0.51      0.61      3702\n",
      "           1       0.93      0.97      0.95     26298\n",
      "\n",
      "   micro avg       0.92      0.92      0.92     30000\n",
      "   macro avg       0.84      0.74      0.78     30000\n",
      "weighted avg       0.91      0.92      0.91     30000\n",
      "\n",
      "______________________________________________________________________________\n",
      "______________________________________________________________________________\n",
      "C =  0.01\n",
      "              precision    recall  f1-score   support\n",
      "\n",
      "          -1       0.75      0.48      0.59      3702\n",
      "           1       0.93      0.98      0.95     26298\n",
      "\n",
      "   micro avg       0.92      0.92      0.92     30000\n",
      "   macro avg       0.84      0.73      0.77     30000\n",
      "weighted avg       0.91      0.92      0.91     30000\n",
      "\n",
      "______________________________________________________________________________\n",
      "______________________________________________________________________________\n",
      "C =  0.001\n",
      "              precision    recall  f1-score   support\n",
      "\n",
      "          -1       0.77      0.27      0.40      3702\n",
      "           1       0.91      0.99      0.95     26298\n",
      "\n",
      "   micro avg       0.90      0.90      0.90     30000\n",
      "   macro avg       0.84      0.63      0.67     30000\n",
      "weighted avg       0.89      0.90      0.88     30000\n",
      "\n",
      "______________________________________________________________________________\n"
     ]
    }
   ],
   "source": [
    "C = [100,10,0.1,0.01,0.001]\n",
    "acc=[]\n",
    "non_zero_weight = []\n",
    "\n",
    "for val in C:\n",
    "    model = LogisticRegression(C= val, penalty= 'l1')\n",
    "    model.fit(w2vec_std_X_train_matrix,Y_train)\n",
    "    prediction = model.predict(w2vec_std_X_test_matrix)\n",
    "    non_zero_weight.append(np.count_nonzero(model.coef_))\n",
    "    acc.append(accuracy_score(Y_test, prediction)*100)\n",
    "    print('______________________________________________________________________________')\n",
    "    print('C = ' , val)\n",
    "    print(classification_report(Y_test, prediction))\n",
    "    print('______________________________________________________________________________')"
   ]
  },
  {
   "cell_type": "code",
   "execution_count": 126,
   "metadata": {
    "_uuid": "98c4a5cfe4a14dfeb81df4930ac4bac0027736ec"
   },
   "outputs": [
    {
     "name": "stdout",
     "output_type": "stream",
     "text": [
      "C               [100, 10, 0.1, 0.01, 0.001]\n",
      "accuracy        [91.76666666666667, 91.76666666666667, 91.77666666666666, 91.66333333333333, 89.96333333333332]\n",
      "non zero weight [50, 50, 49, 44, 20]\n"
     ]
    }
   ],
   "source": [
    "print('C              ' , C)\n",
    "print('accuracy       ',acc)\n",
    "print('non zero weight' ,non_zero_weight )"
   ]
  },
  {
   "cell_type": "markdown",
   "metadata": {
    "_uuid": "ace7f6199910054682955c2e7c29b9e3015cddc1"
   },
   "source": [
    "## Tf-Idf W2Vec"
   ]
  },
  {
   "cell_type": "code",
   "execution_count": 134,
   "metadata": {
    "_uuid": "c08c2e31633fdc9a95c4adf7178a392e791a127a",
    "collapsed": true
   },
   "outputs": [],
   "source": [
    "list_of_sent=[]\n",
    "for sent in X_train.values:\n",
    "    list_of_sent.append(sent.split())\n",
    "\n",
    "#w2v_model=Word2Vec(list_of_sent,min_count=5,size=50, workers=4)\n",
    "\n",
    "model = TfidfVectorizer()\n",
    "tf_idf_matrix = model.fit_transform(X_train.values)\n",
    "# we are converting a dictionary with word as a key, and the idf as a value\n",
    "dictionary = dict(zip(model.get_feature_names(), list(model.idf_)))\n",
    "    \n",
    "tfidf_feat = tf_idf_vect.get_feature_names()\n",
    "tfidf_sent_vectors_X_train = []\n",
    "row=0\n",
    "for sent in list_of_sent: #list_of_sent\n",
    "    sent_vec = np.zeros(50)\n",
    "    weight_sum =0;\n",
    "    for word in sent:\n",
    "        if word in w2v_model:\n",
    "            vec = w2v_model.wv[word]\n",
    "         # obtain the tf_idfidf of a word in a sentence/review\n",
    "            tf_idf = dictionary[word]*(sent.count(word)/len(sent))\n",
    "            sent_vec += (vec * tf_idf)\n",
    "            weight_sum += tf_idf\n",
    "    if weight_sum != 0:\n",
    "        sent_vec /= weight_sum\n",
    "    tfidf_sent_vectors_X_train.append(sent_vec)\n",
    "    row += 1"
   ]
  },
  {
   "cell_type": "code",
   "execution_count": 135,
   "metadata": {
    "_uuid": "193e4f3aca3a9ef291f58b4c08b1a807438facc5",
    "collapsed": true
   },
   "outputs": [],
   "source": [
    "list_of_sent=[]\n",
    "for sent in X_test.values:\n",
    "    list_of_sent.append(sent.split())\n",
    "\n",
    "\n",
    "tfidf_sent_vectors_X_test = [];\n",
    "row=0;\n",
    "for sent in list_of_sent: #list_of_sent\n",
    "    sent_vec = np.zeros(50)\n",
    "    weight_sum =0;\n",
    "    for word in sent:\n",
    "        if word in w2v_model:\n",
    "            vec = w2v_model.wv[word]\n",
    "               # obtain the tf_idfidf of a word in a sentence/review\n",
    "            tf_idf = dictionary[word]*(sent.count(word)/len(sent))\n",
    "            sent_vec += (vec * tf_idf)\n",
    "            weight_sum += tf_idf\n",
    "    if weight_sum != 0:\n",
    "        sent_vec /= weight_sum\n",
    "    tfidf_sent_vectors_X_test.append(sent_vec)\n",
    "    row += 1\n"
   ]
  },
  {
   "cell_type": "code",
   "execution_count": 136,
   "metadata": {
    "_uuid": "e57b5a64d3c5a8d6896b8a1bb3395a5aacc92395",
    "collapsed": true
   },
   "outputs": [],
   "source": [
    "tfidf_w2vec_std_X_train_matrix = std_data(tfidf_sent_vectors_X_train)\n",
    "tfidf_w2vec_std_X_test_matrix = std_data(tfidf_sent_vectors_X_test)"
   ]
  },
  {
   "cell_type": "markdown",
   "metadata": {
    "_uuid": "b64669261b573921998af2beeea6c9dc77963ebc"
   },
   "source": [
    "### Grid Search"
   ]
  },
  {
   "cell_type": "code",
   "execution_count": 137,
   "metadata": {
    "_uuid": "137bb4d5796a22debaf777f92a38874223dc8e28"
   },
   "outputs": [
    {
     "data": {
      "text/plain": [
       "GridSearchCV(cv=TimeSeriesSplit(max_train_size=None, n_splits=10),\n",
       "       error_score='raise-deprecating',\n",
       "       estimator=LogisticRegression(C=1.0, class_weight=None, dual=False, fit_intercept=True,\n",
       "          intercept_scaling=1, max_iter=100, multi_class='warn',\n",
       "          n_jobs=None, penalty='l2', random_state=None, solver='warn',\n",
       "          tol=0.0001, verbose=0, warm_start=False),\n",
       "       fit_params=None, iid='warn', n_jobs=-1,\n",
       "       param_grid=[{'C': [0.0001, 0.01, 1, 100, 10000]}],\n",
       "       pre_dispatch='2*n_jobs', refit=True, return_train_score='warn',\n",
       "       scoring='f1', verbose=0)"
      ]
     },
     "execution_count": 137,
     "metadata": {},
     "output_type": "execute_result"
    }
   ],
   "source": [
    "tuned_parameters = [{'C': [10**-4, 10**-2, 10**0, 10**2, 10**4]}]\n",
    "# grid search\n",
    "LR_model = LogisticRegression(penalty = 'l2')\n",
    "tscv = TimeSeriesSplit(n_splits=10)\n",
    "tfidf_w2vec_l2_clf_using_grid = GridSearchCV(LR_model, tuned_parameters, cv = tscv,scoring='f1' , n_jobs = -1)\n",
    "tfidf_w2vec_l2_clf_using_grid.fit(tfidf_w2vec_std_X_train_matrix , Y_train)"
   ]
  },
  {
   "cell_type": "code",
   "execution_count": 138,
   "metadata": {
    "_uuid": "a2ad7c0764d9181b698a07c47a5906879564c298"
   },
   "outputs": [
    {
     "name": "stdout",
     "output_type": "stream",
     "text": [
      "f1_score for each C =  0.0001 is  0.9359200386290333\n",
      "f1_score for each C =  0.01 is  0.9481963780979842\n",
      "f1_score for each C =  1 is  0.9483355318571473\n",
      "f1_score for each C =  100 is  0.948379731152954\n",
      "f1_score for each C =  10000 is  0.948388832981235\n"
     ]
    }
   ],
   "source": [
    "cv_score = list(tfidf_w2vec_l2_clf_using_grid.cv_results_.get('mean_test_score'))\n",
    "C_values = [10**-4, 10**-2, 10**0, 10**2, 10**4]\n",
    "for i in range(len(cv_score)):\n",
    "    print('f1_score for each C = ',C_values[i],'is ',cv_score[i] )"
   ]
  },
  {
   "cell_type": "code",
   "execution_count": 140,
   "metadata": {
    "_uuid": "0ec01a1aa01e31665e0ec8fb5341063d2766e6e9"
   },
   "outputs": [
    {
     "data": {
      "text/plain": [
       "GridSearchCV(cv=TimeSeriesSplit(max_train_size=None, n_splits=10),\n",
       "       error_score='raise-deprecating',\n",
       "       estimator=LogisticRegression(C=1.0, class_weight=None, dual=False, fit_intercept=True,\n",
       "          intercept_scaling=1, max_iter=100, multi_class='warn',\n",
       "          n_jobs=None, penalty='l1', random_state=None, solver='warn',\n",
       "          tol=0.0001, verbose=0, warm_start=False),\n",
       "       fit_params=None, iid='warn', n_jobs=-1,\n",
       "       param_grid=[{'C': [0.0001, 0.01, 1, 100, 10000]}],\n",
       "       pre_dispatch='2*n_jobs', refit=True, return_train_score='warn',\n",
       "       scoring='f1', verbose=0)"
      ]
     },
     "execution_count": 140,
     "metadata": {},
     "output_type": "execute_result"
    }
   ],
   "source": [
    "LR_model_l1 = LogisticRegression(penalty = 'l1')\n",
    "tscv = TimeSeriesSplit(n_splits=10)\n",
    "tfidf_w2vec_l1_clf_using_grid = GridSearchCV(LR_model_l1, tuned_parameters, cv = tscv,scoring='f1' , n_jobs=-1)\n",
    "tfidf_w2vec_l1_clf_using_grid.fit(tfidf_w2vec_std_X_train_matrix , Y_train)"
   ]
  },
  {
   "cell_type": "code",
   "execution_count": 141,
   "metadata": {
    "_uuid": "7dfb9818a7943f7bc297ddbfe967b36f7605f5b5"
   },
   "outputs": [
    {
     "name": "stdout",
     "output_type": "stream",
     "text": [
      "f1_score for each C =  0.0001 is  0.6424943293640563\n",
      "f1_score for each C =  0.01 is  0.9459797356532305\n",
      "f1_score for each C =  1 is  0.9483921255231242\n",
      "f1_score for each C =  100 is  0.948320252381029\n",
      "f1_score for each C =  10000 is  0.9483367654836142\n"
     ]
    }
   ],
   "source": [
    "cv_score = list(tfidf_w2vec_l1_clf_using_grid.cv_results_.get('mean_test_score'))\n",
    "C_values = [10**-4, 10**-2, 10**0, 10**2, 10**4]\n",
    "for i in range(len(cv_score)):\n",
    "    print('f1_score for each C = ',C_values[i],'is ',cv_score[i] )"
   ]
  },
  {
   "cell_type": "code",
   "execution_count": 142,
   "metadata": {
    "_uuid": "7a9ab59c68e321088151ccc602c328b19369ebf5"
   },
   "outputs": [
    {
     "data": {
      "image/png": "[encoded data removed]",
      "text/plain": [
       "<Figure size 432x288 with 1 Axes>"
      ]
     },
     "metadata": {},
     "output_type": "display_data"
    }
   ],
   "source": [
    "acc_score_l2= tfidf_w2vec_l2_clf_using_grid.cv_results_.get('mean_test_score')\n",
    "error_l2 = [1-x for x in acc_score_l2]\n",
    "\n",
    "acc_score_l1= tfidf_w2vec_l1_clf_using_grid.cv_results_.get('mean_test_score')\n",
    "error_l1 = [1-x for x in acc_score_l1]\n",
    "\n",
    "hyperparam = np.array( [10**-4, 10**-2, 10**0, 10**2, 10**4] )\n",
    "\n",
    "plt.plot(hyperparam ,error_l2 ,'b', label=\"l2\" )\n",
    "plt.plot(hyperparam ,error_l1 ,'r', label=\"l1\" )\n",
    "plt.xlabel('Hyperparam')\n",
    "plt.ylabel('Missclassification error')\n",
    "plt.title('Hyperparam vs misclassification error')\n",
    "plt.legend()\n",
    "plt.show()"
   ]
  },
  {
   "cell_type": "code",
   "execution_count": 143,
   "metadata": {
    "_uuid": "867b850b9112456b5f88ce008050e610e932baae"
   },
   "outputs": [
    {
     "name": "stdout",
     "output_type": "stream",
     "text": [
      "hyperparam lambda for l2 reg: {'C': 10000}\n",
      "Test accuracy:  0.9479664299548096\n",
      "Train accuracy:  0.9486535972472141\n",
      "              precision    recall  f1-score   support\n",
      "\n",
      "          -1       0.71      0.40      0.51      3702\n",
      "           1       0.92      0.98      0.95     26298\n",
      "\n",
      "   micro avg       0.91      0.91      0.91     30000\n",
      "   macro avg       0.82      0.69      0.73     30000\n",
      "weighted avg       0.89      0.91      0.89     30000\n",
      "\n"
     ]
    },
    {
     "data": {
      "image/png": "[encoded data removed]",
      "text/plain": [
       "<Figure size 432x288 with 2 Axes>"
      ]
     },
     "metadata": {},
     "output_type": "display_data"
    }
   ],
   "source": [
    "# best hyperparam for l2 reg\n",
    "print(\"hyperparam lambda for l2 reg:\" ,tfidf_w2vec_l2_clf_using_grid.best_params_ )\n",
    "# test accuracy\n",
    "print('Test accuracy: ',tfidf_w2vec_l2_clf_using_grid.score(tfidf_w2vec_std_X_test_matrix , Y_test))\n",
    "# train accuracy\n",
    "print('Train accuracy: ',tfidf_w2vec_l2_clf_using_grid.score(tfidf_w2vec_std_X_train_matrix , Y_train))\n",
    "\n",
    "test_prediction = tfidf_w2vec_l2_clf_using_grid.predict(tfidf_w2vec_std_X_test_matrix)\n",
    "print(classification_report(Y_test, test_prediction))\n",
    "import scikitplot.metrics as sciplot\n",
    "sciplot.plot_confusion_matrix(Y_test, test_prediction)\n",
    "plt.show()"
   ]
  },
  {
   "cell_type": "code",
   "execution_count": 144,
   "metadata": {
    "_uuid": "5587e43a18fecc7d1c1830055cc8941692745146"
   },
   "outputs": [
    {
     "name": "stdout",
     "output_type": "stream",
     "text": [
      "hyperparam lambda for l2 reg: {'C': 1}\n",
      "Test accuracy:  0.9479547047323965\n",
      "Train accuracy:  0.9486360013572911\n",
      "              precision    recall  f1-score   support\n",
      "\n",
      "          -1       0.71      0.40      0.51      3702\n",
      "           1       0.92      0.98      0.95     26298\n",
      "\n",
      "   micro avg       0.91      0.91      0.91     30000\n",
      "   macro avg       0.82      0.69      0.73     30000\n",
      "weighted avg       0.89      0.91      0.89     30000\n",
      "\n"
     ]
    },
    {
     "data": {
      "image/png": "[encoded data removed]",
      "text/plain": [
       "<Figure size 432x288 with 2 Axes>"
      ]
     },
     "metadata": {},
     "output_type": "display_data"
    }
   ],
   "source": [
    "# best hyperparam for l1 reg\n",
    "print(\"hyperparam lambda for l2 reg:\" ,tfidf_w2vec_l1_clf_using_grid.best_params_ )\n",
    "# test accuracy\n",
    "print('Test accuracy: ',tfidf_w2vec_l1_clf_using_grid.score(tfidf_w2vec_std_X_test_matrix , Y_test))\n",
    "# train accuracy\n",
    "print('Train accuracy: ',tfidf_w2vec_l1_clf_using_grid.score(tfidf_w2vec_std_X_train_matrix , Y_train))\n",
    "\n",
    "test_prediction = tfidf_w2vec_l1_clf_using_grid.predict(tfidf_w2vec_std_X_test_matrix)\n",
    "print(classification_report(Y_test, test_prediction))\n",
    "import scikitplot.metrics as sciplot\n",
    "sciplot.plot_confusion_matrix(Y_test, test_prediction)\n",
    "plt.show()\n"
   ]
  },
  {
   "cell_type": "markdown",
   "metadata": {
    "_uuid": "7fbf6de73f0cdac9581699eb65737dc2bc66f15e"
   },
   "source": [
    "### Randomized Search"
   ]
  },
  {
   "cell_type": "code",
   "execution_count": 145,
   "metadata": {
    "_uuid": "9c4d40fc21350f463e7805de3cbc6355194ab990"
   },
   "outputs": [
    {
     "data": {
      "text/plain": [
       "RandomizedSearchCV(cv=TimeSeriesSplit(max_train_size=None, n_splits=10),\n",
       "          error_score='raise-deprecating',\n",
       "          estimator=LogisticRegression(C=1.0, class_weight=None, dual=False, fit_intercept=True,\n",
       "          intercept_scaling=1, max_iter=100, multi_class='warn',\n",
       "          n_jobs=None, penalty='l2', random_state=None, solver='warn',\n",
       "          tol=0.0001, verbose=0, warm_start=False),\n",
       "          fit_params=None, iid='warn', n_iter=10, n_jobs=-1,\n",
       "          param_distributions={'C': [0.0001, 0.001, 0.01, 0.1, 1, 10, 100, 1000, 10000, 100000]},\n",
       "          pre_dispatch='2*n_jobs', random_state=None, refit=True,\n",
       "          return_train_score='warn', scoring='f1', verbose=0)"
      ]
     },
     "execution_count": 145,
     "metadata": {},
     "output_type": "execute_result"
    }
   ],
   "source": [
    "tuned_parameters = {'C': [0.0001,0.001,0.01,0.1,1,10,100,1000,10000,100000]}\n",
    "# grid search\n",
    "LR_model = LogisticRegression(penalty = 'l2')\n",
    "tscv = TimeSeriesSplit(n_splits=10)\n",
    "tfidf_w2vec_l2_clf_using_random = RandomizedSearchCV(LR_model, tuned_parameters, cv = tscv,scoring='f1' , n_jobs = -1)\n",
    "tfidf_w2vec_l2_clf_using_random.fit(tfidf_w2vec_std_X_train_matrix , Y_train)\n"
   ]
  },
  {
   "cell_type": "code",
   "execution_count": 146,
   "metadata": {
    "_uuid": "a7dabaa7647f77d8dc9f5d5469479d8080a2a758"
   },
   "outputs": [
    {
     "name": "stdout",
     "output_type": "stream",
     "text": [
      "f1_score for each C =  0.0001 is  0.9359200386290333\n",
      "f1_score for each C =  0.001 is  0.9434503802185723\n",
      "f1_score for each C =  0.01 is  0.9481963780979842\n",
      "f1_score for each C =  0.1 is  0.9483984519040317\n",
      "f1_score for each C =  1 is  0.9483355318571473\n",
      "f1_score for each C =  10 is  0.9483558459448744\n",
      "f1_score for each C =  100 is  0.948379731152954\n",
      "f1_score for each C =  1000 is  0.948388832981235\n",
      "f1_score for each C =  10000 is  0.948388832981235\n",
      "f1_score for each C =  100000 is  0.948388832981235\n"
     ]
    }
   ],
   "source": [
    "cv_score = list(tfidf_w2vec_l2_clf_using_random.cv_results_.get('mean_test_score'))\n",
    "C_values = [0.0001,0.001,0.01,0.1,1,10,100,1000,10000,100000]\n",
    "for i in range(len(cv_score)):\n",
    "    print('f1_score for each C = ',C_values[i],'is ',cv_score[i] )"
   ]
  },
  {
   "cell_type": "code",
   "execution_count": 147,
   "metadata": {
    "_uuid": "157065be0e65ec45de0ae308a66bab79dcdf6858"
   },
   "outputs": [
    {
     "data": {
      "text/plain": [
       "RandomizedSearchCV(cv=TimeSeriesSplit(max_train_size=None, n_splits=10),\n",
       "          error_score='raise-deprecating',\n",
       "          estimator=LogisticRegression(C=1.0, class_weight=None, dual=False, fit_intercept=True,\n",
       "          intercept_scaling=1, max_iter=100, multi_class='warn',\n",
       "          n_jobs=None, penalty='l1', random_state=None, solver='warn',\n",
       "          tol=0.0001, verbose=0, warm_start=False),\n",
       "          fit_params=None, iid='warn', n_iter=10, n_jobs=-1,\n",
       "          param_distributions={'C': [0.0001, 0.001, 0.01, 0.1, 1, 10, 100, 1000, 10000, 100000]},\n",
       "          pre_dispatch='2*n_jobs', random_state=None, refit=True,\n",
       "          return_train_score='warn', scoring='f1', verbose=0)"
      ]
     },
     "execution_count": 147,
     "metadata": {},
     "output_type": "execute_result"
    }
   ],
   "source": [
    "LR_model_l1 = LogisticRegression(penalty = 'l1')\n",
    "tscv = TimeSeriesSplit(n_splits=10)\n",
    "tfidf_w2vec_l1_clf_using_random = RandomizedSearchCV(LR_model_l1, tuned_parameters, cv = tscv,scoring='f1' , n_jobs = -1)\n",
    "tfidf_w2vec_l1_clf_using_random.fit(tfidf_w2vec_std_X_train_matrix , Y_train)"
   ]
  },
  {
   "cell_type": "code",
   "execution_count": 148,
   "metadata": {
    "_uuid": "502042af35aca4544ebb09edc8e3ae3a286ca66d"
   },
   "outputs": [
    {
     "name": "stdout",
     "output_type": "stream",
     "text": [
      "f1_score for each C =  0.0001 is  0.9359200386290333\n",
      "f1_score for each C =  0.001 is  0.9434503802185723\n",
      "f1_score for each C =  0.01 is  0.9481963780979842\n",
      "f1_score for each C =  0.1 is  0.9483984519040317\n",
      "f1_score for each C =  1 is  0.9483355318571473\n",
      "f1_score for each C =  10 is  0.9483558459448744\n",
      "f1_score for each C =  100 is  0.948379731152954\n",
      "f1_score for each C =  1000 is  0.948388832981235\n",
      "f1_score for each C =  10000 is  0.948388832981235\n",
      "f1_score for each C =  100000 is  0.948388832981235\n"
     ]
    }
   ],
   "source": [
    "cv_score = list(tfidf_w2vec_l2_clf_using_random.cv_results_.get('mean_test_score'))\n",
    "C_values = [0.0001,0.001,0.01,0.1,1,10,100,1000,10000,100000]\n",
    "for i in range(len(cv_score)):\n",
    "    print('f1_score for each C = ',C_values[i],'is ',cv_score[i] )"
   ]
  },
  {
   "cell_type": "code",
   "execution_count": 149,
   "metadata": {
    "_uuid": "ce63fc751d3652ce48aed9e2656c683f9e562250"
   },
   "outputs": [
    {
     "data": {
      "image/png": "[encoded data removed]",
      "text/plain": [
       "<Figure size 432x288 with 1 Axes>"
      ]
     },
     "metadata": {},
     "output_type": "display_data"
    }
   ],
   "source": [
    "acc_score_l2= tfidf_w2vec_l2_clf_using_random.cv_results_.get('mean_test_score')\n",
    "error_l2 = [1-x for x in acc_score_l2]\n",
    "\n",
    "acc_score_l1= tfidf_w2vec_l1_clf_using_random.cv_results_.get('mean_test_score')\n",
    "error_l1 = [1-x for x in acc_score_l1]\n",
    "\n",
    "hyperparam = np.array( [0.0001,0.001,0.01,0.1,1,10,100,1000,10000,100000] )\n",
    "\n",
    "plt.plot(hyperparam ,error_l2 ,'b', label=\"l2\" )\n",
    "plt.plot(hyperparam ,error_l1 ,'r', label=\"l1\" )\n",
    "plt.xlabel('Hyperparam')\n",
    "plt.ylabel('Missclassification error')\n",
    "plt.title('Hyperparam vs misclassification error using random search cv')\n",
    "plt.legend()\n",
    "plt.show()"
   ]
  },
  {
   "cell_type": "code",
   "execution_count": 150,
   "metadata": {
    "_uuid": "5ac7ad1c65244dc2250818922a010101e487ea52"
   },
   "outputs": [
    {
     "name": "stdout",
     "output_type": "stream",
     "text": [
      "hyperparam lambda for l2 reg: {'C': 0.1}\n",
      "Test accuracy:  0.9479468220456181\n",
      "Train accuracy:  0.9486473479499175\n",
      "              precision    recall  f1-score   support\n",
      "\n",
      "          -1       0.71      0.40      0.51      3702\n",
      "           1       0.92      0.98      0.95     26298\n",
      "\n",
      "   micro avg       0.91      0.91      0.91     30000\n",
      "   macro avg       0.82      0.69      0.73     30000\n",
      "weighted avg       0.89      0.91      0.89     30000\n",
      "\n"
     ]
    },
    {
     "data": {
      "image/png": "[encoded data removed]",
      "text/plain": [
       "<Figure size 432x288 with 2 Axes>"
      ]
     },
     "metadata": {},
     "output_type": "display_data"
    }
   ],
   "source": [
    "# best hyperparam for l2 reg\n",
    "print(\"hyperparam lambda for l2 reg:\" ,tfidf_w2vec_l2_clf_using_random.best_params_ )\n",
    "# test accuracy\n",
    "print('Test accuracy: ',tfidf_w2vec_l2_clf_using_random.score(tfidf_w2vec_std_X_test_matrix , Y_test))\n",
    "# train accuracy\n",
    "print('Train accuracy: ',tfidf_w2vec_l2_clf_using_random.score(tfidf_w2vec_std_X_train_matrix , Y_train))\n",
    "\n",
    "test_prediction = tfidf_w2vec_l2_clf_using_random.predict(tfidf_w2vec_std_X_test_matrix)\n",
    "print(classification_report(Y_test, test_prediction))\n",
    "import scikitplot.metrics as sciplot\n",
    "sciplot.plot_confusion_matrix(Y_test, test_prediction)\n",
    "plt.show()"
   ]
  },
  {
   "cell_type": "code",
   "execution_count": 151,
   "metadata": {
    "_uuid": "911cdf7ef8c3b1e86a21dcbe7add74c94278b62b"
   },
   "outputs": [
    {
     "name": "stdout",
     "output_type": "stream",
     "text": [
      "hyperparam lambda for l1 reg: {'C': 1}\n",
      "Test accuracy:  0.9479353018203279\n",
      "Train accuracy:  0.9486473479499175\n",
      "              precision    recall  f1-score   support\n",
      "\n",
      "          -1       0.71      0.40      0.51      3702\n",
      "           1       0.92      0.98      0.95     26298\n",
      "\n",
      "   micro avg       0.91      0.91      0.91     30000\n",
      "   macro avg       0.82      0.69      0.73     30000\n",
      "weighted avg       0.89      0.91      0.89     30000\n",
      "\n"
     ]
    },
    {
     "data": {
      "image/png": "[encoded data removed]",
      "text/plain": [
       "<Figure size 432x288 with 2 Axes>"
      ]
     },
     "metadata": {},
     "output_type": "display_data"
    }
   ],
   "source": [
    "# best hyperparam for l1 reg\n",
    "print(\"hyperparam lambda for l1 reg:\" ,tfidf_w2vec_l1_clf_using_random.best_params_ )\n",
    "# test accuracy\n",
    "print('Test accuracy: ',tfidf_w2vec_l1_clf_using_random.score(tfidf_w2vec_std_X_test_matrix , Y_test))\n",
    "# train accuracy\n",
    "print('Train accuracy: ',tfidf_w2vec_l1_clf_using_random.score(tfidf_w2vec_std_X_train_matrix , Y_train))\n",
    "\n",
    "test_prediction = tfidf_w2vec_l1_clf_using_random.predict(tfidf_w2vec_std_X_test_matrix)\n",
    "print(classification_report(Y_test, test_prediction))\n",
    "import scikitplot.metrics as sciplot\n",
    "sciplot.plot_confusion_matrix(Y_test, test_prediction)\n",
    "plt.show()\n"
   ]
  },
  {
   "cell_type": "markdown",
   "metadata": {
    "_uuid": "3133d487a6b8d12924dc8b6fad399fd9a8e9418d"
   },
   "source": [
    "## sparsity vs lambda"
   ]
  },
  {
   "cell_type": "code",
   "execution_count": 152,
   "metadata": {
    "_uuid": "1f97ca07ef4d0f7405a1020015f0602d4c7fbbd2"
   },
   "outputs": [
    {
     "name": "stdout",
     "output_type": "stream",
     "text": [
      "______________________________________________________________________________\n",
      "C =  100\n",
      "              precision    recall  f1-score   support\n",
      "\n",
      "          -1       0.74      0.52      0.61      3702\n",
      "           1       0.93      0.97      0.95     26298\n",
      "\n",
      "   micro avg       0.92      0.92      0.92     30000\n",
      "   macro avg       0.84      0.74      0.78     30000\n",
      "weighted avg       0.91      0.92      0.91     30000\n",
      "\n",
      "______________________________________________________________________________\n",
      "______________________________________________________________________________\n",
      "C =  10\n",
      "              precision    recall  f1-score   support\n",
      "\n",
      "          -1       0.74      0.52      0.61      3702\n",
      "           1       0.93      0.97      0.95     26298\n",
      "\n",
      "   micro avg       0.92      0.92      0.92     30000\n",
      "   macro avg       0.84      0.74      0.78     30000\n",
      "weighted avg       0.91      0.92      0.91     30000\n",
      "\n",
      "______________________________________________________________________________\n",
      "______________________________________________________________________________\n",
      "C =  0.1\n",
      "              precision    recall  f1-score   support\n",
      "\n",
      "          -1       0.74      0.51      0.61      3702\n",
      "           1       0.93      0.97      0.95     26298\n",
      "\n",
      "   micro avg       0.92      0.92      0.92     30000\n",
      "   macro avg       0.84      0.74      0.78     30000\n",
      "weighted avg       0.91      0.92      0.91     30000\n",
      "\n",
      "______________________________________________________________________________\n",
      "______________________________________________________________________________\n",
      "C =  0.01\n",
      "              precision    recall  f1-score   support\n",
      "\n",
      "          -1       0.75      0.48      0.59      3702\n",
      "           1       0.93      0.98      0.95     26298\n",
      "\n",
      "   micro avg       0.92      0.92      0.92     30000\n",
      "   macro avg       0.84      0.73      0.77     30000\n",
      "weighted avg       0.91      0.92      0.91     30000\n",
      "\n",
      "______________________________________________________________________________\n",
      "______________________________________________________________________________\n",
      "C =  0.001\n",
      "              precision    recall  f1-score   support\n",
      "\n",
      "          -1       0.77      0.27      0.40      3702\n",
      "           1       0.91      0.99      0.95     26298\n",
      "\n",
      "   micro avg       0.90      0.90      0.90     30000\n",
      "   macro avg       0.84      0.63      0.67     30000\n",
      "weighted avg       0.89      0.90      0.88     30000\n",
      "\n",
      "______________________________________________________________________________\n"
     ]
    }
   ],
   "source": [
    "C = [100,10,0.1,0.01,0.001]\n",
    "acc=[]\n",
    "non_zero_weight = []\n",
    "\n",
    "for val in C:\n",
    "    model = LogisticRegression(C= val, penalty= 'l1')\n",
    "    model.fit(w2vec_std_X_train_matrix,Y_train)\n",
    "    prediction = model.predict(w2vec_std_X_test_matrix)\n",
    "    non_zero_weight.append(np.count_nonzero(model.coef_))\n",
    "    acc.append(accuracy_score(Y_test, prediction)*100)\n",
    "    print('______________________________________________________________________________')\n",
    "    print('C = ' , val)\n",
    "    print(classification_report(Y_test, prediction))\n",
    "    print('______________________________________________________________________________')"
   ]
  },
  {
   "cell_type": "code",
   "execution_count": 153,
   "metadata": {
    "_uuid": "9e6f1b573c7062c678d7962cf05745239a893232"
   },
   "outputs": [
    {
     "name": "stdout",
     "output_type": "stream",
     "text": [
      "C               [100, 10, 0.1, 0.01, 0.001]\n",
      "accuracy        [91.76666666666667, 91.76666666666667, 91.78, 91.67, 89.96333333333332]\n",
      "non zero weight [50, 50, 49, 44, 20]\n"
     ]
    }
   ],
   "source": [
    "print('C              ' , C)\n",
    "print('accuracy       ',acc)\n",
    "print('non zero weight' ,non_zero_weight )"
   ]
  },
  {
   "cell_type": "markdown",
   "metadata": {},
   "source": [
    "### Observation"
   ]
  },
  {
   "cell_type": "code",
   "execution_count": 1,
   "metadata": {
    "_uuid": "1aa7375db28ebef2b29fc818ade3b3b0d5459aa8"
   },
   "outputs": [],
   "source": [
    "from prettytable import PrettyTable\n",
    "x = PrettyTable()"
   ]
  },
  {
   "cell_type": "code",
   "execution_count": 2,
   "metadata": {
    "_uuid": "f349c92416876198c3da73c8343b2e71dcbac18a"
   },
   "outputs": [
    {
     "name": "stdout",
     "output_type": "stream",
     "text": [
      "+--------------+------------------+-----------+-------+----------------+---------------+----------+\n",
      "|  Vectorizer  | Cross Validation | Regulizer |   C   | Train accuracy | Test accuracy | f1-score |\n",
      "+--------------+------------------+-----------+-------+----------------+---------------+----------+\n",
      "|     BOW      |    GridSearch    |     L1    |  0.01 |      99.9      |      96.5     |   0.93   |\n",
      "|     BOW      |    GridSearch    |     L2    |  100  |      99.9      |      95.1     |   0.89   |\n",
      "|     BOW      |   RandomSearch   |     L1    |  0.01 |      99.9      |      96.5     |   0.93   |\n",
      "|     BOW      |   RandomSearch   |     L2    |  100  |      99.9      |      95.1     |   0.89   |\n",
      "|    TF-IDF    |    GridSearch    |     L1    |  0.01 |      99.9      |      96.7     |   0.94   |\n",
      "|    TF-IDF    |    GridSearch    |     L2    |  100  |      99.9      |      94.7     |   0.88   |\n",
      "|    TF-IDF    |   RandomSearch   |     L1    |  0.01 |      99.9      |      96.7     |   0.94   |\n",
      "|    TF-IDF    |   RandomSearch   |     L2    |  100  |      99.9      |      94.7     |   0.88   |\n",
      "|    W2vec     |    GridSearch    |     L1    |   1   |      95.5      |      95.4     |   0.91   |\n",
      "|    W2vec     |    GridSearch    |     L2    |  100  |      95.5      |      95.4     |   0.9    |\n",
      "|    W2vec     |   RandomSearch   |     L1    |   10  |      95.5      |      95.3     |   0.91   |\n",
      "|    W2vec     |   RandomSearch   |     L2    |  100  |      95.5      |      95.4     |   0.91   |\n",
      "| Tf-Idf W2vec |    GridSearch    |     L1    |   1   |      94.8      |      94.7     |   0.89   |\n",
      "| Tf-idf W2vec |    GridSearch    |     L2    | 10000 |      94.8      |      94.7     |   0.89   |\n",
      "| Tf-idf W2vec |   RandomSearch   |     L1    |   1   |      94.8      |      94.7     |   0.89   |\n",
      "| Tf-idf W2vec |   RandomSearch   |     L2    |  0.1  |      94.8      |      94.7     |   0.89   |\n",
      "+--------------+------------------+-----------+-------+----------------+---------------+----------+\n"
     ]
    }
   ],
   "source": [
    "x.field_names = [\"Vectorizer\", \"Cross Validation\", \"Regulizer\",\"C\", \"Train accuracy\" , \"Test accuracy\",\"f1-score\"]\n",
    "x.add_row(['BOW' , 'GridSearch' , 'L1' ,'0.01', '99.9','96.5','0.93' ])\n",
    "x.add_row(['BOW' , 'GridSearch' , 'L2' ,'100','99.9','95.1','0.89' ])\n",
    "x.add_row(['BOW' , 'RandomSearch' , 'L1' ,'0.01', '99.9','96.5','0.93' ])\n",
    "x.add_row(['BOW' , 'RandomSearch' , 'L2' , '100','99.9','95.1','0.89'])\n",
    "\n",
    "x.add_row(['TF-IDF' , 'GridSearch' , 'L1' ,'0.01', '99.9','96.7','0.94' ])\n",
    "x.add_row(['TF-IDF' , 'GridSearch' , 'L2' ,'100','99.9','94.7','0.88' ])\n",
    "x.add_row(['TF-IDF' , 'RandomSearch' , 'L1' ,'0.01', '99.9','96.7','0.94' ])\n",
    "x.add_row(['TF-IDF' , 'RandomSearch' , 'L2' , '100','99.9','94.7','0.88'])\n",
    "\n",
    "x.add_row(['W2vec' , 'GridSearch' , 'L1' ,'1', '95.5','95.4','0.91' ])\n",
    "x.add_row(['W2vec' , 'GridSearch' , 'L2' ,'100','95.5','95.4','0.9' ])\n",
    "x.add_row(['W2vec' , 'RandomSearch' , 'L1' ,'10','95.5','95.3','0.91' ])\n",
    "x.add_row(['W2vec' , 'RandomSearch' , 'L2' , '100','95.5','95.4','0.91'])\n",
    "\n",
    "x.add_row(['Tf-Idf W2vec' , 'GridSearch' , 'L1' ,'1', '94.8','94.7','0.89' ])\n",
    "x.add_row(['Tf-idf W2vec' , 'GridSearch' , 'L2' ,'10000','94.8','94.7','0.89' ])\n",
    "x.add_row(['Tf-idf W2vec' , 'RandomSearch' , 'L1' ,'1','94.8','94.7','0.89' ])\n",
    "x.add_row(['Tf-idf W2vec' , 'RandomSearch' , 'L2' , '0.1','94.8','94.7','0.89'])\n",
    "\n",
    "print(x)"
   ]
  },
  {
   "cell_type": "markdown",
   "metadata": {
    "_uuid": "c3cbce98fb6a2efa86dbf60362c45062b6fdedbc"
   },
   "source": [
    "#### Conclusion\n",
    "1. Performance of Logistic Regression on unseen  text data is quite good.\n",
    "2. Classification of text using logistic Regression with Vectorization techniques like BOW and Tf-Idf is better than average word2vec and tf-idf word2vec.\n",
    "3. the algorithm is fast, both the training and testing time was considerably lesser than other algorithms like kNN.\n",
    "4. Logistic Regression can perform well even in high dimensional data hence it is good for text classification.\n",
    "5. Performance of model was almost similar with GridSearch and RandomSearch cross validation\n",
    "6. Both regulizer l1 and l2 were giving almost similar results but l1 was little better. \n",
    "7. sparsity of weight vectore increases with incresing value of lambda.\n"
   ]
  },
  {
   "cell_type": "code",
   "execution_count": null,
   "metadata": {
    "_uuid": "3ae015f816f63cf9e07bc863fb26f76f006af3e9",
    "collapsed": true
   },
   "outputs": [],
   "source": []
  }
 ],
 "metadata": {
  "kernelspec": {
   "display_name": "Python 3",
   "language": "python",
   "name": "python3"
  },
  "language_info": {
   "codemirror_mode": {
    "name": "ipython",
    "version": 3
   },
   "file_extension": ".py",
   "mimetype": "text/x-python",
   "name": "python",
   "nbconvert_exporter": "python",
   "pygments_lexer": "ipython3",
   "version": "3.6.3"
  }
 },
 "nbformat": 4,
 "nbformat_minor": 1
}
