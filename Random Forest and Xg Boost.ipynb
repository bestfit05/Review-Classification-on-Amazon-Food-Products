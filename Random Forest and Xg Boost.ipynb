{
 "cells": [
  {
   "cell_type": "markdown",
   "metadata": {
    "_uuid": "d708dc2596f9925feb9e911d4997b1c3cd9db6dd"
   },
   "source": [
    "### Objective: To apply Random Forest and XGBoost on Amazon Fine Food Reviews"
   ]
  },
  {
   "cell_type": "code",
   "execution_count": 169,
   "metadata": {
    "_uuid": "7d8f2b757f1c28947f51e5576017f7c29db9addf",
    "collapsed": true
   },
   "outputs": [],
   "source": [
    "import warnings\n",
    "warnings.filterwarnings(\"ignore\")\n",
    "\n",
    "#import sqlite3\n",
    "import pandas as pd\n",
    "import numpy as np\n",
    "import nltk\n",
    "import string\n",
    "import matplotlib.pyplot as plt\n",
    "import seaborn as sns\n",
    "from sklearn.feature_extraction.text import TfidfTransformer\n",
    "from sklearn.feature_extraction.text import TfidfVectorizer\n",
    "\n",
    "from sklearn.feature_extraction.text import CountVectorizer\n",
    "from sklearn.metrics import confusion_matrix\n",
    "from sklearn import metrics\n",
    "from sklearn.metrics import roc_curve, auc\n",
    "from nltk.stem.porter import PorterStemmer\n",
    "\n",
    "import re\n",
    "\n",
    "import string\n",
    "from nltk.corpus import stopwords\n",
    "from nltk.stem import PorterStemmer\n",
    "from nltk.stem.wordnet import WordNetLemmatizer\n",
    "\n",
    "from gensim.models import Word2Vec\n",
    "from gensim.models import KeyedVectors\n",
    "import pickle\n"
   ]
  },
  {
   "cell_type": "code",
   "execution_count": 170,
   "metadata": {
    "_uuid": "8a5c6ece16f9adf11a621ce634d2e328bac68add",
    "collapsed": true
   },
   "outputs": [],
   "source": [
    "from sklearn.model_selection import train_test_split\n",
    "from sklearn.neighbors import KNeighborsClassifier\n",
    "from sklearn.metrics import accuracy_score\n",
    "from sklearn.model_selection import cross_val_score\n",
    "from collections import Counter\n",
    "from sklearn.metrics import accuracy_score\n",
    "from sklearn.model_selection import cross_validate\n"
   ]
  },
  {
   "cell_type": "code",
   "execution_count": 171,
   "metadata": {
    "_uuid": "859f17991109b1094a519ee45f55b9d20ed77bfd",
    "collapsed": true
   },
   "outputs": [],
   "source": [
    "from sklearn.decomposition import TruncatedSVD\n",
    "from sklearn.linear_model import LogisticRegression\n"
   ]
  },
  {
   "cell_type": "code",
   "execution_count": 172,
   "metadata": {
    "_uuid": "0f7949f7f69def79e579c51b20c5bf96385a3284",
    "collapsed": true
   },
   "outputs": [],
   "source": [
    "from sklearn.naive_bayes import MultinomialNB\n",
    "from sklearn.model_selection import TimeSeriesSplit,GridSearchCV\n",
    "#from sklearn.grid_search import GridSearchCV\n",
    "from sklearn.metrics import classification_report\n",
    "from sklearn.svm import SVC"
   ]
  },
  {
   "cell_type": "code",
   "execution_count": 173,
   "metadata": {
    "_uuid": "e5521a884531722d70aa85fb0d93f902d24dff15"
   },
   "outputs": [
    {
     "data": {
      "text/html": [
       "<div>\n",
       "<style scoped>\n",
       "    .dataframe tbody tr th:only-of-type {\n",
       "        vertical-align: middle;\n",
       "    }\n",
       "\n",
       "    .dataframe tbody tr th {\n",
       "        vertical-align: top;\n",
       "    }\n",
       "\n",
       "    .dataframe thead th {\n",
       "        text-align: right;\n",
       "    }\n",
       "</style>\n",
       "<table border=\"1\" class=\"dataframe\">\n",
       "  <thead>\n",
       "    <tr style=\"text-align: right;\">\n",
       "      <th></th>\n",
       "      <th>Id</th>\n",
       "      <th>ProductId</th>\n",
       "      <th>UserId</th>\n",
       "      <th>ProfileName</th>\n",
       "      <th>HelpfulnessNumerator</th>\n",
       "      <th>HelpfulnessDenominator</th>\n",
       "      <th>Score</th>\n",
       "      <th>Time</th>\n",
       "      <th>Summary</th>\n",
       "      <th>Text</th>\n",
       "    </tr>\n",
       "  </thead>\n",
       "  <tbody>\n",
       "    <tr>\n",
       "      <th>0</th>\n",
       "      <td>1</td>\n",
       "      <td>B001E4KFG0</td>\n",
       "      <td>A3SGXH7AUHU8GW</td>\n",
       "      <td>delmartian</td>\n",
       "      <td>1</td>\n",
       "      <td>1</td>\n",
       "      <td>5</td>\n",
       "      <td>1303862400</td>\n",
       "      <td>Good Quality Dog Food</td>\n",
       "      <td>I have bought several of the Vitality canned d...</td>\n",
       "    </tr>\n",
       "    <tr>\n",
       "      <th>1</th>\n",
       "      <td>2</td>\n",
       "      <td>B00813GRG4</td>\n",
       "      <td>A1D87F6ZCVE5NK</td>\n",
       "      <td>dll pa</td>\n",
       "      <td>0</td>\n",
       "      <td>0</td>\n",
       "      <td>1</td>\n",
       "      <td>1346976000</td>\n",
       "      <td>Not as Advertised</td>\n",
       "      <td>Product arrived labeled as Jumbo Salted Peanut...</td>\n",
       "    </tr>\n",
       "    <tr>\n",
       "      <th>2</th>\n",
       "      <td>3</td>\n",
       "      <td>B000LQOCH0</td>\n",
       "      <td>ABXLMWJIXXAIN</td>\n",
       "      <td>Natalia Corres \"Natalia Corres\"</td>\n",
       "      <td>1</td>\n",
       "      <td>1</td>\n",
       "      <td>4</td>\n",
       "      <td>1219017600</td>\n",
       "      <td>\"Delight\" says it all</td>\n",
       "      <td>This is a confection that has been around a fe...</td>\n",
       "    </tr>\n",
       "    <tr>\n",
       "      <th>3</th>\n",
       "      <td>4</td>\n",
       "      <td>B000UA0QIQ</td>\n",
       "      <td>A395BORC6FGVXV</td>\n",
       "      <td>Karl</td>\n",
       "      <td>3</td>\n",
       "      <td>3</td>\n",
       "      <td>2</td>\n",
       "      <td>1307923200</td>\n",
       "      <td>Cough Medicine</td>\n",
       "      <td>If you are looking for the secret ingredient i...</td>\n",
       "    </tr>\n",
       "    <tr>\n",
       "      <th>4</th>\n",
       "      <td>5</td>\n",
       "      <td>B006K2ZZ7K</td>\n",
       "      <td>A1UQRSCLF8GW1T</td>\n",
       "      <td>Michael D. Bigham \"M. Wassir\"</td>\n",
       "      <td>0</td>\n",
       "      <td>0</td>\n",
       "      <td>5</td>\n",
       "      <td>1350777600</td>\n",
       "      <td>Great taffy</td>\n",
       "      <td>Great taffy at a great price.  There was a wid...</td>\n",
       "    </tr>\n",
       "  </tbody>\n",
       "</table>\n",
       "</div>"
      ],
      "text/plain": [
       "   Id                        ...                                                                       Text\n",
       "0   1                        ...                          I have bought several of the Vitality canned d...\n",
       "1   2                        ...                          Product arrived labeled as Jumbo Salted Peanut...\n",
       "2   3                        ...                          This is a confection that has been around a fe...\n",
       "3   4                        ...                          If you are looking for the secret ingredient i...\n",
       "4   5                        ...                          Great taffy at a great price.  There was a wid...\n",
       "\n",
       "[5 rows x 10 columns]"
      ]
     },
     "execution_count": 173,
     "metadata": {},
     "output_type": "execute_result"
    }
   ],
   "source": [
    "# Loading data \n",
    "customer_reviews = pd.read_csv('../input/Reviews.csv')\n",
    "customer_reviews.head()"
   ]
  },
  {
   "cell_type": "code",
   "execution_count": 174,
   "metadata": {
    "_uuid": "ad7aa38b7f0fb08f2139d12af8cc9c6a87a28d4f"
   },
   "outputs": [
    {
     "data": {
      "text/plain": [
       "(568454, 10)"
      ]
     },
     "execution_count": 174,
     "metadata": {},
     "output_type": "execute_result"
    }
   ],
   "source": [
    "customer_reviews.shape \n",
    "# there are 568454 reviews food products from amazon"
   ]
  },
  {
   "cell_type": "code",
   "execution_count": 175,
   "metadata": {
    "_uuid": "87f17ac3957bf787aadaac581381ed0dad714115"
   },
   "outputs": [
    {
     "data": {
      "text/html": [
       "<div>\n",
       "<style scoped>\n",
       "    .dataframe tbody tr th:only-of-type {\n",
       "        vertical-align: middle;\n",
       "    }\n",
       "\n",
       "    .dataframe tbody tr th {\n",
       "        vertical-align: top;\n",
       "    }\n",
       "\n",
       "    .dataframe thead th {\n",
       "        text-align: right;\n",
       "    }\n",
       "</style>\n",
       "<table border=\"1\" class=\"dataframe\">\n",
       "  <thead>\n",
       "    <tr style=\"text-align: right;\">\n",
       "      <th></th>\n",
       "      <th>Id</th>\n",
       "      <th>ProductId</th>\n",
       "      <th>UserId</th>\n",
       "      <th>ProfileName</th>\n",
       "      <th>HelpfulnessNumerator</th>\n",
       "      <th>HelpfulnessDenominator</th>\n",
       "      <th>Score</th>\n",
       "      <th>Time</th>\n",
       "      <th>Summary</th>\n",
       "      <th>Text</th>\n",
       "    </tr>\n",
       "  </thead>\n",
       "  <tbody>\n",
       "    <tr>\n",
       "      <th>0</th>\n",
       "      <td>1</td>\n",
       "      <td>B001E4KFG0</td>\n",
       "      <td>A3SGXH7AUHU8GW</td>\n",
       "      <td>delmartian</td>\n",
       "      <td>1</td>\n",
       "      <td>1</td>\n",
       "      <td>5</td>\n",
       "      <td>1303862400</td>\n",
       "      <td>Good Quality Dog Food</td>\n",
       "      <td>I have bought several of the Vitality canned d...</td>\n",
       "    </tr>\n",
       "    <tr>\n",
       "      <th>1</th>\n",
       "      <td>2</td>\n",
       "      <td>B00813GRG4</td>\n",
       "      <td>A1D87F6ZCVE5NK</td>\n",
       "      <td>dll pa</td>\n",
       "      <td>0</td>\n",
       "      <td>0</td>\n",
       "      <td>1</td>\n",
       "      <td>1346976000</td>\n",
       "      <td>Not as Advertised</td>\n",
       "      <td>Product arrived labeled as Jumbo Salted Peanut...</td>\n",
       "    </tr>\n",
       "    <tr>\n",
       "      <th>2</th>\n",
       "      <td>3</td>\n",
       "      <td>B000LQOCH0</td>\n",
       "      <td>ABXLMWJIXXAIN</td>\n",
       "      <td>Natalia Corres \"Natalia Corres\"</td>\n",
       "      <td>1</td>\n",
       "      <td>1</td>\n",
       "      <td>4</td>\n",
       "      <td>1219017600</td>\n",
       "      <td>\"Delight\" says it all</td>\n",
       "      <td>This is a confection that has been around a fe...</td>\n",
       "    </tr>\n",
       "    <tr>\n",
       "      <th>3</th>\n",
       "      <td>4</td>\n",
       "      <td>B000UA0QIQ</td>\n",
       "      <td>A395BORC6FGVXV</td>\n",
       "      <td>Karl</td>\n",
       "      <td>3</td>\n",
       "      <td>3</td>\n",
       "      <td>2</td>\n",
       "      <td>1307923200</td>\n",
       "      <td>Cough Medicine</td>\n",
       "      <td>If you are looking for the secret ingredient i...</td>\n",
       "    </tr>\n",
       "    <tr>\n",
       "      <th>4</th>\n",
       "      <td>5</td>\n",
       "      <td>B006K2ZZ7K</td>\n",
       "      <td>A1UQRSCLF8GW1T</td>\n",
       "      <td>Michael D. Bigham \"M. Wassir\"</td>\n",
       "      <td>0</td>\n",
       "      <td>0</td>\n",
       "      <td>5</td>\n",
       "      <td>1350777600</td>\n",
       "      <td>Great taffy</td>\n",
       "      <td>Great taffy at a great price.  There was a wid...</td>\n",
       "    </tr>\n",
       "  </tbody>\n",
       "</table>\n",
       "</div>"
      ],
      "text/plain": [
       "   Id                        ...                                                                       Text\n",
       "0   1                        ...                          I have bought several of the Vitality canned d...\n",
       "1   2                        ...                          Product arrived labeled as Jumbo Salted Peanut...\n",
       "2   3                        ...                          This is a confection that has been around a fe...\n",
       "3   4                        ...                          If you are looking for the secret ingredient i...\n",
       "4   5                        ...                          Great taffy at a great price.  There was a wid...\n",
       "\n",
       "[5 rows x 10 columns]"
      ]
     },
     "execution_count": 175,
     "metadata": {},
     "output_type": "execute_result"
    }
   ],
   "source": [
    "# keeping those reviews where score is either less than 3 or greater than 3\n",
    "\n",
    "filtered_data = customer_reviews[customer_reviews.Score!=3]\n",
    "filtered_data.head()"
   ]
  },
  {
   "cell_type": "code",
   "execution_count": 176,
   "metadata": {
    "_uuid": "4652e2cb349903d29e997a0bd8373dcd671e376f"
   },
   "outputs": [
    {
     "data": {
      "text/plain": [
       "(525814, 10)"
      ]
     },
     "execution_count": 176,
     "metadata": {},
     "output_type": "execute_result"
    }
   ],
   "source": [
    "#looking at the number of attributes and size of the data after filtering\n",
    "filtered_data.shape"
   ]
  },
  {
   "cell_type": "code",
   "execution_count": 177,
   "metadata": {
    "_uuid": "d4f05e434ed61ae88b00f15ecbfcc83b38d9e12e"
   },
   "outputs": [
    {
     "data": {
      "text/html": [
       "<div>\n",
       "<style scoped>\n",
       "    .dataframe tbody tr th:only-of-type {\n",
       "        vertical-align: middle;\n",
       "    }\n",
       "\n",
       "    .dataframe tbody tr th {\n",
       "        vertical-align: top;\n",
       "    }\n",
       "\n",
       "    .dataframe thead th {\n",
       "        text-align: right;\n",
       "    }\n",
       "</style>\n",
       "<table border=\"1\" class=\"dataframe\">\n",
       "  <thead>\n",
       "    <tr style=\"text-align: right;\">\n",
       "      <th></th>\n",
       "      <th>Id</th>\n",
       "      <th>ProductId</th>\n",
       "      <th>UserId</th>\n",
       "      <th>ProfileName</th>\n",
       "      <th>HelpfulnessNumerator</th>\n",
       "      <th>HelpfulnessDenominator</th>\n",
       "      <th>Score</th>\n",
       "      <th>Time</th>\n",
       "      <th>Summary</th>\n",
       "      <th>Text</th>\n",
       "    </tr>\n",
       "  </thead>\n",
       "  <tbody>\n",
       "    <tr>\n",
       "      <th>0</th>\n",
       "      <td>1</td>\n",
       "      <td>B001E4KFG0</td>\n",
       "      <td>A3SGXH7AUHU8GW</td>\n",
       "      <td>delmartian</td>\n",
       "      <td>1</td>\n",
       "      <td>1</td>\n",
       "      <td>positive</td>\n",
       "      <td>1303862400</td>\n",
       "      <td>Good Quality Dog Food</td>\n",
       "      <td>I have bought several of the Vitality canned d...</td>\n",
       "    </tr>\n",
       "    <tr>\n",
       "      <th>1</th>\n",
       "      <td>2</td>\n",
       "      <td>B00813GRG4</td>\n",
       "      <td>A1D87F6ZCVE5NK</td>\n",
       "      <td>dll pa</td>\n",
       "      <td>0</td>\n",
       "      <td>0</td>\n",
       "      <td>negative</td>\n",
       "      <td>1346976000</td>\n",
       "      <td>Not as Advertised</td>\n",
       "      <td>Product arrived labeled as Jumbo Salted Peanut...</td>\n",
       "    </tr>\n",
       "    <tr>\n",
       "      <th>2</th>\n",
       "      <td>3</td>\n",
       "      <td>B000LQOCH0</td>\n",
       "      <td>ABXLMWJIXXAIN</td>\n",
       "      <td>Natalia Corres \"Natalia Corres\"</td>\n",
       "      <td>1</td>\n",
       "      <td>1</td>\n",
       "      <td>positive</td>\n",
       "      <td>1219017600</td>\n",
       "      <td>\"Delight\" says it all</td>\n",
       "      <td>This is a confection that has been around a fe...</td>\n",
       "    </tr>\n",
       "    <tr>\n",
       "      <th>3</th>\n",
       "      <td>4</td>\n",
       "      <td>B000UA0QIQ</td>\n",
       "      <td>A395BORC6FGVXV</td>\n",
       "      <td>Karl</td>\n",
       "      <td>3</td>\n",
       "      <td>3</td>\n",
       "      <td>negative</td>\n",
       "      <td>1307923200</td>\n",
       "      <td>Cough Medicine</td>\n",
       "      <td>If you are looking for the secret ingredient i...</td>\n",
       "    </tr>\n",
       "    <tr>\n",
       "      <th>4</th>\n",
       "      <td>5</td>\n",
       "      <td>B006K2ZZ7K</td>\n",
       "      <td>A1UQRSCLF8GW1T</td>\n",
       "      <td>Michael D. Bigham \"M. Wassir\"</td>\n",
       "      <td>0</td>\n",
       "      <td>0</td>\n",
       "      <td>positive</td>\n",
       "      <td>1350777600</td>\n",
       "      <td>Great taffy</td>\n",
       "      <td>Great taffy at a great price.  There was a wid...</td>\n",
       "    </tr>\n",
       "  </tbody>\n",
       "</table>\n",
       "</div>"
      ],
      "text/plain": [
       "   Id                        ...                                                                       Text\n",
       "0   1                        ...                          I have bought several of the Vitality canned d...\n",
       "1   2                        ...                          Product arrived labeled as Jumbo Salted Peanut...\n",
       "2   3                        ...                          This is a confection that has been around a fe...\n",
       "3   4                        ...                          If you are looking for the secret ingredient i...\n",
       "4   5                        ...                          Great taffy at a great price.  There was a wid...\n",
       "\n",
       "[5 rows x 10 columns]"
      ]
     },
     "execution_count": 177,
     "metadata": {},
     "output_type": "execute_result"
    }
   ],
   "source": [
    "# converting Score >3 into postive and <3 into negative\n",
    "\n",
    "def convert(x):\n",
    "    if x>3:\n",
    "        return \"positive\"\n",
    "    return \"negative\"\n",
    "\n",
    "\n",
    "filtered_data['Score'] = filtered_data['Score'].map(convert)\n",
    "filtered_data.head()"
   ]
  },
  {
   "cell_type": "markdown",
   "metadata": {
    "_uuid": "eab1adc00759e8e9ce42070896f246e7ebaba964"
   },
   "source": [
    "# Exploratory Data Analysis"
   ]
  },
  {
   "cell_type": "markdown",
   "metadata": {
    "_uuid": "2ad3b185cff62a8e26d8ffe1451b3ffdffc6aa2a"
   },
   "source": [
    "## Data Cleaning"
   ]
  },
  {
   "cell_type": "markdown",
   "metadata": {
    "_uuid": "86deef7eccac06ebf1c268860de6a2adebd869c8"
   },
   "source": [
    "After analysis it was found that a review with same parameter other than ProductId may belong to same product.Hence we first sort the data according to ProductId and then just keep first similar product review and delete the others"
   ]
  },
  {
   "cell_type": "code",
   "execution_count": 178,
   "metadata": {
    "_uuid": "2cde549cdc78bd6c3fb71f0f95ae47c18a5d6ca2"
   },
   "outputs": [
    {
     "data": {
      "text/plain": [
       "(364173, 10)"
      ]
     },
     "execution_count": 178,
     "metadata": {},
     "output_type": "execute_result"
    }
   ],
   "source": [
    "\n",
    "sorted_data = filtered_data.sort_values(['ProductId'])\n",
    "sorted_data.drop_duplicates({\"UserId\",\"ProfileName\",\"Time\",\"Text\"} , keep = 'first' , inplace = True )\n",
    "sorted_data.shape"
   ]
  },
  {
   "cell_type": "markdown",
   "metadata": {
    "_uuid": "3e5ac19e6217e4aaed365ec6cbd473e693ba2a43"
   },
   "source": [
    "### Observation:\n",
    "HelpfulnessNumerator is greater than HelpfulnessDenominator is not practically possible hence removing such rows\n"
   ]
  },
  {
   "cell_type": "code",
   "execution_count": 179,
   "metadata": {
    "_uuid": "bb7b5f917d8f707f64c73e7812364036bb784a7b"
   },
   "outputs": [
    {
     "data": {
      "text/plain": [
       "(364171, 10)"
      ]
     },
     "execution_count": 179,
     "metadata": {},
     "output_type": "execute_result"
    }
   ],
   "source": [
    "# removing rows where HelpfulnessNumerator is greater than HelpfulnessDenominator\n",
    "final_data = sorted_data[sorted_data.HelpfulnessNumerator <= sorted_data.HelpfulnessDenominator]\n",
    "final_data.shape"
   ]
  },
  {
   "cell_type": "code",
   "execution_count": 180,
   "metadata": {
    "_uuid": "6f47d4e314f650f8dcd98c5b34b541559813496a"
   },
   "outputs": [
    {
     "data": {
      "text/plain": [
       "69.25852107399194"
      ]
     },
     "execution_count": 180,
     "metadata": {},
     "output_type": "execute_result"
    }
   ],
   "source": [
    "\n",
    "# checking how much data is still remaining\n",
    "(final_data['Id'].size/filtered_data['Id'].size)*100"
   ]
  },
  {
   "cell_type": "markdown",
   "metadata": {
    "_uuid": "87b6f8846bdba3504344af6f90b7f6d58e342629"
   },
   "source": [
    "Only 69.25% of data is remaining after removing duplicates and non pratical values"
   ]
  },
  {
   "cell_type": "markdown",
   "metadata": {
    "_uuid": "0ae68059b308654abecbe61b51d3fe2e5fdc544f"
   },
   "source": [
    "# Text Preprocessing"
   ]
  },
  {
   "cell_type": "markdown",
   "metadata": {
    "_uuid": "2ab223e3a04e5f504de02e9a855ff72b8ce484cf"
   },
   "source": [
    "### Preprocessing phase involves following steps:\n",
    "1. removing the html tags\n",
    "2. Remove any punctuations or limited set of special characters like , or . or # etc.\n",
    "3. Check if the word is made up of english letters and is not alpha-numeric\n",
    "4. Check to see if the length of the word is greater than 2 (as it was researched that there is no adjective in 2-letters)\n",
    "5. Convert the word to lowercase\n",
    "6. Remove Stopwords\n",
    "7. Stemming "
   ]
  },
  {
   "cell_type": "code",
   "execution_count": 181,
   "metadata": {
    "_uuid": "b5bcc5560b45b5353ae61edb11775df76e01e48d"
   },
   "outputs": [
    {
     "name": "stdout",
     "output_type": "stream",
     "text": [
      "{'into', 'no', 'm', 'be', 'when', 'itself', 'haven', 's', \"haven't\", 't', 'who', 'didn', \"she's\", 'after', 'yours', \"it's\", 'this', \"should've\", 'an', 'has', 'off', 'both', 'being', \"won't\", 'wasn', 'you', 'that', 'just', 'our', 'why', 'with', 'whom', 'him', 'should', 'it', 'while', 'up', 'y', 'me', 'hers', 'its', 'he', \"wasn't\", 'were', 'did', 'how', 'once', 'of', 'any', 'other', 'doesn', 'above', 'she', 'yourself', 'mustn', 'himself', 'between', 'd', 'yourselves', 'own', \"mustn't\", 'because', \"you're\", 'each', 'do', 'during', 'a', \"shan't\", 'under', \"doesn't\", 'does', 'there', 'hadn', 'and', 'their', 'until', \"don't\", \"you'd\", 'we', 'what', 'over', 'if', 'now', 'can', 'shan', 'too', 'down', 'had', 'which', 'ain', 'they', 'for', 'from', \"you've\", 'won', 'more', 'in', 'will', \"isn't\", 'same', 'couldn', \"hadn't\", 'theirs', \"wouldn't\", 'myself', \"couldn't\", 'again', 'am', 'doing', 'on', 'against', 'to', 'shouldn', \"that'll\", 'have', 'such', 'through', 'wouldn', 'out', 'before', 'only', 're', 'those', 'isn', 'i', 'themselves', 'very', 'most', \"hasn't\", 'ma', 'or', 'having', 'at', 'mightn', 'here', 'these', 'was', 'herself', 'but', 'by', 'below', 'll', 'some', \"shouldn't\", 'nor', \"didn't\", 'about', 'your', 'been', 'needn', 'so', 'o', 'than', 'my', 'his', 'aren', \"mightn't\", 'ourselves', 'hasn', 'her', 'is', 'few', 've', \"needn't\", 'the', 'are', 'weren', 'all', \"aren't\", 'further', 'them', \"you'll\", 'don', \"weren't\", 'then', 'ours', 'where', 'as'}\n"
     ]
    }
   ],
   "source": [
    "#nltk.download('stopwords')\n",
    "stop = set(stopwords.words('english'))  # set of english stopwords\n",
    "stop.remove(\"not\")  \n",
    "print(stop)\n",
    "\n",
    "sno = nltk.stem.SnowballStemmer('english') # initializing snowball stemmer\n",
    "\n"
   ]
  },
  {
   "cell_type": "code",
   "execution_count": 182,
   "metadata": {
    "_uuid": "8f7648546e61cd58b7415d94fbdeef9a7e9519b4",
    "collapsed": true
   },
   "outputs": [],
   "source": [
    "def cleanhtml(sentence):    # function for removing html\n",
    "    cleanr = re.compile('<.*?>')\n",
    "    cleantxt = re.sub(cleanr , ' ' , str(sentence))\n",
    "    return cleantxt\n",
    "\n",
    "def cleanpunc(sentence):    # function for removing punctuation\n",
    "    clean = re.sub(r'[?|!|\\'|\"|#|.|,|)|(|\\|/]', r' ' , sentence)\n",
    "    return clean\n"
   ]
  },
  {
   "cell_type": "code",
   "execution_count": 183,
   "metadata": {
    "_uuid": "19cbbc26a531f249abdf0d1751636d0e29a042f0"
   },
   "outputs": [
    {
     "data": {
      "text/html": [
       "<div>\n",
       "<style scoped>\n",
       "    .dataframe tbody tr th:only-of-type {\n",
       "        vertical-align: middle;\n",
       "    }\n",
       "\n",
       "    .dataframe tbody tr th {\n",
       "        vertical-align: top;\n",
       "    }\n",
       "\n",
       "    .dataframe thead th {\n",
       "        text-align: right;\n",
       "    }\n",
       "</style>\n",
       "<table border=\"1\" class=\"dataframe\">\n",
       "  <thead>\n",
       "    <tr style=\"text-align: right;\">\n",
       "      <th></th>\n",
       "      <th>Id</th>\n",
       "      <th>ProductId</th>\n",
       "      <th>UserId</th>\n",
       "      <th>ProfileName</th>\n",
       "      <th>HelpfulnessNumerator</th>\n",
       "      <th>HelpfulnessDenominator</th>\n",
       "      <th>Score</th>\n",
       "      <th>Time</th>\n",
       "      <th>Summary</th>\n",
       "      <th>Text</th>\n",
       "      <th>com_text</th>\n",
       "    </tr>\n",
       "  </thead>\n",
       "  <tbody>\n",
       "    <tr>\n",
       "      <th>150523</th>\n",
       "      <td>150524</td>\n",
       "      <td>0006641040</td>\n",
       "      <td>ACITT7DI6IDDL</td>\n",
       "      <td>shari zychinski</td>\n",
       "      <td>0</td>\n",
       "      <td>0</td>\n",
       "      <td>positive</td>\n",
       "      <td>939340800</td>\n",
       "      <td>EVERY book is educational</td>\n",
       "      <td>this witty little book makes my son laugh at l...</td>\n",
       "      <td>EVERY book is educational this witty little bo...</td>\n",
       "    </tr>\n",
       "    <tr>\n",
       "      <th>150505</th>\n",
       "      <td>150506</td>\n",
       "      <td>0006641040</td>\n",
       "      <td>A2IW4PEEKO2R0U</td>\n",
       "      <td>Tracy</td>\n",
       "      <td>1</td>\n",
       "      <td>1</td>\n",
       "      <td>positive</td>\n",
       "      <td>1194739200</td>\n",
       "      <td>Love the book, miss the hard cover version</td>\n",
       "      <td>I grew up reading these Sendak books, and watc...</td>\n",
       "      <td>Love the book, miss the hard cover version I g...</td>\n",
       "    </tr>\n",
       "    <tr>\n",
       "      <th>150506</th>\n",
       "      <td>150507</td>\n",
       "      <td>0006641040</td>\n",
       "      <td>A1S4A3IQ2MU7V4</td>\n",
       "      <td>sally sue \"sally sue\"</td>\n",
       "      <td>1</td>\n",
       "      <td>1</td>\n",
       "      <td>positive</td>\n",
       "      <td>1191456000</td>\n",
       "      <td>chicken soup with rice months</td>\n",
       "      <td>This is a fun way for children to learn their ...</td>\n",
       "      <td>chicken soup with rice months This is a fun wa...</td>\n",
       "    </tr>\n",
       "    <tr>\n",
       "      <th>150507</th>\n",
       "      <td>150508</td>\n",
       "      <td>0006641040</td>\n",
       "      <td>AZGXZ2UUK6X</td>\n",
       "      <td>Catherine Hallberg \"(Kate)\"</td>\n",
       "      <td>1</td>\n",
       "      <td>1</td>\n",
       "      <td>positive</td>\n",
       "      <td>1076025600</td>\n",
       "      <td>a good swingy rhythm for reading aloud</td>\n",
       "      <td>This is a great little book to read aloud- it ...</td>\n",
       "      <td>a good swingy rhythm for reading aloud This is...</td>\n",
       "    </tr>\n",
       "    <tr>\n",
       "      <th>150508</th>\n",
       "      <td>150509</td>\n",
       "      <td>0006641040</td>\n",
       "      <td>A3CMRKGE0P909G</td>\n",
       "      <td>Teresa</td>\n",
       "      <td>3</td>\n",
       "      <td>4</td>\n",
       "      <td>positive</td>\n",
       "      <td>1018396800</td>\n",
       "      <td>A great way to learn the months</td>\n",
       "      <td>This is a book of poetry about the months of t...</td>\n",
       "      <td>A great way to learn the months This is a book...</td>\n",
       "    </tr>\n",
       "  </tbody>\n",
       "</table>\n",
       "</div>"
      ],
      "text/plain": [
       "            Id                        ...                                                                   com_text\n",
       "150523  150524                        ...                          EVERY book is educational this witty little bo...\n",
       "150505  150506                        ...                          Love the book, miss the hard cover version I g...\n",
       "150506  150507                        ...                          chicken soup with rice months This is a fun wa...\n",
       "150507  150508                        ...                          a good swingy rhythm for reading aloud This is...\n",
       "150508  150509                        ...                          A great way to learn the months This is a book...\n",
       "\n",
       "[5 rows x 11 columns]"
      ]
     },
     "execution_count": 183,
     "metadata": {},
     "output_type": "execute_result"
    }
   ],
   "source": [
    "final_data['com_text'] = final_data['Summary'] + ' ' + final_data['Text'] \n",
    "final_data.head()"
   ]
  },
  {
   "cell_type": "code",
   "execution_count": 184,
   "metadata": {
    "_uuid": "37f87516444854758485dc4ef3b2c13bee07bb2f",
    "collapsed": true
   },
   "outputs": [],
   "source": [
    "i = 0\n",
    "final_string = []\n",
    "all_pos_words = []\n",
    "all_neg_words = []\n",
    "str1 = ' '\n",
    "s = ' '\n",
    "ss = final_data['com_text'].values\n",
    "for sent in ss:\n",
    "    filtered_sentence=[]\n",
    "    #print(sent);\n",
    "    sent=cleanhtml(sent) # removing HTMl tags\n",
    "    for w in sent.split():\n",
    "        for cleaned_words in cleanpunc(w).split():\n",
    "            if((cleaned_words.isalpha()) & (len(cleaned_words)>2)):# checking if word is not alpha numeric and length is greater than 2\n",
    "                if(cleaned_words.lower() not in stop):\n",
    "                    s=(sno.stem(cleaned_words.lower())).encode('utf8')\n",
    "                    filtered_sentence.append(s)\n",
    "                    if (final_data['Score'].values)[i] == 'positive': \n",
    "                        all_pos_words.append(s) \n",
    "                    if(final_data['Score'].values)[i] == 'negative':\n",
    "                        all_neg_words.append(s) \n",
    "                else:\n",
    "                    continue\n",
    "            else:\n",
    "                continue \n",
    "    \n",
    "    str1 = b\" \".join(filtered_sentence) #final string of cleaned words\n",
    "    \n",
    "    \n",
    "    final_string.append(str1)\n",
    "    i+=1\n",
    "            \n",
    "        "
   ]
  },
  {
   "cell_type": "code",
   "execution_count": 185,
   "metadata": {
    "_uuid": "b18c3698a5c30742429364d2c0ade4ae741d8efd",
    "scrolled": true
   },
   "outputs": [
    {
     "data": {
      "text/plain": [
       "positive    307061\n",
       "negative     57110\n",
       "Name: Score, dtype: int64"
      ]
     },
     "execution_count": 185,
     "metadata": {},
     "output_type": "execute_result"
    }
   ],
   "source": [
    "final_data['CleanedText'] = final_string  # adding extra column for preprocessed review\n",
    "final_data['CleanedText'] = final_data['CleanedText'].str.decode(\"utf8\")\n",
    "#final_data.head()\n",
    "final_data['Score'].value_counts()"
   ]
  },
  {
   "cell_type": "code",
   "execution_count": 186,
   "metadata": {
    "_uuid": "c313e19effd02640a85fdce4417ef37b419eeaf1"
   },
   "outputs": [
    {
     "data": {
      "text/html": [
       "<div>\n",
       "<style scoped>\n",
       "    .dataframe tbody tr th:only-of-type {\n",
       "        vertical-align: middle;\n",
       "    }\n",
       "\n",
       "    .dataframe tbody tr th {\n",
       "        vertical-align: top;\n",
       "    }\n",
       "\n",
       "    .dataframe thead th {\n",
       "        text-align: right;\n",
       "    }\n",
       "</style>\n",
       "<table border=\"1\" class=\"dataframe\">\n",
       "  <thead>\n",
       "    <tr style=\"text-align: right;\">\n",
       "      <th></th>\n",
       "      <th>Id</th>\n",
       "      <th>ProductId</th>\n",
       "      <th>UserId</th>\n",
       "      <th>ProfileName</th>\n",
       "      <th>HelpfulnessNumerator</th>\n",
       "      <th>HelpfulnessDenominator</th>\n",
       "      <th>Score</th>\n",
       "      <th>Time</th>\n",
       "      <th>Summary</th>\n",
       "      <th>Text</th>\n",
       "      <th>com_text</th>\n",
       "      <th>CleanedText</th>\n",
       "    </tr>\n",
       "  </thead>\n",
       "  <tbody>\n",
       "    <tr>\n",
       "      <th>150523</th>\n",
       "      <td>150524</td>\n",
       "      <td>0006641040</td>\n",
       "      <td>ACITT7DI6IDDL</td>\n",
       "      <td>shari zychinski</td>\n",
       "      <td>0</td>\n",
       "      <td>0</td>\n",
       "      <td>positive</td>\n",
       "      <td>939340800</td>\n",
       "      <td>EVERY book is educational</td>\n",
       "      <td>this witty little book makes my son laugh at l...</td>\n",
       "      <td>EVERY book is educational this witty little bo...</td>\n",
       "      <td>everi book educ witti littl book make son laug...</td>\n",
       "    </tr>\n",
       "    <tr>\n",
       "      <th>150505</th>\n",
       "      <td>150506</td>\n",
       "      <td>0006641040</td>\n",
       "      <td>A2IW4PEEKO2R0U</td>\n",
       "      <td>Tracy</td>\n",
       "      <td>1</td>\n",
       "      <td>1</td>\n",
       "      <td>positive</td>\n",
       "      <td>1194739200</td>\n",
       "      <td>Love the book, miss the hard cover version</td>\n",
       "      <td>I grew up reading these Sendak books, and watc...</td>\n",
       "      <td>Love the book, miss the hard cover version I g...</td>\n",
       "      <td>love book miss hard cover version grew read se...</td>\n",
       "    </tr>\n",
       "    <tr>\n",
       "      <th>150506</th>\n",
       "      <td>150507</td>\n",
       "      <td>0006641040</td>\n",
       "      <td>A1S4A3IQ2MU7V4</td>\n",
       "      <td>sally sue \"sally sue\"</td>\n",
       "      <td>1</td>\n",
       "      <td>1</td>\n",
       "      <td>positive</td>\n",
       "      <td>1191456000</td>\n",
       "      <td>chicken soup with rice months</td>\n",
       "      <td>This is a fun way for children to learn their ...</td>\n",
       "      <td>chicken soup with rice months This is a fun wa...</td>\n",
       "      <td>chicken soup rice month fun way children learn...</td>\n",
       "    </tr>\n",
       "    <tr>\n",
       "      <th>150507</th>\n",
       "      <td>150508</td>\n",
       "      <td>0006641040</td>\n",
       "      <td>AZGXZ2UUK6X</td>\n",
       "      <td>Catherine Hallberg \"(Kate)\"</td>\n",
       "      <td>1</td>\n",
       "      <td>1</td>\n",
       "      <td>positive</td>\n",
       "      <td>1076025600</td>\n",
       "      <td>a good swingy rhythm for reading aloud</td>\n",
       "      <td>This is a great little book to read aloud- it ...</td>\n",
       "      <td>a good swingy rhythm for reading aloud This is...</td>\n",
       "      <td>good swingi rhythm read aloud great littl book...</td>\n",
       "    </tr>\n",
       "    <tr>\n",
       "      <th>150508</th>\n",
       "      <td>150509</td>\n",
       "      <td>0006641040</td>\n",
       "      <td>A3CMRKGE0P909G</td>\n",
       "      <td>Teresa</td>\n",
       "      <td>3</td>\n",
       "      <td>4</td>\n",
       "      <td>positive</td>\n",
       "      <td>1018396800</td>\n",
       "      <td>A great way to learn the months</td>\n",
       "      <td>This is a book of poetry about the months of t...</td>\n",
       "      <td>A great way to learn the months This is a book...</td>\n",
       "      <td>great way learn month book poetri month year g...</td>\n",
       "    </tr>\n",
       "  </tbody>\n",
       "</table>\n",
       "</div>"
      ],
      "text/plain": [
       "            Id                        ...                                                                CleanedText\n",
       "150523  150524                        ...                          everi book educ witti littl book make son laug...\n",
       "150505  150506                        ...                          love book miss hard cover version grew read se...\n",
       "150506  150507                        ...                          chicken soup rice month fun way children learn...\n",
       "150507  150508                        ...                          good swingi rhythm read aloud great littl book...\n",
       "150508  150509                        ...                          great way learn month book poetri month year g...\n",
       "\n",
       "[5 rows x 12 columns]"
      ]
     },
     "execution_count": 186,
     "metadata": {},
     "output_type": "execute_result"
    }
   ],
   "source": [
    "final_data.head()"
   ]
  },
  {
   "cell_type": "markdown",
   "metadata": {
    "_uuid": "6647f30c857fc9be0386bf16ed9a715778d12397"
   },
   "source": [
    "### Observation:\n",
    "Dataset is highly imbalanced. Out of 364171 reviews only 57110 reviews are negative and rest are positive. \n",
    " "
   ]
  },
  {
   "cell_type": "code",
   "execution_count": 187,
   "metadata": {
    "_uuid": "68e73a022892ec02265e4d15986b4467f839659d",
    "collapsed": true
   },
   "outputs": [],
   "source": [
    "# sorting whole  data based on time\n",
    "b = final_data\n",
    "b['Time'] = pd.to_datetime(b['Time'], unit = \"s\")\n",
    "b.sort_values('Time', inplace = True)\n",
    "\n",
    "#sampled_data.sort_values('Time',axis=0,kind=\"quicksort\", ascending=True , inplace = True)"
   ]
  },
  {
   "cell_type": "code",
   "execution_count": 188,
   "metadata": {
    "_uuid": "3744149276f27b2358c4cc5c2d6808a6fd82b17b"
   },
   "outputs": [
    {
     "data": {
      "text/html": [
       "<div>\n",
       "<style scoped>\n",
       "    .dataframe tbody tr th:only-of-type {\n",
       "        vertical-align: middle;\n",
       "    }\n",
       "\n",
       "    .dataframe tbody tr th {\n",
       "        vertical-align: top;\n",
       "    }\n",
       "\n",
       "    .dataframe thead th {\n",
       "        text-align: right;\n",
       "    }\n",
       "</style>\n",
       "<table border=\"1\" class=\"dataframe\">\n",
       "  <thead>\n",
       "    <tr style=\"text-align: right;\">\n",
       "      <th></th>\n",
       "      <th>Id</th>\n",
       "      <th>ProductId</th>\n",
       "      <th>UserId</th>\n",
       "      <th>ProfileName</th>\n",
       "      <th>HelpfulnessNumerator</th>\n",
       "      <th>HelpfulnessDenominator</th>\n",
       "      <th>Score</th>\n",
       "      <th>Time</th>\n",
       "      <th>Summary</th>\n",
       "      <th>Text</th>\n",
       "      <th>com_text</th>\n",
       "      <th>CleanedText</th>\n",
       "    </tr>\n",
       "  </thead>\n",
       "  <tbody>\n",
       "    <tr>\n",
       "      <th>150523</th>\n",
       "      <td>150524</td>\n",
       "      <td>0006641040</td>\n",
       "      <td>ACITT7DI6IDDL</td>\n",
       "      <td>shari zychinski</td>\n",
       "      <td>0</td>\n",
       "      <td>0</td>\n",
       "      <td>positive</td>\n",
       "      <td>1999-10-08</td>\n",
       "      <td>EVERY book is educational</td>\n",
       "      <td>this witty little book makes my son laugh at l...</td>\n",
       "      <td>EVERY book is educational this witty little bo...</td>\n",
       "      <td>everi book educ witti littl book make son laug...</td>\n",
       "    </tr>\n",
       "    <tr>\n",
       "      <th>150500</th>\n",
       "      <td>150501</td>\n",
       "      <td>0006641040</td>\n",
       "      <td>AJ46FKXOVC7NR</td>\n",
       "      <td>Nicholas A Mesiano</td>\n",
       "      <td>2</td>\n",
       "      <td>2</td>\n",
       "      <td>positive</td>\n",
       "      <td>1999-10-25</td>\n",
       "      <td>This whole series is great way to spend time w...</td>\n",
       "      <td>I can remember seeing the show when it aired o...</td>\n",
       "      <td>This whole series is great way to spend time w...</td>\n",
       "      <td>whole seri great way spend time child rememb s...</td>\n",
       "    </tr>\n",
       "    <tr>\n",
       "      <th>451855</th>\n",
       "      <td>451856</td>\n",
       "      <td>B00004CXX9</td>\n",
       "      <td>AIUWLEQ1ADEG5</td>\n",
       "      <td>Elizabeth Medina</td>\n",
       "      <td>0</td>\n",
       "      <td>0</td>\n",
       "      <td>positive</td>\n",
       "      <td>1999-12-02</td>\n",
       "      <td>Entertainingl Funny!</td>\n",
       "      <td>Beetlejuice is a well written movie ..... ever...</td>\n",
       "      <td>Entertainingl Funny! Beetlejuice is a well wri...</td>\n",
       "      <td>entertainingl funni beetlejuic well written mo...</td>\n",
       "    </tr>\n",
       "    <tr>\n",
       "      <th>374358</th>\n",
       "      <td>374359</td>\n",
       "      <td>B00004CI84</td>\n",
       "      <td>A344SMIA5JECGM</td>\n",
       "      <td>Vincent P. Ross</td>\n",
       "      <td>1</td>\n",
       "      <td>2</td>\n",
       "      <td>positive</td>\n",
       "      <td>1999-12-06</td>\n",
       "      <td>A modern day fairy tale</td>\n",
       "      <td>A twist of rumplestiskin captured on film, sta...</td>\n",
       "      <td>A modern day fairy tale A twist of rumplestisk...</td>\n",
       "      <td>modern day fairi tale twist rumplestiskin capt...</td>\n",
       "    </tr>\n",
       "    <tr>\n",
       "      <th>451854</th>\n",
       "      <td>451855</td>\n",
       "      <td>B00004CXX9</td>\n",
       "      <td>AJH6LUC1UT1ON</td>\n",
       "      <td>The Phantom of the Opera</td>\n",
       "      <td>0</td>\n",
       "      <td>0</td>\n",
       "      <td>positive</td>\n",
       "      <td>2000-01-03</td>\n",
       "      <td>FANTASTIC!</td>\n",
       "      <td>Beetlejuice is an excellent and funny movie. K...</td>\n",
       "      <td>FANTASTIC! Beetlejuice is an excellent and fun...</td>\n",
       "      <td>fantast beetlejuic excel funni movi keaton hil...</td>\n",
       "    </tr>\n",
       "    <tr>\n",
       "      <th>374421</th>\n",
       "      <td>374422</td>\n",
       "      <td>B00004CI84</td>\n",
       "      <td>A1048CYU0OV4O8</td>\n",
       "      <td>Judy L. Eans</td>\n",
       "      <td>2</td>\n",
       "      <td>2</td>\n",
       "      <td>positive</td>\n",
       "      <td>2000-01-09</td>\n",
       "      <td>GREAT</td>\n",
       "      <td>THIS IS ONE MOVIE THAT SHOULD BE IN YOUR MOVIE...</td>\n",
       "      <td>GREAT THIS IS ONE MOVIE THAT SHOULD BE IN YOUR...</td>\n",
       "      <td>great one movi movi collect fill comedi action...</td>\n",
       "    </tr>\n",
       "    <tr>\n",
       "      <th>374342</th>\n",
       "      <td>374343</td>\n",
       "      <td>B00004CI84</td>\n",
       "      <td>A1B2IZU1JLZA6</td>\n",
       "      <td>Wes</td>\n",
       "      <td>19</td>\n",
       "      <td>23</td>\n",
       "      <td>negative</td>\n",
       "      <td>2000-01-19</td>\n",
       "      <td>WARNING: CLAMSHELL EDITION IS EDITED TV VERSION</td>\n",
       "      <td>I, myself always enjoyed this movie, it's very...</td>\n",
       "      <td>WARNING: CLAMSHELL EDITION IS EDITED TV VERSIO...</td>\n",
       "      <td>clamshel edit edit version alway enjoy movi fu...</td>\n",
       "    </tr>\n",
       "    <tr>\n",
       "      <th>76881</th>\n",
       "      <td>76882</td>\n",
       "      <td>B00002N8SM</td>\n",
       "      <td>A32DW342WBJ6BX</td>\n",
       "      <td>Buttersugar</td>\n",
       "      <td>0</td>\n",
       "      <td>0</td>\n",
       "      <td>positive</td>\n",
       "      <td>2000-01-24</td>\n",
       "      <td>A sure death for flies</td>\n",
       "      <td>I bought a few of these after my apartment was...</td>\n",
       "      <td>A sure death for flies I bought a few of these...</td>\n",
       "      <td>sure death fli bought apart infest fruit fli h...</td>\n",
       "    </tr>\n",
       "    <tr>\n",
       "      <th>374449</th>\n",
       "      <td>374450</td>\n",
       "      <td>B00004CI84</td>\n",
       "      <td>ACJR7EQF9S6FP</td>\n",
       "      <td>Jeremy Robertson</td>\n",
       "      <td>2</td>\n",
       "      <td>3</td>\n",
       "      <td>positive</td>\n",
       "      <td>2000-02-26</td>\n",
       "      <td>Bettlejuice...Bettlejuice...BETTLEJUICE!</td>\n",
       "      <td>What happens when you say his name three times...</td>\n",
       "      <td>Bettlejuice...Bettlejuice...BETTLEJUICE! What ...</td>\n",
       "      <td>bettlejuic bettlejuic bettlejuic happen say na...</td>\n",
       "    </tr>\n",
       "    <tr>\n",
       "      <th>374399</th>\n",
       "      <td>374400</td>\n",
       "      <td>B00004CI84</td>\n",
       "      <td>A2DEE7F9XKP3ZR</td>\n",
       "      <td>jerome</td>\n",
       "      <td>0</td>\n",
       "      <td>3</td>\n",
       "      <td>positive</td>\n",
       "      <td>2000-06-03</td>\n",
       "      <td>Research - Beatlejuice video - French version</td>\n",
       "      <td>I'm getting crazy.I'm looking for Beatlejuice ...</td>\n",
       "      <td>Research - Beatlejuice video - French version ...</td>\n",
       "      <td>research beatlejuic video french version get c...</td>\n",
       "    </tr>\n",
       "    <tr>\n",
       "      <th>451902</th>\n",
       "      <td>451903</td>\n",
       "      <td>B00004CXX9</td>\n",
       "      <td>A2DEE7F9XKP3ZR</td>\n",
       "      <td>jerome</td>\n",
       "      <td>0</td>\n",
       "      <td>1</td>\n",
       "      <td>positive</td>\n",
       "      <td>2000-06-03</td>\n",
       "      <td>Research</td>\n",
       "      <td>I'm getting crazy.&lt;p&gt;Is it really impossible t...</td>\n",
       "      <td>Research I'm getting crazy.&lt;p&gt;Is it really imp...</td>\n",
       "      <td>research get crazi realli imposs today not fin...</td>\n",
       "    </tr>\n",
       "    <tr>\n",
       "      <th>1244</th>\n",
       "      <td>1245</td>\n",
       "      <td>B00002Z754</td>\n",
       "      <td>A29Z5PI9BW2PU3</td>\n",
       "      <td>Robbie</td>\n",
       "      <td>7</td>\n",
       "      <td>7</td>\n",
       "      <td>positive</td>\n",
       "      <td>2000-06-23</td>\n",
       "      <td>Great Product</td>\n",
       "      <td>This was a really good idea and the final prod...</td>\n",
       "      <td>Great Product This was a really good idea and ...</td>\n",
       "      <td>great product realli good idea final product o...</td>\n",
       "    </tr>\n",
       "    <tr>\n",
       "      <th>1243</th>\n",
       "      <td>1244</td>\n",
       "      <td>B00002Z754</td>\n",
       "      <td>A3B8RCEI0FXFI6</td>\n",
       "      <td>B G Chase</td>\n",
       "      <td>10</td>\n",
       "      <td>10</td>\n",
       "      <td>positive</td>\n",
       "      <td>2000-06-29</td>\n",
       "      <td>WOW Make your own 'slickers' !</td>\n",
       "      <td>I just received my shipment and could hardly w...</td>\n",
       "      <td>WOW Make your own 'slickers' ! I just received...</td>\n",
       "      <td>wow make slicker receiv shipment could hard wa...</td>\n",
       "    </tr>\n",
       "    <tr>\n",
       "      <th>131216</th>\n",
       "      <td>131217</td>\n",
       "      <td>B00004RAMX</td>\n",
       "      <td>A5NQLNC6QPGSI</td>\n",
       "      <td>Kim Nason</td>\n",
       "      <td>7</td>\n",
       "      <td>8</td>\n",
       "      <td>positive</td>\n",
       "      <td>2000-07-31</td>\n",
       "      <td>End your Gopher Problems</td>\n",
       "      <td>I have just recently purchased the Woodstream ...</td>\n",
       "      <td>End your Gopher Problems I have just recently ...</td>\n",
       "      <td>end gopher problem recent purchas woodstream c...</td>\n",
       "    </tr>\n",
       "    <tr>\n",
       "      <th>149769</th>\n",
       "      <td>149770</td>\n",
       "      <td>B00004S1C5</td>\n",
       "      <td>A1KXONFPU2XQ5K</td>\n",
       "      <td>Stephanie Manley</td>\n",
       "      <td>8</td>\n",
       "      <td>8</td>\n",
       "      <td>positive</td>\n",
       "      <td>2000-08-09</td>\n",
       "      <td>Very easy to use</td>\n",
       "      <td>This are so much easier to use than the Wilson...</td>\n",
       "      <td>Very easy to use This are so much easier to us...</td>\n",
       "      <td>easi use much easier use wilson past color col...</td>\n",
       "    </tr>\n",
       "    <tr>\n",
       "      <th>149788</th>\n",
       "      <td>149789</td>\n",
       "      <td>B00004S1C6</td>\n",
       "      <td>A1KXONFPU2XQ5K</td>\n",
       "      <td>Stephanie Manley</td>\n",
       "      <td>26</td>\n",
       "      <td>28</td>\n",
       "      <td>positive</td>\n",
       "      <td>2000-08-09</td>\n",
       "      <td>A must have!</td>\n",
       "      <td>These are easy to use, they do not make a mess...</td>\n",
       "      <td>A must have! These are easy to use, they do no...</td>\n",
       "      <td>must easi use not make mess offer vibrant colo...</td>\n",
       "    </tr>\n",
       "    <tr>\n",
       "      <th>374420</th>\n",
       "      <td>374421</td>\n",
       "      <td>B00004CI84</td>\n",
       "      <td>A1FJOY14X3MUHE</td>\n",
       "      <td>Justin Howard</td>\n",
       "      <td>2</td>\n",
       "      <td>2</td>\n",
       "      <td>positive</td>\n",
       "      <td>2000-08-15</td>\n",
       "      <td>A fresh, original film from master storyteller...</td>\n",
       "      <td>This is such a great film, I don't even know h...</td>\n",
       "      <td>A fresh, original film from master storyteller...</td>\n",
       "      <td>fresh origin film master storytel tim burton g...</td>\n",
       "    </tr>\n",
       "    <tr>\n",
       "      <th>374407</th>\n",
       "      <td>374408</td>\n",
       "      <td>B00004CI84</td>\n",
       "      <td>A1GB1Q193DNFGR</td>\n",
       "      <td>Bruce Lee Pullen</td>\n",
       "      <td>5</td>\n",
       "      <td>5</td>\n",
       "      <td>positive</td>\n",
       "      <td>2000-10-03</td>\n",
       "      <td>Fabulous Comedic Fanasy Directed by a Master</td>\n",
       "      <td>Beetlejuice is an awe-inspiring wonderfully am...</td>\n",
       "      <td>Fabulous Comedic Fanasy Directed by a Master B...</td>\n",
       "      <td>fabul comed fanasi direct master beetlejuic wo...</td>\n",
       "    </tr>\n",
       "    <tr>\n",
       "      <th>149767</th>\n",
       "      <td>149768</td>\n",
       "      <td>B00004S1C5</td>\n",
       "      <td>A7P76IGRZZBFJ</td>\n",
       "      <td>E. Thompson \"Soooooper Genius\"</td>\n",
       "      <td>18</td>\n",
       "      <td>18</td>\n",
       "      <td>positive</td>\n",
       "      <td>2000-12-05</td>\n",
       "      <td>Who Needs Wilton?</td>\n",
       "      <td>I'm sick of scads of nasty toothpicks all over...</td>\n",
       "      <td>Who Needs Wilton? I'm sick of scads of nasty t...</td>\n",
       "      <td>need wilton sick scad nasti toothpick counter ...</td>\n",
       "    </tr>\n",
       "    <tr>\n",
       "      <th>374382</th>\n",
       "      <td>374383</td>\n",
       "      <td>B00004CI84</td>\n",
       "      <td>A34NBH479RB0E</td>\n",
       "      <td>\"dmab6395\"</td>\n",
       "      <td>0</td>\n",
       "      <td>1</td>\n",
       "      <td>positive</td>\n",
       "      <td>2000-12-19</td>\n",
       "      <td>FUNNY</td>\n",
       "      <td>I THOUGHT THIS MOVIE WAS SO FUNNY, MICHAEL KEA...</td>\n",
       "      <td>FUNNY I THOUGHT THIS MOVIE WAS SO FUNNY, MICHA...</td>\n",
       "      <td>funni thought movi funni michael keaton beetle...</td>\n",
       "    </tr>\n",
       "  </tbody>\n",
       "</table>\n",
       "</div>"
      ],
      "text/plain": [
       "            Id                        ...                                                                CleanedText\n",
       "150523  150524                        ...                          everi book educ witti littl book make son laug...\n",
       "150500  150501                        ...                          whole seri great way spend time child rememb s...\n",
       "451855  451856                        ...                          entertainingl funni beetlejuic well written mo...\n",
       "374358  374359                        ...                          modern day fairi tale twist rumplestiskin capt...\n",
       "451854  451855                        ...                          fantast beetlejuic excel funni movi keaton hil...\n",
       "374421  374422                        ...                          great one movi movi collect fill comedi action...\n",
       "374342  374343                        ...                          clamshel edit edit version alway enjoy movi fu...\n",
       "76881    76882                        ...                          sure death fli bought apart infest fruit fli h...\n",
       "374449  374450                        ...                          bettlejuic bettlejuic bettlejuic happen say na...\n",
       "374399  374400                        ...                          research beatlejuic video french version get c...\n",
       "451902  451903                        ...                          research get crazi realli imposs today not fin...\n",
       "1244      1245                        ...                          great product realli good idea final product o...\n",
       "1243      1244                        ...                          wow make slicker receiv shipment could hard wa...\n",
       "131216  131217                        ...                          end gopher problem recent purchas woodstream c...\n",
       "149769  149770                        ...                          easi use much easier use wilson past color col...\n",
       "149788  149789                        ...                          must easi use not make mess offer vibrant colo...\n",
       "374420  374421                        ...                          fresh origin film master storytel tim burton g...\n",
       "374407  374408                        ...                          fabul comed fanasi direct master beetlejuic wo...\n",
       "149767  149768                        ...                          need wilton sick scad nasti toothpick counter ...\n",
       "374382  374383                        ...                          funni thought movi funni michael keaton beetle...\n",
       "\n",
       "[20 rows x 12 columns]"
      ]
     },
     "execution_count": 188,
     "metadata": {},
     "output_type": "execute_result"
    }
   ],
   "source": [
    "b.head(20) "
   ]
  },
  {
   "cell_type": "markdown",
   "metadata": {
    "_uuid": "94613d2bde24d0e6410dbe5f425b88b6bfb98197"
   },
   "source": [
    "After reading first few reviews it is found that the data still has few reviews that does not belong to food products. These reviews are of products like books or movies."
   ]
  },
  {
   "cell_type": "code",
   "execution_count": 189,
   "metadata": {
    "_uuid": "36dcc046eafb995bcbd976edb76502c7b972ba89",
    "collapsed": true
   },
   "outputs": [],
   "source": [
    "# removing reviews that belong to other products\n",
    "regex =  re.compile(r'book|entertaining|funny|movie|show|film|series|educational|storyteller|comedic') \n",
    "text =    b.Text.str.lower().str.contains(regex)\n",
    "b.drop(b[text].index , inplace=True )"
   ]
  },
  {
   "cell_type": "code",
   "execution_count": 190,
   "metadata": {
    "_uuid": "e4bcbd190e6459c531d3fae3b37516e5edcf9d16"
   },
   "outputs": [
    {
     "data": {
      "text/plain": [
       "(353205, 12)"
      ]
     },
     "execution_count": 190,
     "metadata": {},
     "output_type": "execute_result"
    }
   ],
   "source": [
    "# Number of reviews left\n",
    "b.shape"
   ]
  },
  {
   "cell_type": "code",
   "execution_count": 191,
   "metadata": {
    "_uuid": "459f5a1fa36750cc240b02ea370b2f33b7bc7b5d"
   },
   "outputs": [
    {
     "data": {
      "text/html": [
       "<div>\n",
       "<style scoped>\n",
       "    .dataframe tbody tr th:only-of-type {\n",
       "        vertical-align: middle;\n",
       "    }\n",
       "\n",
       "    .dataframe tbody tr th {\n",
       "        vertical-align: top;\n",
       "    }\n",
       "\n",
       "    .dataframe thead th {\n",
       "        text-align: right;\n",
       "    }\n",
       "</style>\n",
       "<table border=\"1\" class=\"dataframe\">\n",
       "  <thead>\n",
       "    <tr style=\"text-align: right;\">\n",
       "      <th></th>\n",
       "      <th>Id</th>\n",
       "      <th>ProductId</th>\n",
       "      <th>UserId</th>\n",
       "      <th>ProfileName</th>\n",
       "      <th>HelpfulnessNumerator</th>\n",
       "      <th>HelpfulnessDenominator</th>\n",
       "      <th>Score</th>\n",
       "      <th>Time</th>\n",
       "      <th>Summary</th>\n",
       "      <th>Text</th>\n",
       "      <th>com_text</th>\n",
       "      <th>CleanedText</th>\n",
       "      <th>text length</th>\n",
       "    </tr>\n",
       "  </thead>\n",
       "  <tbody>\n",
       "    <tr>\n",
       "      <th>76881</th>\n",
       "      <td>76882</td>\n",
       "      <td>B00002N8SM</td>\n",
       "      <td>A32DW342WBJ6BX</td>\n",
       "      <td>Buttersugar</td>\n",
       "      <td>0</td>\n",
       "      <td>0</td>\n",
       "      <td>positive</td>\n",
       "      <td>2000-01-24</td>\n",
       "      <td>A sure death for flies</td>\n",
       "      <td>I bought a few of these after my apartment was...</td>\n",
       "      <td>A sure death for flies I bought a few of these...</td>\n",
       "      <td>sure death fli bought apart infest fruit fli h...</td>\n",
       "      <td>172</td>\n",
       "    </tr>\n",
       "    <tr>\n",
       "      <th>374449</th>\n",
       "      <td>374450</td>\n",
       "      <td>B00004CI84</td>\n",
       "      <td>ACJR7EQF9S6FP</td>\n",
       "      <td>Jeremy Robertson</td>\n",
       "      <td>2</td>\n",
       "      <td>3</td>\n",
       "      <td>positive</td>\n",
       "      <td>2000-02-26</td>\n",
       "      <td>Bettlejuice...Bettlejuice...BETTLEJUICE!</td>\n",
       "      <td>What happens when you say his name three times...</td>\n",
       "      <td>Bettlejuice...Bettlejuice...BETTLEJUICE! What ...</td>\n",
       "      <td>bettlejuic bettlejuic bettlejuic happen say na...</td>\n",
       "      <td>633</td>\n",
       "    </tr>\n",
       "    <tr>\n",
       "      <th>1244</th>\n",
       "      <td>1245</td>\n",
       "      <td>B00002Z754</td>\n",
       "      <td>A29Z5PI9BW2PU3</td>\n",
       "      <td>Robbie</td>\n",
       "      <td>7</td>\n",
       "      <td>7</td>\n",
       "      <td>positive</td>\n",
       "      <td>2000-06-23</td>\n",
       "      <td>Great Product</td>\n",
       "      <td>This was a really good idea and the final prod...</td>\n",
       "      <td>Great Product This was a really good idea and ...</td>\n",
       "      <td>great product realli good idea final product o...</td>\n",
       "      <td>116</td>\n",
       "    </tr>\n",
       "    <tr>\n",
       "      <th>1243</th>\n",
       "      <td>1244</td>\n",
       "      <td>B00002Z754</td>\n",
       "      <td>A3B8RCEI0FXFI6</td>\n",
       "      <td>B G Chase</td>\n",
       "      <td>10</td>\n",
       "      <td>10</td>\n",
       "      <td>positive</td>\n",
       "      <td>2000-06-29</td>\n",
       "      <td>WOW Make your own 'slickers' !</td>\n",
       "      <td>I just received my shipment and could hardly w...</td>\n",
       "      <td>WOW Make your own 'slickers' ! I just received...</td>\n",
       "      <td>wow make slicker receiv shipment could hard wa...</td>\n",
       "      <td>250</td>\n",
       "    </tr>\n",
       "    <tr>\n",
       "      <th>131216</th>\n",
       "      <td>131217</td>\n",
       "      <td>B00004RAMX</td>\n",
       "      <td>A5NQLNC6QPGSI</td>\n",
       "      <td>Kim Nason</td>\n",
       "      <td>7</td>\n",
       "      <td>8</td>\n",
       "      <td>positive</td>\n",
       "      <td>2000-07-31</td>\n",
       "      <td>End your Gopher Problems</td>\n",
       "      <td>I have just recently purchased the Woodstream ...</td>\n",
       "      <td>End your Gopher Problems I have just recently ...</td>\n",
       "      <td>end gopher problem recent purchas woodstream c...</td>\n",
       "      <td>275</td>\n",
       "    </tr>\n",
       "  </tbody>\n",
       "</table>\n",
       "</div>"
      ],
      "text/plain": [
       "            Id     ...     text length\n",
       "76881    76882     ...             172\n",
       "374449  374450     ...             633\n",
       "1244      1245     ...             116\n",
       "1243      1244     ...             250\n",
       "131216  131217     ...             275\n",
       "\n",
       "[5 rows x 13 columns]"
      ]
     },
     "execution_count": 191,
     "metadata": {},
     "output_type": "execute_result"
    }
   ],
   "source": [
    "# creating a new column to get the length of each text\n",
    "b['text length'] = b['CleanedText'].apply(len)\n",
    "b.head()"
   ]
  },
  {
   "cell_type": "markdown",
   "metadata": {
    "_uuid": "808fbe9f6abdd6c8c8e2ab4f2398384c7e7f9746"
   },
   "source": [
    "Checking if text length could be used as a feature for calssification"
   ]
  },
  {
   "cell_type": "code",
   "execution_count": 192,
   "metadata": {
    "_uuid": "4dc73f935e7e38d187d97c1d57ad2636b1db3e27"
   },
   "outputs": [
    {
     "data": {
      "image/png": "[encoded data removed]",
      "text/plain": [
       "<Figure size 432x216 with 2 Axes>"
      ]
     },
     "metadata": {},
     "output_type": "display_data"
    }
   ],
   "source": [
    "import seaborn as sns\n",
    "g = sns.FacetGrid(data = b , col = 'Score')\n",
    "g.map(plt.hist , 'text length' , bins = 50)\n",
    "plt.show()"
   ]
  },
  {
   "cell_type": "code",
   "execution_count": 193,
   "metadata": {
    "_uuid": "53077b0191ab2b2879f3ae1353753fc29e572a57"
   },
   "outputs": [
    {
     "data": {
      "image/png": "[encoded data removed]",
      "text/plain": [
       "<Figure size 432x288 with 1 Axes>"
      ]
     },
     "metadata": {},
     "output_type": "display_data"
    }
   ],
   "source": [
    "sns.boxplot(x='Score', y='text length', data=b)\n",
    "plt.show()"
   ]
  },
  {
   "cell_type": "markdown",
   "metadata": {
    "_uuid": "96f1be10e01474d83c878b11e6f821eb3bcd1876"
   },
   "source": [
    "It seems clearer from above plots that text length  won't be a helpful featurer for classification"
   ]
  },
  {
   "cell_type": "markdown",
   "metadata": {
    "_uuid": "c514ffee9e1c646d5507efb7ce78214906b3d041"
   },
   "source": [
    "### Function for standardizing data"
   ]
  },
  {
   "cell_type": "code",
   "execution_count": 194,
   "metadata": {
    "_uuid": "664f815b85f24972b9647dd028654056d91a44bd",
    "collapsed": true
   },
   "outputs": [],
   "source": [
    "from sklearn.preprocessing import StandardScaler"
   ]
  },
  {
   "cell_type": "code",
   "execution_count": 195,
   "metadata": {
    "_uuid": "deb6ee5090b6da135a128f871552fa93c3d9b5ab",
    "collapsed": true
   },
   "outputs": [],
   "source": [
    "\n",
    "def std_data(matrix):\n",
    "    scaler  = StandardScaler(with_mean=False)\n",
    "    scaler.fit(matrix)\n",
    "    return scaler.transform(matrix) \n",
    " "
   ]
  },
  {
   "cell_type": "code",
   "execution_count": 196,
   "metadata": {
    "_uuid": "bb4f6aa77cb0647a6f792d131bdae6c3928efa53",
    "collapsed": true
   },
   "outputs": [],
   "source": [
    "# taking top 100k points from whole dataset\n",
    "sampled_data = b.head(100000)"
   ]
  },
  {
   "cell_type": "code",
   "execution_count": 197,
   "metadata": {
    "_uuid": "0982003f3844bda60b28e0c275999215ec9fb909"
   },
   "outputs": [
    {
     "data": {
      "text/html": [
       "<div>\n",
       "<style scoped>\n",
       "    .dataframe tbody tr th:only-of-type {\n",
       "        vertical-align: middle;\n",
       "    }\n",
       "\n",
       "    .dataframe tbody tr th {\n",
       "        vertical-align: top;\n",
       "    }\n",
       "\n",
       "    .dataframe thead th {\n",
       "        text-align: right;\n",
       "    }\n",
       "</style>\n",
       "<table border=\"1\" class=\"dataframe\">\n",
       "  <thead>\n",
       "    <tr style=\"text-align: right;\">\n",
       "      <th></th>\n",
       "      <th>Id</th>\n",
       "      <th>ProductId</th>\n",
       "      <th>UserId</th>\n",
       "      <th>ProfileName</th>\n",
       "      <th>HelpfulnessNumerator</th>\n",
       "      <th>HelpfulnessDenominator</th>\n",
       "      <th>Score</th>\n",
       "      <th>Time</th>\n",
       "      <th>Summary</th>\n",
       "      <th>Text</th>\n",
       "      <th>com_text</th>\n",
       "      <th>CleanedText</th>\n",
       "      <th>text length</th>\n",
       "    </tr>\n",
       "  </thead>\n",
       "  <tbody>\n",
       "    <tr>\n",
       "      <th>76881</th>\n",
       "      <td>76882</td>\n",
       "      <td>B00002N8SM</td>\n",
       "      <td>A32DW342WBJ6BX</td>\n",
       "      <td>Buttersugar</td>\n",
       "      <td>0</td>\n",
       "      <td>0</td>\n",
       "      <td>positive</td>\n",
       "      <td>2000-01-24</td>\n",
       "      <td>A sure death for flies</td>\n",
       "      <td>I bought a few of these after my apartment was...</td>\n",
       "      <td>A sure death for flies I bought a few of these...</td>\n",
       "      <td>sure death fli bought apart infest fruit fli h...</td>\n",
       "      <td>172</td>\n",
       "    </tr>\n",
       "    <tr>\n",
       "      <th>374449</th>\n",
       "      <td>374450</td>\n",
       "      <td>B00004CI84</td>\n",
       "      <td>ACJR7EQF9S6FP</td>\n",
       "      <td>Jeremy Robertson</td>\n",
       "      <td>2</td>\n",
       "      <td>3</td>\n",
       "      <td>positive</td>\n",
       "      <td>2000-02-26</td>\n",
       "      <td>Bettlejuice...Bettlejuice...BETTLEJUICE!</td>\n",
       "      <td>What happens when you say his name three times...</td>\n",
       "      <td>Bettlejuice...Bettlejuice...BETTLEJUICE! What ...</td>\n",
       "      <td>bettlejuic bettlejuic bettlejuic happen say na...</td>\n",
       "      <td>633</td>\n",
       "    </tr>\n",
       "    <tr>\n",
       "      <th>1244</th>\n",
       "      <td>1245</td>\n",
       "      <td>B00002Z754</td>\n",
       "      <td>A29Z5PI9BW2PU3</td>\n",
       "      <td>Robbie</td>\n",
       "      <td>7</td>\n",
       "      <td>7</td>\n",
       "      <td>positive</td>\n",
       "      <td>2000-06-23</td>\n",
       "      <td>Great Product</td>\n",
       "      <td>This was a really good idea and the final prod...</td>\n",
       "      <td>Great Product This was a really good idea and ...</td>\n",
       "      <td>great product realli good idea final product o...</td>\n",
       "      <td>116</td>\n",
       "    </tr>\n",
       "    <tr>\n",
       "      <th>1243</th>\n",
       "      <td>1244</td>\n",
       "      <td>B00002Z754</td>\n",
       "      <td>A3B8RCEI0FXFI6</td>\n",
       "      <td>B G Chase</td>\n",
       "      <td>10</td>\n",
       "      <td>10</td>\n",
       "      <td>positive</td>\n",
       "      <td>2000-06-29</td>\n",
       "      <td>WOW Make your own 'slickers' !</td>\n",
       "      <td>I just received my shipment and could hardly w...</td>\n",
       "      <td>WOW Make your own 'slickers' ! I just received...</td>\n",
       "      <td>wow make slicker receiv shipment could hard wa...</td>\n",
       "      <td>250</td>\n",
       "    </tr>\n",
       "    <tr>\n",
       "      <th>131216</th>\n",
       "      <td>131217</td>\n",
       "      <td>B00004RAMX</td>\n",
       "      <td>A5NQLNC6QPGSI</td>\n",
       "      <td>Kim Nason</td>\n",
       "      <td>7</td>\n",
       "      <td>8</td>\n",
       "      <td>positive</td>\n",
       "      <td>2000-07-31</td>\n",
       "      <td>End your Gopher Problems</td>\n",
       "      <td>I have just recently purchased the Woodstream ...</td>\n",
       "      <td>End your Gopher Problems I have just recently ...</td>\n",
       "      <td>end gopher problem recent purchas woodstream c...</td>\n",
       "      <td>275</td>\n",
       "    </tr>\n",
       "  </tbody>\n",
       "</table>\n",
       "</div>"
      ],
      "text/plain": [
       "            Id     ...     text length\n",
       "76881    76882     ...             172\n",
       "374449  374450     ...             633\n",
       "1244      1245     ...             116\n",
       "1243      1244     ...             250\n",
       "131216  131217     ...             275\n",
       "\n",
       "[5 rows x 13 columns]"
      ]
     },
     "execution_count": 197,
     "metadata": {},
     "output_type": "execute_result"
    }
   ],
   "source": [
    "sampled_data.head()"
   ]
  },
  {
   "cell_type": "code",
   "execution_count": 198,
   "metadata": {
    "_kg_hide-output": true,
    "_uuid": "01d92e0700eb784ee54fc8dea218a96db48aa349"
   },
   "outputs": [
    {
     "data": {
      "text/plain": [
       "76881     172\n",
       "374449    633\n",
       "1244      116\n",
       "1243      250\n",
       "131216    275\n",
       "149769    152\n",
       "149788    108\n",
       "149767    198\n",
       "374448    347\n",
       "149791    138\n",
       "374334    321\n",
       "361316    399\n",
       "479722    356\n",
       "479729    252\n",
       "361308    423\n",
       "374356    177\n",
       "479727    379\n",
       "479723    367\n",
       "149784    490\n",
       "361310    141\n",
       "149786     56\n",
       "149700    351\n",
       "149701    592\n",
       "149699    334\n",
       "245107    875\n",
       "149785    320\n",
       "479724    240\n",
       "361309    606\n",
       "479735    113\n",
       "374327    157\n",
       "         ... \n",
       "326989    310\n",
       "91791     218\n",
       "90857     649\n",
       "304295    297\n",
       "115401    196\n",
       "525383    133\n",
       "51999     237\n",
       "85361     640\n",
       "427527    146\n",
       "166404     98\n",
       "142462    202\n",
       "47396     134\n",
       "172368     93\n",
       "206567    134\n",
       "501417    102\n",
       "367336    366\n",
       "162839     52\n",
       "401969     67\n",
       "157107    190\n",
       "498899    486\n",
       "101731    309\n",
       "370289     98\n",
       "358177     70\n",
       "112371    255\n",
       "37135     192\n",
       "197247    118\n",
       "129113     96\n",
       "355012    112\n",
       "27258     174\n",
       "261250    157\n",
       "Name: text length, Length: 100000, dtype: int64"
      ]
     },
     "execution_count": 198,
     "metadata": {},
     "output_type": "execute_result"
    }
   ],
   "source": [
    "sampled_data['text length']"
   ]
  },
  {
   "cell_type": "code",
   "execution_count": 199,
   "metadata": {
    "_uuid": "b44f8f0324fa7a00f6167ebc8beac80b47e03b43",
    "collapsed": true
   },
   "outputs": [],
   "source": [
    "# breaking data into train and test set\n",
    "def response_label(sign):\n",
    "    if sign == \"positive\":\n",
    "        return 1\n",
    "    else:\n",
    "        return -1\n",
    "    \n",
    "sampled_data[\"Score\"] = sampled_data[\"Score\"].map(response_label)\n",
    "X_train, X_test, Y_train, Y_test  , len_train , len_test= train_test_split(sampled_data['CleanedText'],sampled_data['Score'],sampled_data['text length'] ,test_size=0.3, random_state=45)"
   ]
  },
  {
   "cell_type": "code",
   "execution_count": 200,
   "metadata": {
    "_uuid": "fa233442cec6d354b2d351f6b4d5e9aac5319445"
   },
   "outputs": [
    {
     "data": {
      "text/plain": [
       " 1    61338\n",
       "-1     8662\n",
       "Name: Score, dtype: int64"
      ]
     },
     "execution_count": 200,
     "metadata": {},
     "output_type": "execute_result"
    }
   ],
   "source": [
    "Y_train.value_counts()"
   ]
  },
  {
   "cell_type": "markdown",
   "metadata": {
    "_uuid": "1cfdfcaea63bd892dd42744da74f09bb5a3fa441"
   },
   "source": [
    "## Bag of Words"
   ]
  },
  {
   "cell_type": "markdown",
   "metadata": {
    "_uuid": "4455f18e44e008eb9f5fa13c388bb1d3f19fde85"
   },
   "source": [
    "#### Vectorizing & Standarzing both train and test data"
   ]
  },
  {
   "cell_type": "code",
   "execution_count": 135,
   "metadata": {
    "_uuid": "055b08beb7141671bc43afb68307c1f46573169f"
   },
   "outputs": [
    {
     "name": "stdout",
     "output_type": "stream",
     "text": [
      "Train Dataset:  (70000, 3664)\n",
      "Test Dataset:  (30000, 3664)\n"
     ]
    }
   ],
   "source": [
    "#CountVectorizer()--> Converts a collection of text documents to a matrix of token counts\n",
    "# Initialize a CountVectorizer object: count_vectorizer\n",
    "count_vect = CountVectorizer(ngram_range = (1,2) , dtype = 'float' ,min_df = 100) # considering only relevent words\n",
    "# min_df--> ignoring terms that appear in less than 9 documents\n",
    "#max_df---> ignore terms that appear in more than 60% documents\n",
    "\n",
    "# Transforming train/test data into bag of words\n",
    "bow_X_train_matrix = count_vect.fit_transform(X_train.values)\n",
    "print(\"Train Dataset: \", bow_X_train_matrix.shape)\n",
    "\n",
    "bow_X_test_matrix = count_vect.transform(X_test.values)\n",
    "print(\"Test Dataset: \" , bow_X_test_matrix.shape)"
   ]
  },
  {
   "cell_type": "markdown",
   "metadata": {
    "_uuid": "dfd1b71cebd4b54227003fdd5a11ef19d8de8631"
   },
   "source": [
    "## ***Random Forest on BOW*******"
   ]
  },
  {
   "cell_type": "code",
   "execution_count": 136,
   "metadata": {
    "_uuid": "ae930753b41870eae7314fe012966cbcf8c16e46",
    "collapsed": true
   },
   "outputs": [],
   "source": [
    "from sklearn.ensemble import RandomForestClassifier"
   ]
  },
  {
   "cell_type": "markdown",
   "metadata": {
    "_uuid": "668ef64ebf95f6bcd3b8540d9ce581e768900ad4"
   },
   "source": [
    "### ***Random Forest:*** RFs train each tree independently, using a random sample of the data. This randomness helps to make the model more robust than a single decision tree, and less likely to overfit on the training data"
   ]
  },
  {
   "cell_type": "code",
   "execution_count": 137,
   "metadata": {
    "_uuid": "aafba39d422a122698f78b60d7708a42f839cd76",
    "collapsed": true
   },
   "outputs": [],
   "source": [
    "# taking number of base models (n_estimators) and maximum depth(max_depth) of each Decision Tree as hyperparameter\n",
    "param_grid = { 'n_estimators' : [50 , 100 , 150],\n",
    "              'max_depth': [ 10,30,50,70 , 90]   }  "
   ]
  },
  {
   "cell_type": "code",
   "execution_count": 138,
   "metadata": {
    "_uuid": "a20f90cc3fa186db1cb6011f02b1a9cd0fd65f7c"
   },
   "outputs": [
    {
     "name": "stderr",
     "output_type": "stream",
     "text": [
      "/opt/conda/lib/python3.6/site-packages/sklearn/externals/joblib/externals/loky/process_executor.py:706: UserWarning: A worker stopped while some jobs were given to the executor. This can be caused by a too short worker timeout or by a memory leak.\n",
      "  \"timeout or by a memory leak.\", UserWarning\n"
     ]
    },
    {
     "data": {
      "text/plain": [
       "GridSearchCV(cv=TimeSeriesSplit(max_train_size=None, n_splits=3),\n",
       "       error_score='raise-deprecating',\n",
       "       estimator=RandomForestClassifier(bootstrap=True, class_weight=None, criterion='gini',\n",
       "            max_depth=None, max_features='sqrt', max_leaf_nodes=None,\n",
       "            min_impurity_decrease=0.0, min_impurity_split=None,\n",
       "            min_samples_leaf=1, min_samples_split=2,\n",
       "            min_weight_fraction_leaf=0.0, n_estimators='warn', n_jobs=None,\n",
       "            oob_score=False, random_state=40, verbose=0, warm_start=False),\n",
       "       fit_params=None, iid='warn', n_jobs=-1,\n",
       "       param_grid={'n_estimators': [50, 100, 150], 'max_depth': [10, 30, 50, 70, 90]},\n",
       "       pre_dispatch='2*n_jobs', refit=True, return_train_score='warn',\n",
       "       scoring='roc_auc', verbose=0)"
      ]
     },
     "execution_count": 138,
     "metadata": {},
     "output_type": "execute_result"
    }
   ],
   "source": [
    "rf = RandomForestClassifier(max_features='sqrt' , random_state = 40 ) \n",
    "tscv = TimeSeriesSplit(n_splits=3) \n",
    "rf_CV  = GridSearchCV(estimator=rf, param_grid=param_grid , cv = tscv , scoring = 'roc_auc' , n_jobs = -1)\n",
    "rf_CV.fit(bow_X_train_matrix , Y_train)"
   ]
  },
  {
   "cell_type": "code",
   "execution_count": 139,
   "metadata": {
    "_uuid": "970eb8a9f8143d212b7665eca214723d500f9941"
   },
   "outputs": [
    {
     "name": "stdout",
     "output_type": "stream",
     "text": [
      " best parameter: {'max_depth': 90, 'n_estimators': 150}\n",
      "best parameter score: 0.9284743797387146\n"
     ]
    }
   ],
   "source": [
    "print(\" best parameter:\" , rf_CV.best_params_)\n",
    "print(\"best parameter score:\" ,rf_CV.best_score_ )"
   ]
  },
  {
   "cell_type": "code",
   "execution_count": 140,
   "metadata": {
    "_uuid": "29028377e72917eee929c244e6dc98d5776e2721"
   },
   "outputs": [
    {
     "data": {
      "text/plain": [
       "array([0.90338564, 0.9082421 , 0.91241014, 0.91993023, 0.92273571,\n",
       "       0.92466528, 0.921995  , 0.92578362, 0.92773898, 0.92136729,\n",
       "       0.92649066, 0.92796275, 0.92186499, 0.92699533, 0.92847438])"
      ]
     },
     "execution_count": 140,
     "metadata": {},
     "output_type": "execute_result"
    }
   ],
   "source": [
    "grid = rf_CV.cv_results_.get('mean_test_score')\n",
    "grid"
   ]
  },
  {
   "cell_type": "code",
   "execution_count": 141,
   "metadata": {
    "_uuid": "272e8bd9511ea5dc97766fa912b5e4de114e09c9",
    "collapsed": true
   },
   "outputs": [],
   "source": [
    "score_table= grid.reshape(3,5)"
   ]
  },
  {
   "cell_type": "markdown",
   "metadata": {
    "_uuid": "c457f0f4d47d0284ee19c2d198a94d0a439063fb"
   },
   "source": [
    "### ***HeatMap***"
   ]
  },
  {
   "cell_type": "code",
   "execution_count": 142,
   "metadata": {
    "_uuid": "218c4f1ea6aa5d97f1e02cc77d6072370e21ef5f"
   },
   "outputs": [
    {
     "data": {
      "text/plain": [
       "Text(69,0.5,'number of estimator')"
      ]
     },
     "execution_count": 142,
     "metadata": {},
     "output_type": "execute_result"
    },
    {
     "data": {
      "image/png": "[encoded data removed]",
      "text/plain": [
       "<Figure size 720x504 with 2 Axes>"
      ]
     },
     "metadata": {},
     "output_type": "display_data"
    }
   ],
   "source": [
    "score_table= grid.reshape(3,5)\n",
    "ind = [50,100,150]\n",
    "col = [10,30,50,70 , 90]\n",
    "df = pd.DataFrame(score_table, index = ind,\n",
    "                  columns = col)\n",
    "\n",
    "plt.figure(figsize = (10,7))\n",
    "sns.heatmap(df, annot=True)\n",
    "plt.xlabel('maximum depth')\n",
    "plt.ylabel('number of estimator')"
   ]
  },
  {
   "cell_type": "code",
   "execution_count": 143,
   "metadata": {
    "_uuid": "fb427a76178689937a1cbbed567983a62f0003a9"
   },
   "outputs": [
    {
     "name": "stdout",
     "output_type": "stream",
     "text": [
      "Test accuracy:  0.9222666666666667\n",
      "              precision    recall  f1-score   support\n",
      "\n",
      "          -1       0.92      0.37      0.53      3546\n",
      "           1       0.92      1.00      0.96     26454\n",
      "\n",
      "   micro avg       0.92      0.92      0.92     30000\n",
      "   macro avg       0.92      0.69      0.75     30000\n",
      "weighted avg       0.92      0.92      0.91     30000\n",
      "\n"
     ]
    },
    {
     "data": {
      "image/png": "[encoded data removed]",
      "text/plain": [
       "<Figure size 432x288 with 2 Axes>"
      ]
     },
     "metadata": {},
     "output_type": "display_data"
    }
   ],
   "source": [
    "# training model using random forest\n",
    "rf = RandomForestClassifier(n_estimators=rf_CV.best_params_['n_estimators'], max_depth =rf_CV.best_params_['max_depth'] , n_jobs=-1)\n",
    "rf.fit(bow_X_train_matrix , Y_train)\n",
    "\n",
    "# test accuracy\n",
    "print('Test accuracy: ',rf.score(bow_X_test_matrix , Y_test))\n",
    "\n",
    "\n",
    "test_prediction = rf.predict(bow_X_test_matrix)\n",
    "print(classification_report(Y_test, test_prediction))\n",
    "\n",
    "import scikitplot.metrics as sciplot\n",
    "sciplot.plot_confusion_matrix(Y_test, test_prediction)\n",
    "plt.show()\n"
   ]
  },
  {
   "cell_type": "markdown",
   "metadata": {
    "_uuid": "d564830f01d7c5c6ef40858997175e21e6df4019"
   },
   "source": [
    "## Important Features"
   ]
  },
  {
   "cell_type": "code",
   "execution_count": 144,
   "metadata": {
    "_uuid": "4b429c13d2be1ef606c92315ff4cfea46419b5fb",
    "collapsed": true
   },
   "outputs": [],
   "source": [
    "from wordcloud import WordCloud, STOPWORDS"
   ]
  },
  {
   "cell_type": "code",
   "execution_count": 145,
   "metadata": {
    "_uuid": "dfdbd4a3e9d079dc2b214c652fab025554e59a6e",
    "collapsed": true
   },
   "outputs": [],
   "source": [
    "importances = rf.feature_importances_\n",
    "#imp_values = np.sort(importances)[::-1][:20]\n",
    "top_words = np.argsort(importances)[::-1][:30]\n",
    "names = count_vect.get_feature_names()\n",
    "imp_feat = {}\n",
    "for i in range(len(top_words)):\n",
    "    imp_feat.update({names[top_words[i]]:len(top_words)-i})"
   ]
  },
  {
   "cell_type": "code",
   "execution_count": 146,
   "metadata": {
    "_uuid": "0ad7a853b3427cf70bbfdcf299125e91341cfcbd"
   },
   "outputs": [
    {
     "data": {
      "text/plain": [
       "{'disappoint': 30,\n",
       " 'not': 29,\n",
       " 'great': 28,\n",
       " 'worst': 27,\n",
       " 'best': 26,\n",
       " 'terribl': 25,\n",
       " 'love': 24,\n",
       " 'aw': 23,\n",
       " 'horribl': 22,\n",
       " 'not worth': 21,\n",
       " 'bad': 20,\n",
       " 'not good': 19,\n",
       " 'wast money': 18,\n",
       " 'not buy': 17,\n",
       " 'good': 16,\n",
       " 'wast': 15,\n",
       " 'delici': 14,\n",
       " 'return': 13,\n",
       " 'money': 12,\n",
       " 'not recommend': 11,\n",
       " 'yuck': 10,\n",
       " 'poor': 9,\n",
       " 'threw': 8,\n",
       " 'tast': 7,\n",
       " 'would not': 6,\n",
       " 'excel': 5,\n",
       " 'refund': 4,\n",
       " 'stale': 3,\n",
       " 'receiv': 2,\n",
       " 'bewar': 1}"
      ]
     },
     "execution_count": 146,
     "metadata": {},
     "output_type": "execute_result"
    }
   ],
   "source": [
    "# important features\n",
    "imp_feat"
   ]
  },
  {
   "cell_type": "markdown",
   "metadata": {
    "_uuid": "3bc00afa29eaca275bacac8146d480872fde4261"
   },
   "source": [
    "### *** WordCloud***"
   ]
  },
  {
   "cell_type": "code",
   "execution_count": 147,
   "metadata": {
    "_uuid": "67234348fa4a52415b804f703dec864705101f65",
    "collapsed": true
   },
   "outputs": [],
   "source": [
    "wc = WordCloud(width=3000,height=2000,relative_scaling=1,normalize_plurals=False).generate_from_frequencies(imp_feat)"
   ]
  },
  {
   "cell_type": "code",
   "execution_count": 148,
   "metadata": {
    "_uuid": "bf13e10f2e1b0f08f2036a42a1d2515b9f0cb6db"
   },
   "outputs": [
    {
     "data": {
      "image/png": "[encoded data removed]",
      "text/plain": [
       "<Figure size 432x288 with 1 Axes>"
      ]
     },
     "metadata": {},
     "output_type": "display_data"
    }
   ],
   "source": [
    "plt.imshow(wc, interpolation='bilinear')\n",
    "plt.axis(\"off\")\n",
    "plt.show()"
   ]
  },
  {
   "cell_type": "markdown",
   "metadata": {
    "_uuid": "ef8aaddbfe7adcf032be90bcece6b42c84a47210"
   },
   "source": [
    "## ***XGBoost***: It is an implementation of gradient boosted decision trees designed for speed and performance."
   ]
  },
  {
   "cell_type": "markdown",
   "metadata": {
    "_uuid": "02fa7d85e7a6d4e28d392d07e9989d702cea60b7"
   },
   "source": [
    "### XG Boosting on BOW"
   ]
  },
  {
   "cell_type": "code",
   "execution_count": 149,
   "metadata": {
    "_uuid": "885123d165b4708e21b6d26285e66872f5ec8e1b",
    "collapsed": true
   },
   "outputs": [],
   "source": [
    "import xgboost as xgb"
   ]
  },
  {
   "cell_type": "code",
   "execution_count": 150,
   "metadata": {
    "_uuid": "24731eb04ee75713fd1ab66da5a8603d54e68d39"
   },
   "outputs": [
    {
     "name": "stdout",
     "output_type": "stream",
     "text": [
      "Fitting 3 folds for each of 12 candidates, totalling 36 fits\n"
     ]
    },
    {
     "name": "stderr",
     "output_type": "stream",
     "text": [
      "[Parallel(n_jobs=-1)]: Using backend LokyBackend with 4 concurrent workers.\n",
      "[Parallel(n_jobs=-1)]: Done  36 out of  36 | elapsed:  2.8min finished\n"
     ]
    },
    {
     "data": {
      "text/plain": [
       "GridSearchCV(cv=3, error_score='raise-deprecating',\n",
       "       estimator=XGBClassifier(base_score=0.5, booster='gbtree', colsample_bylevel=1,\n",
       "       colsample_bytree=1, gamma=0, learning_rate=0.1, max_delta_step=0,\n",
       "       max_depth=4, min_child_weight=1, missing=None, n_estimators=100,\n",
       "       n_jobs=1, nthread=None, objective='binary:logistic', random_state=0,\n",
       "       reg_alpha=0, reg_lambda=1, scale_pos_weight=1, seed=None,\n",
       "       silent=True, subsample=1),\n",
       "       fit_params=None, iid='warn', n_jobs=-1,\n",
       "       param_grid={'n_estimators': [50, 100, 150], 'learning_rate': [0.05, 0.1, 0.2, 0.3]},\n",
       "       pre_dispatch='2*n_jobs', refit=True, return_train_score='warn',\n",
       "       scoring=None, verbose=1)"
      ]
     },
     "execution_count": 150,
     "metadata": {},
     "output_type": "execute_result"
    }
   ],
   "source": [
    "base_models = [50 , 100 , 150] # base learners\n",
    "# shrinkage/learning rate\n",
    "v = [0.05,0.1,0.2,0.3]   \n",
    "param_grid = {'n_estimators': base_models,  'learning_rate':v}\n",
    "xgb_model = xgb.XGBClassifier(max_depth = 4)\n",
    "xgb_CV = GridSearchCV(xgb_model,param_grid,cv = 3 ,n_jobs = -1 ,  verbose=1)\n",
    "xgb_CV.fit(bow_X_train_matrix , Y_train)"
   ]
  },
  {
   "cell_type": "code",
   "execution_count": 151,
   "metadata": {
    "_uuid": "4c418ea6b83774f22cd4b7796f4da32c5bd2e334"
   },
   "outputs": [
    {
     "name": "stdout",
     "output_type": "stream",
     "text": [
      " best parameter: {'learning_rate': 0.3, 'n_estimators': 150}\n",
      "best parameter score: 0.9343\n"
     ]
    }
   ],
   "source": [
    "print(\" best parameter:\" , xgb_CV.best_params_)\n",
    "print(\"best parameter score:\" ,xgb_CV.best_score_ )"
   ]
  },
  {
   "cell_type": "code",
   "execution_count": 152,
   "metadata": {
    "_uuid": "db3f81da1d51b8447e844659fb6d9604e1a16f36"
   },
   "outputs": [
    {
     "data": {
      "text/plain": [
       "array([0.89072857, 0.90188571, 0.90955714, 0.90201429, 0.91591429,\n",
       "       0.92201429, 0.91602857, 0.92602857, 0.93044286, 0.92255714,\n",
       "       0.93067143, 0.9343    ])"
      ]
     },
     "execution_count": 152,
     "metadata": {},
     "output_type": "execute_result"
    }
   ],
   "source": [
    "grid = xgb_CV.cv_results_.get('mean_test_score')\n",
    "grid"
   ]
  },
  {
   "cell_type": "code",
   "execution_count": 153,
   "metadata": {
    "_uuid": "bdfdcbdf5f32f826d62fe76239cd565714e4021f",
    "collapsed": true
   },
   "outputs": [],
   "source": [
    "score_table= grid.reshape(3,4)"
   ]
  },
  {
   "cell_type": "code",
   "execution_count": 154,
   "metadata": {
    "_uuid": "891f4b0da6c27c6ba1c3c413c2cbf09a5b95eeb0",
    "collapsed": true
   },
   "outputs": [],
   "source": [
    "ind = [50,100,150]         # base learners\n",
    "col = [0.05,0.1,0.2,0.3]   # shrinkage/learning rate\n",
    "df = pd.DataFrame(score_table, index = ind,\n",
    "                  columns = col)"
   ]
  },
  {
   "cell_type": "code",
   "execution_count": 155,
   "metadata": {
    "_uuid": "ac5929c23d9aa3ffdeda0f7992b210f8a50855f2"
   },
   "outputs": [
    {
     "data": {
      "text/plain": [
       "Text(69,0.5,'number of estimator')"
      ]
     },
     "execution_count": 155,
     "metadata": {},
     "output_type": "execute_result"
    },
    {
     "data": {
      "image/png": "[encoded data removed]",
      "text/plain": [
       "<Figure size 720x504 with 2 Axes>"
      ]
     },
     "metadata": {},
     "output_type": "display_data"
    }
   ],
   "source": [
    "plt.figure(figsize = (10,7))\n",
    "sns.heatmap(df, annot=True)\n",
    "plt.xlabel('learning rate')\n",
    "plt.ylabel('number of estimator')"
   ]
  },
  {
   "cell_type": "code",
   "execution_count": 156,
   "metadata": {
    "_uuid": "c8479a44121c7035e12dad710f635645d65bc26b"
   },
   "outputs": [
    {
     "name": "stdout",
     "output_type": "stream",
     "text": [
      "Test accuracy:  0.9363333333333334\n",
      "              precision    recall  f1-score   support\n",
      "\n",
      "          -1       0.85      0.56      0.68      3546\n",
      "           1       0.94      0.99      0.96     26454\n",
      "\n",
      "   micro avg       0.94      0.94      0.94     30000\n",
      "   macro avg       0.90      0.77      0.82     30000\n",
      "weighted avg       0.93      0.94      0.93     30000\n",
      "\n"
     ]
    },
    {
     "data": {
      "image/png": "[encoded data removed]",
      "text/plain": [
       "<Figure size 432x288 with 2 Axes>"
      ]
     },
     "metadata": {},
     "output_type": "display_data"
    }
   ],
   "source": [
    "xgbdt = xgb.XGBClassifier(n_estimators =xgb_CV.best_params_['n_estimators'] , learning_rate = xgb_CV.best_params_['learning_rate'] , max_depth = 4 , n_jobs = -1 )\n",
    "xgbdt.fit(bow_X_train_matrix , Y_train)\n",
    "\n",
    "# test accuracy\n",
    "print('Test accuracy: ',xgbdt.score(bow_X_test_matrix , Y_test))\n",
    "\n",
    "\n",
    "test_prediction = xgbdt.predict(bow_X_test_matrix)\n",
    "print(classification_report(Y_test, test_prediction))\n",
    "\n",
    "import scikitplot.metrics as sciplot\n",
    "sciplot.plot_confusion_matrix(Y_test, test_prediction)\n",
    "plt.show()\n"
   ]
  },
  {
   "cell_type": "markdown",
   "metadata": {
    "_uuid": "68b165c33b8a01b8e5cd66584779f2aa2e145bd8"
   },
   "source": [
    "## Important Features "
   ]
  },
  {
   "cell_type": "code",
   "execution_count": 157,
   "metadata": {
    "_uuid": "ad988c4125df697d4e02c8805a1e50c089494c3e"
   },
   "outputs": [
    {
     "data": {
      "image/png": "[encoded data removed]",
      "text/plain": [
       "<Figure size 432x288 with 1 Axes>"
      ]
     },
     "metadata": {},
     "output_type": "display_data"
    }
   ],
   "source": [
    "importances = xgbdt.feature_importances_\n",
    "#imp_values = np.sort(importances)[::-1][:20]\n",
    "top_words = np.argsort(importances)[::-1][:30]\n",
    "names = count_vect.get_feature_names()\n",
    "imp_feat = {}\n",
    "for i in range(len(top_words)):\n",
    "    imp_feat.update({names[top_words[i]]:len(top_words)-i})\n",
    "    \n",
    "wc = WordCloud(width=3000,height=2000,relative_scaling=1,normalize_plurals=False).generate_from_frequencies(imp_feat)\n",
    "plt.imshow(wc, interpolation='bilinear')\n",
    "plt.axis(\"off\")\n",
    "plt.show()"
   ]
  },
  {
   "cell_type": "markdown",
   "metadata": {
    "_uuid": "fdde81b2e75e0ff06187375f9537b92113d02c1d"
   },
   "source": [
    "# TF-IDF"
   ]
  },
  {
   "cell_type": "code",
   "execution_count": 158,
   "metadata": {
    "_uuid": "cbbbdd13fd241452837e33ff48fbb49ae069c0f2"
   },
   "outputs": [
    {
     "name": "stdout",
     "output_type": "stream",
     "text": [
      "(70000, 3664)\n",
      "(30000, 3664)\n"
     ]
    }
   ],
   "source": [
    "tf_idf_vect = TfidfVectorizer(ngram_range=(1,2)  ,min_df = 100 )\n",
    "# Transforming train/test data into tf-idf\n",
    "tfidf_X_train_matrix = tf_idf_vect.fit_transform(X_train.values)\n",
    "print(tfidf_X_train_matrix.shape)\n",
    "tfidf_X_test_matrix = tf_idf_vect.transform(X_test.values)\n",
    "print(tfidf_X_test_matrix.shape)"
   ]
  },
  {
   "cell_type": "markdown",
   "metadata": {
    "_uuid": "ed0aaef2d1d1e102f56d4f515ff4ce565c1f0213"
   },
   "source": [
    "### ***Random Forest on tfidf***"
   ]
  },
  {
   "cell_type": "code",
   "execution_count": 159,
   "metadata": {
    "_uuid": "f197daac179f3e5f5b471e3d2a312b7c968bd6ba"
   },
   "outputs": [
    {
     "data": {
      "text/plain": [
       "GridSearchCV(cv=TimeSeriesSplit(max_train_size=None, n_splits=3),\n",
       "       error_score='raise-deprecating',\n",
       "       estimator=RandomForestClassifier(bootstrap=True, class_weight=None, criterion='gini',\n",
       "            max_depth=None, max_features='sqrt', max_leaf_nodes=None,\n",
       "            min_impurity_decrease=0.0, min_impurity_split=None,\n",
       "            min_samples_leaf=1, min_samples_split=2,\n",
       "            min_weight_fraction_leaf=0.0, n_estimators='warn', n_jobs=None,\n",
       "            oob_score=False, random_state=40, verbose=0, warm_start=False),\n",
       "       fit_params=None, iid='warn', n_jobs=-1,\n",
       "       param_grid={'n_estimators': [50, 100, 150], 'max_depth': [10, 30, 50, 70, 90]},\n",
       "       pre_dispatch='2*n_jobs', refit=True, return_train_score='warn',\n",
       "       scoring='roc_auc', verbose=0)"
      ]
     },
     "execution_count": 159,
     "metadata": {},
     "output_type": "execute_result"
    }
   ],
   "source": [
    "# hyperparameter\n",
    "param_grid = {  'n_estimators' : [50,100,150],\n",
    "              'max_depth': [ 10,30,50,70 , 90]   }  \n",
    "\n",
    "# cross validation\n",
    "rf = RandomForestClassifier(max_features='sqrt'  , random_state = 40 ) \n",
    "tscv = TimeSeriesSplit(n_splits=3) \n",
    "rf_CV  = GridSearchCV(estimator=rf, param_grid=param_grid , cv = tscv , scoring = 'roc_auc' , n_jobs = -1)\n",
    "rf_CV.fit(tfidf_X_train_matrix , Y_train)"
   ]
  },
  {
   "cell_type": "code",
   "execution_count": 160,
   "metadata": {
    "_uuid": "c07764cb9f6f972283c19049156c8aba15896b12"
   },
   "outputs": [
    {
     "name": "stdout",
     "output_type": "stream",
     "text": [
      " best parameter: {'max_depth': 90, 'n_estimators': 150}\n",
      "best parameter score: 0.9365716008358934\n"
     ]
    }
   ],
   "source": [
    "# best hyperparameter\n",
    "print(\" best parameter:\" , rf_CV.best_params_)\n",
    "print(\"best parameter score:\" ,rf_CV.best_score_ )"
   ]
  },
  {
   "cell_type": "markdown",
   "metadata": {
    "_uuid": "600fd7fe7154572ea9bb81ca4b3b756bed1c633c"
   },
   "source": [
    "### ***HeatMap***"
   ]
  },
  {
   "cell_type": "code",
   "execution_count": 161,
   "metadata": {
    "_uuid": "87e125a6d8d898bcedf8cb786d2b63c05ab9290f"
   },
   "outputs": [
    {
     "data": {
      "text/plain": [
       "Text(69,0.5,'number of estimator')"
      ]
     },
     "execution_count": 161,
     "metadata": {},
     "output_type": "execute_result"
    },
    {
     "data": {
      "image/png": "[encoded data removed]",
      "text/plain": [
       "<Figure size 720x504 with 2 Axes>"
      ]
     },
     "metadata": {},
     "output_type": "display_data"
    }
   ],
   "source": [
    "# heatmap\n",
    "grid = rf_CV.cv_results_.get('mean_test_score')\n",
    "\n",
    "score_table= grid.reshape(3,5)\n",
    "ind = [50,100,150]\n",
    "col = [10,30,50,70 , 90]\n",
    "df = pd.DataFrame(score_table, index = ind,\n",
    "                  columns = col)\n",
    "\n",
    "plt.figure(figsize = (10,7))\n",
    "sns.heatmap(df, annot=True)\n",
    "plt.xlabel('maximum depth')\n",
    "plt.ylabel('number of estimator')"
   ]
  },
  {
   "cell_type": "code",
   "execution_count": 162,
   "metadata": {
    "_uuid": "5c19ac7dfe998cd908ac92dc625c11541ed3f60f"
   },
   "outputs": [
    {
     "name": "stdout",
     "output_type": "stream",
     "text": [
      "Test accuracy:  0.9225\n",
      "              precision    recall  f1-score   support\n",
      "\n",
      "          -1       0.93      0.37      0.53      3546\n",
      "           1       0.92      1.00      0.96     26454\n",
      "\n",
      "   micro avg       0.92      0.92      0.92     30000\n",
      "   macro avg       0.93      0.68      0.75     30000\n",
      "weighted avg       0.92      0.92      0.91     30000\n",
      "\n"
     ]
    },
    {
     "data": {
      "image/png": "[encoded data removed]",
      "text/plain": [
       "<Figure size 432x288 with 2 Axes>"
      ]
     },
     "metadata": {},
     "output_type": "display_data"
    }
   ],
   "source": [
    "# training and testing\n",
    "rf = RandomForestClassifier(n_estimators=rf_CV.best_params_['n_estimators'], max_depth =rf_CV.best_params_['max_depth'] , n_jobs=-1)\n",
    "rf.fit(tfidf_X_train_matrix , Y_train)\n",
    "\n",
    "# testing accuracy\n",
    "print('Test accuracy: ',rf.score(tfidf_X_test_matrix , Y_test))\n",
    "\n",
    "#predicted output\n",
    "test_prediction = rf.predict(tfidf_X_test_matrix)\n",
    "print(classification_report(Y_test, test_prediction))\n",
    "\n",
    "#confusion matrix\n",
    "import scikitplot.metrics as sciplot\n",
    "sciplot.plot_confusion_matrix(Y_test, test_prediction)\n",
    "plt.show()"
   ]
  },
  {
   "cell_type": "markdown",
   "metadata": {
    "_uuid": "e5c4b3e1fa372aa8e95fca3c733df8198fe1cf9a"
   },
   "source": [
    "### ***Important Features***"
   ]
  },
  {
   "cell_type": "code",
   "execution_count": 163,
   "metadata": {
    "_uuid": "c5dce68fcbbe673734fae7c55d5bb6916e3bf18b"
   },
   "outputs": [
    {
     "data": {
      "image/png": "[encoded data removed]",
      "text/plain": [
       "<Figure size 432x288 with 1 Axes>"
      ]
     },
     "metadata": {},
     "output_type": "display_data"
    }
   ],
   "source": [
    "#printng important features\n",
    "importances = rf.feature_importances_\n",
    "\n",
    "# taking top 30 features\n",
    "top_words = np.argsort(importances)[::-1][:30]\n",
    "\n",
    "names = tf_idf_vect.get_feature_names()\n",
    "imp_feat = {}\n",
    "for i in range(len(top_words)):\n",
    "    imp_feat.update({names[top_words[i]]:len(top_words)-i})\n",
    "    \n",
    "# using word cloud to print important features\n",
    "wc = WordCloud(width=3000,height=2000,relative_scaling=1,normalize_plurals=False).generate_from_frequencies(imp_feat)\n",
    "plt.imshow(wc, interpolation='bilinear')\n",
    "plt.axis(\"off\")\n",
    "plt.show()"
   ]
  },
  {
   "cell_type": "markdown",
   "metadata": {
    "_uuid": "03ecdae94487585aa3f1c0fc7444bf9bb94f5ad0"
   },
   "source": [
    "## XGBoost on tf-Idf"
   ]
  },
  {
   "cell_type": "code",
   "execution_count": 164,
   "metadata": {
    "_uuid": "bd644128fcb38988599c3b1471157ef5022829c5"
   },
   "outputs": [
    {
     "name": "stdout",
     "output_type": "stream",
     "text": [
      "Fitting 3 folds for each of 12 candidates, totalling 36 fits\n"
     ]
    },
    {
     "name": "stderr",
     "output_type": "stream",
     "text": [
      "[Parallel(n_jobs=-1)]: Using backend LokyBackend with 4 concurrent workers.\n",
      "[Parallel(n_jobs=-1)]: Done  36 out of  36 | elapsed:  6.8min finished\n"
     ]
    },
    {
     "data": {
      "text/plain": [
       "GridSearchCV(cv=3, error_score='raise-deprecating',\n",
       "       estimator=XGBClassifier(base_score=0.5, booster='gbtree', colsample_bylevel=1,\n",
       "       colsample_bytree=1, gamma=0, learning_rate=0.1, max_delta_step=0,\n",
       "       max_depth=4, min_child_weight=1, missing=None, n_estimators=100,\n",
       "       n_jobs=1, nthread=None, objective='binary:logistic', random_state=0,\n",
       "       reg_alpha=0, reg_lambda=1, scale_pos_weight=1, seed=None,\n",
       "       silent=True, subsample=1),\n",
       "       fit_params=None, iid='warn', n_jobs=-1,\n",
       "       param_grid={'n_estimators': [50, 100, 150], 'learning_rate': [0.05, 0.1, 0.2, 0.3]},\n",
       "       pre_dispatch='2*n_jobs', refit=True, return_train_score='warn',\n",
       "       scoring=None, verbose=1)"
      ]
     },
     "execution_count": 164,
     "metadata": {},
     "output_type": "execute_result"
    }
   ],
   "source": [
    "base_models = [50 , 100 ,150]         # base learners\n",
    "# shrinkage/learning rate\n",
    "v = [0.05,0.1,0.2,0.3]                      \n",
    "param_grid = {'n_estimators': base_models,  'learning_rate':v}\n",
    "\n",
    "# cross validation \n",
    "xgb_model = xgb.XGBClassifier(max_depth = 4) \n",
    "xgb_CV = GridSearchCV(xgb_model,param_grid,cv = 3 ,n_jobs = -1 ,  verbose=1)\n",
    "xgb_CV.fit(tfidf_X_train_matrix , Y_train)"
   ]
  },
  {
   "cell_type": "code",
   "execution_count": 165,
   "metadata": {
    "_uuid": "a67a25cf7c64aaedf424020e10c36bf8125273a7"
   },
   "outputs": [
    {
     "name": "stdout",
     "output_type": "stream",
     "text": [
      " best parameter: {'learning_rate': 0.3, 'n_estimators': 150}\n",
      "best parameter score: 0.9346857142857142\n"
     ]
    }
   ],
   "source": [
    "# best hyperparameters\n",
    "print(\" best parameter:\" , xgb_CV.best_params_)\n",
    "print(\"best parameter score:\" ,xgb_CV.best_score_ )"
   ]
  },
  {
   "cell_type": "markdown",
   "metadata": {
    "_uuid": "295573f2e0045c1947ffc5baf324902abb537041"
   },
   "source": [
    "### ***HeatMap***"
   ]
  },
  {
   "cell_type": "code",
   "execution_count": 166,
   "metadata": {
    "_uuid": "7c94d59f581261f391a94bc653b4a6a35083daa4"
   },
   "outputs": [
    {
     "data": {
      "text/plain": [
       "Text(69,0.5,'no. of estimators')"
      ]
     },
     "execution_count": 166,
     "metadata": {},
     "output_type": "execute_result"
    },
    {
     "data": {
      "image/png": "[encoded data removed]",
      "text/plain": [
       "<Figure size 720x504 with 2 Axes>"
      ]
     },
     "metadata": {},
     "output_type": "display_data"
    }
   ],
   "source": [
    "# heat map\n",
    "grid = xgb_CV.cv_results_.get('mean_test_score')\n",
    "\n",
    "score_table= grid.reshape(3,4)\n",
    "ind = [50,100 , 150]\n",
    "col =  [0.05,0.1,0.2,0.4] \n",
    "df = pd.DataFrame(score_table, index = ind,\n",
    "                  columns = col)\n",
    "\n",
    "plt.figure(figsize = (10,7))\n",
    "sns.heatmap(df, annot=True)\n",
    "plt.xlabel('learning rate')\n",
    "plt.ylabel('no. of estimators')"
   ]
  },
  {
   "cell_type": "code",
   "execution_count": 167,
   "metadata": {
    "_uuid": "32a0972d6b1ed2b5d71ee415efe02629c21309e3"
   },
   "outputs": [
    {
     "name": "stdout",
     "output_type": "stream",
     "text": [
      "Test accuracy:  0.939\n",
      "              precision    recall  f1-score   support\n",
      "\n",
      "          -1       0.86      0.58      0.69      3546\n",
      "           1       0.95      0.99      0.97     26454\n",
      "\n",
      "   micro avg       0.94      0.94      0.94     30000\n",
      "   macro avg       0.90      0.78      0.83     30000\n",
      "weighted avg       0.94      0.94      0.93     30000\n",
      "\n"
     ]
    },
    {
     "data": {
      "image/png": "[encoded data removed]",
      "text/plain": [
       "<Figure size 432x288 with 2 Axes>"
      ]
     },
     "metadata": {},
     "output_type": "display_data"
    }
   ],
   "source": [
    "# training and testing of model\n",
    "xgbdt = xgb.XGBClassifier(n_estimators =xgb_CV.best_params_['n_estimators'] , learning_rate = xgb_CV.best_params_['learning_rate'] , max_depth = 4 , n_jobs = -1 )\n",
    "xgbdt.fit(tfidf_X_train_matrix , Y_train)\n",
    "\n",
    "# testing accuracy\n",
    "print('Test accuracy: ',xgbdt.score(tfidf_X_test_matrix , Y_test))\n",
    "\n",
    "# testing prediction\n",
    "test_prediction = xgbdt.predict(tfidf_X_test_matrix)\n",
    "print(classification_report(Y_test, test_prediction))\n",
    "\n",
    "import scikitplot.metrics as sciplot\n",
    "sciplot.plot_confusion_matrix(Y_test, test_prediction)\n",
    "plt.show()"
   ]
  },
  {
   "cell_type": "markdown",
   "metadata": {
    "_uuid": "f0af75005d7faf5e6dd597f6c3280551323bf7f5"
   },
   "source": [
    "### Important Features"
   ]
  },
  {
   "cell_type": "code",
   "execution_count": 168,
   "metadata": {
    "_uuid": "192d750f3aadba40e5fd5215bbfa7bf97ded61d9"
   },
   "outputs": [
    {
     "data": {
      "image/png": "[encoded data removed]",
      "text/plain": [
       "<Figure size 432x288 with 1 Axes>"
      ]
     },
     "metadata": {},
     "output_type": "display_data"
    }
   ],
   "source": [
    "importances = xgbdt.feature_importances_\n",
    "\n",
    "top_words = np.argsort(importances)[::-1][:30]\n",
    "names = tf_idf_vect.get_feature_names()\n",
    "imp_feat = {}\n",
    "for i in range(len(top_words)):\n",
    "    imp_feat.update({names[top_words[i]]:len(top_words)-i})\n",
    "    \n",
    "wc = WordCloud(width=3000,height=2000,relative_scaling=1,normalize_plurals=False).generate_from_frequencies(imp_feat)\n",
    "plt.imshow(wc, interpolation='bilinear')\n",
    "plt.axis(\"off\")\n",
    "plt.show()"
   ]
  },
  {
   "cell_type": "markdown",
   "metadata": {
    "_uuid": "ace7f6199910054682955c2e7c29b9e3015cddc1"
   },
   "source": [
    "## Avg Word2Vec"
   ]
  },
  {
   "cell_type": "code",
   "execution_count": 91,
   "metadata": {
    "_uuid": "c08c2e31633fdc9a95c4adf7178a392e791a127a",
    "collapsed": true
   },
   "outputs": [],
   "source": [
    "list_of_sent=[]\n",
    "for sent in X_train.values:\n",
    "    list_of_sent.append(sent.split())\n",
    "    \n",
    "w2v_model=Word2Vec(list_of_sent,min_count=5,size=50, workers=4) \n",
    "\n",
    "sent_vectors = []\n",
    "for sent in list_of_sent:\n",
    "    sent_vec = np.zeros(50)\n",
    "    cnt_words =0;\n",
    "    for word in sent:\n",
    "        if word in w2v_model:\n",
    "            vec = w2v_model.wv[word]\n",
    "            sent_vec += vec\n",
    "            cnt_words += 1\n",
    "    if cnt_words != 0:\n",
    "        sent_vec /= cnt_words\n",
    "    sent_vectors.append(sent_vec)\n",
    "\n",
    "w2vec_X_train_matrix = np.array(sent_vectors)"
   ]
  },
  {
   "cell_type": "code",
   "execution_count": 92,
   "metadata": {
    "_uuid": "193e4f3aca3a9ef291f58b4c08b1a807438facc5",
    "collapsed": true
   },
   "outputs": [],
   "source": [
    "list_of_sent=[]\n",
    "for sent in X_test.values:\n",
    "    list_of_sent.append(sent.split())\n",
    "    \n",
    "sent_vectors = [];\n",
    "for sent in list_of_sent:\n",
    "    sent_vec = np.zeros(50)\n",
    "    cnt_words =0;\n",
    "    for word in sent:\n",
    "        if word in w2v_model:\n",
    "            vec = w2v_model.wv[word]\n",
    "            sent_vec += vec\n",
    "            cnt_words += 1\n",
    "    if cnt_words != 0:\n",
    "        sent_vec /= cnt_words\n",
    "    sent_vectors.append(sent_vec)\n",
    "    \n",
    "w2vec_X_test_matrix = np.array(sent_vectors)\n",
    "\n"
   ]
  },
  {
   "cell_type": "markdown",
   "metadata": {
    "_uuid": "121ee4d3c0460f8b9bf863033f2997273f574a16"
   },
   "source": [
    "## Random Forest on Avg Word2Vec"
   ]
  },
  {
   "cell_type": "code",
   "execution_count": 93,
   "metadata": {
    "_uuid": "027aa623509aa6211ace10314633917991db42b4"
   },
   "outputs": [
    {
     "data": {
      "text/plain": [
       "GridSearchCV(cv=TimeSeriesSplit(max_train_size=None, n_splits=3),\n",
       "       error_score='raise-deprecating',\n",
       "       estimator=RandomForestClassifier(bootstrap=True, class_weight=None, criterion='gini',\n",
       "            max_depth=None, max_features='sqrt', max_leaf_nodes=None,\n",
       "            min_impurity_decrease=0.0, min_impurity_split=None,\n",
       "            min_samples_leaf=1, min_samples_split=2,\n",
       "            min_weight_fraction_leaf=0.0, n_estimators='warn', n_jobs=None,\n",
       "            oob_score=False, random_state=40, verbose=0, warm_start=False),\n",
       "       fit_params=None, iid='warn', n_jobs=-1,\n",
       "       param_grid={'n_estimators': [50, 100, 150], 'max_depth': [10, 30, 50, 70, 90]},\n",
       "       pre_dispatch='2*n_jobs', refit=True, return_train_score='warn',\n",
       "       scoring='roc_auc', verbose=0)"
      ]
     },
     "execution_count": 93,
     "metadata": {},
     "output_type": "execute_result"
    }
   ],
   "source": [
    "param_grid = {  'n_estimators' : [50,100,150],\n",
    "              'max_depth': [ 10,30,50,70 , 90]   }  \n",
    "rf = RandomForestClassifier(max_features='sqrt'  , random_state = 40 ) \n",
    "tscv = TimeSeriesSplit(n_splits=3) \n",
    "rf_CV  = GridSearchCV(estimator=rf, param_grid=param_grid , cv = tscv , scoring = 'roc_auc' , n_jobs = -1)\n",
    "rf_CV.fit(w2vec_X_train_matrix , Y_train)"
   ]
  },
  {
   "cell_type": "code",
   "execution_count": 94,
   "metadata": {
    "_uuid": "9918a419e995e3e702d77be438339c431ecc6011"
   },
   "outputs": [
    {
     "name": "stdout",
     "output_type": "stream",
     "text": [
      " best parameter: {'max_depth': 30, 'n_estimators': 150}\n",
      "best parameter score: 0.9131160216595869\n"
     ]
    }
   ],
   "source": [
    "# best hyperparameter\n",
    "print(\" best parameter:\" , rf_CV.best_params_)\n",
    "print(\"best parameter score:\" ,rf_CV.best_score_ )"
   ]
  },
  {
   "cell_type": "markdown",
   "metadata": {
    "_uuid": "4176c3f6c8f8610d9df315ac18facb65a2d39118"
   },
   "source": [
    "### *** HeatMap***"
   ]
  },
  {
   "cell_type": "code",
   "execution_count": 95,
   "metadata": {
    "_uuid": "36ab1e77f55b74b605f9af5ccc17b38cb9f2760b"
   },
   "outputs": [
    {
     "data": {
      "text/plain": [
       "Text(69,0.5,'no. of estimator')"
      ]
     },
     "execution_count": 95,
     "metadata": {},
     "output_type": "execute_result"
    },
    {
     "data": {
      "image/png": "[encoded data removed]",
      "text/plain": [
       "<Figure size 720x504 with 2 Axes>"
      ]
     },
     "metadata": {},
     "output_type": "display_data"
    }
   ],
   "source": [
    "grid = rf_CV.cv_results_.get('mean_test_score')\n",
    "\n",
    "score_table= grid.reshape(3,5)\n",
    "ind = [50,100,150]\n",
    "col = [10,30,50,70 , 90]\n",
    "df = pd.DataFrame(score_table, index = ind,\n",
    "                  columns = col)\n",
    "\n",
    "plt.figure(figsize = (10,7))\n",
    "sns.heatmap(df, annot=True)\n",
    "plt.xlabel('max depth')\n",
    "plt.ylabel('no. of estimator')"
   ]
  },
  {
   "cell_type": "code",
   "execution_count": 97,
   "metadata": {
    "_uuid": "d6f72086cf81cd0fef29de5f01913033c14a96b2"
   },
   "outputs": [
    {
     "name": "stdout",
     "output_type": "stream",
     "text": [
      "Test accuracy:  0.9124\n",
      "              precision    recall  f1-score   support\n",
      "\n",
      "          -1       0.83      0.33      0.47      3546\n",
      "           1       0.92      0.99      0.95     26454\n",
      "\n",
      "   micro avg       0.91      0.91      0.91     30000\n",
      "   macro avg       0.87      0.66      0.71     30000\n",
      "weighted avg       0.91      0.91      0.90     30000\n",
      "\n"
     ]
    },
    {
     "data": {
      "image/png": "[encoded data removed]",
      "text/plain": [
       "<Figure size 432x288 with 2 Axes>"
      ]
     },
     "metadata": {},
     "output_type": "display_data"
    }
   ],
   "source": [
    "rf = RandomForestClassifier(n_estimators=rf_CV.best_params_['n_estimators'], max_depth =rf_CV.best_params_['max_depth'] , n_jobs=-1)\n",
    "rf.fit(w2vec_X_train_matrix , Y_train)\n",
    "\n",
    "# test accuracy\n",
    "print('Test accuracy: ',rf.score(w2vec_X_test_matrix , Y_test))\n",
    "\n",
    "\n",
    "test_prediction = rf.predict(w2vec_X_test_matrix)\n",
    "print(classification_report(Y_test, test_prediction))\n",
    "\n",
    "import scikitplot.metrics as sciplot\n",
    "sciplot.plot_confusion_matrix(Y_test, test_prediction)\n",
    "plt.show()"
   ]
  },
  {
   "cell_type": "markdown",
   "metadata": {
    "_uuid": "3d41c3c1d5cf414879293f56fac8fdfda2313f71"
   },
   "source": [
    "## Gradient Boosting"
   ]
  },
  {
   "cell_type": "code",
   "execution_count": 98,
   "metadata": {
    "_uuid": "133fe500abbc6a458a3f93e04d793bcea6d0ee01"
   },
   "outputs": [
    {
     "name": "stdout",
     "output_type": "stream",
     "text": [
      "Fitting 3 folds for each of 12 candidates, totalling 36 fits\n"
     ]
    },
    {
     "name": "stderr",
     "output_type": "stream",
     "text": [
      "[Parallel(n_jobs=-1)]: Using backend LokyBackend with 4 concurrent workers.\n",
      "[Parallel(n_jobs=-1)]: Done  36 out of  36 | elapsed:  6.0min finished\n"
     ]
    },
    {
     "data": {
      "text/plain": [
       "GridSearchCV(cv=3, error_score='raise-deprecating',\n",
       "       estimator=XGBClassifier(base_score=0.5, booster='gbtree', colsample_bylevel=1,\n",
       "       colsample_bytree=1, gamma=0, learning_rate=0.1, max_delta_step=0,\n",
       "       max_depth=4, min_child_weight=1, missing=None, n_estimators=100,\n",
       "       n_jobs=1, nthread=None, objective='binary:logistic', random_state=0,\n",
       "       reg_alpha=0, reg_lambda=1, scale_pos_weight=1, seed=None,\n",
       "       silent=True, subsample=1),\n",
       "       fit_params=None, iid='warn', n_jobs=-1,\n",
       "       param_grid={'n_estimators': [50, 100, 150], 'learning_rate': [0.05, 0.1, 0.2, 0.4]},\n",
       "       pre_dispatch='2*n_jobs', refit=True, return_train_score='warn',\n",
       "       scoring=None, verbose=1)"
      ]
     },
     "execution_count": 98,
     "metadata": {},
     "output_type": "execute_result"
    }
   ],
   "source": [
    "base_models = [50,100 ,150]\n",
    "v = [0.05,0.1,0.2,0.4]\n",
    "param_grid = {'n_estimators': base_models,  'learning_rate':v}\n",
    "xgb_model = xgb.XGBClassifier(max_depth = 4)\n",
    "xgb_CV = GridSearchCV(xgb_model,param_grid,cv = 3 ,n_jobs = -1 ,  verbose=1)\n",
    "xgb_CV.fit(w2vec_X_train_matrix , Y_train)"
   ]
  },
  {
   "cell_type": "code",
   "execution_count": 99,
   "metadata": {
    "_uuid": "29a74701916c83eb6a2510988d4c0a44f25bfe01"
   },
   "outputs": [
    {
     "name": "stdout",
     "output_type": "stream",
     "text": [
      " best parameter: {'learning_rate': 0.2, 'n_estimators': 150}\n",
      "best parameter score: 0.9188714285714286\n"
     ]
    }
   ],
   "source": [
    "print(\" best parameter:\" , xgb_CV.best_params_)\n",
    "print(\"best parameter score:\" ,xgb_CV.best_score_ )"
   ]
  },
  {
   "cell_type": "code",
   "execution_count": 104,
   "metadata": {
    "_uuid": "b4b9f3432567d16f64ed81123cdb6edbcec46157"
   },
   "outputs": [
    {
     "data": {
      "text/plain": [
       "Text(69,0.5,'no. of estimators')"
      ]
     },
     "execution_count": 104,
     "metadata": {},
     "output_type": "execute_result"
    },
    {
     "data": {
      "image/png": "[encoded data removed]",
      "text/plain": [
       "<Figure size 720x504 with 2 Axes>"
      ]
     },
     "metadata": {},
     "output_type": "display_data"
    }
   ],
   "source": [
    "grid = xgb_CV.cv_results_.get('mean_test_score')\n",
    "\n",
    "score_table= grid.reshape(3,4)\n",
    "ind = [50,100,150]\n",
    "col = [0.05,0.1,0.2,0.4]\n",
    "df = pd.DataFrame(score_table, index = ind,\n",
    "                  columns = col)\n",
    "\n",
    "plt.figure(figsize = (10,7))\n",
    "sns.heatmap(df, annot=True)\n",
    "plt.xlabel('learning rate')\n",
    "plt.ylabel('no. of estimators')"
   ]
  },
  {
   "cell_type": "code",
   "execution_count": 105,
   "metadata": {
    "_uuid": "54c8e9af805852d920c04752ef62910ebce035fe"
   },
   "outputs": [
    {
     "name": "stdout",
     "output_type": "stream",
     "text": [
      "Test accuracy:  0.9208333333333333\n",
      "              precision    recall  f1-score   support\n",
      "\n",
      "          -1       0.75      0.50      0.60      3546\n",
      "           1       0.94      0.98      0.96     26454\n",
      "\n",
      "   micro avg       0.92      0.92      0.92     30000\n",
      "   macro avg       0.84      0.74      0.78     30000\n",
      "weighted avg       0.91      0.92      0.91     30000\n",
      "\n"
     ]
    },
    {
     "data": {
      "image/png": "[encoded data removed]",
      "text/plain": [
       "<Figure size 432x288 with 2 Axes>"
      ]
     },
     "metadata": {},
     "output_type": "display_data"
    }
   ],
   "source": [
    "xgbdt = xgb.XGBClassifier(n_estimators =xgb_CV.best_params_['n_estimators'] , learning_rate = xgb_CV.best_params_['learning_rate'] , max_depth = 4 , n_jobs = -1 )\n",
    "xgbdt.fit(w2vec_X_train_matrix , Y_train)\n",
    "\n",
    "# test accuracy\n",
    "print('Test accuracy: ',xgbdt.score(w2vec_X_test_matrix , Y_test))\n",
    "\n",
    "\n",
    "test_prediction = xgbdt.predict(w2vec_X_test_matrix)\n",
    "print(classification_report(Y_test, test_prediction))\n",
    "\n",
    "import scikitplot.metrics as sciplot\n",
    "sciplot.plot_confusion_matrix(Y_test, test_prediction)\n",
    "plt.show()"
   ]
  },
  {
   "cell_type": "markdown",
   "metadata": {
    "_uuid": "0af2b02dc22528a3f71a9ded6cb42ae7f67f9925"
   },
   "source": [
    "# Tf-idf Word2Vec"
   ]
  },
  {
   "cell_type": "code",
   "execution_count": 119,
   "metadata": {
    "_uuid": "327b124c93784d76a27e8f993d4a3e21b28ab072",
    "collapsed": true
   },
   "outputs": [],
   "source": [
    "list_of_sent=[]\n",
    "for sent in X_train.values:\n",
    "    list_of_sent.append(sent.split())\n",
    "\n",
    "#w2v_model=Word2Vec(list_of_sent,min_count=5,size=50, workers=4)\n",
    "\n",
    "model = TfidfVectorizer()\n",
    "tf_idf_matrix = model.fit_transform(X_train.values)\n",
    "# we are converting a dictionary with word as a key, and the idf as a value\n",
    "dictionary = dict(zip(model.get_feature_names(), list(model.idf_)))\n",
    "    \n",
    "tfidf_feat = tf_idf_vect.get_feature_names()\n",
    "tfidf_sent_vectors_X_train = []\n",
    "row=0\n",
    "for sent in list_of_sent: #list_of_sent\n",
    "    sent_vec = np.zeros(50)\n",
    "    weight_sum =0;\n",
    "    for word in sent:\n",
    "        if word in w2v_model:\n",
    "            vec = w2v_model.wv[word]\n",
    "         # obtain the tf_idfidf of a word in a sentence/review\n",
    "            tf_idf = dictionary[word]*(sent.count(word)/len(sent))\n",
    "            sent_vec += (vec * tf_idf)\n",
    "            weight_sum += tf_idf\n",
    "    if weight_sum != 0:\n",
    "        sent_vec /= weight_sum\n",
    "    tfidf_sent_vectors_X_train.append(sent_vec)\n",
    "    row += 1"
   ]
  },
  {
   "cell_type": "code",
   "execution_count": 120,
   "metadata": {
    "_uuid": "af8a0b6055bb56bac8f71e3840462a9bfaffc173",
    "collapsed": true
   },
   "outputs": [],
   "source": [
    "list_of_sent=[]\n",
    "for sent in X_test.values:\n",
    "    list_of_sent.append(sent.split())\n",
    "\n",
    "\n",
    "tfidf_sent_vectors_X_test = [];\n",
    "row=0;\n",
    "for sent in list_of_sent: #list_of_sent\n",
    "    sent_vec = np.zeros(50)\n",
    "    weight_sum =0;\n",
    "    for word in sent:\n",
    "        if word in w2v_model:\n",
    "            vec = w2v_model.wv[word]\n",
    "               # obtain the tf_idfidf of a word in a sentence/review\n",
    "            tf_idf = dictionary[word]*(sent.count(word)/len(sent))\n",
    "            sent_vec += (vec * tf_idf)\n",
    "            weight_sum += tf_idf\n",
    "    if weight_sum != 0:\n",
    "        sent_vec /= weight_sum\n",
    "    tfidf_sent_vectors_X_test.append(sent_vec)\n",
    "    row += 1\n"
   ]
  },
  {
   "cell_type": "code",
   "execution_count": 108,
   "metadata": {
    "_uuid": "516493c26252939ddde8f48f84be93c99c1590ab"
   },
   "outputs": [
    {
     "data": {
      "text/plain": [
       "GridSearchCV(cv=TimeSeriesSplit(max_train_size=None, n_splits=3),\n",
       "       error_score='raise-deprecating',\n",
       "       estimator=RandomForestClassifier(bootstrap=True, class_weight=None, criterion='gini',\n",
       "            max_depth=None, max_features='sqrt', max_leaf_nodes=None,\n",
       "            min_impurity_decrease=0.0, min_impurity_split=None,\n",
       "            min_samples_leaf=1, min_samples_split=2,\n",
       "            min_weight_fraction_leaf=0.0, n_estimators='warn', n_jobs=None,\n",
       "            oob_score=False, random_state=40, verbose=0, warm_start=False),\n",
       "       fit_params=None, iid='warn', n_jobs=-1,\n",
       "       param_grid={'n_estimators': [50, 100, 150], 'max_depth': [10, 30, 50, 70, 90]},\n",
       "       pre_dispatch='2*n_jobs', refit=True, return_train_score='warn',\n",
       "       scoring='roc_auc', verbose=0)"
      ]
     },
     "execution_count": 108,
     "metadata": {},
     "output_type": "execute_result"
    }
   ],
   "source": [
    "param_grid = {  'n_estimators' : [50,100,150],\n",
    "              'max_depth': [ 10,30,50,70 , 90]   }  \n",
    "rf = RandomForestClassifier(max_features='sqrt'  , random_state = 40 ) \n",
    "tscv = TimeSeriesSplit(n_splits=3) \n",
    "rf_CV  = GridSearchCV(estimator=rf, param_grid=param_grid , cv = tscv , scoring = 'roc_auc' , n_jobs = -1)\n",
    "rf_CV.fit(tfidf_sent_vectors_X_train , Y_train)"
   ]
  },
  {
   "cell_type": "code",
   "execution_count": 109,
   "metadata": {
    "_uuid": "09358c366cdf69bb3e246c241b16140339eeb6d1"
   },
   "outputs": [
    {
     "name": "stdout",
     "output_type": "stream",
     "text": [
      " best parameter: {'max_depth': 50, 'n_estimators': 150}\n",
      "best parameter score: 0.8781649539326708\n"
     ]
    }
   ],
   "source": [
    "# best hyperparameter\n",
    "print(\" best parameter:\" , rf_CV.best_params_)\n",
    "print(\"best parameter score:\" ,rf_CV.best_score_ )"
   ]
  },
  {
   "cell_type": "markdown",
   "metadata": {
    "_uuid": "b62187ad8ebb99261095190043504c61e869f048"
   },
   "source": [
    "### ***HeatMap***"
   ]
  },
  {
   "cell_type": "code",
   "execution_count": 110,
   "metadata": {
    "_uuid": "22bfec8f98b7555aa54b283d57cc6bd3b2063567"
   },
   "outputs": [
    {
     "data": {
      "text/plain": [
       "Text(69,0.5,'no. of estimator')"
      ]
     },
     "execution_count": 110,
     "metadata": {},
     "output_type": "execute_result"
    },
    {
     "data": {
      "image/png": "[encoded data removed]",
      "text/plain": [
       "<Figure size 720x504 with 2 Axes>"
      ]
     },
     "metadata": {},
     "output_type": "display_data"
    }
   ],
   "source": [
    "grid = rf_CV.cv_results_.get('mean_test_score')\n",
    "\n",
    "score_table= grid.reshape(3,5)\n",
    "ind = [50,100,150]\n",
    "col = [10,30,50,70 , 90]\n",
    "df = pd.DataFrame(score_table, index = ind,\n",
    "                  columns = col)\n",
    "\n",
    "plt.figure(figsize = (10,7))\n",
    "sns.heatmap(df, annot=True)\n",
    "plt.xlabel('max depth')\n",
    "plt.ylabel('no. of estimator')"
   ]
  },
  {
   "cell_type": "code",
   "execution_count": 111,
   "metadata": {
    "_uuid": "51b547e3d2ab73858ac3a5521789d89faf689889"
   },
   "outputs": [
    {
     "name": "stdout",
     "output_type": "stream",
     "text": [
      "Test accuracy:  0.9039666666666667\n",
      "              precision    recall  f1-score   support\n",
      "\n",
      "          -1       0.81      0.25      0.38      3546\n",
      "           1       0.91      0.99      0.95     26454\n",
      "\n",
      "   micro avg       0.90      0.90      0.90     30000\n",
      "   macro avg       0.86      0.62      0.66     30000\n",
      "weighted avg       0.90      0.90      0.88     30000\n",
      "\n"
     ]
    },
    {
     "data": {
      "image/png": "[encoded data removed]",
      "text/plain": [
       "<Figure size 432x288 with 2 Axes>"
      ]
     },
     "metadata": {},
     "output_type": "display_data"
    }
   ],
   "source": [
    "rf = RandomForestClassifier(n_estimators=rf_CV.best_params_['n_estimators'], max_depth =rf_CV.best_params_['max_depth'] , n_jobs=-1)\n",
    "rf.fit(tfidf_sent_vectors_X_train , Y_train)\n",
    "\n",
    "# test accuracy\n",
    "print('Test accuracy: ',rf.score(tfidf_sent_vectors_X_test , Y_test))\n",
    "\n",
    "\n",
    "test_prediction = rf.predict(tfidf_sent_vectors_X_test)\n",
    "print(classification_report(Y_test, test_prediction))\n",
    "\n",
    "import scikitplot.metrics as sciplot\n",
    "sciplot.plot_confusion_matrix(Y_test, test_prediction)\n",
    "plt.show()"
   ]
  },
  {
   "cell_type": "markdown",
   "metadata": {
    "_uuid": "12f26b6fd7bdf91509e29e88d1512947abb280d1"
   },
   "source": [
    "## Gradient Boosting"
   ]
  },
  {
   "cell_type": "code",
   "execution_count": 129,
   "metadata": {
    "_uuid": "2b6a50b476611d23c7574f9660b50003348d19e0",
    "collapsed": true
   },
   "outputs": [],
   "source": [
    "base_models = [50,100,150]\n",
    "v = [0.05,0.1,0.2,0.4]\n",
    "param_grid = {'n_estimators': base_models,  'learning_rate':v}\n",
    "xgb_model = xgb.XGBClassifier(max_depth = 4)\n",
    "xgb_CV = GridSearchCV(xgb_model,param_grid,cv = 3 ,n_jobs = -1 ,  verbose=1)"
   ]
  },
  {
   "cell_type": "code",
   "execution_count": 128,
   "metadata": {
    "_uuid": "a0bac06b2f8f2bd416bb84ea6db9b359939a2294",
    "collapsed": true
   },
   "outputs": [],
   "source": [
    "a = np.array(tfidf_sent_vectors_X_train)"
   ]
  },
  {
   "cell_type": "code",
   "execution_count": 130,
   "metadata": {
    "_uuid": "eafaeac3a650e7513cd3a4f066ef4c5a448d8cae"
   },
   "outputs": [
    {
     "name": "stdout",
     "output_type": "stream",
     "text": [
      "Fitting 3 folds for each of 12 candidates, totalling 36 fits\n"
     ]
    },
    {
     "name": "stderr",
     "output_type": "stream",
     "text": [
      "[Parallel(n_jobs=-1)]: Using backend LokyBackend with 4 concurrent workers.\n",
      "[Parallel(n_jobs=-1)]: Done  36 out of  36 | elapsed:  6.0min finished\n"
     ]
    },
    {
     "data": {
      "text/plain": [
       "GridSearchCV(cv=3, error_score='raise-deprecating',\n",
       "       estimator=XGBClassifier(base_score=0.5, booster='gbtree', colsample_bylevel=1,\n",
       "       colsample_bytree=1, gamma=0, learning_rate=0.1, max_delta_step=0,\n",
       "       max_depth=4, min_child_weight=1, missing=None, n_estimators=100,\n",
       "       n_jobs=1, nthread=None, objective='binary:logistic', random_state=0,\n",
       "       reg_alpha=0, reg_lambda=1, scale_pos_weight=1, seed=None,\n",
       "       silent=True, subsample=1),\n",
       "       fit_params=None, iid='warn', n_jobs=-1,\n",
       "       param_grid={'n_estimators': [50, 100, 150], 'learning_rate': [0.05, 0.1, 0.2, 0.4]},\n",
       "       pre_dispatch='2*n_jobs', refit=True, return_train_score='warn',\n",
       "       scoring=None, verbose=1)"
      ]
     },
     "execution_count": 130,
     "metadata": {},
     "output_type": "execute_result"
    }
   ],
   "source": [
    "xgb_CV.fit(a , Y_train)"
   ]
  },
  {
   "cell_type": "code",
   "execution_count": 131,
   "metadata": {
    "_uuid": "3d4f9115354d408bd1a7a4a7d8ab8e0c661436a4"
   },
   "outputs": [
    {
     "name": "stdout",
     "output_type": "stream",
     "text": [
      " best parameter: {'learning_rate': 0.2, 'n_estimators': 150}\n",
      "best parameter score: 0.9097428571428572\n"
     ]
    }
   ],
   "source": [
    "print(\" best parameter:\" , xgb_CV.best_params_)\n",
    "print(\"best parameter score:\" ,xgb_CV.best_score_ )"
   ]
  },
  {
   "cell_type": "code",
   "execution_count": 132,
   "metadata": {
    "_uuid": "fc3095dc7eaa0b3970922b9dcb748d827cd832ee"
   },
   "outputs": [
    {
     "data": {
      "text/plain": [
       "Text(69,0.5,'no. of estimators')"
      ]
     },
     "execution_count": 132,
     "metadata": {},
     "output_type": "execute_result"
    },
    {
     "data": {
      "image/png": "[encoded data removed]",
      "text/plain": [
       "<Figure size 720x504 with 2 Axes>"
      ]
     },
     "metadata": {},
     "output_type": "display_data"
    }
   ],
   "source": [
    "grid = xgb_CV.cv_results_.get('mean_test_score')\n",
    "\n",
    "score_table= grid.reshape(3,4)\n",
    "ind = [50,100,150]\n",
    "col = [0.05,0.1,0.2,0.4]\n",
    "df = pd.DataFrame(score_table, index = ind,\n",
    "                  columns = col)\n",
    "\n",
    "plt.figure(figsize = (10,7))\n",
    "sns.heatmap(df, annot=True)\n",
    "plt.xlabel('learning rate')\n",
    "plt.ylabel('no. of estimators')"
   ]
  },
  {
   "cell_type": "code",
   "execution_count": 134,
   "metadata": {
    "_uuid": "a2b70742c5ae00f150431461c5dc0976e76fea43"
   },
   "outputs": [
    {
     "name": "stdout",
     "output_type": "stream",
     "text": [
      "Test accuracy:  0.9124\n",
      "              precision    recall  f1-score   support\n",
      "\n",
      "          -1       0.73      0.41      0.52      3546\n",
      "           1       0.92      0.98      0.95     26454\n",
      "\n",
      "   micro avg       0.91      0.91      0.91     30000\n",
      "   macro avg       0.83      0.69      0.74     30000\n",
      "weighted avg       0.90      0.91      0.90     30000\n",
      "\n"
     ]
    },
    {
     "data": {
      "image/png": "[encoded data removed]",
      "text/plain": [
       "<Figure size 432x288 with 2 Axes>"
      ]
     },
     "metadata": {},
     "output_type": "display_data"
    }
   ],
   "source": [
    "xgbdt = xgb.XGBClassifier(n_estimators =xgb_CV.best_params_['n_estimators'] , learning_rate = xgb_CV.best_params_['learning_rate'] , max_depth = 4 , n_jobs = -1 )\n",
    "xgbdt.fit(a , Y_train)\n",
    "\n",
    "# test accuracy\n",
    "print('Test accuracy: ',xgbdt.score(tfidf_sent_vectors_X_test , Y_test))\n",
    "\n",
    "\n",
    "test_prediction = xgbdt.predict(tfidf_sent_vectors_X_test)\n",
    "print(classification_report(Y_test, test_prediction))\n",
    "\n",
    "import scikitplot.metrics as sciplot\n",
    "sciplot.plot_confusion_matrix(Y_test, test_prediction)\n",
    "plt.show()"
   ]
  },
  {
   "cell_type": "markdown",
   "metadata": {
    "_uuid": "7f13735ce5bdad58bacd33b0e90a76fca758b0b2"
   },
   "source": [
    "### Note:\n",
    " the features of word2vec and tfidf word2vec vectorization techniques are highly corelated hence directly getting important features is not possible."
   ]
  },
  {
   "cell_type": "markdown",
   "metadata": {
    "_uuid": "03623bfd804b28c16ec21a68c86d375af9a7b7ba"
   },
   "source": [
    "## Observation "
   ]
  },
  {
   "cell_type": "code",
   "execution_count": 10,
   "metadata": {
    "_uuid": "9ba90c7e8046fd7775844a60ad22f749833f3ed4",
    "collapsed": true
   },
   "outputs": [],
   "source": [
    "from prettytable import PrettyTable\n",
    "x = PrettyTable()"
   ]
  },
  {
   "cell_type": "code",
   "execution_count": 11,
   "metadata": {
    "_uuid": "f349c92416876198c3da73c8343b2e71dcbac18a"
   },
   "outputs": [
    {
     "name": "stdout",
     "output_type": "stream",
     "text": [
      "                                 RANDOM FOREST\n",
      "+--------------+---------------+-------------------+---------------+----------+\n",
      "|  Vectorizer  | Depth of tree | no. of estimators | Test accuracy | f1-score |\n",
      "+--------------+---------------+-------------------+---------------+----------+\n",
      "|     BOW      |       90      |        150        |     0.9222    |   0.91   |\n",
      "|    TF-IDF    |       90      |        150        |     0.9225    |   0.91   |\n",
      "|    W2vec     |       90      |        150        |     0.9124    |   0.90   |\n",
      "| Tf-Idf W2vec |       90      |        150        |     0.9039    |   0.88   |\n",
      "+--------------+---------------+-------------------+---------------+----------+\n"
     ]
    }
   ],
   "source": [
    "print('                                 RANDOM FOREST')\n",
    "x.field_names = [\"Vectorizer\",\"Depth of tree\", 'no. of estimators',\"Test accuracy\",\"f1-score\"]\n",
    "x.add_row(['BOW'  ,'90', '150','0.9222','0.91' ])\n",
    "\n",
    "x.add_row(['TF-IDF' ,'90', '150','0.9225','0.91' ])\n",
    "\n",
    "x.add_row(['W2vec'  ,'90', '150','0.9124','0.90' ])\n",
    "\n",
    "\n",
    "x.add_row(['Tf-Idf W2vec' ,'90', '150','0.9039','0.88' ])\n",
    "\n",
    "print(x)"
   ]
  },
  {
   "cell_type": "code",
   "execution_count": 12,
   "metadata": {
    "collapsed": true
   },
   "outputs": [],
   "source": [
    "y = PrettyTable()"
   ]
  },
  {
   "cell_type": "code",
   "execution_count": 13,
   "metadata": {},
   "outputs": [
    {
     "name": "stdout",
     "output_type": "stream",
     "text": [
      "                                 XG BOOST\n",
      "+--------------+---------------+-------------------+---------------+----------+\n",
      "|  Vectorizer  | learning rate | no. of estimators | Test accuracy | f1-score |\n",
      "+--------------+---------------+-------------------+---------------+----------+\n",
      "|     BOW      |      0.3      |        150        |     0.9363    |   0.93   |\n",
      "|    TF-IDF    |      0.3      |        150        |     0.939     |   0.93   |\n",
      "|    W2vec     |      0.2      |        150        |     0.9208    |   0.91   |\n",
      "| Tf-Idf W2vec |      0.2      |        150        |     0.9124    |   0.90   |\n",
      "+--------------+---------------+-------------------+---------------+----------+\n"
     ]
    }
   ],
   "source": [
    "print('                                 XG BOOST')\n",
    "y.field_names = [\"Vectorizer\",\"learning rate\", 'no. of estimators',\"Test accuracy\",\"f1-score\"]\n",
    "y.add_row(['BOW'  ,'0.3', '150','0.9363','0.93' ])\n",
    "\n",
    "y.add_row(['TF-IDF' ,'0.3', '150','0.939','0.93' ])\n",
    "\n",
    "y.add_row(['W2vec'  ,'0.2', '150','0.9208','0.91' ])\n",
    "\n",
    "\n",
    "y.add_row(['Tf-Idf W2vec' ,'0.2', '150','0.9124','0.90' ])\n",
    "\n",
    "print(y)"
   ]
  },
  {
   "cell_type": "markdown",
   "metadata": {
    "_uuid": "c3cbce98fb6a2efa86dbf60362c45062b6fdedbc"
   },
   "source": [
    "#### Conclusion\n",
    "1. Performance of both algorithms on unseen  text data is quite good.Vectorization techniques like BOW and tf-Idf gave best test results\n",
    "2. Random Forest reduces variance and hence can be used for building robust models through bagging.\n",
    "3. XG Boost reduces both variance and bias. It reduces variance by using multiple models and reduces bias by training the subsequent model by telling them what errors previous models has made.\n"
   ]
  }
 ],
 "metadata": {
  "kernelspec": {
   "display_name": "Python 3",
   "language": "python",
   "name": "python3"
  },
  "language_info": {
   "codemirror_mode": {
    "name": "ipython",
    "version": 3
   },
   "file_extension": ".py",
   "mimetype": "text/x-python",
   "name": "python",
   "nbconvert_exporter": "python",
   "pygments_lexer": "ipython3",
   "version": "3.6.3"
  }
 },
 "nbformat": 4,
 "nbformat_minor": 1
}
