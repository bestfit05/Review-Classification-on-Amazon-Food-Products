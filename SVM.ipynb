{
 "cells": [
  {
   "cell_type": "markdown",
   "metadata": {
    "_uuid": "8ed2c9129660cdd0d5d8ddd88ae5de1713126c94"
   },
   "source": [
    "### Objective: To apply SVM on amazon fine food reviews "
   ]
  },
  {
   "cell_type": "code",
   "execution_count": 1,
   "metadata": {
    "_uuid": "7d8f2b757f1c28947f51e5576017f7c29db9addf",
    "collapsed": true
   },
   "outputs": [],
   "source": [
    "import warnings\n",
    "warnings.filterwarnings(\"ignore\")\n",
    "\n",
    "#import sqlite3\n",
    "import pandas as pd\n",
    "import numpy as np\n",
    "import nltk\n",
    "import string\n",
    "import matplotlib.pyplot as plt\n",
    "import seaborn as sns\n",
    "from sklearn.feature_extraction.text import TfidfTransformer\n",
    "from sklearn.feature_extraction.text import TfidfVectorizer\n",
    "\n",
    "from sklearn.feature_extraction.text import CountVectorizer\n",
    "from sklearn.metrics import confusion_matrix\n",
    "from sklearn import metrics\n",
    "from sklearn.metrics import roc_curve, auc\n",
    "from nltk.stem.porter import PorterStemmer\n",
    "\n",
    "import re\n",
    "\n",
    "import string\n",
    "from nltk.corpus import stopwords\n",
    "from nltk.stem import PorterStemmer\n",
    "from nltk.stem.wordnet import WordNetLemmatizer\n",
    "\n",
    "from gensim.models import Word2Vec\n",
    "from gensim.models import KeyedVectors\n",
    "import pickle\n"
   ]
  },
  {
   "cell_type": "code",
   "execution_count": 2,
   "metadata": {
    "_uuid": "8a5c6ece16f9adf11a621ce634d2e328bac68add",
    "collapsed": true
   },
   "outputs": [],
   "source": [
    "from sklearn.model_selection import train_test_split\n",
    "from sklearn.neighbors import KNeighborsClassifier\n",
    "from sklearn.metrics import accuracy_score\n",
    "from sklearn.model_selection import cross_val_score\n",
    "from collections import Counter\n",
    "from sklearn.metrics import accuracy_score\n",
    "from sklearn.model_selection import cross_validate\n"
   ]
  },
  {
   "cell_type": "code",
   "execution_count": 3,
   "metadata": {
    "_uuid": "859f17991109b1094a519ee45f55b9d20ed77bfd",
    "collapsed": true
   },
   "outputs": [],
   "source": [
    "from sklearn.decomposition import TruncatedSVD\n",
    "from sklearn.linear_model import LogisticRegression\n"
   ]
  },
  {
   "cell_type": "code",
   "execution_count": 4,
   "metadata": {
    "_uuid": "0f7949f7f69def79e579c51b20c5bf96385a3284",
    "collapsed": true
   },
   "outputs": [],
   "source": [
    "#from sklearn.naive_bayes import MultinomialNB\n",
    "from sklearn.model_selection import TimeSeriesSplit,GridSearchCV\n",
    "#from sklearn.grid_search import GridSearchCV\n",
    "from sklearn.metrics import classification_report\n",
    "from sklearn.svm import SVC"
   ]
  },
  {
   "cell_type": "code",
   "execution_count": 6,
   "metadata": {
    "_uuid": "e5521a884531722d70aa85fb0d93f902d24dff15"
   },
   "outputs": [
    {
     "data": {
      "text/html": [
       "<div>\n",
       "<style>\n",
       "    .dataframe thead tr:only-child th {\n",
       "        text-align: right;\n",
       "    }\n",
       "\n",
       "    .dataframe thead th {\n",
       "        text-align: left;\n",
       "    }\n",
       "\n",
       "    .dataframe tbody tr th {\n",
       "        vertical-align: top;\n",
       "    }\n",
       "</style>\n",
       "<table border=\"1\" class=\"dataframe\">\n",
       "  <thead>\n",
       "    <tr style=\"text-align: right;\">\n",
       "      <th></th>\n",
       "      <th>Id</th>\n",
       "      <th>ProductId</th>\n",
       "      <th>UserId</th>\n",
       "      <th>ProfileName</th>\n",
       "      <th>HelpfulnessNumerator</th>\n",
       "      <th>HelpfulnessDenominator</th>\n",
       "      <th>Score</th>\n",
       "      <th>Time</th>\n",
       "      <th>Summary</th>\n",
       "      <th>Text</th>\n",
       "    </tr>\n",
       "  </thead>\n",
       "  <tbody>\n",
       "    <tr>\n",
       "      <th>0</th>\n",
       "      <td>1</td>\n",
       "      <td>B001E4KFG0</td>\n",
       "      <td>A3SGXH7AUHU8GW</td>\n",
       "      <td>delmartian</td>\n",
       "      <td>1</td>\n",
       "      <td>1</td>\n",
       "      <td>5</td>\n",
       "      <td>1303862400</td>\n",
       "      <td>Good Quality Dog Food</td>\n",
       "      <td>I have bought several of the Vitality canned d...</td>\n",
       "    </tr>\n",
       "    <tr>\n",
       "      <th>1</th>\n",
       "      <td>2</td>\n",
       "      <td>B00813GRG4</td>\n",
       "      <td>A1D87F6ZCVE5NK</td>\n",
       "      <td>dll pa</td>\n",
       "      <td>0</td>\n",
       "      <td>0</td>\n",
       "      <td>1</td>\n",
       "      <td>1346976000</td>\n",
       "      <td>Not as Advertised</td>\n",
       "      <td>Product arrived labeled as Jumbo Salted Peanut...</td>\n",
       "    </tr>\n",
       "    <tr>\n",
       "      <th>2</th>\n",
       "      <td>3</td>\n",
       "      <td>B000LQOCH0</td>\n",
       "      <td>ABXLMWJIXXAIN</td>\n",
       "      <td>Natalia Corres \"Natalia Corres\"</td>\n",
       "      <td>1</td>\n",
       "      <td>1</td>\n",
       "      <td>4</td>\n",
       "      <td>1219017600</td>\n",
       "      <td>\"Delight\" says it all</td>\n",
       "      <td>This is a confection that has been around a fe...</td>\n",
       "    </tr>\n",
       "    <tr>\n",
       "      <th>3</th>\n",
       "      <td>4</td>\n",
       "      <td>B000UA0QIQ</td>\n",
       "      <td>A395BORC6FGVXV</td>\n",
       "      <td>Karl</td>\n",
       "      <td>3</td>\n",
       "      <td>3</td>\n",
       "      <td>2</td>\n",
       "      <td>1307923200</td>\n",
       "      <td>Cough Medicine</td>\n",
       "      <td>If you are looking for the secret ingredient i...</td>\n",
       "    </tr>\n",
       "    <tr>\n",
       "      <th>4</th>\n",
       "      <td>5</td>\n",
       "      <td>B006K2ZZ7K</td>\n",
       "      <td>A1UQRSCLF8GW1T</td>\n",
       "      <td>Michael D. Bigham \"M. Wassir\"</td>\n",
       "      <td>0</td>\n",
       "      <td>0</td>\n",
       "      <td>5</td>\n",
       "      <td>1350777600</td>\n",
       "      <td>Great taffy</td>\n",
       "      <td>Great taffy at a great price.  There was a wid...</td>\n",
       "    </tr>\n",
       "  </tbody>\n",
       "</table>\n",
       "</div>"
      ],
      "text/plain": [
       "   Id   ProductId          UserId                      ProfileName  \\\n",
       "0   1  B001E4KFG0  A3SGXH7AUHU8GW                       delmartian   \n",
       "1   2  B00813GRG4  A1D87F6ZCVE5NK                           dll pa   \n",
       "2   3  B000LQOCH0   ABXLMWJIXXAIN  Natalia Corres \"Natalia Corres\"   \n",
       "3   4  B000UA0QIQ  A395BORC6FGVXV                             Karl   \n",
       "4   5  B006K2ZZ7K  A1UQRSCLF8GW1T    Michael D. Bigham \"M. Wassir\"   \n",
       "\n",
       "   HelpfulnessNumerator  HelpfulnessDenominator  Score        Time  \\\n",
       "0                     1                       1      5  1303862400   \n",
       "1                     0                       0      1  1346976000   \n",
       "2                     1                       1      4  1219017600   \n",
       "3                     3                       3      2  1307923200   \n",
       "4                     0                       0      5  1350777600   \n",
       "\n",
       "                 Summary                                               Text  \n",
       "0  Good Quality Dog Food  I have bought several of the Vitality canned d...  \n",
       "1      Not as Advertised  Product arrived labeled as Jumbo Salted Peanut...  \n",
       "2  \"Delight\" says it all  This is a confection that has been around a fe...  \n",
       "3         Cough Medicine  If you are looking for the secret ingredient i...  \n",
       "4            Great taffy  Great taffy at a great price.  There was a wid...  "
      ]
     },
     "execution_count": 6,
     "metadata": {},
     "output_type": "execute_result"
    }
   ],
   "source": [
    "# Loading data \n",
    "customer_reviews = pd.read_csv('Reviews.csv')\n",
    "customer_reviews.head()"
   ]
  },
  {
   "cell_type": "code",
   "execution_count": 7,
   "metadata": {
    "_uuid": "ad7aa38b7f0fb08f2139d12af8cc9c6a87a28d4f"
   },
   "outputs": [
    {
     "data": {
      "text/plain": [
       "(568454, 10)"
      ]
     },
     "execution_count": 7,
     "metadata": {},
     "output_type": "execute_result"
    }
   ],
   "source": [
    "customer_reviews.shape \n",
    "# there are 568454 reviews food products from amazon"
   ]
  },
  {
   "cell_type": "code",
   "execution_count": 8,
   "metadata": {
    "_uuid": "87f17ac3957bf787aadaac581381ed0dad714115"
   },
   "outputs": [
    {
     "data": {
      "text/html": [
       "<div>\n",
       "<style>\n",
       "    .dataframe thead tr:only-child th {\n",
       "        text-align: right;\n",
       "    }\n",
       "\n",
       "    .dataframe thead th {\n",
       "        text-align: left;\n",
       "    }\n",
       "\n",
       "    .dataframe tbody tr th {\n",
       "        vertical-align: top;\n",
       "    }\n",
       "</style>\n",
       "<table border=\"1\" class=\"dataframe\">\n",
       "  <thead>\n",
       "    <tr style=\"text-align: right;\">\n",
       "      <th></th>\n",
       "      <th>Id</th>\n",
       "      <th>ProductId</th>\n",
       "      <th>UserId</th>\n",
       "      <th>ProfileName</th>\n",
       "      <th>HelpfulnessNumerator</th>\n",
       "      <th>HelpfulnessDenominator</th>\n",
       "      <th>Score</th>\n",
       "      <th>Time</th>\n",
       "      <th>Summary</th>\n",
       "      <th>Text</th>\n",
       "    </tr>\n",
       "  </thead>\n",
       "  <tbody>\n",
       "    <tr>\n",
       "      <th>0</th>\n",
       "      <td>1</td>\n",
       "      <td>B001E4KFG0</td>\n",
       "      <td>A3SGXH7AUHU8GW</td>\n",
       "      <td>delmartian</td>\n",
       "      <td>1</td>\n",
       "      <td>1</td>\n",
       "      <td>5</td>\n",
       "      <td>1303862400</td>\n",
       "      <td>Good Quality Dog Food</td>\n",
       "      <td>I have bought several of the Vitality canned d...</td>\n",
       "    </tr>\n",
       "    <tr>\n",
       "      <th>1</th>\n",
       "      <td>2</td>\n",
       "      <td>B00813GRG4</td>\n",
       "      <td>A1D87F6ZCVE5NK</td>\n",
       "      <td>dll pa</td>\n",
       "      <td>0</td>\n",
       "      <td>0</td>\n",
       "      <td>1</td>\n",
       "      <td>1346976000</td>\n",
       "      <td>Not as Advertised</td>\n",
       "      <td>Product arrived labeled as Jumbo Salted Peanut...</td>\n",
       "    </tr>\n",
       "    <tr>\n",
       "      <th>2</th>\n",
       "      <td>3</td>\n",
       "      <td>B000LQOCH0</td>\n",
       "      <td>ABXLMWJIXXAIN</td>\n",
       "      <td>Natalia Corres \"Natalia Corres\"</td>\n",
       "      <td>1</td>\n",
       "      <td>1</td>\n",
       "      <td>4</td>\n",
       "      <td>1219017600</td>\n",
       "      <td>\"Delight\" says it all</td>\n",
       "      <td>This is a confection that has been around a fe...</td>\n",
       "    </tr>\n",
       "    <tr>\n",
       "      <th>3</th>\n",
       "      <td>4</td>\n",
       "      <td>B000UA0QIQ</td>\n",
       "      <td>A395BORC6FGVXV</td>\n",
       "      <td>Karl</td>\n",
       "      <td>3</td>\n",
       "      <td>3</td>\n",
       "      <td>2</td>\n",
       "      <td>1307923200</td>\n",
       "      <td>Cough Medicine</td>\n",
       "      <td>If you are looking for the secret ingredient i...</td>\n",
       "    </tr>\n",
       "    <tr>\n",
       "      <th>4</th>\n",
       "      <td>5</td>\n",
       "      <td>B006K2ZZ7K</td>\n",
       "      <td>A1UQRSCLF8GW1T</td>\n",
       "      <td>Michael D. Bigham \"M. Wassir\"</td>\n",
       "      <td>0</td>\n",
       "      <td>0</td>\n",
       "      <td>5</td>\n",
       "      <td>1350777600</td>\n",
       "      <td>Great taffy</td>\n",
       "      <td>Great taffy at a great price.  There was a wid...</td>\n",
       "    </tr>\n",
       "  </tbody>\n",
       "</table>\n",
       "</div>"
      ],
      "text/plain": [
       "   Id   ProductId          UserId                      ProfileName  \\\n",
       "0   1  B001E4KFG0  A3SGXH7AUHU8GW                       delmartian   \n",
       "1   2  B00813GRG4  A1D87F6ZCVE5NK                           dll pa   \n",
       "2   3  B000LQOCH0   ABXLMWJIXXAIN  Natalia Corres \"Natalia Corres\"   \n",
       "3   4  B000UA0QIQ  A395BORC6FGVXV                             Karl   \n",
       "4   5  B006K2ZZ7K  A1UQRSCLF8GW1T    Michael D. Bigham \"M. Wassir\"   \n",
       "\n",
       "   HelpfulnessNumerator  HelpfulnessDenominator  Score        Time  \\\n",
       "0                     1                       1      5  1303862400   \n",
       "1                     0                       0      1  1346976000   \n",
       "2                     1                       1      4  1219017600   \n",
       "3                     3                       3      2  1307923200   \n",
       "4                     0                       0      5  1350777600   \n",
       "\n",
       "                 Summary                                               Text  \n",
       "0  Good Quality Dog Food  I have bought several of the Vitality canned d...  \n",
       "1      Not as Advertised  Product arrived labeled as Jumbo Salted Peanut...  \n",
       "2  \"Delight\" says it all  This is a confection that has been around a fe...  \n",
       "3         Cough Medicine  If you are looking for the secret ingredient i...  \n",
       "4            Great taffy  Great taffy at a great price.  There was a wid...  "
      ]
     },
     "execution_count": 8,
     "metadata": {},
     "output_type": "execute_result"
    }
   ],
   "source": [
    "# keeping those reviews where score is either less than 3 or greater than 3\n",
    "\n",
    "filtered_data = customer_reviews[customer_reviews.Score!=3]\n",
    "filtered_data.head()"
   ]
  },
  {
   "cell_type": "code",
   "execution_count": 9,
   "metadata": {
    "_uuid": "4652e2cb349903d29e997a0bd8373dcd671e376f"
   },
   "outputs": [
    {
     "data": {
      "text/plain": [
       "(525814, 10)"
      ]
     },
     "execution_count": 9,
     "metadata": {},
     "output_type": "execute_result"
    }
   ],
   "source": [
    "#looking at the number of attributes and size of the data after filtering\n",
    "filtered_data.shape"
   ]
  },
  {
   "cell_type": "code",
   "execution_count": 10,
   "metadata": {
    "_uuid": "d4f05e434ed61ae88b00f15ecbfcc83b38d9e12e"
   },
   "outputs": [
    {
     "data": {
      "text/html": [
       "<div>\n",
       "<style>\n",
       "    .dataframe thead tr:only-child th {\n",
       "        text-align: right;\n",
       "    }\n",
       "\n",
       "    .dataframe thead th {\n",
       "        text-align: left;\n",
       "    }\n",
       "\n",
       "    .dataframe tbody tr th {\n",
       "        vertical-align: top;\n",
       "    }\n",
       "</style>\n",
       "<table border=\"1\" class=\"dataframe\">\n",
       "  <thead>\n",
       "    <tr style=\"text-align: right;\">\n",
       "      <th></th>\n",
       "      <th>Id</th>\n",
       "      <th>ProductId</th>\n",
       "      <th>UserId</th>\n",
       "      <th>ProfileName</th>\n",
       "      <th>HelpfulnessNumerator</th>\n",
       "      <th>HelpfulnessDenominator</th>\n",
       "      <th>Score</th>\n",
       "      <th>Time</th>\n",
       "      <th>Summary</th>\n",
       "      <th>Text</th>\n",
       "    </tr>\n",
       "  </thead>\n",
       "  <tbody>\n",
       "    <tr>\n",
       "      <th>0</th>\n",
       "      <td>1</td>\n",
       "      <td>B001E4KFG0</td>\n",
       "      <td>A3SGXH7AUHU8GW</td>\n",
       "      <td>delmartian</td>\n",
       "      <td>1</td>\n",
       "      <td>1</td>\n",
       "      <td>positive</td>\n",
       "      <td>1303862400</td>\n",
       "      <td>Good Quality Dog Food</td>\n",
       "      <td>I have bought several of the Vitality canned d...</td>\n",
       "    </tr>\n",
       "    <tr>\n",
       "      <th>1</th>\n",
       "      <td>2</td>\n",
       "      <td>B00813GRG4</td>\n",
       "      <td>A1D87F6ZCVE5NK</td>\n",
       "      <td>dll pa</td>\n",
       "      <td>0</td>\n",
       "      <td>0</td>\n",
       "      <td>negative</td>\n",
       "      <td>1346976000</td>\n",
       "      <td>Not as Advertised</td>\n",
       "      <td>Product arrived labeled as Jumbo Salted Peanut...</td>\n",
       "    </tr>\n",
       "    <tr>\n",
       "      <th>2</th>\n",
       "      <td>3</td>\n",
       "      <td>B000LQOCH0</td>\n",
       "      <td>ABXLMWJIXXAIN</td>\n",
       "      <td>Natalia Corres \"Natalia Corres\"</td>\n",
       "      <td>1</td>\n",
       "      <td>1</td>\n",
       "      <td>positive</td>\n",
       "      <td>1219017600</td>\n",
       "      <td>\"Delight\" says it all</td>\n",
       "      <td>This is a confection that has been around a fe...</td>\n",
       "    </tr>\n",
       "    <tr>\n",
       "      <th>3</th>\n",
       "      <td>4</td>\n",
       "      <td>B000UA0QIQ</td>\n",
       "      <td>A395BORC6FGVXV</td>\n",
       "      <td>Karl</td>\n",
       "      <td>3</td>\n",
       "      <td>3</td>\n",
       "      <td>negative</td>\n",
       "      <td>1307923200</td>\n",
       "      <td>Cough Medicine</td>\n",
       "      <td>If you are looking for the secret ingredient i...</td>\n",
       "    </tr>\n",
       "    <tr>\n",
       "      <th>4</th>\n",
       "      <td>5</td>\n",
       "      <td>B006K2ZZ7K</td>\n",
       "      <td>A1UQRSCLF8GW1T</td>\n",
       "      <td>Michael D. Bigham \"M. Wassir\"</td>\n",
       "      <td>0</td>\n",
       "      <td>0</td>\n",
       "      <td>positive</td>\n",
       "      <td>1350777600</td>\n",
       "      <td>Great taffy</td>\n",
       "      <td>Great taffy at a great price.  There was a wid...</td>\n",
       "    </tr>\n",
       "  </tbody>\n",
       "</table>\n",
       "</div>"
      ],
      "text/plain": [
       "   Id   ProductId          UserId                      ProfileName  \\\n",
       "0   1  B001E4KFG0  A3SGXH7AUHU8GW                       delmartian   \n",
       "1   2  B00813GRG4  A1D87F6ZCVE5NK                           dll pa   \n",
       "2   3  B000LQOCH0   ABXLMWJIXXAIN  Natalia Corres \"Natalia Corres\"   \n",
       "3   4  B000UA0QIQ  A395BORC6FGVXV                             Karl   \n",
       "4   5  B006K2ZZ7K  A1UQRSCLF8GW1T    Michael D. Bigham \"M. Wassir\"   \n",
       "\n",
       "   HelpfulnessNumerator  HelpfulnessDenominator     Score        Time  \\\n",
       "0                     1                       1  positive  1303862400   \n",
       "1                     0                       0  negative  1346976000   \n",
       "2                     1                       1  positive  1219017600   \n",
       "3                     3                       3  negative  1307923200   \n",
       "4                     0                       0  positive  1350777600   \n",
       "\n",
       "                 Summary                                               Text  \n",
       "0  Good Quality Dog Food  I have bought several of the Vitality canned d...  \n",
       "1      Not as Advertised  Product arrived labeled as Jumbo Salted Peanut...  \n",
       "2  \"Delight\" says it all  This is a confection that has been around a fe...  \n",
       "3         Cough Medicine  If you are looking for the secret ingredient i...  \n",
       "4            Great taffy  Great taffy at a great price.  There was a wid...  "
      ]
     },
     "execution_count": 10,
     "metadata": {},
     "output_type": "execute_result"
    }
   ],
   "source": [
    "# converting Score >3 into postive and <3 into negative\n",
    "\n",
    "def convert(x):\n",
    "    if x>3:\n",
    "        return \"positive\"\n",
    "    return \"negative\"\n",
    "\n",
    "\n",
    "filtered_data['Score'] = filtered_data['Score'].map(convert)\n",
    "filtered_data.head()"
   ]
  },
  {
   "cell_type": "markdown",
   "metadata": {
    "_uuid": "eab1adc00759e8e9ce42070896f246e7ebaba964"
   },
   "source": [
    "# Exploratory Data Analysis"
   ]
  },
  {
   "cell_type": "markdown",
   "metadata": {
    "_uuid": "2ad3b185cff62a8e26d8ffe1451b3ffdffc6aa2a"
   },
   "source": [
    "## Data Cleaning"
   ]
  },
  {
   "cell_type": "markdown",
   "metadata": {
    "_uuid": "86deef7eccac06ebf1c268860de6a2adebd869c8"
   },
   "source": [
    "After analysis it was found that a review with same parameter other than ProductId may belong to same product.Hence we first sort the data according to ProductId and then just keep first similar product review and delete the others"
   ]
  },
  {
   "cell_type": "code",
   "execution_count": 11,
   "metadata": {
    "_uuid": "2cde549cdc78bd6c3fb71f0f95ae47c18a5d6ca2"
   },
   "outputs": [
    {
     "data": {
      "text/plain": [
       "(364173, 10)"
      ]
     },
     "execution_count": 11,
     "metadata": {},
     "output_type": "execute_result"
    }
   ],
   "source": [
    "\n",
    "sorted_data = filtered_data.sort_values(['ProductId'])\n",
    "sorted_data.drop_duplicates({\"UserId\",\"ProfileName\",\"Time\",\"Text\"} , keep = 'first' , inplace = True )\n",
    "sorted_data.shape"
   ]
  },
  {
   "cell_type": "markdown",
   "metadata": {
    "_uuid": "3e5ac19e6217e4aaed365ec6cbd473e693ba2a43"
   },
   "source": [
    "### Observation:\n",
    "HelpfulnessNumerator is greater than HelpfulnessDenominator is not practically possible hence removing such rows\n"
   ]
  },
  {
   "cell_type": "code",
   "execution_count": 12,
   "metadata": {
    "_uuid": "bb7b5f917d8f707f64c73e7812364036bb784a7b"
   },
   "outputs": [
    {
     "data": {
      "text/plain": [
       "(364171, 10)"
      ]
     },
     "execution_count": 12,
     "metadata": {},
     "output_type": "execute_result"
    }
   ],
   "source": [
    "# removing rows where HelpfulnessNumerator is greater than HelpfulnessDenominator\n",
    "final_data = sorted_data[sorted_data.HelpfulnessNumerator <= sorted_data.HelpfulnessDenominator]\n",
    "final_data.shape"
   ]
  },
  {
   "cell_type": "code",
   "execution_count": 13,
   "metadata": {
    "_uuid": "6f47d4e314f650f8dcd98c5b34b541559813496a"
   },
   "outputs": [
    {
     "data": {
      "text/plain": [
       "69.25852107399194"
      ]
     },
     "execution_count": 13,
     "metadata": {},
     "output_type": "execute_result"
    }
   ],
   "source": [
    "\n",
    "# checking how much data is still remaining\n",
    "(final_data['Id'].size/filtered_data['Id'].size)*100"
   ]
  },
  {
   "cell_type": "markdown",
   "metadata": {
    "_uuid": "87b6f8846bdba3504344af6f90b7f6d58e342629"
   },
   "source": [
    "Only 69.25% of data is remaining after removing duplicates and non pratical values"
   ]
  },
  {
   "cell_type": "markdown",
   "metadata": {
    "_uuid": "0ae68059b308654abecbe61b51d3fe2e5fdc544f"
   },
   "source": [
    "# Text Preprocessing"
   ]
  },
  {
   "cell_type": "markdown",
   "metadata": {
    "_uuid": "2ab223e3a04e5f504de02e9a855ff72b8ce484cf"
   },
   "source": [
    "### Preprocessing phase involves following steps:\n",
    "1. removing the html tags\n",
    "2. Remove any punctuations or limited set of special characters like , or . or # etc.\n",
    "3. Check if the word is made up of english letters and is not alpha-numeric\n",
    "4. Check to see if the length of the word is greater than 2 (as it was researched that there is no adjective in 2-letters)\n",
    "5. Convert the word to lowercase\n",
    "6. Remove Stopwords\n",
    "7. Stemming "
   ]
  },
  {
   "cell_type": "code",
   "execution_count": 14,
   "metadata": {
    "_uuid": "b5bcc5560b45b5353ae61edb11775df76e01e48d"
   },
   "outputs": [
    {
     "name": "stdout",
     "output_type": "stream",
     "text": [
      "{'and', 'now', 'didn', 'do', 'ma', 'all', 'there', 'should', 'haven', \"shouldn't\", 'nor', 'had', 'hers', 'been', 'he', \"haven't\", 't', \"should've\", 'here', 'does', \"doesn't\", 'no', \"you've\", 'only', 'she', 'we', 'over', 'won', 'him', 'yourselves', 'of', 'd', \"hadn't\", 'isn', 'were', \"you're\", \"shan't\", 'into', 'under', 'you', 'has', 'a', \"she's\", 'himself', 'own', 'through', 'but', 'itself', 'whom', 'each', \"isn't\", \"don't\", 'what', 'the', 'than', 'same', 's', 'm', 'below', 'ours', 'on', \"aren't\", \"mustn't\", 'i', 'be', \"needn't\", 'at', 'further', 'wasn', 'their', 'these', 'doesn', 'having', 'above', 'up', 'why', 'my', 'if', \"you'd\", 'which', 'they', 'are', 'until', 'down', 'll', \"didn't\", 'in', 'your', 'this', 'how', 'herself', \"wouldn't\", \"wasn't\", 'as', 'theirs', 'when', 'me', 'myself', 'our', 'while', 'shouldn', 'some', 'those', 'don', 'from', 'did', 'themselves', 'very', 'aren', 'to', 'mightn', 'was', 'again', 'off', 'will', 'that', 'both', 'couldn', 'between', \"mightn't\", 'ourselves', \"weren't\", 'yourself', 'doing', 'his', 'yours', \"you'll\", \"won't\", 'needn', 'hasn', 'mustn', 'its', 'with', 'y', 'where', 'by', 'other', 'am', 'any', 'have', 'such', 'shan', 'hadn', \"that'll\", 'because', 'after', 'during', 'then', 'is', 'it', 've', 'few', 'who', 'more', 'just', 'before', 'weren', 'against', 'them', 'being', 'or', 'o', 're', 'wouldn', 'about', 'her', \"hasn't\", \"couldn't\", 'ain', 'can', 'for', \"it's\", 'out', 'most', 'once', 'too', 'an', 'so'}\n"
     ]
    }
   ],
   "source": [
    "#nltk.download('stopwords')\n",
    "stop = set(stopwords.words('english'))  # set of english stopwords\n",
    "stop.remove(\"not\")  \n",
    "print(stop)\n",
    "\n",
    "sno = nltk.stem.SnowballStemmer('english') # initializing snowball stemmer\n",
    "\n"
   ]
  },
  {
   "cell_type": "code",
   "execution_count": 15,
   "metadata": {
    "_uuid": "8f7648546e61cd58b7415d94fbdeef9a7e9519b4",
    "collapsed": true
   },
   "outputs": [],
   "source": [
    "def cleanhtml(sentence):    # function for removing html\n",
    "    cleanr = re.compile('<.*?>')\n",
    "    cleantxt = re.sub(cleanr , ' ' , str(sentence))\n",
    "    return cleantxt\n",
    "\n",
    "def cleanpunc(sentence):    # function for removing punctuation\n",
    "    clean = re.sub(r'[?|!|\\'|\"|#|.|,|)|(|\\|/]', r' ' , sentence)\n",
    "    return clean\n"
   ]
  },
  {
   "cell_type": "code",
   "execution_count": 16,
   "metadata": {
    "_uuid": "19cbbc26a531f249abdf0d1751636d0e29a042f0"
   },
   "outputs": [
    {
     "data": {
      "text/html": [
       "<div>\n",
       "<style>\n",
       "    .dataframe thead tr:only-child th {\n",
       "        text-align: right;\n",
       "    }\n",
       "\n",
       "    .dataframe thead th {\n",
       "        text-align: left;\n",
       "    }\n",
       "\n",
       "    .dataframe tbody tr th {\n",
       "        vertical-align: top;\n",
       "    }\n",
       "</style>\n",
       "<table border=\"1\" class=\"dataframe\">\n",
       "  <thead>\n",
       "    <tr style=\"text-align: right;\">\n",
       "      <th></th>\n",
       "      <th>Id</th>\n",
       "      <th>ProductId</th>\n",
       "      <th>UserId</th>\n",
       "      <th>ProfileName</th>\n",
       "      <th>HelpfulnessNumerator</th>\n",
       "      <th>HelpfulnessDenominator</th>\n",
       "      <th>Score</th>\n",
       "      <th>Time</th>\n",
       "      <th>Summary</th>\n",
       "      <th>Text</th>\n",
       "      <th>com_text</th>\n",
       "    </tr>\n",
       "  </thead>\n",
       "  <tbody>\n",
       "    <tr>\n",
       "      <th>150523</th>\n",
       "      <td>150524</td>\n",
       "      <td>0006641040</td>\n",
       "      <td>ACITT7DI6IDDL</td>\n",
       "      <td>shari zychinski</td>\n",
       "      <td>0</td>\n",
       "      <td>0</td>\n",
       "      <td>positive</td>\n",
       "      <td>939340800</td>\n",
       "      <td>EVERY book is educational</td>\n",
       "      <td>this witty little book makes my son laugh at l...</td>\n",
       "      <td>EVERY book is educational this witty little bo...</td>\n",
       "    </tr>\n",
       "    <tr>\n",
       "      <th>150505</th>\n",
       "      <td>150506</td>\n",
       "      <td>0006641040</td>\n",
       "      <td>A2IW4PEEKO2R0U</td>\n",
       "      <td>Tracy</td>\n",
       "      <td>1</td>\n",
       "      <td>1</td>\n",
       "      <td>positive</td>\n",
       "      <td>1194739200</td>\n",
       "      <td>Love the book, miss the hard cover version</td>\n",
       "      <td>I grew up reading these Sendak books, and watc...</td>\n",
       "      <td>Love the book, miss the hard cover version I g...</td>\n",
       "    </tr>\n",
       "    <tr>\n",
       "      <th>150506</th>\n",
       "      <td>150507</td>\n",
       "      <td>0006641040</td>\n",
       "      <td>A1S4A3IQ2MU7V4</td>\n",
       "      <td>sally sue \"sally sue\"</td>\n",
       "      <td>1</td>\n",
       "      <td>1</td>\n",
       "      <td>positive</td>\n",
       "      <td>1191456000</td>\n",
       "      <td>chicken soup with rice months</td>\n",
       "      <td>This is a fun way for children to learn their ...</td>\n",
       "      <td>chicken soup with rice months This is a fun wa...</td>\n",
       "    </tr>\n",
       "    <tr>\n",
       "      <th>150507</th>\n",
       "      <td>150508</td>\n",
       "      <td>0006641040</td>\n",
       "      <td>AZGXZ2UUK6X</td>\n",
       "      <td>Catherine Hallberg \"(Kate)\"</td>\n",
       "      <td>1</td>\n",
       "      <td>1</td>\n",
       "      <td>positive</td>\n",
       "      <td>1076025600</td>\n",
       "      <td>a good swingy rhythm for reading aloud</td>\n",
       "      <td>This is a great little book to read aloud- it ...</td>\n",
       "      <td>a good swingy rhythm for reading aloud This is...</td>\n",
       "    </tr>\n",
       "    <tr>\n",
       "      <th>150508</th>\n",
       "      <td>150509</td>\n",
       "      <td>0006641040</td>\n",
       "      <td>A3CMRKGE0P909G</td>\n",
       "      <td>Teresa</td>\n",
       "      <td>3</td>\n",
       "      <td>4</td>\n",
       "      <td>positive</td>\n",
       "      <td>1018396800</td>\n",
       "      <td>A great way to learn the months</td>\n",
       "      <td>This is a book of poetry about the months of t...</td>\n",
       "      <td>A great way to learn the months This is a book...</td>\n",
       "    </tr>\n",
       "  </tbody>\n",
       "</table>\n",
       "</div>"
      ],
      "text/plain": [
       "            Id   ProductId          UserId                  ProfileName  \\\n",
       "150523  150524  0006641040   ACITT7DI6IDDL              shari zychinski   \n",
       "150505  150506  0006641040  A2IW4PEEKO2R0U                        Tracy   \n",
       "150506  150507  0006641040  A1S4A3IQ2MU7V4        sally sue \"sally sue\"   \n",
       "150507  150508  0006641040     AZGXZ2UUK6X  Catherine Hallberg \"(Kate)\"   \n",
       "150508  150509  0006641040  A3CMRKGE0P909G                       Teresa   \n",
       "\n",
       "        HelpfulnessNumerator  HelpfulnessDenominator     Score        Time  \\\n",
       "150523                     0                       0  positive   939340800   \n",
       "150505                     1                       1  positive  1194739200   \n",
       "150506                     1                       1  positive  1191456000   \n",
       "150507                     1                       1  positive  1076025600   \n",
       "150508                     3                       4  positive  1018396800   \n",
       "\n",
       "                                           Summary  \\\n",
       "150523                   EVERY book is educational   \n",
       "150505  Love the book, miss the hard cover version   \n",
       "150506               chicken soup with rice months   \n",
       "150507      a good swingy rhythm for reading aloud   \n",
       "150508             A great way to learn the months   \n",
       "\n",
       "                                                     Text  \\\n",
       "150523  this witty little book makes my son laugh at l...   \n",
       "150505  I grew up reading these Sendak books, and watc...   \n",
       "150506  This is a fun way for children to learn their ...   \n",
       "150507  This is a great little book to read aloud- it ...   \n",
       "150508  This is a book of poetry about the months of t...   \n",
       "\n",
       "                                                 com_text  \n",
       "150523  EVERY book is educational this witty little bo...  \n",
       "150505  Love the book, miss the hard cover version I g...  \n",
       "150506  chicken soup with rice months This is a fun wa...  \n",
       "150507  a good swingy rhythm for reading aloud This is...  \n",
       "150508  A great way to learn the months This is a book...  "
      ]
     },
     "execution_count": 16,
     "metadata": {},
     "output_type": "execute_result"
    }
   ],
   "source": [
    "final_data['com_text'] = final_data['Summary'] + ' ' + final_data['Text'] \n",
    "final_data.head()"
   ]
  },
  {
   "cell_type": "code",
   "execution_count": 17,
   "metadata": {
    "_uuid": "37f87516444854758485dc4ef3b2c13bee07bb2f",
    "collapsed": true
   },
   "outputs": [],
   "source": [
    "i = 0\n",
    "final_string = []\n",
    "all_pos_words = []\n",
    "all_neg_words = []\n",
    "str1 = ' '\n",
    "s = ' '\n",
    "ss = final_data['com_text'].values\n",
    "for sent in ss:\n",
    "    filtered_sentence=[]\n",
    "    #print(sent);\n",
    "    sent=cleanhtml(sent) # removing HTMl tags\n",
    "    for w in sent.split():\n",
    "        for cleaned_words in cleanpunc(w).split():\n",
    "            if((cleaned_words.isalpha()) & (len(cleaned_words)>2)):# checking if word is not alpha numeric and length is greater than 2\n",
    "                if(cleaned_words.lower() not in stop):\n",
    "                    s=(sno.stem(cleaned_words.lower())).encode('utf8')\n",
    "                    filtered_sentence.append(s)\n",
    "                    if (final_data['Score'].values)[i] == 'positive': \n",
    "                        all_pos_words.append(s) \n",
    "                    if(final_data['Score'].values)[i] == 'negative':\n",
    "                        all_neg_words.append(s) \n",
    "                else:\n",
    "                    continue\n",
    "            else:\n",
    "                continue \n",
    "    \n",
    "    str1 = b\" \".join(filtered_sentence) #final string of cleaned words\n",
    "    \n",
    "    \n",
    "    final_string.append(str1)\n",
    "    i+=1\n",
    "            \n",
    "        "
   ]
  },
  {
   "cell_type": "code",
   "execution_count": 18,
   "metadata": {
    "_uuid": "b18c3698a5c30742429364d2c0ade4ae741d8efd",
    "scrolled": true
   },
   "outputs": [
    {
     "data": {
      "text/plain": [
       "positive    307061\n",
       "negative     57110\n",
       "Name: Score, dtype: int64"
      ]
     },
     "execution_count": 18,
     "metadata": {},
     "output_type": "execute_result"
    }
   ],
   "source": [
    "final_data['CleanedText'] = final_string  # adding extra column for preprocessed review\n",
    "final_data['CleanedText'] = final_data['CleanedText'].str.decode(\"utf8\")\n",
    "#final_data.head()\n",
    "final_data['Score'].value_counts()"
   ]
  },
  {
   "cell_type": "code",
   "execution_count": 19,
   "metadata": {
    "_uuid": "c313e19effd02640a85fdce4417ef37b419eeaf1"
   },
   "outputs": [
    {
     "data": {
      "text/html": [
       "<div>\n",
       "<style>\n",
       "    .dataframe thead tr:only-child th {\n",
       "        text-align: right;\n",
       "    }\n",
       "\n",
       "    .dataframe thead th {\n",
       "        text-align: left;\n",
       "    }\n",
       "\n",
       "    .dataframe tbody tr th {\n",
       "        vertical-align: top;\n",
       "    }\n",
       "</style>\n",
       "<table border=\"1\" class=\"dataframe\">\n",
       "  <thead>\n",
       "    <tr style=\"text-align: right;\">\n",
       "      <th></th>\n",
       "      <th>Id</th>\n",
       "      <th>ProductId</th>\n",
       "      <th>UserId</th>\n",
       "      <th>ProfileName</th>\n",
       "      <th>HelpfulnessNumerator</th>\n",
       "      <th>HelpfulnessDenominator</th>\n",
       "      <th>Score</th>\n",
       "      <th>Time</th>\n",
       "      <th>Summary</th>\n",
       "      <th>Text</th>\n",
       "      <th>com_text</th>\n",
       "      <th>CleanedText</th>\n",
       "    </tr>\n",
       "  </thead>\n",
       "  <tbody>\n",
       "    <tr>\n",
       "      <th>150523</th>\n",
       "      <td>150524</td>\n",
       "      <td>0006641040</td>\n",
       "      <td>ACITT7DI6IDDL</td>\n",
       "      <td>shari zychinski</td>\n",
       "      <td>0</td>\n",
       "      <td>0</td>\n",
       "      <td>positive</td>\n",
       "      <td>939340800</td>\n",
       "      <td>EVERY book is educational</td>\n",
       "      <td>this witty little book makes my son laugh at l...</td>\n",
       "      <td>EVERY book is educational this witty little bo...</td>\n",
       "      <td>everi book educ witti littl book make son laug...</td>\n",
       "    </tr>\n",
       "    <tr>\n",
       "      <th>150505</th>\n",
       "      <td>150506</td>\n",
       "      <td>0006641040</td>\n",
       "      <td>A2IW4PEEKO2R0U</td>\n",
       "      <td>Tracy</td>\n",
       "      <td>1</td>\n",
       "      <td>1</td>\n",
       "      <td>positive</td>\n",
       "      <td>1194739200</td>\n",
       "      <td>Love the book, miss the hard cover version</td>\n",
       "      <td>I grew up reading these Sendak books, and watc...</td>\n",
       "      <td>Love the book, miss the hard cover version I g...</td>\n",
       "      <td>love book miss hard cover version grew read se...</td>\n",
       "    </tr>\n",
       "    <tr>\n",
       "      <th>150506</th>\n",
       "      <td>150507</td>\n",
       "      <td>0006641040</td>\n",
       "      <td>A1S4A3IQ2MU7V4</td>\n",
       "      <td>sally sue \"sally sue\"</td>\n",
       "      <td>1</td>\n",
       "      <td>1</td>\n",
       "      <td>positive</td>\n",
       "      <td>1191456000</td>\n",
       "      <td>chicken soup with rice months</td>\n",
       "      <td>This is a fun way for children to learn their ...</td>\n",
       "      <td>chicken soup with rice months This is a fun wa...</td>\n",
       "      <td>chicken soup rice month fun way children learn...</td>\n",
       "    </tr>\n",
       "    <tr>\n",
       "      <th>150507</th>\n",
       "      <td>150508</td>\n",
       "      <td>0006641040</td>\n",
       "      <td>AZGXZ2UUK6X</td>\n",
       "      <td>Catherine Hallberg \"(Kate)\"</td>\n",
       "      <td>1</td>\n",
       "      <td>1</td>\n",
       "      <td>positive</td>\n",
       "      <td>1076025600</td>\n",
       "      <td>a good swingy rhythm for reading aloud</td>\n",
       "      <td>This is a great little book to read aloud- it ...</td>\n",
       "      <td>a good swingy rhythm for reading aloud This is...</td>\n",
       "      <td>good swingi rhythm read aloud great littl book...</td>\n",
       "    </tr>\n",
       "    <tr>\n",
       "      <th>150508</th>\n",
       "      <td>150509</td>\n",
       "      <td>0006641040</td>\n",
       "      <td>A3CMRKGE0P909G</td>\n",
       "      <td>Teresa</td>\n",
       "      <td>3</td>\n",
       "      <td>4</td>\n",
       "      <td>positive</td>\n",
       "      <td>1018396800</td>\n",
       "      <td>A great way to learn the months</td>\n",
       "      <td>This is a book of poetry about the months of t...</td>\n",
       "      <td>A great way to learn the months This is a book...</td>\n",
       "      <td>great way learn month book poetri month year g...</td>\n",
       "    </tr>\n",
       "  </tbody>\n",
       "</table>\n",
       "</div>"
      ],
      "text/plain": [
       "            Id   ProductId          UserId                  ProfileName  \\\n",
       "150523  150524  0006641040   ACITT7DI6IDDL              shari zychinski   \n",
       "150505  150506  0006641040  A2IW4PEEKO2R0U                        Tracy   \n",
       "150506  150507  0006641040  A1S4A3IQ2MU7V4        sally sue \"sally sue\"   \n",
       "150507  150508  0006641040     AZGXZ2UUK6X  Catherine Hallberg \"(Kate)\"   \n",
       "150508  150509  0006641040  A3CMRKGE0P909G                       Teresa   \n",
       "\n",
       "        HelpfulnessNumerator  HelpfulnessDenominator     Score        Time  \\\n",
       "150523                     0                       0  positive   939340800   \n",
       "150505                     1                       1  positive  1194739200   \n",
       "150506                     1                       1  positive  1191456000   \n",
       "150507                     1                       1  positive  1076025600   \n",
       "150508                     3                       4  positive  1018396800   \n",
       "\n",
       "                                           Summary  \\\n",
       "150523                   EVERY book is educational   \n",
       "150505  Love the book, miss the hard cover version   \n",
       "150506               chicken soup with rice months   \n",
       "150507      a good swingy rhythm for reading aloud   \n",
       "150508             A great way to learn the months   \n",
       "\n",
       "                                                     Text  \\\n",
       "150523  this witty little book makes my son laugh at l...   \n",
       "150505  I grew up reading these Sendak books, and watc...   \n",
       "150506  This is a fun way for children to learn their ...   \n",
       "150507  This is a great little book to read aloud- it ...   \n",
       "150508  This is a book of poetry about the months of t...   \n",
       "\n",
       "                                                 com_text  \\\n",
       "150523  EVERY book is educational this witty little bo...   \n",
       "150505  Love the book, miss the hard cover version I g...   \n",
       "150506  chicken soup with rice months This is a fun wa...   \n",
       "150507  a good swingy rhythm for reading aloud This is...   \n",
       "150508  A great way to learn the months This is a book...   \n",
       "\n",
       "                                              CleanedText  \n",
       "150523  everi book educ witti littl book make son laug...  \n",
       "150505  love book miss hard cover version grew read se...  \n",
       "150506  chicken soup rice month fun way children learn...  \n",
       "150507  good swingi rhythm read aloud great littl book...  \n",
       "150508  great way learn month book poetri month year g...  "
      ]
     },
     "execution_count": 19,
     "metadata": {},
     "output_type": "execute_result"
    }
   ],
   "source": [
    "final_data.head()"
   ]
  },
  {
   "cell_type": "markdown",
   "metadata": {
    "_uuid": "6647f30c857fc9be0386bf16ed9a715778d12397"
   },
   "source": [
    "### Observation:\n",
    "Dataset is highly imbalanced. Out of 364171 reviews only 57110 reviews are negative and rest are positive. \n",
    " "
   ]
  },
  {
   "cell_type": "code",
   "execution_count": 20,
   "metadata": {
    "_uuid": "68e73a022892ec02265e4d15986b4467f839659d",
    "collapsed": true
   },
   "outputs": [],
   "source": [
    "# sorting whole  data based on time\n",
    "b = final_data\n",
    "b['Time'] = pd.to_datetime(b['Time'], unit = \"s\")\n",
    "b.sort_values('Time', inplace = True)\n",
    "\n",
    "#sampled_data.sort_values('Time',axis=0,kind=\"quicksort\", ascending=True , inplace = True)"
   ]
  },
  {
   "cell_type": "code",
   "execution_count": 21,
   "metadata": {
    "_uuid": "3744149276f27b2358c4cc5c2d6808a6fd82b17b"
   },
   "outputs": [
    {
     "data": {
      "text/html": [
       "<div>\n",
       "<style>\n",
       "    .dataframe thead tr:only-child th {\n",
       "        text-align: right;\n",
       "    }\n",
       "\n",
       "    .dataframe thead th {\n",
       "        text-align: left;\n",
       "    }\n",
       "\n",
       "    .dataframe tbody tr th {\n",
       "        vertical-align: top;\n",
       "    }\n",
       "</style>\n",
       "<table border=\"1\" class=\"dataframe\">\n",
       "  <thead>\n",
       "    <tr style=\"text-align: right;\">\n",
       "      <th></th>\n",
       "      <th>Id</th>\n",
       "      <th>ProductId</th>\n",
       "      <th>UserId</th>\n",
       "      <th>ProfileName</th>\n",
       "      <th>HelpfulnessNumerator</th>\n",
       "      <th>HelpfulnessDenominator</th>\n",
       "      <th>Score</th>\n",
       "      <th>Time</th>\n",
       "      <th>Summary</th>\n",
       "      <th>Text</th>\n",
       "      <th>com_text</th>\n",
       "      <th>CleanedText</th>\n",
       "    </tr>\n",
       "  </thead>\n",
       "  <tbody>\n",
       "    <tr>\n",
       "      <th>150523</th>\n",
       "      <td>150524</td>\n",
       "      <td>0006641040</td>\n",
       "      <td>ACITT7DI6IDDL</td>\n",
       "      <td>shari zychinski</td>\n",
       "      <td>0</td>\n",
       "      <td>0</td>\n",
       "      <td>positive</td>\n",
       "      <td>1999-10-08</td>\n",
       "      <td>EVERY book is educational</td>\n",
       "      <td>this witty little book makes my son laugh at l...</td>\n",
       "      <td>EVERY book is educational this witty little bo...</td>\n",
       "      <td>everi book educ witti littl book make son laug...</td>\n",
       "    </tr>\n",
       "    <tr>\n",
       "      <th>150500</th>\n",
       "      <td>150501</td>\n",
       "      <td>0006641040</td>\n",
       "      <td>AJ46FKXOVC7NR</td>\n",
       "      <td>Nicholas A Mesiano</td>\n",
       "      <td>2</td>\n",
       "      <td>2</td>\n",
       "      <td>positive</td>\n",
       "      <td>1999-10-25</td>\n",
       "      <td>This whole series is great way to spend time w...</td>\n",
       "      <td>I can remember seeing the show when it aired o...</td>\n",
       "      <td>This whole series is great way to spend time w...</td>\n",
       "      <td>whole seri great way spend time child rememb s...</td>\n",
       "    </tr>\n",
       "    <tr>\n",
       "      <th>451855</th>\n",
       "      <td>451856</td>\n",
       "      <td>B00004CXX9</td>\n",
       "      <td>AIUWLEQ1ADEG5</td>\n",
       "      <td>Elizabeth Medina</td>\n",
       "      <td>0</td>\n",
       "      <td>0</td>\n",
       "      <td>positive</td>\n",
       "      <td>1999-12-02</td>\n",
       "      <td>Entertainingl Funny!</td>\n",
       "      <td>Beetlejuice is a well written movie ..... ever...</td>\n",
       "      <td>Entertainingl Funny! Beetlejuice is a well wri...</td>\n",
       "      <td>entertainingl funni beetlejuic well written mo...</td>\n",
       "    </tr>\n",
       "    <tr>\n",
       "      <th>374358</th>\n",
       "      <td>374359</td>\n",
       "      <td>B00004CI84</td>\n",
       "      <td>A344SMIA5JECGM</td>\n",
       "      <td>Vincent P. Ross</td>\n",
       "      <td>1</td>\n",
       "      <td>2</td>\n",
       "      <td>positive</td>\n",
       "      <td>1999-12-06</td>\n",
       "      <td>A modern day fairy tale</td>\n",
       "      <td>A twist of rumplestiskin captured on film, sta...</td>\n",
       "      <td>A modern day fairy tale A twist of rumplestisk...</td>\n",
       "      <td>modern day fairi tale twist rumplestiskin capt...</td>\n",
       "    </tr>\n",
       "    <tr>\n",
       "      <th>451854</th>\n",
       "      <td>451855</td>\n",
       "      <td>B00004CXX9</td>\n",
       "      <td>AJH6LUC1UT1ON</td>\n",
       "      <td>The Phantom of the Opera</td>\n",
       "      <td>0</td>\n",
       "      <td>0</td>\n",
       "      <td>positive</td>\n",
       "      <td>2000-01-03</td>\n",
       "      <td>FANTASTIC!</td>\n",
       "      <td>Beetlejuice is an excellent and funny movie. K...</td>\n",
       "      <td>FANTASTIC! Beetlejuice is an excellent and fun...</td>\n",
       "      <td>fantast beetlejuic excel funni movi keaton hil...</td>\n",
       "    </tr>\n",
       "    <tr>\n",
       "      <th>374421</th>\n",
       "      <td>374422</td>\n",
       "      <td>B00004CI84</td>\n",
       "      <td>A1048CYU0OV4O8</td>\n",
       "      <td>Judy L. Eans</td>\n",
       "      <td>2</td>\n",
       "      <td>2</td>\n",
       "      <td>positive</td>\n",
       "      <td>2000-01-09</td>\n",
       "      <td>GREAT</td>\n",
       "      <td>THIS IS ONE MOVIE THAT SHOULD BE IN YOUR MOVIE...</td>\n",
       "      <td>GREAT THIS IS ONE MOVIE THAT SHOULD BE IN YOUR...</td>\n",
       "      <td>great one movi movi collect fill comedi action...</td>\n",
       "    </tr>\n",
       "    <tr>\n",
       "      <th>374342</th>\n",
       "      <td>374343</td>\n",
       "      <td>B00004CI84</td>\n",
       "      <td>A1B2IZU1JLZA6</td>\n",
       "      <td>Wes</td>\n",
       "      <td>19</td>\n",
       "      <td>23</td>\n",
       "      <td>negative</td>\n",
       "      <td>2000-01-19</td>\n",
       "      <td>WARNING: CLAMSHELL EDITION IS EDITED TV VERSION</td>\n",
       "      <td>I, myself always enjoyed this movie, it's very...</td>\n",
       "      <td>WARNING: CLAMSHELL EDITION IS EDITED TV VERSIO...</td>\n",
       "      <td>clamshel edit edit version alway enjoy movi fu...</td>\n",
       "    </tr>\n",
       "    <tr>\n",
       "      <th>76881</th>\n",
       "      <td>76882</td>\n",
       "      <td>B00002N8SM</td>\n",
       "      <td>A32DW342WBJ6BX</td>\n",
       "      <td>Buttersugar</td>\n",
       "      <td>0</td>\n",
       "      <td>0</td>\n",
       "      <td>positive</td>\n",
       "      <td>2000-01-24</td>\n",
       "      <td>A sure death for flies</td>\n",
       "      <td>I bought a few of these after my apartment was...</td>\n",
       "      <td>A sure death for flies I bought a few of these...</td>\n",
       "      <td>sure death fli bought apart infest fruit fli h...</td>\n",
       "    </tr>\n",
       "    <tr>\n",
       "      <th>374449</th>\n",
       "      <td>374450</td>\n",
       "      <td>B00004CI84</td>\n",
       "      <td>ACJR7EQF9S6FP</td>\n",
       "      <td>Jeremy Robertson</td>\n",
       "      <td>2</td>\n",
       "      <td>3</td>\n",
       "      <td>positive</td>\n",
       "      <td>2000-02-26</td>\n",
       "      <td>Bettlejuice...Bettlejuice...BETTLEJUICE!</td>\n",
       "      <td>What happens when you say his name three times...</td>\n",
       "      <td>Bettlejuice...Bettlejuice...BETTLEJUICE! What ...</td>\n",
       "      <td>bettlejuic bettlejuic bettlejuic happen say na...</td>\n",
       "    </tr>\n",
       "    <tr>\n",
       "      <th>374399</th>\n",
       "      <td>374400</td>\n",
       "      <td>B00004CI84</td>\n",
       "      <td>A2DEE7F9XKP3ZR</td>\n",
       "      <td>jerome</td>\n",
       "      <td>0</td>\n",
       "      <td>3</td>\n",
       "      <td>positive</td>\n",
       "      <td>2000-06-03</td>\n",
       "      <td>Research - Beatlejuice video - French version</td>\n",
       "      <td>I'm getting crazy.I'm looking for Beatlejuice ...</td>\n",
       "      <td>Research - Beatlejuice video - French version ...</td>\n",
       "      <td>research beatlejuic video french version get c...</td>\n",
       "    </tr>\n",
       "    <tr>\n",
       "      <th>451902</th>\n",
       "      <td>451903</td>\n",
       "      <td>B00004CXX9</td>\n",
       "      <td>A2DEE7F9XKP3ZR</td>\n",
       "      <td>jerome</td>\n",
       "      <td>0</td>\n",
       "      <td>1</td>\n",
       "      <td>positive</td>\n",
       "      <td>2000-06-03</td>\n",
       "      <td>Research</td>\n",
       "      <td>I'm getting crazy.&lt;p&gt;Is it really impossible t...</td>\n",
       "      <td>Research I'm getting crazy.&lt;p&gt;Is it really imp...</td>\n",
       "      <td>research get crazi realli imposs today not fin...</td>\n",
       "    </tr>\n",
       "    <tr>\n",
       "      <th>1244</th>\n",
       "      <td>1245</td>\n",
       "      <td>B00002Z754</td>\n",
       "      <td>A29Z5PI9BW2PU3</td>\n",
       "      <td>Robbie</td>\n",
       "      <td>7</td>\n",
       "      <td>7</td>\n",
       "      <td>positive</td>\n",
       "      <td>2000-06-23</td>\n",
       "      <td>Great Product</td>\n",
       "      <td>This was a really good idea and the final prod...</td>\n",
       "      <td>Great Product This was a really good idea and ...</td>\n",
       "      <td>great product realli good idea final product o...</td>\n",
       "    </tr>\n",
       "    <tr>\n",
       "      <th>1243</th>\n",
       "      <td>1244</td>\n",
       "      <td>B00002Z754</td>\n",
       "      <td>A3B8RCEI0FXFI6</td>\n",
       "      <td>B G Chase</td>\n",
       "      <td>10</td>\n",
       "      <td>10</td>\n",
       "      <td>positive</td>\n",
       "      <td>2000-06-29</td>\n",
       "      <td>WOW Make your own 'slickers' !</td>\n",
       "      <td>I just received my shipment and could hardly w...</td>\n",
       "      <td>WOW Make your own 'slickers' ! I just received...</td>\n",
       "      <td>wow make slicker receiv shipment could hard wa...</td>\n",
       "    </tr>\n",
       "    <tr>\n",
       "      <th>131216</th>\n",
       "      <td>131217</td>\n",
       "      <td>B00004RAMX</td>\n",
       "      <td>A5NQLNC6QPGSI</td>\n",
       "      <td>Kim Nason</td>\n",
       "      <td>7</td>\n",
       "      <td>8</td>\n",
       "      <td>positive</td>\n",
       "      <td>2000-07-31</td>\n",
       "      <td>End your Gopher Problems</td>\n",
       "      <td>I have just recently purchased the Woodstream ...</td>\n",
       "      <td>End your Gopher Problems I have just recently ...</td>\n",
       "      <td>end gopher problem recent purchas woodstream c...</td>\n",
       "    </tr>\n",
       "    <tr>\n",
       "      <th>149769</th>\n",
       "      <td>149770</td>\n",
       "      <td>B00004S1C5</td>\n",
       "      <td>A1KXONFPU2XQ5K</td>\n",
       "      <td>Stephanie Manley</td>\n",
       "      <td>8</td>\n",
       "      <td>8</td>\n",
       "      <td>positive</td>\n",
       "      <td>2000-08-09</td>\n",
       "      <td>Very easy to use</td>\n",
       "      <td>This are so much easier to use than the Wilson...</td>\n",
       "      <td>Very easy to use This are so much easier to us...</td>\n",
       "      <td>easi use much easier use wilson past color col...</td>\n",
       "    </tr>\n",
       "    <tr>\n",
       "      <th>149788</th>\n",
       "      <td>149789</td>\n",
       "      <td>B00004S1C6</td>\n",
       "      <td>A1KXONFPU2XQ5K</td>\n",
       "      <td>Stephanie Manley</td>\n",
       "      <td>26</td>\n",
       "      <td>28</td>\n",
       "      <td>positive</td>\n",
       "      <td>2000-08-09</td>\n",
       "      <td>A must have!</td>\n",
       "      <td>These are easy to use, they do not make a mess...</td>\n",
       "      <td>A must have! These are easy to use, they do no...</td>\n",
       "      <td>must easi use not make mess offer vibrant colo...</td>\n",
       "    </tr>\n",
       "    <tr>\n",
       "      <th>374420</th>\n",
       "      <td>374421</td>\n",
       "      <td>B00004CI84</td>\n",
       "      <td>A1FJOY14X3MUHE</td>\n",
       "      <td>Justin Howard</td>\n",
       "      <td>2</td>\n",
       "      <td>2</td>\n",
       "      <td>positive</td>\n",
       "      <td>2000-08-15</td>\n",
       "      <td>A fresh, original film from master storyteller...</td>\n",
       "      <td>This is such a great film, I don't even know h...</td>\n",
       "      <td>A fresh, original film from master storyteller...</td>\n",
       "      <td>fresh origin film master storytel tim burton g...</td>\n",
       "    </tr>\n",
       "    <tr>\n",
       "      <th>374407</th>\n",
       "      <td>374408</td>\n",
       "      <td>B00004CI84</td>\n",
       "      <td>A1GB1Q193DNFGR</td>\n",
       "      <td>Bruce Lee Pullen</td>\n",
       "      <td>5</td>\n",
       "      <td>5</td>\n",
       "      <td>positive</td>\n",
       "      <td>2000-10-03</td>\n",
       "      <td>Fabulous Comedic Fanasy Directed by a Master</td>\n",
       "      <td>Beetlejuice is an awe-inspiring wonderfully am...</td>\n",
       "      <td>Fabulous Comedic Fanasy Directed by a Master B...</td>\n",
       "      <td>fabul comed fanasi direct master beetlejuic wo...</td>\n",
       "    </tr>\n",
       "    <tr>\n",
       "      <th>149767</th>\n",
       "      <td>149768</td>\n",
       "      <td>B00004S1C5</td>\n",
       "      <td>A7P76IGRZZBFJ</td>\n",
       "      <td>E. Thompson \"Soooooper Genius\"</td>\n",
       "      <td>18</td>\n",
       "      <td>18</td>\n",
       "      <td>positive</td>\n",
       "      <td>2000-12-05</td>\n",
       "      <td>Who Needs Wilton?</td>\n",
       "      <td>I'm sick of scads of nasty toothpicks all over...</td>\n",
       "      <td>Who Needs Wilton? I'm sick of scads of nasty t...</td>\n",
       "      <td>need wilton sick scad nasti toothpick counter ...</td>\n",
       "    </tr>\n",
       "    <tr>\n",
       "      <th>374382</th>\n",
       "      <td>374383</td>\n",
       "      <td>B00004CI84</td>\n",
       "      <td>A34NBH479RB0E</td>\n",
       "      <td>\"dmab6395\"</td>\n",
       "      <td>0</td>\n",
       "      <td>1</td>\n",
       "      <td>positive</td>\n",
       "      <td>2000-12-19</td>\n",
       "      <td>FUNNY</td>\n",
       "      <td>I THOUGHT THIS MOVIE WAS SO FUNNY, MICHAEL KEA...</td>\n",
       "      <td>FUNNY I THOUGHT THIS MOVIE WAS SO FUNNY, MICHA...</td>\n",
       "      <td>funni thought movi funni michael keaton beetle...</td>\n",
       "    </tr>\n",
       "  </tbody>\n",
       "</table>\n",
       "</div>"
      ],
      "text/plain": [
       "            Id   ProductId          UserId                     ProfileName  \\\n",
       "150523  150524  0006641040   ACITT7DI6IDDL                 shari zychinski   \n",
       "150500  150501  0006641040   AJ46FKXOVC7NR              Nicholas A Mesiano   \n",
       "451855  451856  B00004CXX9   AIUWLEQ1ADEG5                Elizabeth Medina   \n",
       "374358  374359  B00004CI84  A344SMIA5JECGM                 Vincent P. Ross   \n",
       "451854  451855  B00004CXX9   AJH6LUC1UT1ON        The Phantom of the Opera   \n",
       "374421  374422  B00004CI84  A1048CYU0OV4O8                    Judy L. Eans   \n",
       "374342  374343  B00004CI84   A1B2IZU1JLZA6                             Wes   \n",
       "76881    76882  B00002N8SM  A32DW342WBJ6BX                     Buttersugar   \n",
       "374449  374450  B00004CI84   ACJR7EQF9S6FP                Jeremy Robertson   \n",
       "374399  374400  B00004CI84  A2DEE7F9XKP3ZR                          jerome   \n",
       "451902  451903  B00004CXX9  A2DEE7F9XKP3ZR                          jerome   \n",
       "1244      1245  B00002Z754  A29Z5PI9BW2PU3                          Robbie   \n",
       "1243      1244  B00002Z754  A3B8RCEI0FXFI6                       B G Chase   \n",
       "131216  131217  B00004RAMX   A5NQLNC6QPGSI                       Kim Nason   \n",
       "149769  149770  B00004S1C5  A1KXONFPU2XQ5K                Stephanie Manley   \n",
       "149788  149789  B00004S1C6  A1KXONFPU2XQ5K                Stephanie Manley   \n",
       "374420  374421  B00004CI84  A1FJOY14X3MUHE                   Justin Howard   \n",
       "374407  374408  B00004CI84  A1GB1Q193DNFGR                Bruce Lee Pullen   \n",
       "149767  149768  B00004S1C5   A7P76IGRZZBFJ  E. Thompson \"Soooooper Genius\"   \n",
       "374382  374383  B00004CI84   A34NBH479RB0E                      \"dmab6395\"   \n",
       "\n",
       "        HelpfulnessNumerator  HelpfulnessDenominator     Score       Time  \\\n",
       "150523                     0                       0  positive 1999-10-08   \n",
       "150500                     2                       2  positive 1999-10-25   \n",
       "451855                     0                       0  positive 1999-12-02   \n",
       "374358                     1                       2  positive 1999-12-06   \n",
       "451854                     0                       0  positive 2000-01-03   \n",
       "374421                     2                       2  positive 2000-01-09   \n",
       "374342                    19                      23  negative 2000-01-19   \n",
       "76881                      0                       0  positive 2000-01-24   \n",
       "374449                     2                       3  positive 2000-02-26   \n",
       "374399                     0                       3  positive 2000-06-03   \n",
       "451902                     0                       1  positive 2000-06-03   \n",
       "1244                       7                       7  positive 2000-06-23   \n",
       "1243                      10                      10  positive 2000-06-29   \n",
       "131216                     7                       8  positive 2000-07-31   \n",
       "149769                     8                       8  positive 2000-08-09   \n",
       "149788                    26                      28  positive 2000-08-09   \n",
       "374420                     2                       2  positive 2000-08-15   \n",
       "374407                     5                       5  positive 2000-10-03   \n",
       "149767                    18                      18  positive 2000-12-05   \n",
       "374382                     0                       1  positive 2000-12-19   \n",
       "\n",
       "                                                  Summary  \\\n",
       "150523                          EVERY book is educational   \n",
       "150500  This whole series is great way to spend time w...   \n",
       "451855                               Entertainingl Funny!   \n",
       "374358                            A modern day fairy tale   \n",
       "451854                                         FANTASTIC!   \n",
       "374421                                              GREAT   \n",
       "374342    WARNING: CLAMSHELL EDITION IS EDITED TV VERSION   \n",
       "76881                              A sure death for flies   \n",
       "374449           Bettlejuice...Bettlejuice...BETTLEJUICE!   \n",
       "374399      Research - Beatlejuice video - French version   \n",
       "451902                                           Research   \n",
       "1244                                        Great Product   \n",
       "1243                       WOW Make your own 'slickers' !   \n",
       "131216                           End your Gopher Problems   \n",
       "149769                                   Very easy to use   \n",
       "149788                                       A must have!   \n",
       "374420  A fresh, original film from master storyteller...   \n",
       "374407       Fabulous Comedic Fanasy Directed by a Master   \n",
       "149767                                  Who Needs Wilton?   \n",
       "374382                                              FUNNY   \n",
       "\n",
       "                                                     Text  \\\n",
       "150523  this witty little book makes my son laugh at l...   \n",
       "150500  I can remember seeing the show when it aired o...   \n",
       "451855  Beetlejuice is a well written movie ..... ever...   \n",
       "374358  A twist of rumplestiskin captured on film, sta...   \n",
       "451854  Beetlejuice is an excellent and funny movie. K...   \n",
       "374421  THIS IS ONE MOVIE THAT SHOULD BE IN YOUR MOVIE...   \n",
       "374342  I, myself always enjoyed this movie, it's very...   \n",
       "76881   I bought a few of these after my apartment was...   \n",
       "374449  What happens when you say his name three times...   \n",
       "374399  I'm getting crazy.I'm looking for Beatlejuice ...   \n",
       "451902  I'm getting crazy.<p>Is it really impossible t...   \n",
       "1244    This was a really good idea and the final prod...   \n",
       "1243    I just received my shipment and could hardly w...   \n",
       "131216  I have just recently purchased the Woodstream ...   \n",
       "149769  This are so much easier to use than the Wilson...   \n",
       "149788  These are easy to use, they do not make a mess...   \n",
       "374420  This is such a great film, I don't even know h...   \n",
       "374407  Beetlejuice is an awe-inspiring wonderfully am...   \n",
       "149767  I'm sick of scads of nasty toothpicks all over...   \n",
       "374382  I THOUGHT THIS MOVIE WAS SO FUNNY, MICHAEL KEA...   \n",
       "\n",
       "                                                 com_text  \\\n",
       "150523  EVERY book is educational this witty little bo...   \n",
       "150500  This whole series is great way to spend time w...   \n",
       "451855  Entertainingl Funny! Beetlejuice is a well wri...   \n",
       "374358  A modern day fairy tale A twist of rumplestisk...   \n",
       "451854  FANTASTIC! Beetlejuice is an excellent and fun...   \n",
       "374421  GREAT THIS IS ONE MOVIE THAT SHOULD BE IN YOUR...   \n",
       "374342  WARNING: CLAMSHELL EDITION IS EDITED TV VERSIO...   \n",
       "76881   A sure death for flies I bought a few of these...   \n",
       "374449  Bettlejuice...Bettlejuice...BETTLEJUICE! What ...   \n",
       "374399  Research - Beatlejuice video - French version ...   \n",
       "451902  Research I'm getting crazy.<p>Is it really imp...   \n",
       "1244    Great Product This was a really good idea and ...   \n",
       "1243    WOW Make your own 'slickers' ! I just received...   \n",
       "131216  End your Gopher Problems I have just recently ...   \n",
       "149769  Very easy to use This are so much easier to us...   \n",
       "149788  A must have! These are easy to use, they do no...   \n",
       "374420  A fresh, original film from master storyteller...   \n",
       "374407  Fabulous Comedic Fanasy Directed by a Master B...   \n",
       "149767  Who Needs Wilton? I'm sick of scads of nasty t...   \n",
       "374382  FUNNY I THOUGHT THIS MOVIE WAS SO FUNNY, MICHA...   \n",
       "\n",
       "                                              CleanedText  \n",
       "150523  everi book educ witti littl book make son laug...  \n",
       "150500  whole seri great way spend time child rememb s...  \n",
       "451855  entertainingl funni beetlejuic well written mo...  \n",
       "374358  modern day fairi tale twist rumplestiskin capt...  \n",
       "451854  fantast beetlejuic excel funni movi keaton hil...  \n",
       "374421  great one movi movi collect fill comedi action...  \n",
       "374342  clamshel edit edit version alway enjoy movi fu...  \n",
       "76881   sure death fli bought apart infest fruit fli h...  \n",
       "374449  bettlejuic bettlejuic bettlejuic happen say na...  \n",
       "374399  research beatlejuic video french version get c...  \n",
       "451902  research get crazi realli imposs today not fin...  \n",
       "1244    great product realli good idea final product o...  \n",
       "1243    wow make slicker receiv shipment could hard wa...  \n",
       "131216  end gopher problem recent purchas woodstream c...  \n",
       "149769  easi use much easier use wilson past color col...  \n",
       "149788  must easi use not make mess offer vibrant colo...  \n",
       "374420  fresh origin film master storytel tim burton g...  \n",
       "374407  fabul comed fanasi direct master beetlejuic wo...  \n",
       "149767  need wilton sick scad nasti toothpick counter ...  \n",
       "374382  funni thought movi funni michael keaton beetle...  "
      ]
     },
     "execution_count": 21,
     "metadata": {},
     "output_type": "execute_result"
    }
   ],
   "source": [
    "b.head(20) "
   ]
  },
  {
   "cell_type": "markdown",
   "metadata": {
    "_uuid": "94613d2bde24d0e6410dbe5f425b88b6bfb98197"
   },
   "source": [
    "After reading first few reviews it is found that the data still has few reviews that does not belong to food products. These reviews are of products like books or movies."
   ]
  },
  {
   "cell_type": "code",
   "execution_count": 22,
   "metadata": {
    "_uuid": "36dcc046eafb995bcbd976edb76502c7b972ba89",
    "collapsed": true
   },
   "outputs": [],
   "source": [
    "# removing reviews that belong to other products\n",
    "regex =  re.compile(r'book|entertaining|funny|movie|show|film|series|educational|storyteller|comedic') \n",
    "text =    b.Text.str.lower().str.contains(regex)\n",
    "b.drop(b[text].index , inplace=True )"
   ]
  },
  {
   "cell_type": "code",
   "execution_count": 23,
   "metadata": {
    "_uuid": "e4bcbd190e6459c531d3fae3b37516e5edcf9d16"
   },
   "outputs": [
    {
     "data": {
      "text/plain": [
       "(353205, 12)"
      ]
     },
     "execution_count": 23,
     "metadata": {},
     "output_type": "execute_result"
    }
   ],
   "source": [
    "# Number of reviews left\n",
    "b.shape"
   ]
  },
  {
   "cell_type": "code",
   "execution_count": 24,
   "metadata": {
    "_uuid": "459f5a1fa36750cc240b02ea370b2f33b7bc7b5d"
   },
   "outputs": [
    {
     "data": {
      "text/html": [
       "<div>\n",
       "<style>\n",
       "    .dataframe thead tr:only-child th {\n",
       "        text-align: right;\n",
       "    }\n",
       "\n",
       "    .dataframe thead th {\n",
       "        text-align: left;\n",
       "    }\n",
       "\n",
       "    .dataframe tbody tr th {\n",
       "        vertical-align: top;\n",
       "    }\n",
       "</style>\n",
       "<table border=\"1\" class=\"dataframe\">\n",
       "  <thead>\n",
       "    <tr style=\"text-align: right;\">\n",
       "      <th></th>\n",
       "      <th>Id</th>\n",
       "      <th>ProductId</th>\n",
       "      <th>UserId</th>\n",
       "      <th>ProfileName</th>\n",
       "      <th>HelpfulnessNumerator</th>\n",
       "      <th>HelpfulnessDenominator</th>\n",
       "      <th>Score</th>\n",
       "      <th>Time</th>\n",
       "      <th>Summary</th>\n",
       "      <th>Text</th>\n",
       "      <th>com_text</th>\n",
       "      <th>CleanedText</th>\n",
       "      <th>text length</th>\n",
       "    </tr>\n",
       "  </thead>\n",
       "  <tbody>\n",
       "    <tr>\n",
       "      <th>76881</th>\n",
       "      <td>76882</td>\n",
       "      <td>B00002N8SM</td>\n",
       "      <td>A32DW342WBJ6BX</td>\n",
       "      <td>Buttersugar</td>\n",
       "      <td>0</td>\n",
       "      <td>0</td>\n",
       "      <td>positive</td>\n",
       "      <td>2000-01-24</td>\n",
       "      <td>A sure death for flies</td>\n",
       "      <td>I bought a few of these after my apartment was...</td>\n",
       "      <td>A sure death for flies I bought a few of these...</td>\n",
       "      <td>sure death fli bought apart infest fruit fli h...</td>\n",
       "      <td>172</td>\n",
       "    </tr>\n",
       "    <tr>\n",
       "      <th>374449</th>\n",
       "      <td>374450</td>\n",
       "      <td>B00004CI84</td>\n",
       "      <td>ACJR7EQF9S6FP</td>\n",
       "      <td>Jeremy Robertson</td>\n",
       "      <td>2</td>\n",
       "      <td>3</td>\n",
       "      <td>positive</td>\n",
       "      <td>2000-02-26</td>\n",
       "      <td>Bettlejuice...Bettlejuice...BETTLEJUICE!</td>\n",
       "      <td>What happens when you say his name three times...</td>\n",
       "      <td>Bettlejuice...Bettlejuice...BETTLEJUICE! What ...</td>\n",
       "      <td>bettlejuic bettlejuic bettlejuic happen say na...</td>\n",
       "      <td>633</td>\n",
       "    </tr>\n",
       "    <tr>\n",
       "      <th>1244</th>\n",
       "      <td>1245</td>\n",
       "      <td>B00002Z754</td>\n",
       "      <td>A29Z5PI9BW2PU3</td>\n",
       "      <td>Robbie</td>\n",
       "      <td>7</td>\n",
       "      <td>7</td>\n",
       "      <td>positive</td>\n",
       "      <td>2000-06-23</td>\n",
       "      <td>Great Product</td>\n",
       "      <td>This was a really good idea and the final prod...</td>\n",
       "      <td>Great Product This was a really good idea and ...</td>\n",
       "      <td>great product realli good idea final product o...</td>\n",
       "      <td>116</td>\n",
       "    </tr>\n",
       "    <tr>\n",
       "      <th>1243</th>\n",
       "      <td>1244</td>\n",
       "      <td>B00002Z754</td>\n",
       "      <td>A3B8RCEI0FXFI6</td>\n",
       "      <td>B G Chase</td>\n",
       "      <td>10</td>\n",
       "      <td>10</td>\n",
       "      <td>positive</td>\n",
       "      <td>2000-06-29</td>\n",
       "      <td>WOW Make your own 'slickers' !</td>\n",
       "      <td>I just received my shipment and could hardly w...</td>\n",
       "      <td>WOW Make your own 'slickers' ! I just received...</td>\n",
       "      <td>wow make slicker receiv shipment could hard wa...</td>\n",
       "      <td>250</td>\n",
       "    </tr>\n",
       "    <tr>\n",
       "      <th>131216</th>\n",
       "      <td>131217</td>\n",
       "      <td>B00004RAMX</td>\n",
       "      <td>A5NQLNC6QPGSI</td>\n",
       "      <td>Kim Nason</td>\n",
       "      <td>7</td>\n",
       "      <td>8</td>\n",
       "      <td>positive</td>\n",
       "      <td>2000-07-31</td>\n",
       "      <td>End your Gopher Problems</td>\n",
       "      <td>I have just recently purchased the Woodstream ...</td>\n",
       "      <td>End your Gopher Problems I have just recently ...</td>\n",
       "      <td>end gopher problem recent purchas woodstream c...</td>\n",
       "      <td>275</td>\n",
       "    </tr>\n",
       "  </tbody>\n",
       "</table>\n",
       "</div>"
      ],
      "text/plain": [
       "            Id   ProductId          UserId       ProfileName  \\\n",
       "76881    76882  B00002N8SM  A32DW342WBJ6BX       Buttersugar   \n",
       "374449  374450  B00004CI84   ACJR7EQF9S6FP  Jeremy Robertson   \n",
       "1244      1245  B00002Z754  A29Z5PI9BW2PU3            Robbie   \n",
       "1243      1244  B00002Z754  A3B8RCEI0FXFI6         B G Chase   \n",
       "131216  131217  B00004RAMX   A5NQLNC6QPGSI         Kim Nason   \n",
       "\n",
       "        HelpfulnessNumerator  HelpfulnessDenominator     Score       Time  \\\n",
       "76881                      0                       0  positive 2000-01-24   \n",
       "374449                     2                       3  positive 2000-02-26   \n",
       "1244                       7                       7  positive 2000-06-23   \n",
       "1243                      10                      10  positive 2000-06-29   \n",
       "131216                     7                       8  positive 2000-07-31   \n",
       "\n",
       "                                         Summary  \\\n",
       "76881                     A sure death for flies   \n",
       "374449  Bettlejuice...Bettlejuice...BETTLEJUICE!   \n",
       "1244                               Great Product   \n",
       "1243              WOW Make your own 'slickers' !   \n",
       "131216                  End your Gopher Problems   \n",
       "\n",
       "                                                     Text  \\\n",
       "76881   I bought a few of these after my apartment was...   \n",
       "374449  What happens when you say his name three times...   \n",
       "1244    This was a really good idea and the final prod...   \n",
       "1243    I just received my shipment and could hardly w...   \n",
       "131216  I have just recently purchased the Woodstream ...   \n",
       "\n",
       "                                                 com_text  \\\n",
       "76881   A sure death for flies I bought a few of these...   \n",
       "374449  Bettlejuice...Bettlejuice...BETTLEJUICE! What ...   \n",
       "1244    Great Product This was a really good idea and ...   \n",
       "1243    WOW Make your own 'slickers' ! I just received...   \n",
       "131216  End your Gopher Problems I have just recently ...   \n",
       "\n",
       "                                              CleanedText  text length  \n",
       "76881   sure death fli bought apart infest fruit fli h...          172  \n",
       "374449  bettlejuic bettlejuic bettlejuic happen say na...          633  \n",
       "1244    great product realli good idea final product o...          116  \n",
       "1243    wow make slicker receiv shipment could hard wa...          250  \n",
       "131216  end gopher problem recent purchas woodstream c...          275  "
      ]
     },
     "execution_count": 24,
     "metadata": {},
     "output_type": "execute_result"
    }
   ],
   "source": [
    "# creating a new column to get the length of each text\n",
    "b['text length'] = b['CleanedText'].apply(len)\n",
    "b.head()"
   ]
  },
  {
   "cell_type": "code",
   "execution_count": 38,
   "metadata": {
    "_uuid": "4dc73f935e7e38d187d97c1d57ad2636b1db3e27"
   },
   "outputs": [
    {
     "data": {
      "image/png": "[encoded data removed]",
      "text/plain": [
       "<matplotlib.figure.Figure at 0x1564f8f5e48>"
      ]
     },
     "metadata": {},
     "output_type": "display_data"
    }
   ],
   "source": [
    "import seaborn as sns\n",
    "g = sns.FacetGrid(data = b , col = 'Score')\n",
    "g.map(plt.hist , 'text length' , bins = 50)\n",
    "plt.show()"
   ]
  },
  {
   "cell_type": "code",
   "execution_count": 39,
   "metadata": {
    "_uuid": "53077b0191ab2b2879f3ae1353753fc29e572a57"
   },
   "outputs": [
    {
     "data": {
      "image/png": "[encoded data removed]",
      "text/plain": [
       "<matplotlib.figure.Figure at 0x1564b9cb7b8>"
      ]
     },
     "metadata": {},
     "output_type": "display_data"
    }
   ],
   "source": [
    "sns.boxplot(x='Score', y='text length', data=b)\n",
    "plt.show()"
   ]
  },
  {
   "cell_type": "markdown",
   "metadata": {
    "_uuid": "96f1be10e01474d83c878b11e6f821eb3bcd1876"
   },
   "source": [
    "It seems clearer from above plots that text length  won't be a helpful featurer for classification"
   ]
  },
  {
   "cell_type": "markdown",
   "metadata": {
    "_uuid": "c514ffee9e1c646d5507efb7ce78214906b3d041"
   },
   "source": [
    "### Function for standardizing data"
   ]
  },
  {
   "cell_type": "code",
   "execution_count": 27,
   "metadata": {
    "_uuid": "664f815b85f24972b9647dd028654056d91a44bd",
    "collapsed": true
   },
   "outputs": [],
   "source": [
    "from sklearn.preprocessing import StandardScaler"
   ]
  },
  {
   "cell_type": "code",
   "execution_count": 28,
   "metadata": {
    "_uuid": "deb6ee5090b6da135a128f871552fa93c3d9b5ab",
    "collapsed": true
   },
   "outputs": [],
   "source": [
    "# function for standardzing the data\n",
    "def std_data(matrix):\n",
    "    scaler  = StandardScaler(with_mean=False)\n",
    "    scaler.fit(matrix)\n",
    "    return scaler.transform(matrix) \n",
    " "
   ]
  },
  {
   "cell_type": "code",
   "execution_count": 28,
   "metadata": {
    "_uuid": "bb4f6aa77cb0647a6f792d131bdae6c3928efa53",
    "collapsed": true
   },
   "outputs": [],
   "source": [
    "# picking top 100k data points \n",
    "sampled_data = b.head(100000)"
   ]
  },
  {
   "cell_type": "code",
   "execution_count": 29,
   "metadata": {
    "_uuid": "0982003f3844bda60b28e0c275999215ec9fb909"
   },
   "outputs": [
    {
     "data": {
      "text/html": [
       "<div>\n",
       "<style scoped>\n",
       "    .dataframe tbody tr th:only-of-type {\n",
       "        vertical-align: middle;\n",
       "    }\n",
       "\n",
       "    .dataframe tbody tr th {\n",
       "        vertical-align: top;\n",
       "    }\n",
       "\n",
       "    .dataframe thead th {\n",
       "        text-align: right;\n",
       "    }\n",
       "</style>\n",
       "<table border=\"1\" class=\"dataframe\">\n",
       "  <thead>\n",
       "    <tr style=\"text-align: right;\">\n",
       "      <th></th>\n",
       "      <th>Id</th>\n",
       "      <th>ProductId</th>\n",
       "      <th>UserId</th>\n",
       "      <th>ProfileName</th>\n",
       "      <th>HelpfulnessNumerator</th>\n",
       "      <th>HelpfulnessDenominator</th>\n",
       "      <th>Score</th>\n",
       "      <th>Time</th>\n",
       "      <th>Summary</th>\n",
       "      <th>Text</th>\n",
       "      <th>com_text</th>\n",
       "      <th>CleanedText</th>\n",
       "      <th>text length</th>\n",
       "    </tr>\n",
       "  </thead>\n",
       "  <tbody>\n",
       "    <tr>\n",
       "      <th>76881</th>\n",
       "      <td>76882</td>\n",
       "      <td>B00002N8SM</td>\n",
       "      <td>A32DW342WBJ6BX</td>\n",
       "      <td>Buttersugar</td>\n",
       "      <td>0</td>\n",
       "      <td>0</td>\n",
       "      <td>positive</td>\n",
       "      <td>2000-01-24</td>\n",
       "      <td>A sure death for flies</td>\n",
       "      <td>I bought a few of these after my apartment was...</td>\n",
       "      <td>A sure death for flies I bought a few of these...</td>\n",
       "      <td>sure death fli bought apart infest fruit fli h...</td>\n",
       "      <td>172</td>\n",
       "    </tr>\n",
       "    <tr>\n",
       "      <th>374449</th>\n",
       "      <td>374450</td>\n",
       "      <td>B00004CI84</td>\n",
       "      <td>ACJR7EQF9S6FP</td>\n",
       "      <td>Jeremy Robertson</td>\n",
       "      <td>2</td>\n",
       "      <td>3</td>\n",
       "      <td>positive</td>\n",
       "      <td>2000-02-26</td>\n",
       "      <td>Bettlejuice...Bettlejuice...BETTLEJUICE!</td>\n",
       "      <td>What happens when you say his name three times...</td>\n",
       "      <td>Bettlejuice...Bettlejuice...BETTLEJUICE! What ...</td>\n",
       "      <td>bettlejuic bettlejuic bettlejuic happen say na...</td>\n",
       "      <td>633</td>\n",
       "    </tr>\n",
       "    <tr>\n",
       "      <th>1244</th>\n",
       "      <td>1245</td>\n",
       "      <td>B00002Z754</td>\n",
       "      <td>A29Z5PI9BW2PU3</td>\n",
       "      <td>Robbie</td>\n",
       "      <td>7</td>\n",
       "      <td>7</td>\n",
       "      <td>positive</td>\n",
       "      <td>2000-06-23</td>\n",
       "      <td>Great Product</td>\n",
       "      <td>This was a really good idea and the final prod...</td>\n",
       "      <td>Great Product This was a really good idea and ...</td>\n",
       "      <td>great product realli good idea final product o...</td>\n",
       "      <td>116</td>\n",
       "    </tr>\n",
       "    <tr>\n",
       "      <th>1243</th>\n",
       "      <td>1244</td>\n",
       "      <td>B00002Z754</td>\n",
       "      <td>A3B8RCEI0FXFI6</td>\n",
       "      <td>B G Chase</td>\n",
       "      <td>10</td>\n",
       "      <td>10</td>\n",
       "      <td>positive</td>\n",
       "      <td>2000-06-29</td>\n",
       "      <td>WOW Make your own 'slickers' !</td>\n",
       "      <td>I just received my shipment and could hardly w...</td>\n",
       "      <td>WOW Make your own 'slickers' ! I just received...</td>\n",
       "      <td>wow make slicker receiv shipment could hard wa...</td>\n",
       "      <td>250</td>\n",
       "    </tr>\n",
       "    <tr>\n",
       "      <th>131216</th>\n",
       "      <td>131217</td>\n",
       "      <td>B00004RAMX</td>\n",
       "      <td>A5NQLNC6QPGSI</td>\n",
       "      <td>Kim Nason</td>\n",
       "      <td>7</td>\n",
       "      <td>8</td>\n",
       "      <td>positive</td>\n",
       "      <td>2000-07-31</td>\n",
       "      <td>End your Gopher Problems</td>\n",
       "      <td>I have just recently purchased the Woodstream ...</td>\n",
       "      <td>End your Gopher Problems I have just recently ...</td>\n",
       "      <td>end gopher problem recent purchas woodstream c...</td>\n",
       "      <td>275</td>\n",
       "    </tr>\n",
       "  </tbody>\n",
       "</table>\n",
       "</div>"
      ],
      "text/plain": [
       "            Id     ...     text length\n",
       "76881    76882     ...             172\n",
       "374449  374450     ...             633\n",
       "1244      1245     ...             116\n",
       "1243      1244     ...             250\n",
       "131216  131217     ...             275\n",
       "\n",
       "[5 rows x 13 columns]"
      ]
     },
     "execution_count": 29,
     "metadata": {},
     "output_type": "execute_result"
    }
   ],
   "source": [
    "sampled_data.head()"
   ]
  },
  {
   "cell_type": "code",
   "execution_count": 30,
   "metadata": {
    "_kg_hide-output": true,
    "_uuid": "01d92e0700eb784ee54fc8dea218a96db48aa349"
   },
   "outputs": [
    {
     "data": {
      "text/plain": [
       "positive    87792\n",
       "negative    12208\n",
       "Name: Score, dtype: int64"
      ]
     },
     "execution_count": 30,
     "metadata": {},
     "output_type": "execute_result"
    }
   ],
   "source": [
    "# checking how much points are positive and negative\n",
    "sampled_data['Score'].value_counts()"
   ]
  },
  {
   "cell_type": "code",
   "execution_count": 31,
   "metadata": {
    "_uuid": "b44f8f0324fa7a00f6167ebc8beac80b47e03b43",
    "collapsed": true
   },
   "outputs": [],
   "source": [
    "# splitting  data into train and test set\n",
    "def response_label(sign):\n",
    "    if sign == \"positive\":\n",
    "        return 1                               # positive-----> 1\n",
    "    else:\n",
    "        return -1                              # negative-----> -1 \n",
    "    \n",
    "sampled_data[\"Score\"] = sampled_data[\"Score\"].map(response_label)\n",
    "X_train, X_test, Y_train, Y_test  = train_test_split(sampled_data['CleanedText'],sampled_data['Score'], test_size=0.3, random_state=45)"
   ]
  },
  {
   "cell_type": "code",
   "execution_count": 32,
   "metadata": {
    "_uuid": "07ac835171ce24046113467193dc6f12c5f2f46c"
   },
   "outputs": [
    {
     "data": {
      "text/plain": [
       " 1    87792\n",
       "-1    12208\n",
       "Name: Score, dtype: int64"
      ]
     },
     "execution_count": 32,
     "metadata": {},
     "output_type": "execute_result"
    }
   ],
   "source": [
    "sampled_data[\"Score\"].value_counts()"
   ]
  },
  {
   "cell_type": "markdown",
   "metadata": {
    "_uuid": "1cfdfcaea63bd892dd42744da74f09bb5a3fa441"
   },
   "source": [
    "## Bag of Words"
   ]
  },
  {
   "cell_type": "markdown",
   "metadata": {
    "_uuid": "4455f18e44e008eb9f5fa13c388bb1d3f19fde85"
   },
   "source": [
    "#### Vectorizing & Standarzing both train and test data"
   ]
  },
  {
   "cell_type": "code",
   "execution_count": 33,
   "metadata": {
    "_uuid": "055b08beb7141671bc43afb68307c1f46573169f"
   },
   "outputs": [
    {
     "name": "stdout",
     "output_type": "stream",
     "text": [
      "Train Dataset:  (70000, 923323)\n",
      "Test Dataset:  (30000, 923323)\n"
     ]
    }
   ],
   "source": [
    "#CountVectorizer()--> Converts a collection of text documents to a matrix of token counts\n",
    "\n",
    "# Initialize a CountVectorizer object: count_vectorizer\n",
    "count_vect = CountVectorizer(ngram_range = (1,2) , dtype = 'float')\n",
    "\n",
    "# Transforming train/test data into bag of words\n",
    "bow_X_train_matrix = count_vect.fit_transform(X_train.values)\n",
    "print(\"Train Dataset: \", bow_X_train_matrix.shape)\n",
    "\n",
    "bow_X_test_matrix = count_vect.transform(X_test.values)\n",
    "print(\"Test Dataset: \" , bow_X_test_matrix.shape)"
   ]
  },
  {
   "cell_type": "code",
   "execution_count": 34,
   "metadata": {
    "_uuid": "ae930753b41870eae7314fe012966cbcf8c16e46",
    "collapsed": true
   },
   "outputs": [],
   "source": [
    "# standarzing both train and test matrix \n",
    "bow_std_X_train_matrix = std_data(bow_X_train_matrix)\n",
    "bow_std_X_test_matrix = std_data(bow_X_test_matrix)"
   ]
  },
  {
   "cell_type": "markdown",
   "metadata": {
    "_uuid": "82eb4111cf7e014b078770b3f72c9a3444f846a6"
   },
   "source": [
    "### Using SGD Classifier with hinge loss  \n"
   ]
  },
  {
   "cell_type": "code",
   "execution_count": 35,
   "metadata": {
    "_uuid": "83319040977ed3ae6758d640e2a349de553cbbd7"
   },
   "outputs": [
    {
     "name": "stdout",
     "output_type": "stream",
     "text": [
      "Fitting 10 folds for each of 9 candidates, totalling 90 fits\n"
     ]
    },
    {
     "name": "stderr",
     "output_type": "stream",
     "text": [
      "[Parallel(n_jobs=-1)]: Using backend LokyBackend with 4 concurrent workers.\n",
      "[Parallel(n_jobs=-1)]: Done  42 tasks      | elapsed:   15.7s\n",
      "[Parallel(n_jobs=-1)]: Done  90 out of  90 | elapsed:   24.0s finished\n"
     ]
    },
    {
     "data": {
      "text/plain": [
       "GridSearchCV(cv=TimeSeriesSplit(max_train_size=None, n_splits=10),\n",
       "       error_score='raise-deprecating',\n",
       "       estimator=SGDClassifier(alpha=0.0001, average=False, class_weight=None,\n",
       "       early_stopping=False, epsilon=0.1, eta0=0.0, fit_intercept=True,\n",
       "       l1_ratio=0.15, learning_rate='optimal', loss='hinge', max_iter=None,\n",
       "       n_iter=None, n_iter_no_change=5, n_jobs=None, penalty='l2',\n",
       "       power_t=0.5, random_state=None, shuffle=True, tol=None,\n",
       "       validation_fraction=0.1, verbose=0, warm_start=False),\n",
       "       fit_params=None, iid='warn', n_jobs=-1,\n",
       "       param_grid=[{'alpha': [0.0001, 0.001, 0.01, 0.1, 1, 10, 100, 1000, 10000]}],\n",
       "       pre_dispatch='2*n_jobs', refit=True, return_train_score='warn',\n",
       "       scoring='f1', verbose=1)"
      ]
     },
     "execution_count": 35,
     "metadata": {},
     "output_type": "execute_result"
    }
   ],
   "source": [
    "from sklearn.model_selection import RandomizedSearchCV\n",
    "from sklearn import linear_model\n",
    "\n",
    "tuned_parameters = [{'alpha': [10**-4,10**-3, 10**-2,10**-1, 10**0,10, 10**2,10**3, 10**4]}]\n",
    "linear_clf = linear_model.SGDClassifier(loss = 'hinge' )\n",
    "tscv = TimeSeriesSplit(n_splits=10)                    \n",
    "svm_linear_clf_using_grid = GridSearchCV(linear_clf, tuned_parameters, cv = tscv,scoring='f1' , n_jobs = -1 , verbose = 1)\n",
    "svm_linear_clf_using_grid.fit(bow_std_X_train_matrix , Y_train)"
   ]
  },
  {
   "cell_type": "code",
   "execution_count": 36,
   "metadata": {
    "_uuid": "d0d12c333f6b96290a6aaaa2fa775a895b9a5201"
   },
   "outputs": [
    {
     "name": "stdout",
     "output_type": "stream",
     "text": [
      "f1_score for alpha =  0.0001 is  0.9352507714751911\n",
      "f1_score for alpha =  0.001 is  0.9359523288329041\n",
      "f1_score for alpha =  0.01 is  0.9371477460817152\n",
      "f1_score for alpha =  0.1 is  0.9423047736664752\n",
      "f1_score for alpha =  1 is  0.9475100526992722\n",
      "f1_score for alpha =  10 is  0.938706377799091\n",
      "f1_score for alpha =  100 is  0.9342697388664427\n",
      "f1_score for alpha =  1000 is  0.9341064501013039\n",
      "f1_score for alpha =  10000 is  0.9318454270152968\n"
     ]
    }
   ],
   "source": [
    "# checking cross validation scores\n",
    "cv_score = list(svm_linear_clf_using_grid.cv_results_.get('mean_test_score'))\n",
    "alpha_values = [10**-4,10**-3, 10**-2,10**-1, 10**0,10, 10**2,10**3, 10**4]\n",
    "for i in range(len(cv_score)):\n",
    "    print('f1_score for alpha = ',alpha_values[i],'is ',cv_score[i] )"
   ]
  },
  {
   "cell_type": "code",
   "execution_count": 37,
   "metadata": {
    "_uuid": "26e6abf7df1904ab31c14c6ce92368e118467b89"
   },
   "outputs": [
    {
     "data": {
      "image/png": "[encoded data removed]",
      "text/plain": [
       "<Figure size 432x288 with 1 Axes>"
      ]
     },
     "metadata": {},
     "output_type": "display_data"
    },
    {
     "name": "stdout",
     "output_type": "stream",
     "text": [
      "best parameter: {'alpha': 1}\n"
     ]
    }
   ],
   "source": [
    "\n",
    "acc_score= svm_linear_clf_using_grid.cv_results_.get('mean_test_score')\n",
    "error = [1-x for x in acc_score]\n",
    "\n",
    "hyperparam = np.array([10**-4,10**-3, 10**-2,10**-1, 10**0,10, 10**2,10**3, 10**4] )\n",
    "plt.plot(hyperparam ,error ,'g' ,label=\"svm linear classifier\"  )\n",
    "plt.xlabel('Hyperparam')\n",
    "plt.ylabel('error')\n",
    "plt.title('error for each alpha')\n",
    "plt.legend()\n",
    "plt.grid()\n",
    "plt.show()\n",
    "print(\"best parameter:\" ,svm_linear_clf_using_grid.best_params_ )"
   ]
  },
  {
   "cell_type": "code",
   "execution_count": 38,
   "metadata": {
    "_uuid": "2acd3a2b5c93711c4d5923ab506db994a3c4f3ed"
   },
   "outputs": [
    {
     "name": "stdout",
     "output_type": "stream",
     "text": [
      "Test accuracy:  0.9201333333333334\n",
      "Train accuracy:  0.9999142857142858\n",
      "              precision    recall  f1-score   support\n",
      "\n",
      "          -1       0.94      0.35      0.51      3546\n",
      "           1       0.92      1.00      0.96     26454\n",
      "\n",
      "   micro avg       0.92      0.92      0.92     30000\n",
      "   macro avg       0.93      0.67      0.73     30000\n",
      "weighted avg       0.92      0.92      0.90     30000\n",
      "\n"
     ]
    },
    {
     "data": {
      "image/png": "[encoded data removed]",
      "text/plain": [
       "<Figure size 432x288 with 2 Axes>"
      ]
     },
     "metadata": {},
     "output_type": "display_data"
    }
   ],
   "source": [
    "\n",
    "from sklearn.linear_model import SGDClassifier\n",
    "from sklearn.calibration import CalibratedClassifierCV\n",
    "\n",
    "clf = SGDClassifier(alpha=svm_linear_clf_using_grid.best_params_['alpha'], loss='hinge', random_state=42)\n",
    "clf.fit(bow_std_X_train_matrix , Y_train)\n",
    "calib_clf = CalibratedClassifierCV(clf, method=\"sigmoid\")\n",
    "calib_clf.fit(bow_std_X_train_matrix , Y_train)\n",
    "\n",
    "# test accuracy\n",
    "print('Test accuracy: ',calib_clf.score(bow_std_X_test_matrix , Y_test))\n",
    "# train accuracy\n",
    "print('Train accuracy: ',calib_clf.score(bow_std_X_train_matrix , Y_train))\n",
    "\n",
    "test_prediction = calib_clf.predict(bow_std_X_test_matrix)\n",
    "print(classification_report(Y_test, test_prediction))\n",
    "\n",
    "import scikitplot.metrics as sciplot\n",
    "sciplot.plot_confusion_matrix(Y_test, test_prediction)\n",
    "plt.show()\n",
    "\n"
   ]
  },
  {
   "cell_type": "markdown",
   "metadata": {
    "_uuid": "9fc3bc80a8a35560c5d11d7cd29712542fb2cc82"
   },
   "source": [
    "### Log Loss"
   ]
  },
  {
   "cell_type": "code",
   "execution_count": 39,
   "metadata": {
    "_uuid": "3be8611b2ba0cba470c1886d11ed0aab93354961"
   },
   "outputs": [
    {
     "data": {
      "text/plain": [
       "0.25369796251873705"
      ]
     },
     "execution_count": 39,
     "metadata": {},
     "output_type": "execute_result"
    }
   ],
   "source": [
    "# computing log loss\n",
    "from sklearn.metrics import log_loss\n",
    "y_prob_pred= calib_clf.predict_proba(bow_std_X_test_matrix)\n",
    "log_loss(Y_test, y_prob_pred, labels=clf.classes_)"
   ]
  },
  {
   "cell_type": "markdown",
   "metadata": {
    "_uuid": "5dd3c1d8bc22078c58a0a6bca461dbf4d4623cef"
   },
   "source": [
    "### AUC Score"
   ]
  },
  {
   "cell_type": "code",
   "execution_count": 64,
   "metadata": {
    "_uuid": "98ff11d6bdd5369b43f86e9f95663222a8b7bb9e"
   },
   "outputs": [
    {
     "data": {
      "text/plain": [
       "0.8596899742451124"
      ]
     },
     "execution_count": 64,
     "metadata": {},
     "output_type": "execute_result"
    }
   ],
   "source": [
    "from sklearn.metrics import roc_auc_score\n",
    "roc_auc_score(Y_test , y_prob_pred[:,1])"
   ]
  },
  {
   "cell_type": "markdown",
   "metadata": {
    "_uuid": "57cf7525207b65b3977b54796584b6c075f027c3"
   },
   "source": [
    "### Important Features"
   ]
  },
  {
   "cell_type": "code",
   "execution_count": 70,
   "metadata": {
    "_uuid": "69cbd87ddf25ffc33e036236c79d3d123cac7640"
   },
   "outputs": [
    {
     "data": {
      "image/png": "[encoded data removed]",
      "text/plain": [
       "<Figure size 1080x360 with 1 Axes>"
      ]
     },
     "metadata": {},
     "output_type": "display_data"
    }
   ],
   "source": [
    "#Source: https://medium.com/@aneesha/visualising-top-features-in-linear-svm-with-scikit-learn-and-matplotlib-3454ab18a14d \n",
    "\n",
    "def plot_coefficients(classifier, feature_names, top_features=20):\n",
    " coef = classifier.coef_.ravel()\n",
    " top_positive_coefficients = np.argsort(coef)[-top_features:]\n",
    " top_negative_coefficients = np.argsort(coef)[:top_features]\n",
    " top_coefficients = np.hstack([top_negative_coefficients, top_positive_coefficients])\n",
    " # create plot\n",
    " plt.figure(figsize=(15, 5))\n",
    " colors = ['red' if c < 0 else 'blue' for c in coef[top_coefficients]]\n",
    " plt.bar(np.arange(2 * top_features), coef[top_coefficients], color=colors)\n",
    " feature_names = np.array(feature_names)\n",
    " plt.xticks(np.arange(1, 1 + 2 * top_features), feature_names[top_coefficients], rotation=60, ha='right')\n",
    " plt.show()\n",
    "\n",
    "\n",
    "plot_coefficients(clf, count_vect.get_feature_names())"
   ]
  },
  {
   "cell_type": "markdown",
   "metadata": {
    "_uuid": "a39efe9471c1f3692a721f15655c0fb58261965b"
   },
   "source": []
  },
  {
   "cell_type": "markdown",
   "metadata": {
    "_uuid": "fdde81b2e75e0ff06187375f9537b92113d02c1d"
   },
   "source": [
    "# TF-IDF"
   ]
  },
  {
   "cell_type": "code",
   "execution_count": 42,
   "metadata": {
    "_uuid": "cbbbdd13fd241452837e33ff48fbb49ae069c0f2"
   },
   "outputs": [
    {
     "name": "stdout",
     "output_type": "stream",
     "text": [
      "(17500, 326652)\n",
      "(7500, 326652)\n"
     ]
    }
   ],
   "source": [
    "tf_idf_vect = TfidfVectorizer(ngram_range=(1,2))\n",
    "# Transforming train/test data into tf-idf\n",
    "tf_idf_X_train_matrix = tf_idf_vect.fit_transform(X_train.values)\n",
    "print(tf_idf_X_train_matrix.shape)\n",
    "tf_idf_X_test_matrix = tf_idf_vect.transform(X_test.values)\n",
    "print(tf_idf_X_test_matrix.shape)"
   ]
  },
  {
   "cell_type": "code",
   "execution_count": 72,
   "metadata": {
    "_uuid": "f9ffcabb838b6d8919518369b64cc1c28c4f585b",
    "collapsed": true
   },
   "outputs": [],
   "source": [
    "tfidf_std_X_train_matrix = std_data(tf_idf_X_train_matrix)\n",
    "tfidf_std_X_test_matrix = std_data(tf_idf_X_test_matrix)"
   ]
  },
  {
   "cell_type": "code",
   "execution_count": 73,
   "metadata": {
    "_uuid": "79313355b8bd63ff532b559f11ece3b53ee9bd36"
   },
   "outputs": [
    {
     "name": "stdout",
     "output_type": "stream",
     "text": [
      "Fitting 10 folds for each of 9 candidates, totalling 90 fits\n"
     ]
    },
    {
     "name": "stderr",
     "output_type": "stream",
     "text": [
      "[Parallel(n_jobs=-1)]: Using backend LokyBackend with 4 concurrent workers.\n",
      "[Parallel(n_jobs=-1)]: Done  42 tasks      | elapsed:   13.1s\n",
      "[Parallel(n_jobs=-1)]: Done  90 out of  90 | elapsed:   21.1s finished\n"
     ]
    },
    {
     "data": {
      "text/plain": [
       "GridSearchCV(cv=TimeSeriesSplit(max_train_size=None, n_splits=10),\n",
       "       error_score='raise-deprecating',\n",
       "       estimator=SGDClassifier(alpha=0.0001, average=False, class_weight=None,\n",
       "       early_stopping=False, epsilon=0.1, eta0=0.0, fit_intercept=True,\n",
       "       l1_ratio=0.15, learning_rate='optimal', loss='hinge', max_iter=None,\n",
       "       n_iter=None, n_iter_no_change=5, n_jobs=None, penalty='l2',\n",
       "       power_t=0.5, random_state=None, shuffle=True, tol=None,\n",
       "       validation_fraction=0.1, verbose=0, warm_start=False),\n",
       "       fit_params=None, iid='warn', n_jobs=-1,\n",
       "       param_grid=[{'alpha': [0.0001, 0.001, 0.01, 0.1, 1, 10, 100, 1000, 10000]}],\n",
       "       pre_dispatch='2*n_jobs', refit=True, return_train_score='warn',\n",
       "       scoring='f1', verbose=1)"
      ]
     },
     "execution_count": 73,
     "metadata": {},
     "output_type": "execute_result"
    }
   ],
   "source": [
    "from sklearn.model_selection import RandomizedSearchCV\n",
    "from sklearn import linear_model\n",
    "\n",
    "tuned_parameters = [{'alpha': [10**-4,10**-3, 10**-2,10**-1, 10**0,10, 10**2,10**3, 10**4]}]\n",
    "linear_clf = linear_model.SGDClassifier(loss = 'hinge' )\n",
    "tscv = TimeSeriesSplit(n_splits=10)                    \n",
    "svm_linear_clf_using_grid = GridSearchCV(linear_clf, tuned_parameters, cv = tscv,scoring='f1' , n_jobs = -1 , verbose = 1)\n",
    "svm_linear_clf_using_grid.fit(tfidf_std_X_train_matrix , Y_train)"
   ]
  },
  {
   "cell_type": "code",
   "execution_count": 74,
   "metadata": {
    "_uuid": "cfd38c5f8b47c87b5298af3b975b56667b367d2b"
   },
   "outputs": [
    {
     "name": "stdout",
     "output_type": "stream",
     "text": [
      "f1_score for alpha =  0.0001 is  0.9385517787257349\n",
      "f1_score for alpha =  0.001 is  0.9384457603382427\n",
      "f1_score for alpha =  0.01 is  0.9393050343556121\n",
      "f1_score for alpha =  0.1 is  0.9436245416927154\n",
      "f1_score for alpha =  1 is  0.9444284399700633\n",
      "f1_score for alpha =  10 is  0.9373780567029852\n",
      "f1_score for alpha =  100 is  0.9341455956548304\n",
      "f1_score for alpha =  1000 is  0.934059482177647\n",
      "f1_score for alpha =  10000 is  0.9340214295115356\n"
     ]
    }
   ],
   "source": [
    "# checking cross validation scores\n",
    "cv_score = list(svm_linear_clf_using_grid.cv_results_.get('mean_test_score'))\n",
    "alpha_values = [10**-4,10**-3, 10**-2,10**-1, 10**0,10, 10**2,10**3, 10**4]\n",
    "for i in range(len(cv_score)):\n",
    "    print('f1_score for alpha = ',alpha_values[i],'is ',cv_score[i] )"
   ]
  },
  {
   "cell_type": "code",
   "execution_count": 75,
   "metadata": {
    "_uuid": "f038df50f80abf5a55b49bbb7166358f62bef97b"
   },
   "outputs": [
    {
     "data": {
      "image/png": "[encoded data removed]",
      "text/plain": [
       "<Figure size 432x288 with 1 Axes>"
      ]
     },
     "metadata": {},
     "output_type": "display_data"
    },
    {
     "name": "stdout",
     "output_type": "stream",
     "text": [
      "best parameter: {'alpha': 1}\n"
     ]
    }
   ],
   "source": [
    "acc_score= svm_linear_clf_using_grid.cv_results_.get('mean_test_score')\n",
    "error = [1-x for x in acc_score]\n",
    "\n",
    "hyperparam = np.array([10**-4,10**-3, 10**-2,10**-1, 10**0,10, 10**2,10**3, 10**4] )\n",
    "plt.plot(hyperparam ,error ,'g' ,label=\"svm linear classifier\"  )\n",
    "plt.xlabel('Hyperparam')\n",
    "plt.ylabel('error')\n",
    "plt.title('error for each alpha')\n",
    "plt.legend()\n",
    "plt.grid()\n",
    "plt.show()\n",
    "print(\"best parameter:\" ,svm_linear_clf_using_grid.best_params_ )"
   ]
  },
  {
   "cell_type": "code",
   "execution_count": 76,
   "metadata": {
    "_uuid": "5fdf6409a67fdc78d3854940786f0560d2c9de53"
   },
   "outputs": [
    {
     "name": "stdout",
     "output_type": "stream",
     "text": [
      "Test accuracy:  0.9284333333333333\n",
      "Train accuracy:  0.9999714285714286\n",
      "              precision    recall  f1-score   support\n",
      "\n",
      "          -1       0.88      0.45      0.60      3546\n",
      "           1       0.93      0.99      0.96     26454\n",
      "\n",
      "   micro avg       0.93      0.93      0.93     30000\n",
      "   macro avg       0.91      0.72      0.78     30000\n",
      "weighted avg       0.93      0.93      0.92     30000\n",
      "\n"
     ]
    },
    {
     "data": {
      "image/png": "[encoded data removed]",
      "text/plain": [
       "<Figure size 432x288 with 2 Axes>"
      ]
     },
     "metadata": {},
     "output_type": "display_data"
    }
   ],
   "source": [
    "from sklearn.linear_model import SGDClassifier\n",
    "from sklearn.calibration import CalibratedClassifierCV\n",
    "\n",
    "clf = SGDClassifier(alpha=svm_linear_clf_using_grid.best_params_['alpha'], loss='hinge', random_state=42)\n",
    "clf.fit(tfidf_std_X_train_matrix , Y_train)\n",
    "calib_clf = CalibratedClassifierCV(clf, method=\"sigmoid\")\n",
    "calib_clf.fit(tfidf_std_X_train_matrix , Y_train)\n",
    "\n",
    "# test accuracy\n",
    "print('Test accuracy: ',calib_clf.score(tfidf_std_X_test_matrix , Y_test))\n",
    "# train accuracy\n",
    "print('Train accuracy: ',calib_clf.score(tfidf_std_X_train_matrix , Y_train))\n",
    "\n",
    "test_prediction = calib_clf.predict(tfidf_std_X_test_matrix)\n",
    "print(classification_report(Y_test, test_prediction))\n",
    "\n",
    "import scikitplot.metrics as sciplot\n",
    "sciplot.plot_confusion_matrix(Y_test, test_prediction)\n",
    "plt.show()\n"
   ]
  },
  {
   "cell_type": "markdown",
   "metadata": {
    "_uuid": "969ba5561ffcefc2962c33c6a228f05a43a27ed5"
   },
   "source": [
    "### LOG Loss & AUC Score"
   ]
  },
  {
   "cell_type": "code",
   "execution_count": 77,
   "metadata": {
    "_uuid": "2c5f0a0d76f1a059c80e090cdbe26bd39acf8740"
   },
   "outputs": [
    {
     "data": {
      "text/plain": [
       "0.2165177062615434"
      ]
     },
     "execution_count": 77,
     "metadata": {},
     "output_type": "execute_result"
    }
   ],
   "source": [
    "# computing log loss\n",
    "from sklearn.metrics import log_loss\n",
    "y_prob_pred= calib_clf.predict_proba(tfidf_std_X_test_matrix)\n",
    "log_loss(Y_test, y_prob_pred, labels=clf.classes_)"
   ]
  },
  {
   "cell_type": "code",
   "execution_count": 78,
   "metadata": {
    "_uuid": "11fd61c58220abc714d979c55199c1a01ef6dd3e"
   },
   "outputs": [
    {
     "data": {
      "text/plain": [
       "0.8910599680506182"
      ]
     },
     "execution_count": 78,
     "metadata": {},
     "output_type": "execute_result"
    }
   ],
   "source": [
    "roc_auc_score(Y_test , y_prob_pred[:,1])"
   ]
  },
  {
   "cell_type": "markdown",
   "metadata": {
    "_uuid": "7b1bee00993825c9f97d4fa8009924d4125f9261"
   },
   "source": [
    "### Important Features"
   ]
  },
  {
   "cell_type": "code",
   "execution_count": 80,
   "metadata": {
    "_uuid": "c021b317d72874a70ecbc2f927abc43f7dd4b76f"
   },
   "outputs": [
    {
     "data": {
      "image/png": "[encoded data removed]",
      "text/plain": [
       "<Figure size 1080x360 with 1 Axes>"
      ]
     },
     "metadata": {},
     "output_type": "display_data"
    }
   ],
   "source": [
    "plot_coefficients(clf, tf_idf_vect.get_feature_names())"
   ]
  },
  {
   "cell_type": "markdown",
   "metadata": {
    "_uuid": "db8c196f593c967a1323453c84f5b7bfc698d198"
   },
   "source": [
    "### Avg Word2Vec"
   ]
  },
  {
   "cell_type": "code",
   "execution_count": 82,
   "metadata": {
    "_uuid": "99af941121843e015a6bc9e59f1dde81299e9fae",
    "collapsed": true
   },
   "outputs": [],
   "source": [
    "list_of_sent=[]\n",
    "for sent in X_train.values:\n",
    "    list_of_sent.append(sent.split())\n",
    "    \n",
    "w2v_model=Word2Vec(list_of_sent,min_count=5,size=50, workers=4) \n",
    "\n",
    "sent_vectors = [];\n",
    "for sent in list_of_sent:\n",
    "    sent_vec = np.zeros(50)\n",
    "    cnt_words =0;\n",
    "    for word in sent:\n",
    "        if word in w2v_model:\n",
    "            vec = w2v_model.wv[word]\n",
    "            sent_vec += vec\n",
    "            cnt_words += 1\n",
    "    if cnt_words != 0:\n",
    "        sent_vec /= cnt_words\n",
    "    sent_vectors.append(sent_vec)\n",
    "\n",
    "w2vec_X_train_matrix = np.array(sent_vectors)"
   ]
  },
  {
   "cell_type": "code",
   "execution_count": 83,
   "metadata": {
    "_uuid": "df179ff3d5988c06a6d436323bee8a07d2ba01e0",
    "collapsed": true
   },
   "outputs": [],
   "source": [
    "list_of_sent=[]\n",
    "for sent in X_test.values:\n",
    "    list_of_sent.append(sent.split())\n",
    "    \n",
    "sent_vectors = [];\n",
    "for sent in list_of_sent:\n",
    "    sent_vec = np.zeros(50)\n",
    "    cnt_words =0;\n",
    "    for word in sent:\n",
    "        if word in w2v_model:\n",
    "            vec = w2v_model.wv[word]\n",
    "            sent_vec += vec\n",
    "            cnt_words += 1\n",
    "    if cnt_words != 0:\n",
    "        sent_vec /= cnt_words\n",
    "    sent_vectors.append(sent_vec)\n",
    "    \n",
    "w2vec_X_test_matrix = np.array(sent_vectors)\n"
   ]
  },
  {
   "cell_type": "code",
   "execution_count": 84,
   "metadata": {
    "_uuid": "fd50c69d031c73f6927ef5890ad888ab40aa7aac",
    "collapsed": true
   },
   "outputs": [],
   "source": [
    "# standrizing data\n",
    "w2vec_std_X_train_matrix = std_data(w2vec_X_train_matrix)\n",
    "w2vec_std_X_test_matrix = std_data(w2vec_X_test_matrix)"
   ]
  },
  {
   "cell_type": "code",
   "execution_count": 85,
   "metadata": {
    "_uuid": "3093686ea1e1a859ed3223b4f2c9aa1a64cb90a4"
   },
   "outputs": [
    {
     "name": "stdout",
     "output_type": "stream",
     "text": [
      "Fitting 10 folds for each of 9 candidates, totalling 90 fits\n"
     ]
    },
    {
     "name": "stderr",
     "output_type": "stream",
     "text": [
      "[Parallel(n_jobs=-1)]: Using backend LokyBackend with 4 concurrent workers.\n",
      "[Parallel(n_jobs=-1)]: Done  76 tasks      | elapsed:    6.0s\n",
      "[Parallel(n_jobs=-1)]: Done  90 out of  90 | elapsed:    7.1s finished\n"
     ]
    },
    {
     "data": {
      "text/plain": [
       "GridSearchCV(cv=TimeSeriesSplit(max_train_size=None, n_splits=10),\n",
       "       error_score='raise-deprecating',\n",
       "       estimator=SGDClassifier(alpha=0.0001, average=False, class_weight=None,\n",
       "       early_stopping=False, epsilon=0.1, eta0=0.0, fit_intercept=True,\n",
       "       l1_ratio=0.15, learning_rate='optimal', loss='hinge', max_iter=None,\n",
       "       n_iter=None, n_iter_no_change=5, n_jobs=None, penalty='l2',\n",
       "       power_t=0.5, random_state=None, shuffle=True, tol=None,\n",
       "       validation_fraction=0.1, verbose=0, warm_start=False),\n",
       "       fit_params=None, iid='warn', n_jobs=-1,\n",
       "       param_grid=[{'alpha': [0.0001, 0.001, 0.01, 0.1, 1, 10, 100, 1000, 10000]}],\n",
       "       pre_dispatch='2*n_jobs', refit=True, return_train_score='warn',\n",
       "       scoring='f1', verbose=1)"
      ]
     },
     "execution_count": 85,
     "metadata": {},
     "output_type": "execute_result"
    }
   ],
   "source": [
    "\n",
    "tuned_parameters = [{'alpha': [10**-4,10**-3, 10**-2,10**-1, 10**0,10, 10**2,10**3, 10**4]}]\n",
    "linear_clf = linear_model.SGDClassifier(loss = 'hinge' )\n",
    "tscv = TimeSeriesSplit(n_splits=10)                    \n",
    "svm_linear_clf_using_grid = GridSearchCV(linear_clf, tuned_parameters, cv = tscv,scoring='f1' , n_jobs = -1 , verbose = 1)\n",
    "svm_linear_clf_using_grid.fit(w2vec_std_X_train_matrix, Y_train)"
   ]
  },
  {
   "cell_type": "code",
   "execution_count": 86,
   "metadata": {
    "_uuid": "5643110eeefa09db0f101890e9e6ddd0c2c99676"
   },
   "outputs": [
    {
     "name": "stdout",
     "output_type": "stream",
     "text": [
      "f1_score for alpha =  0.0001 is  0.9303375224135744\n",
      "f1_score for alpha =  0.001 is  0.9493927895817726\n",
      "f1_score for alpha =  0.01 is  0.9526298204817318\n",
      "f1_score for alpha =  0.1 is  0.940859703443529\n",
      "f1_score for alpha =  1 is  0.9339431890353183\n",
      "f1_score for alpha =  10 is  0.9339431890353183\n",
      "f1_score for alpha =  100 is  0.9339431890353183\n",
      "f1_score for alpha =  1000 is  0.9339431890353183\n",
      "f1_score for alpha =  10000 is  0.8408035467479726\n"
     ]
    }
   ],
   "source": [
    "# checking cross validation scores\n",
    "cv_score = list(svm_linear_clf_using_grid.cv_results_.get('mean_test_score'))\n",
    "alpha_values = [10**-4,10**-3, 10**-2,10**-1, 10**0,10, 10**2,10**3, 10**4]\n",
    "for i in range(len(cv_score)):\n",
    "    print('f1_score for alpha = ',alpha_values[i],'is ',cv_score[i] )"
   ]
  },
  {
   "cell_type": "code",
   "execution_count": 87,
   "metadata": {
    "_uuid": "50c1415c60e6c8515143a0e9bb131ac7c12582a2"
   },
   "outputs": [
    {
     "data": {
      "image/png": "[encoded data removed]",
      "text/plain": [
       "<Figure size 432x288 with 1 Axes>"
      ]
     },
     "metadata": {},
     "output_type": "display_data"
    },
    {
     "name": "stdout",
     "output_type": "stream",
     "text": [
      "best parameter: {'alpha': 0.01}\n"
     ]
    }
   ],
   "source": [
    "acc_score= svm_linear_clf_using_grid.cv_results_.get('mean_test_score')\n",
    "error = [1-x for x in acc_score]\n",
    "\n",
    "hyperparam = np.array([10**-4,10**-3, 10**-2,10**-1, 10**0,10, 10**2,10**3, 10**4] )\n",
    "plt.plot(hyperparam ,error ,'g' ,label=\"svm linear classifier\"  )\n",
    "plt.xlabel('Hyperparam')\n",
    "plt.ylabel('error')\n",
    "plt.title('error for each alpha')\n",
    "plt.legend()\n",
    "plt.grid()\n",
    "plt.show()\n",
    "print(\"best parameter:\" ,svm_linear_clf_using_grid.best_params_ )"
   ]
  },
  {
   "cell_type": "code",
   "execution_count": 88,
   "metadata": {
    "_uuid": "5c03378d0046f385ad521f7c400d68674f3937a5"
   },
   "outputs": [
    {
     "name": "stdout",
     "output_type": "stream",
     "text": [
      "Test accuracy:  0.9181666666666667\n",
      "Train accuracy:  0.9182857142857143\n",
      "              precision    recall  f1-score   support\n",
      "\n",
      "          -1       0.72      0.50      0.59      3546\n",
      "           1       0.94      0.97      0.95     26454\n",
      "\n",
      "   micro avg       0.92      0.92      0.92     30000\n",
      "   macro avg       0.83      0.74      0.77     30000\n",
      "weighted avg       0.91      0.92      0.91     30000\n",
      "\n"
     ]
    },
    {
     "data": {
      "image/png": "[encoded data removed]",
      "text/plain": [
       "<Figure size 432x288 with 2 Axes>"
      ]
     },
     "metadata": {},
     "output_type": "display_data"
    }
   ],
   "source": [
    "clf = SGDClassifier(alpha=svm_linear_clf_using_grid.best_params_['alpha'], loss='hinge', random_state=42)\n",
    "clf.fit(w2vec_std_X_train_matrix , Y_train)\n",
    "calib_clf = CalibratedClassifierCV(clf, method=\"sigmoid\")\n",
    "calib_clf.fit(w2vec_std_X_train_matrix , Y_train)\n",
    "\n",
    "# test accuracy\n",
    "print('Test accuracy: ',calib_clf.score(w2vec_std_X_test_matrix , Y_test))\n",
    "# train accuracy\n",
    "print('Train accuracy: ',calib_clf.score(w2vec_std_X_train_matrix , Y_train))\n",
    "\n",
    "test_prediction = calib_clf.predict(w2vec_std_X_test_matrix)\n",
    "print(classification_report(Y_test, test_prediction))\n",
    "\n",
    "import scikitplot.metrics as sciplot\n",
    "sciplot.plot_confusion_matrix(Y_test, test_prediction)\n",
    "plt.show()\n"
   ]
  },
  {
   "cell_type": "code",
   "execution_count": 89,
   "metadata": {
    "_uuid": "ee5ef7a19ace628eaa20828f051326841649f50d"
   },
   "outputs": [
    {
     "data": {
      "text/plain": [
       "0.201118173828724"
      ]
     },
     "execution_count": 89,
     "metadata": {},
     "output_type": "execute_result"
    }
   ],
   "source": [
    "# computing log loss\n",
    "from sklearn.metrics import log_loss\n",
    "y_prob_pred= calib_clf.predict_proba(w2vec_std_X_test_matrix)\n",
    "log_loss(Y_test, y_prob_pred, labels=clf.classes_)"
   ]
  },
  {
   "cell_type": "code",
   "execution_count": 90,
   "metadata": {
    "_uuid": "2d25d88a936e07d838951c50c876098b866c0c3f"
   },
   "outputs": [
    {
     "data": {
      "text/plain": [
       "0.9273908020524598"
      ]
     },
     "execution_count": 90,
     "metadata": {},
     "output_type": "execute_result"
    }
   ],
   "source": [
    "# auc score\n",
    "roc_auc_score(Y_test , y_prob_pred[:,1])"
   ]
  },
  {
   "cell_type": "markdown",
   "metadata": {
    "_uuid": "ace7f6199910054682955c2e7c29b9e3015cddc1"
   },
   "source": [
    "## Tf-Idf W2Vec"
   ]
  },
  {
   "cell_type": "code",
   "execution_count": 91,
   "metadata": {
    "_uuid": "c08c2e31633fdc9a95c4adf7178a392e791a127a",
    "collapsed": true
   },
   "outputs": [],
   "source": [
    "list_of_sent=[]\n",
    "for sent in X_train.values:\n",
    "    list_of_sent.append(sent.split())\n",
    "\n",
    "w2v_model=Word2Vec(list_of_sent,min_count=5,size=50, workers=4)\n",
    "\n",
    "model = TfidfVectorizer()\n",
    "tf_idf_matrix = model.fit_transform(X_train.values)\n",
    "# we are converting a dictionary with word as a key, and the idf as a value\n",
    "dictionary = dict(zip(model.get_feature_names(), list(model.idf_)))\n",
    "    \n",
    "tfidf_feat = tf_idf_vect.get_feature_names()\n",
    "tfidf_sent_vectors_X_train = []\n",
    "row=0\n",
    "for sent in list_of_sent: #list_of_sent\n",
    "    sent_vec = np.zeros(50)\n",
    "    weight_sum =0;\n",
    "    for word in sent:\n",
    "        if word in w2v_model:\n",
    "            vec = w2v_model.wv[word]\n",
    "         # obtain the tf_idfidf of a word in a sentence/review\n",
    "            tf_idf = dictionary[word]*(sent.count(word)/len(sent))\n",
    "            sent_vec += (vec * tf_idf)\n",
    "            weight_sum += tf_idf\n",
    "    if weight_sum != 0:\n",
    "        sent_vec /= weight_sum\n",
    "    tfidf_sent_vectors_X_train.append(sent_vec)\n",
    "    row += 1"
   ]
  },
  {
   "cell_type": "code",
   "execution_count": 92,
   "metadata": {
    "_uuid": "193e4f3aca3a9ef291f58b4c08b1a807438facc5",
    "collapsed": true
   },
   "outputs": [],
   "source": [
    "list_of_sent=[]\n",
    "for sent in X_test.values:\n",
    "    list_of_sent.append(sent.split())\n",
    "\n",
    "\n",
    "tfidf_sent_vectors_X_test = [];\n",
    "row=0;\n",
    "for sent in list_of_sent: #list_of_sent\n",
    "    sent_vec = np.zeros(50)\n",
    "    weight_sum =0;\n",
    "    for word in sent:\n",
    "        if word in w2v_model:\n",
    "            vec = w2v_model.wv[word]\n",
    "               # obtain the tf_idfidf of a word in a sentence/review\n",
    "            tf_idf = dictionary[word]*(sent.count(word)/len(sent))\n",
    "            sent_vec += (vec * tf_idf)\n",
    "            weight_sum += tf_idf\n",
    "    if weight_sum != 0:\n",
    "        sent_vec /= weight_sum\n",
    "    tfidf_sent_vectors_X_test.append(sent_vec)\n",
    "    row += 1\n"
   ]
  },
  {
   "cell_type": "code",
   "execution_count": 93,
   "metadata": {
    "_uuid": "e57b5a64d3c5a8d6896b8a1bb3395a5aacc92395",
    "collapsed": true
   },
   "outputs": [],
   "source": [
    "tfidf_w2vec_std_X_train_matrix = std_data(tfidf_sent_vectors_X_train)\n",
    "tfidf_w2vec_std_X_test_matrix = std_data(tfidf_sent_vectors_X_test)"
   ]
  },
  {
   "cell_type": "code",
   "execution_count": 94,
   "metadata": {
    "_uuid": "07a010a4952ccbb519e756fb2df573f19e390205"
   },
   "outputs": [
    {
     "name": "stdout",
     "output_type": "stream",
     "text": [
      "Fitting 10 folds for each of 9 candidates, totalling 90 fits\n"
     ]
    },
    {
     "name": "stderr",
     "output_type": "stream",
     "text": [
      "[Parallel(n_jobs=-1)]: Using backend LokyBackend with 4 concurrent workers.\n",
      "[Parallel(n_jobs=-1)]: Done  76 tasks      | elapsed:    6.2s\n",
      "[Parallel(n_jobs=-1)]: Done  90 out of  90 | elapsed:    7.3s finished\n"
     ]
    },
    {
     "data": {
      "text/plain": [
       "GridSearchCV(cv=TimeSeriesSplit(max_train_size=None, n_splits=10),\n",
       "       error_score='raise-deprecating',\n",
       "       estimator=SGDClassifier(alpha=0.0001, average=False, class_weight=None,\n",
       "       early_stopping=False, epsilon=0.1, eta0=0.0, fit_intercept=True,\n",
       "       l1_ratio=0.15, learning_rate='optimal', loss='hinge', max_iter=None,\n",
       "       n_iter=None, n_iter_no_change=5, n_jobs=None, penalty='l2',\n",
       "       power_t=0.5, random_state=None, shuffle=True, tol=None,\n",
       "       validation_fraction=0.1, verbose=0, warm_start=False),\n",
       "       fit_params=None, iid='warn', n_jobs=-1,\n",
       "       param_grid=[{'alpha': [0.0001, 0.001, 0.01, 0.1, 1, 10, 100, 1000, 10000]}],\n",
       "       pre_dispatch='2*n_jobs', refit=True, return_train_score='warn',\n",
       "       scoring='f1', verbose=1)"
      ]
     },
     "execution_count": 94,
     "metadata": {},
     "output_type": "execute_result"
    }
   ],
   "source": [
    "tuned_parameters = [{'alpha': [10**-4,10**-3, 10**-2,10**-1, 10**0,10, 10**2,10**3, 10**4]}]\n",
    "linear_clf = linear_model.SGDClassifier(loss = 'hinge' )\n",
    "tscv = TimeSeriesSplit(n_splits=10)                    \n",
    "svm_linear_clf_using_grid = GridSearchCV(linear_clf, tuned_parameters, cv = tscv,scoring='f1' , n_jobs = -1 , verbose = 1)\n",
    "svm_linear_clf_using_grid.fit(tfidf_w2vec_std_X_train_matrix, Y_train)"
   ]
  },
  {
   "cell_type": "code",
   "execution_count": 95,
   "metadata": {
    "_uuid": "a096fc17bd7ab7b7b83c36d4c509bce3467b5db9"
   },
   "outputs": [
    {
     "name": "stdout",
     "output_type": "stream",
     "text": [
      "f1_score for alpha =  0.0001 is  0.9371971194515392\n",
      "f1_score for alpha =  0.001 is  0.9435871700821421\n",
      "f1_score for alpha =  0.01 is  0.9447451764438975\n",
      "f1_score for alpha =  0.1 is  0.9348357619054963\n",
      "f1_score for alpha =  1 is  0.9339431890353183\n",
      "f1_score for alpha =  10 is  0.9339431890353183\n",
      "f1_score for alpha =  100 is  0.8404190926497761\n",
      "f1_score for alpha =  1000 is  0.8405975638257978\n",
      "f1_score for alpha =  10000 is  0.9339431890353183\n"
     ]
    }
   ],
   "source": [
    "# checking cross validation scores\n",
    "cv_score = list(svm_linear_clf_using_grid.cv_results_.get('mean_test_score'))\n",
    "alpha_values = [10**-4,10**-3, 10**-2,10**-1, 10**0,10, 10**2,10**3, 10**4]\n",
    "for i in range(len(cv_score)):\n",
    "    print('f1_score for alpha = ',alpha_values[i],'is ',cv_score[i] )"
   ]
  },
  {
   "cell_type": "code",
   "execution_count": 96,
   "metadata": {
    "_uuid": "adf260a88769ff754513e8bf50602f603c5efd2d"
   },
   "outputs": [
    {
     "data": {
      "image/png": "[encoded data removed]",
      "text/plain": [
       "<Figure size 432x288 with 1 Axes>"
      ]
     },
     "metadata": {},
     "output_type": "display_data"
    },
    {
     "name": "stdout",
     "output_type": "stream",
     "text": [
      "best parameter: {'alpha': 0.01}\n"
     ]
    }
   ],
   "source": [
    "acc_score= svm_linear_clf_using_grid.cv_results_.get('mean_test_score')\n",
    "error = [1-x for x in acc_score]\n",
    "\n",
    "hyperparam = np.array([10**-4,10**-3, 10**-2,10**-1, 10**0,10, 10**2,10**3, 10**4] )\n",
    "plt.plot(hyperparam ,error ,'g' ,label=\"svm linear classifier\"  )\n",
    "plt.xlabel('Hyperparam')\n",
    "plt.ylabel('error')\n",
    "plt.title('error for each alpha')\n",
    "plt.legend()\n",
    "plt.grid()\n",
    "plt.show()\n",
    "print(\"best parameter:\" ,svm_linear_clf_using_grid.best_params_ )"
   ]
  },
  {
   "cell_type": "code",
   "execution_count": 97,
   "metadata": {
    "_uuid": "9710a58a94cb766159f9afc5c02172d98f9af9c3"
   },
   "outputs": [
    {
     "name": "stdout",
     "output_type": "stream",
     "text": [
      "Test accuracy:  0.9049\n",
      "Train accuracy:  0.9039714285714285\n",
      "              precision    recall  f1-score   support\n",
      "\n",
      "          -1       0.69      0.36      0.47      3546\n",
      "           1       0.92      0.98      0.95     26454\n",
      "\n",
      "   micro avg       0.90      0.90      0.90     30000\n",
      "   macro avg       0.80      0.67      0.71     30000\n",
      "weighted avg       0.89      0.90      0.89     30000\n",
      "\n"
     ]
    },
    {
     "data": {
      "image/png": "[encoded data removed]",
      "text/plain": [
       "<Figure size 432x288 with 2 Axes>"
      ]
     },
     "metadata": {},
     "output_type": "display_data"
    }
   ],
   "source": [
    "clf = SGDClassifier(alpha=svm_linear_clf_using_grid.best_params_['alpha'], loss='hinge', random_state=42)\n",
    "clf.fit(tfidf_w2vec_std_X_train_matrix , Y_train)\n",
    "calib_clf = CalibratedClassifierCV(clf, method=\"sigmoid\")\n",
    "calib_clf.fit(tfidf_w2vec_std_X_train_matrix , Y_train)\n",
    "\n",
    "# test accuracy\n",
    "print('Test accuracy: ',calib_clf.score(tfidf_w2vec_std_X_test_matrix , Y_test))\n",
    "# train accuracy\n",
    "print('Train accuracy: ',calib_clf.score(tfidf_w2vec_std_X_train_matrix , Y_train))\n",
    "\n",
    "test_prediction = calib_clf.predict(tfidf_w2vec_std_X_test_matrix)\n",
    "print(classification_report(Y_test, test_prediction))\n",
    "\n",
    "import scikitplot.metrics as sciplot\n",
    "sciplot.plot_confusion_matrix(Y_test, test_prediction)\n",
    "plt.show()\n"
   ]
  },
  {
   "cell_type": "code",
   "execution_count": 98,
   "metadata": {
    "_uuid": "5804b206980a4c6bdeea587d1d5e749630544fef"
   },
   "outputs": [
    {
     "data": {
      "text/plain": [
       "0.2382735648467131"
      ]
     },
     "execution_count": 98,
     "metadata": {},
     "output_type": "execute_result"
    }
   ],
   "source": [
    "# computing log loss\n",
    "from sklearn.metrics import log_loss\n",
    "y_prob_pred= calib_clf.predict_proba(tfidf_w2vec_std_X_test_matrix)\n",
    "log_loss(Y_test, y_prob_pred, labels=clf.classes_)"
   ]
  },
  {
   "cell_type": "code",
   "execution_count": 99,
   "metadata": {
    "_uuid": "3b2dbc4b5c29db5202509a1591f2a2bb8496b76c"
   },
   "outputs": [
    {
     "data": {
      "text/plain": [
       "0.8922503731215838"
      ]
     },
     "execution_count": 99,
     "metadata": {},
     "output_type": "execute_result"
    }
   ],
   "source": [
    "roc_auc_score(Y_test , y_prob_pred[:,1])"
   ]
  },
  {
   "cell_type": "markdown",
   "metadata": {
    "_uuid": "b64669261b573921998af2beeea6c9dc77963ebc"
   },
   "source": [
    " # SVM using RBF kernel"
   ]
  },
  {
   "cell_type": "code",
   "execution_count": 29,
   "metadata": {
    "_uuid": "61b436e71b2d656972dc46b5ea26b68758d8ec45",
    "collapsed": true
   },
   "outputs": [],
   "source": [
    "sampled_data = b.head(25000)"
   ]
  },
  {
   "cell_type": "code",
   "execution_count": 30,
   "metadata": {
    "_uuid": "9c32b359206a8d27da3cb80ac0b323989685f9ac",
    "collapsed": true
   },
   "outputs": [],
   "source": [
    "def response_label(sign):\n",
    "    if sign == \"positive\":\n",
    "        return 1                               # positive-----> 1\n",
    "    else:\n",
    "        return -1                              # negative-----> -1 \n",
    "    \n",
    "sampled_data[\"Score\"] = sampled_data[\"Score\"].map(response_label)\n",
    "X_train, X_test, Y_train, Y_test  = train_test_split(sampled_data['CleanedText'],sampled_data['Score'], test_size=0.3, random_state=45)"
   ]
  },
  {
   "cell_type": "markdown",
   "metadata": {
    "_uuid": "3ae015f816f63cf9e07bc863fb26f76f006af3e9",
    "collapsed": true
   },
   "source": [
    "## Bag of words"
   ]
  },
  {
   "cell_type": "code",
   "execution_count": 102,
   "metadata": {
    "_uuid": "4533838df7b80fb40287ca7edff74d2059015d47"
   },
   "outputs": [
    {
     "name": "stdout",
     "output_type": "stream",
     "text": [
      "Train Dataset:  (17500, 1413)\n",
      "Test Dataset:  (7500, 1413)\n"
     ]
    }
   ],
   "source": [
    "#CountVectorizer()--> Converts a collection of text documents to a matrix of token counts\n",
    "\n",
    "# Initialize a CountVectorizer object: count_vectorizer\n",
    "count_vect = CountVectorizer(ngram_range = (1,1) , dtype = 'float' , min_df = 50 , max_df = 0.6)\n",
    "\n",
    "# Transforming train/test data into bag of words\n",
    "bow_X_train_matrix = count_vect.fit_transform(X_train.values)\n",
    "print(\"Train Dataset: \", bow_X_train_matrix.shape)\n",
    "\n",
    "bow_X_test_matrix = count_vect.transform(X_test.values)\n",
    "print(\"Test Dataset: \" , bow_X_test_matrix.shape)"
   ]
  },
  {
   "cell_type": "code",
   "execution_count": 103,
   "metadata": {
    "_uuid": "4d60fb8056fafc185718bda07b07830b0d931094",
    "collapsed": true
   },
   "outputs": [],
   "source": [
    "bow_std_X_train_matrix = std_data(bow_X_train_matrix)\n",
    "bow_std_X_test_matrix = std_data(bow_X_test_matrix)"
   ]
  },
  {
   "cell_type": "code",
   "execution_count": 109,
   "metadata": {
    "_uuid": "f59d0ddf565be637567eb9e3eb14d69917784b1e"
   },
   "outputs": [
    {
     "name": "stdout",
     "output_type": "stream",
     "text": [
      "Fitting 5 folds for each of 49 candidates, totalling 245 fits\n"
     ]
    },
    {
     "name": "stderr",
     "output_type": "stream",
     "text": [
      "[Parallel(n_jobs=-1)]: Using backend LokyBackend with 4 concurrent workers.\n",
      "[Parallel(n_jobs=-1)]: Done  42 tasks      | elapsed:  4.3min\n",
      "[Parallel(n_jobs=-1)]: Done 192 tasks      | elapsed: 20.1min\n",
      "[Parallel(n_jobs=-1)]: Done 245 out of 245 | elapsed: 25.7min finished\n",
      "/opt/conda/lib/python3.6/site-packages/sklearn/svm/base.py:244: ConvergenceWarning: Solver terminated early (max_iter=2000).  Consider pre-processing your data with StandardScaler or MinMaxScaler.\n",
      "  % self.max_iter, ConvergenceWarning)\n"
     ]
    },
    {
     "data": {
      "text/plain": [
       "GridSearchCV(cv=TimeSeriesSplit(max_train_size=None, n_splits=5),\n",
       "       error_score='raise-deprecating',\n",
       "       estimator=SVC(C=1.0, cache_size=200, class_weight=None, coef0=0.0,\n",
       "  decision_function_shape='ovr', degree=3, gamma='auto_deprecated',\n",
       "  kernel='rbf', max_iter=2000, probability=False, random_state=None,\n",
       "  shrinking=True, tol=0.001, verbose=False),\n",
       "       fit_params=None, iid='warn', n_jobs=-1,\n",
       "       param_grid={'C': [0.001, 0.01, 0.1, 1, 10, 100, 1000], 'gamma': [0.001, 0.01, 0.1, 1, 10, 100, 1000]},\n",
       "       pre_dispatch='2*n_jobs', refit=True, return_train_score='warn',\n",
       "       scoring='f1', verbose=1)"
      ]
     },
     "execution_count": 109,
     "metadata": {},
     "output_type": "execute_result"
    }
   ],
   "source": [
    "clf = SVC(max_iter = 2000)\n",
    "param = {'C':[0.001,0.01,0.1,1,10,100,1000],\n",
    "             'gamma':[0.001,0.01,0.1,1,10,100,1000]} \n",
    "tscv = TimeSeriesSplit(n_splits=5) #For time based splitting\n",
    "svm_using_grid = GridSearchCV(clf,param,cv=tscv,verbose=1,n_jobs=-1 , scoring='f1')\n",
    "svm_using_grid.fit(bow_std_X_train_matrix,Y_train)"
   ]
  },
  {
   "cell_type": "code",
   "execution_count": 110,
   "metadata": {
    "_uuid": "10e6e94066d2f9cf444629d1aca556e08ad594ec"
   },
   "outputs": [
    {
     "name": "stdout",
     "output_type": "stream",
     "text": [
      "Best HyperParameters:  {'C': 10, 'gamma': 0.001}\n",
      "Best Accuracy: 95.65%\n"
     ]
    }
   ],
   "source": [
    "print(\"Best HyperParameters: \",svm_using_grid.best_params_)\n",
    "print(\"Best Accuracy: %.2f%%\"%(svm_using_grid.best_score_*100))"
   ]
  },
  {
   "cell_type": "code",
   "execution_count": 111,
   "metadata": {
    "_uuid": "b71a42ea57a042f67fa38696dadeb0980cb178f8"
   },
   "outputs": [
    {
     "name": "stdout",
     "output_type": "stream",
     "text": [
      "Test accuracy:  0.9269333333333334\n",
      "Train accuracy:  0.9989714285714286\n",
      "              precision    recall  f1-score   support\n",
      "\n",
      "          -1       0.79      0.42      0.55       791\n",
      "           1       0.94      0.99      0.96      6709\n",
      "\n",
      "   micro avg       0.93      0.93      0.93      7500\n",
      "   macro avg       0.86      0.70      0.75      7500\n",
      "weighted avg       0.92      0.93      0.92      7500\n",
      "\n"
     ]
    },
    {
     "data": {
      "image/png": "[encoded data removed]",
      "text/plain": [
       "<Figure size 432x288 with 2 Axes>"
      ]
     },
     "metadata": {},
     "output_type": "display_data"
    }
   ],
   "source": [
    "clf = SVC(C=svm_using_grid.best_params_['C'],gamma=svm_using_grid.best_params_['gamma'])\n",
    "clf.fit(bow_std_X_train_matrix,Y_train)\n",
    "# test accuracy\n",
    "print('Test accuracy: ',clf.score(bow_std_X_test_matrix , Y_test))\n",
    "# train accuracy\n",
    "print('Train accuracy: ',clf.score(bow_std_X_train_matrix , Y_train))\n",
    "\n",
    "\n",
    "test_prediction = clf.predict(bow_std_X_test_matrix)\n",
    "print(classification_report(Y_test, test_prediction))\n",
    "\n",
    "import scikitplot.metrics as sciplot\n",
    "sciplot.plot_confusion_matrix(Y_test, test_prediction)\n",
    "plt.show()"
   ]
  },
  {
   "cell_type": "markdown",
   "metadata": {
    "_uuid": "5a6e10527ee7d504a89fb35842c84f5d1f57d305"
   },
   "source": [
    "## Note:\n",
    "The fit time complexity is more than quadratic with the number of samples which makes it hard to scale to dataset with more than a couple of 10000 samples, hence taking only 10k points for rest of assignment."
   ]
  },
  {
   "cell_type": "markdown",
   "metadata": {
    "_uuid": "5ac6e47d4ff9e161b80d833ed662a9ed3cbaa772"
   },
   "source": [
    "# Tf-idf"
   ]
  },
  {
   "cell_type": "code",
   "execution_count": 112,
   "metadata": {
    "_uuid": "ce69e5d3c28b71d317fa60b5fe2358b6b41e0d9e"
   },
   "outputs": [
    {
     "name": "stdout",
     "output_type": "stream",
     "text": [
      "(17500, 1413)\n",
      "(7500, 1413)\n"
     ]
    }
   ],
   "source": [
    "tf_idf_vect = TfidfVectorizer(ngram_range=(1,1) , min_df = 50 , max_df = 0.6)\n",
    "# Transforming train/test data into tf-idf\n",
    "tf_idf_X_train_matrix = tf_idf_vect.fit_transform(X_train.values)\n",
    "print(tf_idf_X_train_matrix.shape)\n",
    "tf_idf_X_test_matrix = tf_idf_vect.transform(X_test.values)\n",
    "print(tf_idf_X_test_matrix.shape)"
   ]
  },
  {
   "cell_type": "code",
   "execution_count": 113,
   "metadata": {
    "_uuid": "b6be58db1960193aa19bc61eadb4a397dba37b2d",
    "collapsed": true
   },
   "outputs": [],
   "source": [
    "tfidf_std_X_train_matrix = std_data(tf_idf_X_train_matrix)\n",
    "tfidf_std_X_test_matrix = std_data(tf_idf_X_test_matrix)"
   ]
  },
  {
   "cell_type": "code",
   "execution_count": 114,
   "metadata": {
    "_uuid": "8a5bc059aec1ab30eb612cb6c51ba5ef294f62b3"
   },
   "outputs": [
    {
     "name": "stdout",
     "output_type": "stream",
     "text": [
      "Fitting 10 folds for each of 49 candidates, totalling 490 fits\n"
     ]
    },
    {
     "name": "stderr",
     "output_type": "stream",
     "text": [
      "[Parallel(n_jobs=-1)]: Using backend LokyBackend with 4 concurrent workers.\n",
      "[Parallel(n_jobs=-1)]: Done  42 tasks      | elapsed:  3.8min\n",
      "[Parallel(n_jobs=-1)]: Done 192 tasks      | elapsed: 18.1min\n",
      "[Parallel(n_jobs=-1)]: Done 442 tasks      | elapsed: 43.0min\n",
      "[Parallel(n_jobs=-1)]: Done 490 out of 490 | elapsed: 48.1min finished\n",
      "/opt/conda/lib/python3.6/site-packages/sklearn/svm/base.py:244: ConvergenceWarning: Solver terminated early (max_iter=2000).  Consider pre-processing your data with StandardScaler or MinMaxScaler.\n",
      "  % self.max_iter, ConvergenceWarning)\n"
     ]
    },
    {
     "data": {
      "text/plain": [
       "GridSearchCV(cv=TimeSeriesSplit(max_train_size=None, n_splits=10),\n",
       "       error_score='raise-deprecating',\n",
       "       estimator=SVC(C=1.0, cache_size=200, class_weight=None, coef0=0.0,\n",
       "  decision_function_shape='ovr', degree=3, gamma='auto_deprecated',\n",
       "  kernel='rbf', max_iter=2000, probability=False, random_state=None,\n",
       "  shrinking=True, tol=0.001, verbose=False),\n",
       "       fit_params=None, iid='warn', n_jobs=-1,\n",
       "       param_grid={'C': [0.001, 0.01, 0.1, 1, 10, 100, 1000], 'gamma': [0.001, 0.01, 0.1, 1, 10, 100, 1000]},\n",
       "       pre_dispatch='2*n_jobs', refit=True, return_train_score='warn',\n",
       "       scoring='f1', verbose=1)"
      ]
     },
     "execution_count": 114,
     "metadata": {},
     "output_type": "execute_result"
    }
   ],
   "source": [
    "clf = SVC(max_iter = 2000)\n",
    "param = {'C':[0.001,0.01,0.1,1,10,100,1000],\n",
    "             'gamma':[0.001,0.01,0.1,1,10,100,1000]} \n",
    "tscv = TimeSeriesSplit(n_splits=10) #For time based splitting\n",
    "svm_using_grid = GridSearchCV(clf,param,cv=tscv,verbose=1,n_jobs=-1, scoring ='f1')\n",
    "svm_using_grid.fit(tfidf_std_X_train_matrix,Y_train)"
   ]
  },
  {
   "cell_type": "code",
   "execution_count": 115,
   "metadata": {
    "_uuid": "cb1443f16743410d460f0905a3e378e73481bbd7"
   },
   "outputs": [
    {
     "name": "stdout",
     "output_type": "stream",
     "text": [
      "Best HyperParameters:  {'C': 10, 'gamma': 0.001}\n",
      "Best Accuracy: 95.44%\n"
     ]
    }
   ],
   "source": [
    "print(\"Best HyperParameters: \",svm_using_grid.best_params_)\n",
    "print(\"Best Accuracy: %.2f%%\"%(svm_using_grid.best_score_*100))"
   ]
  },
  {
   "cell_type": "code",
   "execution_count": 116,
   "metadata": {
    "_uuid": "a91f7006c2c4133c7c632e05fe1c71fbfb16e20b"
   },
   "outputs": [
    {
     "name": "stdout",
     "output_type": "stream",
     "text": [
      "Test accuracy:  0.9188\n",
      "Train accuracy:  0.9886857142857143\n",
      "              precision    recall  f1-score   support\n",
      "\n",
      "          -1       0.89      0.26      0.41       791\n",
      "           1       0.92      1.00      0.96      6709\n",
      "\n",
      "   micro avg       0.92      0.92      0.92      7500\n",
      "   macro avg       0.90      0.63      0.68      7500\n",
      "weighted avg       0.92      0.92      0.90      7500\n",
      "\n"
     ]
    },
    {
     "data": {
      "image/png": "[encoded data removed]",
      "text/plain": [
       "<Figure size 432x288 with 2 Axes>"
      ]
     },
     "metadata": {},
     "output_type": "display_data"
    }
   ],
   "source": [
    "clf = SVC(C=1,gamma=0.001)\n",
    "clf.fit(tfidf_std_X_train_matrix,Y_train)\n",
    "# test accuracy\n",
    "print('Test accuracy: ',clf.score(tfidf_std_X_test_matrix , Y_test))\n",
    "# train accuracy\n",
    "print('Train accuracy: ',clf.score(tfidf_std_X_train_matrix , Y_train))\n",
    "\n",
    "test_prediction = clf.predict(tfidf_std_X_test_matrix)\n",
    "print(classification_report(Y_test, test_prediction))\n",
    "\n",
    "import scikitplot.metrics as sciplot\n",
    "sciplot.plot_confusion_matrix(Y_test, test_prediction)\n",
    "plt.show()"
   ]
  },
  {
   "cell_type": "markdown",
   "metadata": {
    "_uuid": "1e9ca16d906e9172ae111635f0caa1784df0b7aa"
   },
   "source": [
    "# Avg Word2Vec"
   ]
  },
  {
   "cell_type": "code",
   "execution_count": 31,
   "metadata": {
    "_uuid": "f44e04cb7601e9eb186e9ed753d105dc6695a521",
    "collapsed": true
   },
   "outputs": [],
   "source": [
    "list_of_sent=[]\n",
    "for sent in X_train.values:\n",
    "    list_of_sent.append(sent.split())\n",
    "    \n",
    "w2v_model=Word2Vec(list_of_sent,min_count=5,size=50, workers=4) \n",
    "\n",
    "sent_vectors = [];\n",
    "for sent in list_of_sent:\n",
    "    sent_vec = np.zeros(50)\n",
    "    cnt_words =0;\n",
    "    for word in sent:\n",
    "        if word in w2v_model:\n",
    "            vec = w2v_model.wv[word]\n",
    "            sent_vec += vec\n",
    "            cnt_words += 1\n",
    "    if cnt_words != 0:\n",
    "        sent_vec /= cnt_words\n",
    "    sent_vectors.append(sent_vec)\n",
    "\n",
    "w2vec_X_train_matrix = np.array(sent_vectors)"
   ]
  },
  {
   "cell_type": "code",
   "execution_count": 32,
   "metadata": {
    "_uuid": "1cdb5d5d99380dc8db9c892294d7cd6034684ca1",
    "collapsed": true
   },
   "outputs": [],
   "source": [
    "list_of_sent=[]\n",
    "for sent in X_test.values:\n",
    "    list_of_sent.append(sent.split())\n",
    "    \n",
    "sent_vectors = [];\n",
    "for sent in list_of_sent:\n",
    "    sent_vec = np.zeros(50)\n",
    "    cnt_words =0;\n",
    "    for word in sent:\n",
    "        if word in w2v_model:\n",
    "            vec = w2v_model.wv[word]\n",
    "            sent_vec += vec\n",
    "            cnt_words += 1\n",
    "    if cnt_words != 0:\n",
    "        sent_vec /= cnt_words\n",
    "    sent_vectors.append(sent_vec)\n",
    "    \n",
    "w2vec_X_test_matrix = np.array(sent_vectors)\n"
   ]
  },
  {
   "cell_type": "code",
   "execution_count": 33,
   "metadata": {
    "_uuid": "1d59d5624e6bb9d01e7640ee58b6ab879dff5f59",
    "collapsed": true
   },
   "outputs": [],
   "source": [
    "# standrizing data\n",
    "w2vec_std_X_train_matrix = std_data(w2vec_X_train_matrix)\n",
    "w2vec_std_X_test_matrix = std_data(w2vec_X_test_matrix)"
   ]
  },
  {
   "cell_type": "code",
   "execution_count": 34,
   "metadata": {
    "_uuid": "4307ac461debbec41cdd2efd9a10dd9d15e91a9c"
   },
   "outputs": [
    {
     "name": "stdout",
     "output_type": "stream",
     "text": [
      "Fitting 5 folds for each of 49 candidates, totalling 245 fits\n"
     ]
    },
    {
     "name": "stderr",
     "output_type": "stream",
     "text": [
      "[Parallel(n_jobs=-1)]: Done  42 tasks      | elapsed:  3.0min\n",
      "[Parallel(n_jobs=-1)]: Done 192 tasks      | elapsed:  9.2min\n",
      "[Parallel(n_jobs=-1)]: Done 245 out of 245 | elapsed: 11.6min finished\n"
     ]
    },
    {
     "data": {
      "text/plain": [
       "GridSearchCV(cv=TimeSeriesSplit(max_train_size=None, n_splits=5),\n",
       "       error_score='raise',\n",
       "       estimator=SVC(C=1.0, cache_size=200, class_weight=None, coef0=0.0,\n",
       "  decision_function_shape='ovr', degree=3, gamma='auto', kernel='rbf',\n",
       "  max_iter=1000, probability=False, random_state=None, shrinking=True,\n",
       "  tol=0.001, verbose=False),\n",
       "       fit_params=None, iid=True, n_jobs=-1,\n",
       "       param_grid={'C': [0.001, 0.01, 0.1, 1, 10, 100, 1000], 'gamma': [0.001, 0.01, 0.1, 1, 10, 100, 1000]},\n",
       "       pre_dispatch='2*n_jobs', refit=True, return_train_score='warn',\n",
       "       scoring='f1', verbose=1)"
      ]
     },
     "execution_count": 34,
     "metadata": {},
     "output_type": "execute_result"
    }
   ],
   "source": [
    "# this code was run on 4GB machine hence used only 1000 iterations\n",
    "clf = SVC(max_iter = 1000)\n",
    "param = {'C':[0.001,0.01,0.1,1,10,100,1000],\n",
    "             'gamma':[0.001,0.01,0.1,1,10,100,1000]} \n",
    "tscv = TimeSeriesSplit(n_splits=5) #For time based splitting\n",
    "svm_using_grid = GridSearchCV(clf,param,cv=tscv,verbose=1,n_jobs=-1,scoring = 'f1')\n",
    "svm_using_grid.fit(w2vec_std_X_train_matrix,Y_train)"
   ]
  },
  {
   "cell_type": "code",
   "execution_count": 35,
   "metadata": {
    "_uuid": "9ba3d0b84ec156e50ffbdc762b67dad37e07f9fb"
   },
   "outputs": [
    {
     "name": "stdout",
     "output_type": "stream",
     "text": [
      "Best HyperParameters:  {'C': 1, 'gamma': 0.01}\n",
      "Best Accuracy: 95.038%\n"
     ]
    }
   ],
   "source": [
    "print(\"Best HyperParameters: \",svm_using_grid.best_params_)\n",
    "print(\"Best Accuracy: %.3f%%\"%(svm_using_grid.best_score_*100))"
   ]
  },
  {
   "cell_type": "code",
   "execution_count": 37,
   "metadata": {
    "_uuid": "50740499591ffc4c1217c9647450cfd5d4576a37"
   },
   "outputs": [
    {
     "name": "stdout",
     "output_type": "stream",
     "text": [
      "Test accuracy:  0.9214666666666667\n",
      "Train accuracy:  0.9208\n",
      "             precision    recall  f1-score   support\n",
      "\n",
      "         -1       0.80      0.34      0.48       791\n",
      "          1       0.93      0.99      0.96      6709\n",
      "\n",
      "avg / total       0.91      0.92      0.91      7500\n",
      "\n"
     ]
    },
    {
     "data": {
      "image/png": "[encoded data removed]",
      "text/plain": [
       "<matplotlib.figure.Figure at 0x156007b5cc0>"
      ]
     },
     "metadata": {},
     "output_type": "display_data"
    }
   ],
   "source": [
    "clf = SVC(C=svm_using_grid.best_params_['C'],gamma=svm_using_grid.best_params_['gamma'])\n",
    "clf.fit(w2vec_std_X_train_matrix,Y_train)\n",
    "# test accuracy\n",
    "print('Test accuracy: ',clf.score(w2vec_std_X_test_matrix , Y_test))\n",
    "# train accuracy\n",
    "print('Train accuracy: ',clf.score(w2vec_std_X_train_matrix , Y_train))\n",
    "\n",
    "test_prediction = clf.predict(w2vec_std_X_test_matrix)\n",
    "print(classification_report(Y_test, test_prediction))\n",
    "\n",
    "import scikitplot.metrics as sciplot\n",
    "sciplot.plot_confusion_matrix(Y_test, test_prediction)\n",
    "plt.show()"
   ]
  },
  {
   "cell_type": "markdown",
   "metadata": {
    "_uuid": "1d9fc04ae0a4e68f9665fac00daeff664465254b"
   },
   "source": [
    "## Tf Idf W2Vec"
   ]
  },
  {
   "cell_type": "code",
   "execution_count": 43,
   "metadata": {
    "_uuid": "913f843ff6ebc01f89ca960dbb7c3913dbd9ef23"
   },
   "outputs": [],
   "source": [
    "list_of_sent=[]\n",
    "for sent in X_train.values:\n",
    "    list_of_sent.append(sent.split())\n",
    "\n",
    "w2v_model=Word2Vec(list_of_sent,min_count=5,size=50, workers=4)\n",
    "\n",
    "model = TfidfVectorizer()\n",
    "tf_idf_matrix = model.fit_transform(X_train.values)\n",
    "# we are converting a dictionary with word as a key, and the idf as a value\n",
    "dictionary = dict(zip(model.get_feature_names(), list(model.idf_)))\n",
    "    \n",
    "tfidf_feat = tf_idf_vect.get_feature_names()\n",
    "tfidf_sent_vectors_X_train = []\n",
    "row=0\n",
    "for sent in list_of_sent: #list_of_sent\n",
    "    sent_vec = np.zeros(50)\n",
    "    weight_sum =0;\n",
    "    for word in sent:\n",
    "        if word in w2v_model:\n",
    "            vec = w2v_model.wv[word]\n",
    "         # obtain the tf_idfidf of a word in a sentence/review\n",
    "            tf_idf = dictionary[word]*(sent.count(word)/len(sent))\n",
    "            sent_vec += (vec * tf_idf)\n",
    "            weight_sum += tf_idf\n",
    "    if weight_sum != 0:\n",
    "        sent_vec /= weight_sum\n",
    "    tfidf_sent_vectors_X_train.append(sent_vec)\n",
    "    row += 1"
   ]
  },
  {
   "cell_type": "code",
   "execution_count": 44,
   "metadata": {
    "_uuid": "f96743de56f12101d86eefb4176464538f7f2145",
    "collapsed": true
   },
   "outputs": [],
   "source": [
    "list_of_sent=[]\n",
    "for sent in X_test.values:\n",
    "    list_of_sent.append(sent.split())\n",
    "\n",
    "\n",
    "tfidf_sent_vectors_X_test = [];\n",
    "row=0;\n",
    "for sent in list_of_sent: #list_of_sent\n",
    "    sent_vec = np.zeros(50)\n",
    "    weight_sum =0;\n",
    "    for word in sent:\n",
    "        if word in w2v_model:\n",
    "            vec = w2v_model.wv[word]\n",
    "               # obtain the tf_idfidf of a word in a sentence/review\n",
    "            tf_idf = dictionary[word]*(sent.count(word)/len(sent))\n",
    "            sent_vec += (vec * tf_idf)\n",
    "            weight_sum += tf_idf\n",
    "    if weight_sum != 0:\n",
    "        sent_vec /= weight_sum\n",
    "    tfidf_sent_vectors_X_test.append(sent_vec)\n",
    "    row += 1\n"
   ]
  },
  {
   "cell_type": "code",
   "execution_count": 45,
   "metadata": {
    "_uuid": "467970aad35707246090e217d3247123b16b5b62",
    "collapsed": true
   },
   "outputs": [],
   "source": [
    "tfidf_w2vec_std_X_train_matrix = std_data(tfidf_sent_vectors_X_train)\n",
    "tfidf_w2vec_std_X_test_matrix = std_data(tfidf_sent_vectors_X_test)"
   ]
  },
  {
   "cell_type": "code",
   "execution_count": 46,
   "metadata": {
    "_uuid": "121d81440c0ab1882773e8225e5686faac7c48a5"
   },
   "outputs": [
    {
     "name": "stdout",
     "output_type": "stream",
     "text": [
      "Fitting 5 folds for each of 49 candidates, totalling 245 fits\n"
     ]
    },
    {
     "name": "stderr",
     "output_type": "stream",
     "text": [
      "[Parallel(n_jobs=-1)]: Done  42 tasks      | elapsed:  3.4min\n",
      "[Parallel(n_jobs=-1)]: Done 192 tasks      | elapsed:  9.8min\n",
      "[Parallel(n_jobs=-1)]: Done 245 out of 245 | elapsed: 12.3min finished\n"
     ]
    },
    {
     "data": {
      "text/plain": [
       "GridSearchCV(cv=TimeSeriesSplit(max_train_size=None, n_splits=5),\n",
       "       error_score='raise',\n",
       "       estimator=SVC(C=1.0, cache_size=200, class_weight=None, coef0=0.0,\n",
       "  decision_function_shape='ovr', degree=3, gamma='auto', kernel='rbf',\n",
       "  max_iter=1000, probability=False, random_state=None, shrinking=True,\n",
       "  tol=0.001, verbose=False),\n",
       "       fit_params=None, iid=True, n_jobs=-1,\n",
       "       param_grid={'C': [0.001, 0.01, 0.1, 1, 10, 100, 1000], 'gamma': [0.001, 0.01, 0.1, 1, 10, 100, 1000]},\n",
       "       pre_dispatch='2*n_jobs', refit=True, return_train_score='warn',\n",
       "       scoring=None, verbose=1)"
      ]
     },
     "execution_count": 46,
     "metadata": {},
     "output_type": "execute_result"
    }
   ],
   "source": [
    "clf = SVC(max_iter = 1000)\n",
    "param = {'C':[0.001,0.01,0.1,1,10,100,1000],\n",
    "             'gamma':[0.001,0.01,0.1,1,10,100,1000]} \n",
    "tscv = TimeSeriesSplit(n_splits=5) #For time based splitting\n",
    "svm_using_grid = GridSearchCV(clf,param,cv=tscv,verbose=1,n_jobs=-1)\n",
    "svm_using_grid.fit(tfidf_w2vec_std_X_train_matrix,Y_train)"
   ]
  },
  {
   "cell_type": "code",
   "execution_count": 47,
   "metadata": {
    "_uuid": "2ab3ae702491cee3240af9709dd53ad51ed64838"
   },
   "outputs": [
    {
     "name": "stdout",
     "output_type": "stream",
     "text": [
      "Best HyperParameters:  {'C': 1, 'gamma': 0.01}\n",
      "Best Accuracy: 89.904%\n"
     ]
    }
   ],
   "source": [
    "print(\"Best HyperParameters: \",svm_using_grid.best_params_)\n",
    "print(\"Best Accuracy: %.3f%%\"%(svm_using_grid.best_score_*100))"
   ]
  },
  {
   "cell_type": "code",
   "execution_count": 48,
   "metadata": {
    "_uuid": "65240c0cc28d65e499d084c50465b8cceaf939a8"
   },
   "outputs": [
    {
     "name": "stdout",
     "output_type": "stream",
     "text": [
      "Test accuracy:  0.9084\n",
      "Train accuracy:  0.9060571428571429\n",
      "             precision    recall  f1-score   support\n",
      "\n",
      "         -1       0.79      0.18      0.29       791\n",
      "          1       0.91      0.99      0.95      6709\n",
      "\n",
      "avg / total       0.90      0.91      0.88      7500\n",
      "\n"
     ]
    },
    {
     "data": {
      "image/png": "[encoded data removed]",
      "text/plain": [
       "<matplotlib.figure.Figure at 0x15682e1c940>"
      ]
     },
     "metadata": {},
     "output_type": "display_data"
    }
   ],
   "source": [
    "clf = SVC(C=svm_using_grid.best_params_['C'],gamma=svm_using_grid.best_params_['gamma'])\n",
    "clf.fit(tfidf_w2vec_std_X_train_matrix,Y_train)\n",
    "# test accuracy\n",
    "print('Test accuracy: ',clf.score(tfidf_w2vec_std_X_test_matrix , Y_test))\n",
    "# train accuracy\n",
    "print('Train accuracy: ',clf.score(tfidf_w2vec_std_X_train_matrix , Y_train))\n",
    "\n",
    "test_prediction = clf.predict(tfidf_w2vec_std_X_test_matrix)\n",
    "print(classification_report(Y_test, test_prediction))\n",
    "\n",
    "import scikitplot.metrics as sciplot\n",
    "sciplot.plot_confusion_matrix(Y_test, test_prediction)\n",
    "plt.show()"
   ]
  },
  {
   "cell_type": "code",
   "execution_count": 52,
   "metadata": {
    "collapsed": true
   },
   "outputs": [],
   "source": [
    "from prettytable import PrettyTable\n",
    "x = PrettyTable()"
   ]
  },
  {
   "cell_type": "markdown",
   "metadata": {},
   "source": [
    "### Linear SVM "
   ]
  },
  {
   "cell_type": "code",
   "execution_count": 54,
   "metadata": {},
   "outputs": [
    {
     "name": "stdout",
     "output_type": "stream",
     "text": [
      "+-------------+------------+----------------+---------------+----------+-----------+\n",
      "|  Vectorizer | Hyperparam | Train accuracy | Test accuracy | f1-score | auc score |\n",
      "+-------------+------------+----------------+---------------+----------+-----------+\n",
      "|     BOW     |     1      |      99.9      |      92.0     |   0.90   |    0.85   |\n",
      "|    Tf-idf   |     1      |      99.9      |      92.8     |   0.92   |    0.89   |\n",
      "|    w2vec    |    0.01    |     91.82      |     91.81     |   0.91   |    0.92   |\n",
      "| tfidf w2vec |    0.01    |     90.39      |     90.49     |   0.89   |   0.892   |\n",
      "|     BOW     |     1      |      99.9      |      92.0     |   0.90   |    0.85   |\n",
      "|    Tf-idf   |     1      |      99.9      |      92.8     |   0.92   |    0.89   |\n",
      "|    w2vec    |    0.01    |     91.82      |     91.81     |   0.91   |    0.92   |\n",
      "| tfidf w2vec |    0.01    |     90.39      |     90.49     |   0.89   |   0.892   |\n",
      "+-------------+------------+----------------+---------------+----------+-----------+\n"
     ]
    }
   ],
   "source": [
    "x.field_names = [\"Vectorizer\",\"Hyperparam\", \"Train accuracy\" , \"Test accuracy\",\"f1-score\" , 'auc score']\n",
    "x.add_row(['BOW' , '1', '99.9','92.0','0.90' , '0.85' ])\n",
    "x.add_row(['Tf-idf' , '1', '99.9','92.8','0.92' , '0.89'])\n",
    "x.add_row(['w2vec' , '0.01', '91.82','91.81','0.91', '0.92' ])\n",
    "x.add_row(['tfidf w2vec' , '0.01', '90.39','90.49','0.89' , '0.892'])\n",
    "print(x)"
   ]
  },
  {
   "cell_type": "markdown",
   "metadata": {},
   "source": [
    "### SVM using rbf kernel"
   ]
  },
  {
   "cell_type": "code",
   "execution_count": 62,
   "metadata": {
    "collapsed": true
   },
   "outputs": [],
   "source": [
    "x1 = PrettyTable()"
   ]
  },
  {
   "cell_type": "code",
   "execution_count": 63,
   "metadata": {},
   "outputs": [
    {
     "name": "stdout",
     "output_type": "stream",
     "text": [
      "+-------------+----+-------+----------------+---------------+----------+\n",
      "|  Vectorizer | C  | gamma | Train accuracy | Test accuracy | f1-score |\n",
      "+-------------+----+-------+----------------+---------------+----------+\n",
      "|     BOW     | 10 |  0.01 |      99.8      |      92.6     |   0.92   |\n",
      "|    Tf-idf   | 10 |  0.01 |      98.8      |      91.8     |   0.90   |\n",
      "|    w2vec    | 1  |  0.01 |     92.04      |     92.14     |   0.91   |\n",
      "| tfidf w2vec | 1  |  0.01 |      90.6      |     90.84     |   0.88   |\n",
      "+-------------+----+-------+----------------+---------------+----------+\n"
     ]
    }
   ],
   "source": [
    "x1.field_names = [\"Vectorizer\",\"C\", \"gamma\" ,\"Train accuracy\" , \"Test accuracy\",\"f1-score\" ]\n",
    "x1.add_row(['BOW' , '10','0.01', '99.8','92.6','0.92' ])\n",
    "x1.add_row(['Tf-idf' , '10','0.01', '98.8','91.8','0.90'])\n",
    "x1.add_row(['w2vec' , '1','0.01', '92.04','92.14','0.91' ])\n",
    "x1.add_row(['tfidf w2vec' , '1','0.01', '90.6','90.84','0.88' ])\n",
    "print(x1)"
   ]
  },
  {
   "cell_type": "markdown",
   "metadata": {},
   "source": [
    "### Conclusion\n",
    "\n",
    "1. Performance of SVM on unseen text data is quite good.\n",
    "2. SVM can classify the data that are linearly seprable but if points are not linealy separable then we can use kernel trick to make it work.\n",
    "3. Using kernel trick like rbf for high dimensional data is not a good option hence it is better to classify text data using linear svm."
   ]
  },
  {
   "cell_type": "code",
   "execution_count": null,
   "metadata": {
    "collapsed": true
   },
   "outputs": [],
   "source": []
  }
 ],
 "metadata": {
  "kernelspec": {
   "display_name": "Python 3",
   "language": "python",
   "name": "python3"
  },
  "language_info": {
   "codemirror_mode": {
    "name": "ipython",
    "version": 3
   },
   "file_extension": ".py",
   "mimetype": "text/x-python",
   "name": "python",
   "nbconvert_exporter": "python",
   "pygments_lexer": "ipython3",
   "version": "3.6.3"
  }
 },
 "nbformat": 4,
 "nbformat_minor": 1
}
