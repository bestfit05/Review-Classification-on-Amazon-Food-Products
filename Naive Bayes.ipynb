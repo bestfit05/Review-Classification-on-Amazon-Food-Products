{
 "cells": [
  {
   "cell_type": "markdown",
   "metadata": {},
   "source": [
    "### Objective: To apply Naive Bayes on amazon fine food reviews"
   ]
  },
  {
   "cell_type": "code",
   "execution_count": 1,
   "metadata": {
    "_uuid": "7d8f2b757f1c28947f51e5576017f7c29db9addf",
    "collapsed": true
   },
   "outputs": [],
   "source": [
    "import warnings\n",
    "warnings.filterwarnings(\"ignore\")\n",
    "\n",
    "#import sqlite3\n",
    "import pandas as pd\n",
    "import numpy as np\n",
    "import nltk\n",
    "import string\n",
    "import matplotlib.pyplot as plt\n",
    "import seaborn as sns\n",
    "from sklearn.feature_extraction.text import TfidfTransformer\n",
    "from sklearn.feature_extraction.text import TfidfVectorizer\n",
    "\n",
    "from sklearn.feature_extraction.text import CountVectorizer\n",
    "from sklearn.metrics import confusion_matrix\n",
    "from sklearn import metrics\n",
    "from sklearn.metrics import roc_curve, auc\n",
    "from nltk.stem.porter import PorterStemmer\n",
    "\n",
    "import re\n",
    "\n",
    "import string\n",
    "from nltk.corpus import stopwords\n",
    "from nltk.stem import PorterStemmer\n",
    "from nltk.stem.wordnet import WordNetLemmatizer\n",
    "\n",
    "from gensim.models import Word2Vec\n",
    "from gensim.models import KeyedVectors\n",
    "import pickle\n"
   ]
  },
  {
   "cell_type": "code",
   "execution_count": 2,
   "metadata": {
    "_uuid": "8a5c6ece16f9adf11a621ce634d2e328bac68add",
    "collapsed": true
   },
   "outputs": [],
   "source": [
    "from sklearn.model_selection import train_test_split\n",
    "from sklearn.neighbors import KNeighborsClassifier\n",
    "from sklearn.metrics import accuracy_score\n",
    "from sklearn.model_selection import cross_val_score\n",
    "from collections import Counter\n",
    "from sklearn.metrics import accuracy_score\n",
    "from sklearn.model_selection import cross_validate\n"
   ]
  },
  {
   "cell_type": "code",
   "execution_count": 3,
   "metadata": {
    "_uuid": "859f17991109b1094a519ee45f55b9d20ed77bfd",
    "collapsed": true
   },
   "outputs": [],
   "source": [
    "from sklearn.decomposition import TruncatedSVD\n"
   ]
  },
  {
   "cell_type": "code",
   "execution_count": 4,
   "metadata": {
    "_uuid": "0f7949f7f69def79e579c51b20c5bf96385a3284",
    "collapsed": true
   },
   "outputs": [],
   "source": [
    "\n",
    "from sklearn.naive_bayes import MultinomialNB\n",
    "from sklearn.model_selection import TimeSeriesSplit,GridSearchCV\n",
    "#from sklearn.grid_search import GridSearchCV\n",
    "from sklearn.metrics import classification_report\n"
   ]
  },
  {
   "cell_type": "code",
   "execution_count": 5,
   "metadata": {
    "_uuid": "e5521a884531722d70aa85fb0d93f902d24dff15"
   },
   "outputs": [
    {
     "data": {
      "text/html": [
       "<div>\n",
       "<style>\n",
       "    .dataframe thead tr:only-child th {\n",
       "        text-align: right;\n",
       "    }\n",
       "\n",
       "    .dataframe thead th {\n",
       "        text-align: left;\n",
       "    }\n",
       "\n",
       "    .dataframe tbody tr th {\n",
       "        vertical-align: top;\n",
       "    }\n",
       "</style>\n",
       "<table border=\"1\" class=\"dataframe\">\n",
       "  <thead>\n",
       "    <tr style=\"text-align: right;\">\n",
       "      <th></th>\n",
       "      <th>Id</th>\n",
       "      <th>ProductId</th>\n",
       "      <th>UserId</th>\n",
       "      <th>ProfileName</th>\n",
       "      <th>HelpfulnessNumerator</th>\n",
       "      <th>HelpfulnessDenominator</th>\n",
       "      <th>Score</th>\n",
       "      <th>Time</th>\n",
       "      <th>Summary</th>\n",
       "      <th>Text</th>\n",
       "    </tr>\n",
       "  </thead>\n",
       "  <tbody>\n",
       "    <tr>\n",
       "      <th>0</th>\n",
       "      <td>1</td>\n",
       "      <td>B001E4KFG0</td>\n",
       "      <td>A3SGXH7AUHU8GW</td>\n",
       "      <td>delmartian</td>\n",
       "      <td>1</td>\n",
       "      <td>1</td>\n",
       "      <td>5</td>\n",
       "      <td>1303862400</td>\n",
       "      <td>Good Quality Dog Food</td>\n",
       "      <td>I have bought several of the Vitality canned d...</td>\n",
       "    </tr>\n",
       "    <tr>\n",
       "      <th>1</th>\n",
       "      <td>2</td>\n",
       "      <td>B00813GRG4</td>\n",
       "      <td>A1D87F6ZCVE5NK</td>\n",
       "      <td>dll pa</td>\n",
       "      <td>0</td>\n",
       "      <td>0</td>\n",
       "      <td>1</td>\n",
       "      <td>1346976000</td>\n",
       "      <td>Not as Advertised</td>\n",
       "      <td>Product arrived labeled as Jumbo Salted Peanut...</td>\n",
       "    </tr>\n",
       "    <tr>\n",
       "      <th>2</th>\n",
       "      <td>3</td>\n",
       "      <td>B000LQOCH0</td>\n",
       "      <td>ABXLMWJIXXAIN</td>\n",
       "      <td>Natalia Corres \"Natalia Corres\"</td>\n",
       "      <td>1</td>\n",
       "      <td>1</td>\n",
       "      <td>4</td>\n",
       "      <td>1219017600</td>\n",
       "      <td>\"Delight\" says it all</td>\n",
       "      <td>This is a confection that has been around a fe...</td>\n",
       "    </tr>\n",
       "    <tr>\n",
       "      <th>3</th>\n",
       "      <td>4</td>\n",
       "      <td>B000UA0QIQ</td>\n",
       "      <td>A395BORC6FGVXV</td>\n",
       "      <td>Karl</td>\n",
       "      <td>3</td>\n",
       "      <td>3</td>\n",
       "      <td>2</td>\n",
       "      <td>1307923200</td>\n",
       "      <td>Cough Medicine</td>\n",
       "      <td>If you are looking for the secret ingredient i...</td>\n",
       "    </tr>\n",
       "    <tr>\n",
       "      <th>4</th>\n",
       "      <td>5</td>\n",
       "      <td>B006K2ZZ7K</td>\n",
       "      <td>A1UQRSCLF8GW1T</td>\n",
       "      <td>Michael D. Bigham \"M. Wassir\"</td>\n",
       "      <td>0</td>\n",
       "      <td>0</td>\n",
       "      <td>5</td>\n",
       "      <td>1350777600</td>\n",
       "      <td>Great taffy</td>\n",
       "      <td>Great taffy at a great price.  There was a wid...</td>\n",
       "    </tr>\n",
       "  </tbody>\n",
       "</table>\n",
       "</div>"
      ],
      "text/plain": [
       "   Id   ProductId          UserId                      ProfileName  \\\n",
       "0   1  B001E4KFG0  A3SGXH7AUHU8GW                       delmartian   \n",
       "1   2  B00813GRG4  A1D87F6ZCVE5NK                           dll pa   \n",
       "2   3  B000LQOCH0   ABXLMWJIXXAIN  Natalia Corres \"Natalia Corres\"   \n",
       "3   4  B000UA0QIQ  A395BORC6FGVXV                             Karl   \n",
       "4   5  B006K2ZZ7K  A1UQRSCLF8GW1T    Michael D. Bigham \"M. Wassir\"   \n",
       "\n",
       "   HelpfulnessNumerator  HelpfulnessDenominator  Score        Time  \\\n",
       "0                     1                       1      5  1303862400   \n",
       "1                     0                       0      1  1346976000   \n",
       "2                     1                       1      4  1219017600   \n",
       "3                     3                       3      2  1307923200   \n",
       "4                     0                       0      5  1350777600   \n",
       "\n",
       "                 Summary                                               Text  \n",
       "0  Good Quality Dog Food  I have bought several of the Vitality canned d...  \n",
       "1      Not as Advertised  Product arrived labeled as Jumbo Salted Peanut...  \n",
       "2  \"Delight\" says it all  This is a confection that has been around a fe...  \n",
       "3         Cough Medicine  If you are looking for the secret ingredient i...  \n",
       "4            Great taffy  Great taffy at a great price.  There was a wid...  "
      ]
     },
     "execution_count": 5,
     "metadata": {},
     "output_type": "execute_result"
    }
   ],
   "source": [
    "# Loading data \n",
    "customer_reviews = pd.read_csv('Reviews.csv')\n",
    "customer_reviews.head()"
   ]
  },
  {
   "cell_type": "code",
   "execution_count": 6,
   "metadata": {
    "_uuid": "ad7aa38b7f0fb08f2139d12af8cc9c6a87a28d4f"
   },
   "outputs": [
    {
     "data": {
      "text/plain": [
       "(568454, 10)"
      ]
     },
     "execution_count": 6,
     "metadata": {},
     "output_type": "execute_result"
    }
   ],
   "source": [
    "customer_reviews.shape \n",
    "# there are 568454 reviews food products from amazon"
   ]
  },
  {
   "cell_type": "code",
   "execution_count": 7,
   "metadata": {
    "_uuid": "87f17ac3957bf787aadaac581381ed0dad714115"
   },
   "outputs": [
    {
     "data": {
      "text/html": [
       "<div>\n",
       "<style>\n",
       "    .dataframe thead tr:only-child th {\n",
       "        text-align: right;\n",
       "    }\n",
       "\n",
       "    .dataframe thead th {\n",
       "        text-align: left;\n",
       "    }\n",
       "\n",
       "    .dataframe tbody tr th {\n",
       "        vertical-align: top;\n",
       "    }\n",
       "</style>\n",
       "<table border=\"1\" class=\"dataframe\">\n",
       "  <thead>\n",
       "    <tr style=\"text-align: right;\">\n",
       "      <th></th>\n",
       "      <th>Id</th>\n",
       "      <th>ProductId</th>\n",
       "      <th>UserId</th>\n",
       "      <th>ProfileName</th>\n",
       "      <th>HelpfulnessNumerator</th>\n",
       "      <th>HelpfulnessDenominator</th>\n",
       "      <th>Score</th>\n",
       "      <th>Time</th>\n",
       "      <th>Summary</th>\n",
       "      <th>Text</th>\n",
       "    </tr>\n",
       "  </thead>\n",
       "  <tbody>\n",
       "    <tr>\n",
       "      <th>0</th>\n",
       "      <td>1</td>\n",
       "      <td>B001E4KFG0</td>\n",
       "      <td>A3SGXH7AUHU8GW</td>\n",
       "      <td>delmartian</td>\n",
       "      <td>1</td>\n",
       "      <td>1</td>\n",
       "      <td>5</td>\n",
       "      <td>1303862400</td>\n",
       "      <td>Good Quality Dog Food</td>\n",
       "      <td>I have bought several of the Vitality canned d...</td>\n",
       "    </tr>\n",
       "    <tr>\n",
       "      <th>1</th>\n",
       "      <td>2</td>\n",
       "      <td>B00813GRG4</td>\n",
       "      <td>A1D87F6ZCVE5NK</td>\n",
       "      <td>dll pa</td>\n",
       "      <td>0</td>\n",
       "      <td>0</td>\n",
       "      <td>1</td>\n",
       "      <td>1346976000</td>\n",
       "      <td>Not as Advertised</td>\n",
       "      <td>Product arrived labeled as Jumbo Salted Peanut...</td>\n",
       "    </tr>\n",
       "    <tr>\n",
       "      <th>2</th>\n",
       "      <td>3</td>\n",
       "      <td>B000LQOCH0</td>\n",
       "      <td>ABXLMWJIXXAIN</td>\n",
       "      <td>Natalia Corres \"Natalia Corres\"</td>\n",
       "      <td>1</td>\n",
       "      <td>1</td>\n",
       "      <td>4</td>\n",
       "      <td>1219017600</td>\n",
       "      <td>\"Delight\" says it all</td>\n",
       "      <td>This is a confection that has been around a fe...</td>\n",
       "    </tr>\n",
       "    <tr>\n",
       "      <th>3</th>\n",
       "      <td>4</td>\n",
       "      <td>B000UA0QIQ</td>\n",
       "      <td>A395BORC6FGVXV</td>\n",
       "      <td>Karl</td>\n",
       "      <td>3</td>\n",
       "      <td>3</td>\n",
       "      <td>2</td>\n",
       "      <td>1307923200</td>\n",
       "      <td>Cough Medicine</td>\n",
       "      <td>If you are looking for the secret ingredient i...</td>\n",
       "    </tr>\n",
       "    <tr>\n",
       "      <th>4</th>\n",
       "      <td>5</td>\n",
       "      <td>B006K2ZZ7K</td>\n",
       "      <td>A1UQRSCLF8GW1T</td>\n",
       "      <td>Michael D. Bigham \"M. Wassir\"</td>\n",
       "      <td>0</td>\n",
       "      <td>0</td>\n",
       "      <td>5</td>\n",
       "      <td>1350777600</td>\n",
       "      <td>Great taffy</td>\n",
       "      <td>Great taffy at a great price.  There was a wid...</td>\n",
       "    </tr>\n",
       "  </tbody>\n",
       "</table>\n",
       "</div>"
      ],
      "text/plain": [
       "   Id   ProductId          UserId                      ProfileName  \\\n",
       "0   1  B001E4KFG0  A3SGXH7AUHU8GW                       delmartian   \n",
       "1   2  B00813GRG4  A1D87F6ZCVE5NK                           dll pa   \n",
       "2   3  B000LQOCH0   ABXLMWJIXXAIN  Natalia Corres \"Natalia Corres\"   \n",
       "3   4  B000UA0QIQ  A395BORC6FGVXV                             Karl   \n",
       "4   5  B006K2ZZ7K  A1UQRSCLF8GW1T    Michael D. Bigham \"M. Wassir\"   \n",
       "\n",
       "   HelpfulnessNumerator  HelpfulnessDenominator  Score        Time  \\\n",
       "0                     1                       1      5  1303862400   \n",
       "1                     0                       0      1  1346976000   \n",
       "2                     1                       1      4  1219017600   \n",
       "3                     3                       3      2  1307923200   \n",
       "4                     0                       0      5  1350777600   \n",
       "\n",
       "                 Summary                                               Text  \n",
       "0  Good Quality Dog Food  I have bought several of the Vitality canned d...  \n",
       "1      Not as Advertised  Product arrived labeled as Jumbo Salted Peanut...  \n",
       "2  \"Delight\" says it all  This is a confection that has been around a fe...  \n",
       "3         Cough Medicine  If you are looking for the secret ingredient i...  \n",
       "4            Great taffy  Great taffy at a great price.  There was a wid...  "
      ]
     },
     "execution_count": 7,
     "metadata": {},
     "output_type": "execute_result"
    }
   ],
   "source": [
    "# keeping those reviews where score is either less than 3 or greater than 3\n",
    "\n",
    "filtered_data = customer_reviews[customer_reviews.Score!=3]\n",
    "filtered_data.head()"
   ]
  },
  {
   "cell_type": "code",
   "execution_count": 8,
   "metadata": {
    "_uuid": "4652e2cb349903d29e997a0bd8373dcd671e376f"
   },
   "outputs": [
    {
     "data": {
      "text/plain": [
       "(525814, 10)"
      ]
     },
     "execution_count": 8,
     "metadata": {},
     "output_type": "execute_result"
    }
   ],
   "source": [
    "#looking at the number of attributes and size of the data after filtering\n",
    "filtered_data.shape"
   ]
  },
  {
   "cell_type": "code",
   "execution_count": 9,
   "metadata": {
    "_uuid": "d4f05e434ed61ae88b00f15ecbfcc83b38d9e12e"
   },
   "outputs": [
    {
     "data": {
      "text/html": [
       "<div>\n",
       "<style>\n",
       "    .dataframe thead tr:only-child th {\n",
       "        text-align: right;\n",
       "    }\n",
       "\n",
       "    .dataframe thead th {\n",
       "        text-align: left;\n",
       "    }\n",
       "\n",
       "    .dataframe tbody tr th {\n",
       "        vertical-align: top;\n",
       "    }\n",
       "</style>\n",
       "<table border=\"1\" class=\"dataframe\">\n",
       "  <thead>\n",
       "    <tr style=\"text-align: right;\">\n",
       "      <th></th>\n",
       "      <th>Id</th>\n",
       "      <th>ProductId</th>\n",
       "      <th>UserId</th>\n",
       "      <th>ProfileName</th>\n",
       "      <th>HelpfulnessNumerator</th>\n",
       "      <th>HelpfulnessDenominator</th>\n",
       "      <th>Score</th>\n",
       "      <th>Time</th>\n",
       "      <th>Summary</th>\n",
       "      <th>Text</th>\n",
       "    </tr>\n",
       "  </thead>\n",
       "  <tbody>\n",
       "    <tr>\n",
       "      <th>0</th>\n",
       "      <td>1</td>\n",
       "      <td>B001E4KFG0</td>\n",
       "      <td>A3SGXH7AUHU8GW</td>\n",
       "      <td>delmartian</td>\n",
       "      <td>1</td>\n",
       "      <td>1</td>\n",
       "      <td>positive</td>\n",
       "      <td>1303862400</td>\n",
       "      <td>Good Quality Dog Food</td>\n",
       "      <td>I have bought several of the Vitality canned d...</td>\n",
       "    </tr>\n",
       "    <tr>\n",
       "      <th>1</th>\n",
       "      <td>2</td>\n",
       "      <td>B00813GRG4</td>\n",
       "      <td>A1D87F6ZCVE5NK</td>\n",
       "      <td>dll pa</td>\n",
       "      <td>0</td>\n",
       "      <td>0</td>\n",
       "      <td>negative</td>\n",
       "      <td>1346976000</td>\n",
       "      <td>Not as Advertised</td>\n",
       "      <td>Product arrived labeled as Jumbo Salted Peanut...</td>\n",
       "    </tr>\n",
       "    <tr>\n",
       "      <th>2</th>\n",
       "      <td>3</td>\n",
       "      <td>B000LQOCH0</td>\n",
       "      <td>ABXLMWJIXXAIN</td>\n",
       "      <td>Natalia Corres \"Natalia Corres\"</td>\n",
       "      <td>1</td>\n",
       "      <td>1</td>\n",
       "      <td>positive</td>\n",
       "      <td>1219017600</td>\n",
       "      <td>\"Delight\" says it all</td>\n",
       "      <td>This is a confection that has been around a fe...</td>\n",
       "    </tr>\n",
       "    <tr>\n",
       "      <th>3</th>\n",
       "      <td>4</td>\n",
       "      <td>B000UA0QIQ</td>\n",
       "      <td>A395BORC6FGVXV</td>\n",
       "      <td>Karl</td>\n",
       "      <td>3</td>\n",
       "      <td>3</td>\n",
       "      <td>negative</td>\n",
       "      <td>1307923200</td>\n",
       "      <td>Cough Medicine</td>\n",
       "      <td>If you are looking for the secret ingredient i...</td>\n",
       "    </tr>\n",
       "    <tr>\n",
       "      <th>4</th>\n",
       "      <td>5</td>\n",
       "      <td>B006K2ZZ7K</td>\n",
       "      <td>A1UQRSCLF8GW1T</td>\n",
       "      <td>Michael D. Bigham \"M. Wassir\"</td>\n",
       "      <td>0</td>\n",
       "      <td>0</td>\n",
       "      <td>positive</td>\n",
       "      <td>1350777600</td>\n",
       "      <td>Great taffy</td>\n",
       "      <td>Great taffy at a great price.  There was a wid...</td>\n",
       "    </tr>\n",
       "  </tbody>\n",
       "</table>\n",
       "</div>"
      ],
      "text/plain": [
       "   Id   ProductId          UserId                      ProfileName  \\\n",
       "0   1  B001E4KFG0  A3SGXH7AUHU8GW                       delmartian   \n",
       "1   2  B00813GRG4  A1D87F6ZCVE5NK                           dll pa   \n",
       "2   3  B000LQOCH0   ABXLMWJIXXAIN  Natalia Corres \"Natalia Corres\"   \n",
       "3   4  B000UA0QIQ  A395BORC6FGVXV                             Karl   \n",
       "4   5  B006K2ZZ7K  A1UQRSCLF8GW1T    Michael D. Bigham \"M. Wassir\"   \n",
       "\n",
       "   HelpfulnessNumerator  HelpfulnessDenominator     Score        Time  \\\n",
       "0                     1                       1  positive  1303862400   \n",
       "1                     0                       0  negative  1346976000   \n",
       "2                     1                       1  positive  1219017600   \n",
       "3                     3                       3  negative  1307923200   \n",
       "4                     0                       0  positive  1350777600   \n",
       "\n",
       "                 Summary                                               Text  \n",
       "0  Good Quality Dog Food  I have bought several of the Vitality canned d...  \n",
       "1      Not as Advertised  Product arrived labeled as Jumbo Salted Peanut...  \n",
       "2  \"Delight\" says it all  This is a confection that has been around a fe...  \n",
       "3         Cough Medicine  If you are looking for the secret ingredient i...  \n",
       "4            Great taffy  Great taffy at a great price.  There was a wid...  "
      ]
     },
     "execution_count": 9,
     "metadata": {},
     "output_type": "execute_result"
    }
   ],
   "source": [
    "# converting Score >3 into postive and <3 into negative\n",
    "\n",
    "def convert(x):\n",
    "    if x>3:\n",
    "        return \"positive\"\n",
    "    return \"negative\"\n",
    "\n",
    "\n",
    "filtered_data['Score'] = filtered_data['Score'].map(convert)\n",
    "filtered_data.head()"
   ]
  },
  {
   "cell_type": "markdown",
   "metadata": {
    "_uuid": "eab1adc00759e8e9ce42070896f246e7ebaba964"
   },
   "source": [
    "# Exploratory Data Analysis"
   ]
  },
  {
   "cell_type": "markdown",
   "metadata": {
    "_uuid": "2ad3b185cff62a8e26d8ffe1451b3ffdffc6aa2a"
   },
   "source": [
    "## Data Cleaning"
   ]
  },
  {
   "cell_type": "markdown",
   "metadata": {
    "_uuid": "86deef7eccac06ebf1c268860de6a2adebd869c8"
   },
   "source": [
    "After analysis it was found that a review with same parameter other than ProductId may belong to same product.Hence we first sort the data according to ProductId and then just keep first similar product review and delete the others"
   ]
  },
  {
   "cell_type": "code",
   "execution_count": 10,
   "metadata": {
    "_uuid": "2cde549cdc78bd6c3fb71f0f95ae47c18a5d6ca2"
   },
   "outputs": [
    {
     "data": {
      "text/plain": [
       "(364173, 10)"
      ]
     },
     "execution_count": 10,
     "metadata": {},
     "output_type": "execute_result"
    }
   ],
   "source": [
    "\n",
    "sorted_data = filtered_data.sort_values(['ProductId'])\n",
    "sorted_data.drop_duplicates({\"UserId\",\"ProfileName\",\"Time\",\"Text\"} , keep = 'first' , inplace = True )\n",
    "sorted_data.shape"
   ]
  },
  {
   "cell_type": "markdown",
   "metadata": {
    "_uuid": "3e5ac19e6217e4aaed365ec6cbd473e693ba2a43"
   },
   "source": [
    "### Observation:\n",
    "HelpfulnessNumerator is greater than HelpfulnessDenominator is not practically possible hence removing such rows\n"
   ]
  },
  {
   "cell_type": "code",
   "execution_count": 11,
   "metadata": {
    "_uuid": "bb7b5f917d8f707f64c73e7812364036bb784a7b"
   },
   "outputs": [
    {
     "data": {
      "text/plain": [
       "(364171, 10)"
      ]
     },
     "execution_count": 11,
     "metadata": {},
     "output_type": "execute_result"
    }
   ],
   "source": [
    "# removing rows where HelpfulnessNumerator is greater than HelpfulnessDenominator\n",
    "final_data = sorted_data[sorted_data.HelpfulnessNumerator <= sorted_data.HelpfulnessDenominator]\n",
    "final_data.shape"
   ]
  },
  {
   "cell_type": "code",
   "execution_count": 12,
   "metadata": {
    "_uuid": "6f47d4e314f650f8dcd98c5b34b541559813496a"
   },
   "outputs": [
    {
     "data": {
      "text/plain": [
       "69.25852107399194"
      ]
     },
     "execution_count": 12,
     "metadata": {},
     "output_type": "execute_result"
    }
   ],
   "source": [
    "# checking how much data is still remaining\n",
    "(final_data['Id'].size/filtered_data['Id'].size)*100"
   ]
  },
  {
   "cell_type": "markdown",
   "metadata": {
    "_uuid": "87b6f8846bdba3504344af6f90b7f6d58e342629"
   },
   "source": [
    "Only 69.25% of data is remaining after removing duplicates and non pratical values"
   ]
  },
  {
   "cell_type": "markdown",
   "metadata": {
    "_uuid": "0ae68059b308654abecbe61b51d3fe2e5fdc544f"
   },
   "source": [
    "# Text Preprocessing"
   ]
  },
  {
   "cell_type": "markdown",
   "metadata": {
    "_uuid": "2ab223e3a04e5f504de02e9a855ff72b8ce484cf"
   },
   "source": [
    "### Preprocessing phase involves following steps:\n",
    "1. removing the html tags\n",
    "2. Remove any punctuations or limited set of special characters like , or . or # etc.\n",
    "3. Check if the word is made up of english letters and is not alpha-numeric\n",
    "4. Check to see if the length of the word is greater than 2 (as it was researched that there is no adjective in 2-letters)\n",
    "5. Convert the word to lowercase\n",
    "6. Remove Stopwords\n",
    "7. Stemming "
   ]
  },
  {
   "cell_type": "code",
   "execution_count": 13,
   "metadata": {
    "_uuid": "b5bcc5560b45b5353ae61edb11775df76e01e48d"
   },
   "outputs": [
    {
     "name": "stdout",
     "output_type": "stream",
     "text": [
      "{'shouldn', 'down', 'been', 'most', 'mustn', 'so', 'once', 'above', 'off', 'i', 'of', 'into', 'all', 'through', 'the', 'their', 'there', 'being', 'for', 'again', 'what', 'because', 'has', 'she', 'how', 'at', 'd', 'out', 'we', 'them', \"should've\", \"doesn't\", 'any', 'himself', 'isn', 'own', 'my', 'hasn', 'about', 't', 'needn', 'her', 'having', 'myself', 'ourselves', 'up', \"won't\", 'they', 'after', 'why', \"mustn't\", 'a', 'does', \"aren't\", 'yourselves', 'during', 'this', 'when', 'didn', \"shouldn't\", \"shan't\", 'aren', \"you'd\", 'hadn', 'over', 'he', 'themselves', 'those', 'same', 'were', 'further', 'but', 'do', 'don', 'weren', 'yours', 'am', 'if', 'is', 'between', 'in', 'before', 'm', 'ain', 'itself', \"wouldn't\", 'below', 'haven', \"hadn't\", 'doesn', 'couldn', 'until', 'me', 've', 'both', 'while', 'from', 'doing', 'ours', 'on', 'to', 'some', 'it', 'where', 'now', 'each', \"don't\", 'who', \"needn't\", 'few', \"you're\", 'have', 'only', 'these', 'be', 'that', 'him', \"didn't\", 'wouldn', 'was', 'wasn', 'will', 'shan', 'against', 'can', \"it's\", 'your', 'yourself', 'whom', \"weren't\", \"hasn't\", 'should', 'then', 'its', 'did', \"couldn't\", 'herself', \"you've\", 'no', 'than', 'y', \"haven't\", 'an', 'had', 'theirs', 'won', 'you', 'nor', 'our', 're', 'which', \"mightn't\", 'here', 'as', 'very', 'mightn', \"she's\", 'and', 'under', 'too', 'll', 'are', 'by', 'hers', 'such', \"that'll\", 'other', 'his', \"you'll\", 'just', 'with', 'more', 'or', \"isn't\", \"wasn't\", 'ma', 's', 'o'}\n"
     ]
    }
   ],
   "source": [
    "#nltk.download('stopwords')\n",
    "stop = set(stopwords.words('english'))  # set of english stopwords\n",
    "stop.remove(\"not\")  \n",
    "print(stop)\n",
    "\n",
    "sno = nltk.stem.SnowballStemmer('english') # initializing snowball stemmer\n",
    "\n"
   ]
  },
  {
   "cell_type": "code",
   "execution_count": 14,
   "metadata": {
    "_uuid": "8f7648546e61cd58b7415d94fbdeef9a7e9519b4",
    "collapsed": true
   },
   "outputs": [],
   "source": [
    "def cleanhtml(sentence):    # function for removing html\n",
    "    cleanr = re.compile('<.*?>')\n",
    "    cleantxt = re.sub(cleanr , ' ' , str(sentence))\n",
    "    return cleantxt\n",
    "\n",
    "def cleanpunc(sentence):    # function for removing punctuation\n",
    "    clean = re.sub(r'[?|!|\\'|\"|#|.|,|)|(|\\|/]', r' ' , sentence)\n",
    "    return clean\n",
    "\n"
   ]
  },
  {
   "cell_type": "code",
   "execution_count": 15,
   "metadata": {},
   "outputs": [
    {
     "data": {
      "text/html": [
       "<div>\n",
       "<style>\n",
       "    .dataframe thead tr:only-child th {\n",
       "        text-align: right;\n",
       "    }\n",
       "\n",
       "    .dataframe thead th {\n",
       "        text-align: left;\n",
       "    }\n",
       "\n",
       "    .dataframe tbody tr th {\n",
       "        vertical-align: top;\n",
       "    }\n",
       "</style>\n",
       "<table border=\"1\" class=\"dataframe\">\n",
       "  <thead>\n",
       "    <tr style=\"text-align: right;\">\n",
       "      <th></th>\n",
       "      <th>Id</th>\n",
       "      <th>ProductId</th>\n",
       "      <th>UserId</th>\n",
       "      <th>ProfileName</th>\n",
       "      <th>HelpfulnessNumerator</th>\n",
       "      <th>HelpfulnessDenominator</th>\n",
       "      <th>Score</th>\n",
       "      <th>Time</th>\n",
       "      <th>Summary</th>\n",
       "      <th>Text</th>\n",
       "      <th>com_text</th>\n",
       "    </tr>\n",
       "  </thead>\n",
       "  <tbody>\n",
       "    <tr>\n",
       "      <th>150523</th>\n",
       "      <td>150524</td>\n",
       "      <td>0006641040</td>\n",
       "      <td>ACITT7DI6IDDL</td>\n",
       "      <td>shari zychinski</td>\n",
       "      <td>0</td>\n",
       "      <td>0</td>\n",
       "      <td>positive</td>\n",
       "      <td>939340800</td>\n",
       "      <td>EVERY book is educational</td>\n",
       "      <td>this witty little book makes my son laugh at l...</td>\n",
       "      <td>EVERY book is educational this witty little bo...</td>\n",
       "    </tr>\n",
       "    <tr>\n",
       "      <th>150505</th>\n",
       "      <td>150506</td>\n",
       "      <td>0006641040</td>\n",
       "      <td>A2IW4PEEKO2R0U</td>\n",
       "      <td>Tracy</td>\n",
       "      <td>1</td>\n",
       "      <td>1</td>\n",
       "      <td>positive</td>\n",
       "      <td>1194739200</td>\n",
       "      <td>Love the book, miss the hard cover version</td>\n",
       "      <td>I grew up reading these Sendak books, and watc...</td>\n",
       "      <td>Love the book, miss the hard cover version I g...</td>\n",
       "    </tr>\n",
       "    <tr>\n",
       "      <th>150506</th>\n",
       "      <td>150507</td>\n",
       "      <td>0006641040</td>\n",
       "      <td>A1S4A3IQ2MU7V4</td>\n",
       "      <td>sally sue \"sally sue\"</td>\n",
       "      <td>1</td>\n",
       "      <td>1</td>\n",
       "      <td>positive</td>\n",
       "      <td>1191456000</td>\n",
       "      <td>chicken soup with rice months</td>\n",
       "      <td>This is a fun way for children to learn their ...</td>\n",
       "      <td>chicken soup with rice months This is a fun wa...</td>\n",
       "    </tr>\n",
       "    <tr>\n",
       "      <th>150507</th>\n",
       "      <td>150508</td>\n",
       "      <td>0006641040</td>\n",
       "      <td>AZGXZ2UUK6X</td>\n",
       "      <td>Catherine Hallberg \"(Kate)\"</td>\n",
       "      <td>1</td>\n",
       "      <td>1</td>\n",
       "      <td>positive</td>\n",
       "      <td>1076025600</td>\n",
       "      <td>a good swingy rhythm for reading aloud</td>\n",
       "      <td>This is a great little book to read aloud- it ...</td>\n",
       "      <td>a good swingy rhythm for reading aloud This is...</td>\n",
       "    </tr>\n",
       "    <tr>\n",
       "      <th>150508</th>\n",
       "      <td>150509</td>\n",
       "      <td>0006641040</td>\n",
       "      <td>A3CMRKGE0P909G</td>\n",
       "      <td>Teresa</td>\n",
       "      <td>3</td>\n",
       "      <td>4</td>\n",
       "      <td>positive</td>\n",
       "      <td>1018396800</td>\n",
       "      <td>A great way to learn the months</td>\n",
       "      <td>This is a book of poetry about the months of t...</td>\n",
       "      <td>A great way to learn the months This is a book...</td>\n",
       "    </tr>\n",
       "  </tbody>\n",
       "</table>\n",
       "</div>"
      ],
      "text/plain": [
       "            Id   ProductId          UserId                  ProfileName  \\\n",
       "150523  150524  0006641040   ACITT7DI6IDDL              shari zychinski   \n",
       "150505  150506  0006641040  A2IW4PEEKO2R0U                        Tracy   \n",
       "150506  150507  0006641040  A1S4A3IQ2MU7V4        sally sue \"sally sue\"   \n",
       "150507  150508  0006641040     AZGXZ2UUK6X  Catherine Hallberg \"(Kate)\"   \n",
       "150508  150509  0006641040  A3CMRKGE0P909G                       Teresa   \n",
       "\n",
       "        HelpfulnessNumerator  HelpfulnessDenominator     Score        Time  \\\n",
       "150523                     0                       0  positive   939340800   \n",
       "150505                     1                       1  positive  1194739200   \n",
       "150506                     1                       1  positive  1191456000   \n",
       "150507                     1                       1  positive  1076025600   \n",
       "150508                     3                       4  positive  1018396800   \n",
       "\n",
       "                                           Summary  \\\n",
       "150523                   EVERY book is educational   \n",
       "150505  Love the book, miss the hard cover version   \n",
       "150506               chicken soup with rice months   \n",
       "150507      a good swingy rhythm for reading aloud   \n",
       "150508             A great way to learn the months   \n",
       "\n",
       "                                                     Text  \\\n",
       "150523  this witty little book makes my son laugh at l...   \n",
       "150505  I grew up reading these Sendak books, and watc...   \n",
       "150506  This is a fun way for children to learn their ...   \n",
       "150507  This is a great little book to read aloud- it ...   \n",
       "150508  This is a book of poetry about the months of t...   \n",
       "\n",
       "                                                 com_text  \n",
       "150523  EVERY book is educational this witty little bo...  \n",
       "150505  Love the book, miss the hard cover version I g...  \n",
       "150506  chicken soup with rice months This is a fun wa...  \n",
       "150507  a good swingy rhythm for reading aloud This is...  \n",
       "150508  A great way to learn the months This is a book...  "
      ]
     },
     "execution_count": 15,
     "metadata": {},
     "output_type": "execute_result"
    }
   ],
   "source": [
    "final_data['com_text'] = final_data['Summary'] + ' ' + final_data['Text'] \n",
    "final_data.head()"
   ]
  },
  {
   "cell_type": "code",
   "execution_count": 16,
   "metadata": {
    "collapsed": true
   },
   "outputs": [],
   "source": [
    "i = 0\n",
    "final_string = []\n",
    "all_pos_words = []\n",
    "all_neg_words = []\n",
    "str1 = ' '\n",
    "s = ' '\n",
    "ss = final_data['com_text'].values\n",
    "for sent in ss:\n",
    "    filtered_sentence=[]\n",
    "    #print(sent);\n",
    "    sent=cleanhtml(sent) # removing HTMl tags\n",
    "    for w in sent.split():\n",
    "        for cleaned_words in cleanpunc(w).split():\n",
    "            if((cleaned_words.isalpha()) & (len(cleaned_words)>2)):# checking if word is not alpha numeric and length is greater than 2\n",
    "                if(cleaned_words.lower() not in stop):\n",
    "                    s=(sno.stem(cleaned_words.lower())).encode('utf8')\n",
    "                    filtered_sentence.append(s)\n",
    "                    if (final_data['Score'].values)[i] == 'positive': \n",
    "                        all_pos_words.append(s) \n",
    "                    if(final_data['Score'].values)[i] == 'negative':\n",
    "                        all_neg_words.append(s) \n",
    "                else:\n",
    "                    continue\n",
    "            else:\n",
    "                continue \n",
    "    \n",
    "    str1 = b\" \".join(filtered_sentence) #final string of cleaned words\n",
    "    \n",
    "    \n",
    "    final_string.append(str1)\n",
    "    i+=1"
   ]
  },
  {
   "cell_type": "code",
   "execution_count": 17,
   "metadata": {
    "_uuid": "b18c3698a5c30742429364d2c0ade4ae741d8efd",
    "scrolled": true
   },
   "outputs": [
    {
     "data": {
      "text/plain": [
       "positive    307061\n",
       "negative     57110\n",
       "Name: Score, dtype: int64"
      ]
     },
     "execution_count": 17,
     "metadata": {},
     "output_type": "execute_result"
    }
   ],
   "source": [
    "final_data['CleanedText'] = final_string  # adding extra column for preprocessed review\n",
    "final_data['CleanedText'] = final_data['CleanedText'].str.decode(\"utf8\")\n",
    "#final_data.head()\n",
    "final_data['Score'].value_counts()"
   ]
  },
  {
   "cell_type": "markdown",
   "metadata": {
    "_uuid": "6647f30c857fc9be0386bf16ed9a715778d12397"
   },
   "source": [
    "### Observation:\n",
    "Dataset is highly imbalanced. Most of the reviews are positive. \n",
    " "
   ]
  },
  {
   "cell_type": "code",
   "execution_count": 18,
   "metadata": {
    "_uuid": "68e73a022892ec02265e4d15986b4467f839659d",
    "collapsed": true
   },
   "outputs": [],
   "source": [
    "# sorting whole  data based on time stamps\n",
    "b = final_data\n",
    "b['Time'] = pd.to_datetime(b['Time'], unit = \"s\")\n",
    "b.sort_values('Time', inplace = True)\n",
    "\n",
    "#sampled_data.sort_values('Time',axis=0,kind=\"quicksort\", ascending=True , inplace = True)"
   ]
  },
  {
   "cell_type": "code",
   "execution_count": 19,
   "metadata": {
    "_uuid": "3744149276f27b2358c4cc5c2d6808a6fd82b17b"
   },
   "outputs": [
    {
     "data": {
      "text/html": [
       "<div>\n",
       "<style>\n",
       "    .dataframe thead tr:only-child th {\n",
       "        text-align: right;\n",
       "    }\n",
       "\n",
       "    .dataframe thead th {\n",
       "        text-align: left;\n",
       "    }\n",
       "\n",
       "    .dataframe tbody tr th {\n",
       "        vertical-align: top;\n",
       "    }\n",
       "</style>\n",
       "<table border=\"1\" class=\"dataframe\">\n",
       "  <thead>\n",
       "    <tr style=\"text-align: right;\">\n",
       "      <th></th>\n",
       "      <th>Id</th>\n",
       "      <th>ProductId</th>\n",
       "      <th>UserId</th>\n",
       "      <th>ProfileName</th>\n",
       "      <th>HelpfulnessNumerator</th>\n",
       "      <th>HelpfulnessDenominator</th>\n",
       "      <th>Score</th>\n",
       "      <th>Time</th>\n",
       "      <th>Summary</th>\n",
       "      <th>Text</th>\n",
       "      <th>com_text</th>\n",
       "      <th>CleanedText</th>\n",
       "    </tr>\n",
       "  </thead>\n",
       "  <tbody>\n",
       "    <tr>\n",
       "      <th>150523</th>\n",
       "      <td>150524</td>\n",
       "      <td>0006641040</td>\n",
       "      <td>ACITT7DI6IDDL</td>\n",
       "      <td>shari zychinski</td>\n",
       "      <td>0</td>\n",
       "      <td>0</td>\n",
       "      <td>positive</td>\n",
       "      <td>1999-10-08</td>\n",
       "      <td>EVERY book is educational</td>\n",
       "      <td>this witty little book makes my son laugh at l...</td>\n",
       "      <td>EVERY book is educational this witty little bo...</td>\n",
       "      <td>everi book educ witti littl book make son laug...</td>\n",
       "    </tr>\n",
       "    <tr>\n",
       "      <th>150500</th>\n",
       "      <td>150501</td>\n",
       "      <td>0006641040</td>\n",
       "      <td>AJ46FKXOVC7NR</td>\n",
       "      <td>Nicholas A Mesiano</td>\n",
       "      <td>2</td>\n",
       "      <td>2</td>\n",
       "      <td>positive</td>\n",
       "      <td>1999-10-25</td>\n",
       "      <td>This whole series is great way to spend time w...</td>\n",
       "      <td>I can remember seeing the show when it aired o...</td>\n",
       "      <td>This whole series is great way to spend time w...</td>\n",
       "      <td>whole seri great way spend time child rememb s...</td>\n",
       "    </tr>\n",
       "    <tr>\n",
       "      <th>451855</th>\n",
       "      <td>451856</td>\n",
       "      <td>B00004CXX9</td>\n",
       "      <td>AIUWLEQ1ADEG5</td>\n",
       "      <td>Elizabeth Medina</td>\n",
       "      <td>0</td>\n",
       "      <td>0</td>\n",
       "      <td>positive</td>\n",
       "      <td>1999-12-02</td>\n",
       "      <td>Entertainingl Funny!</td>\n",
       "      <td>Beetlejuice is a well written movie ..... ever...</td>\n",
       "      <td>Entertainingl Funny! Beetlejuice is a well wri...</td>\n",
       "      <td>entertainingl funni beetlejuic well written mo...</td>\n",
       "    </tr>\n",
       "    <tr>\n",
       "      <th>374358</th>\n",
       "      <td>374359</td>\n",
       "      <td>B00004CI84</td>\n",
       "      <td>A344SMIA5JECGM</td>\n",
       "      <td>Vincent P. Ross</td>\n",
       "      <td>1</td>\n",
       "      <td>2</td>\n",
       "      <td>positive</td>\n",
       "      <td>1999-12-06</td>\n",
       "      <td>A modern day fairy tale</td>\n",
       "      <td>A twist of rumplestiskin captured on film, sta...</td>\n",
       "      <td>A modern day fairy tale A twist of rumplestisk...</td>\n",
       "      <td>modern day fairi tale twist rumplestiskin capt...</td>\n",
       "    </tr>\n",
       "    <tr>\n",
       "      <th>451854</th>\n",
       "      <td>451855</td>\n",
       "      <td>B00004CXX9</td>\n",
       "      <td>AJH6LUC1UT1ON</td>\n",
       "      <td>The Phantom of the Opera</td>\n",
       "      <td>0</td>\n",
       "      <td>0</td>\n",
       "      <td>positive</td>\n",
       "      <td>2000-01-03</td>\n",
       "      <td>FANTASTIC!</td>\n",
       "      <td>Beetlejuice is an excellent and funny movie. K...</td>\n",
       "      <td>FANTASTIC! Beetlejuice is an excellent and fun...</td>\n",
       "      <td>fantast beetlejuic excel funni movi keaton hil...</td>\n",
       "    </tr>\n",
       "    <tr>\n",
       "      <th>374421</th>\n",
       "      <td>374422</td>\n",
       "      <td>B00004CI84</td>\n",
       "      <td>A1048CYU0OV4O8</td>\n",
       "      <td>Judy L. Eans</td>\n",
       "      <td>2</td>\n",
       "      <td>2</td>\n",
       "      <td>positive</td>\n",
       "      <td>2000-01-09</td>\n",
       "      <td>GREAT</td>\n",
       "      <td>THIS IS ONE MOVIE THAT SHOULD BE IN YOUR MOVIE...</td>\n",
       "      <td>GREAT THIS IS ONE MOVIE THAT SHOULD BE IN YOUR...</td>\n",
       "      <td>great one movi movi collect fill comedi action...</td>\n",
       "    </tr>\n",
       "    <tr>\n",
       "      <th>374342</th>\n",
       "      <td>374343</td>\n",
       "      <td>B00004CI84</td>\n",
       "      <td>A1B2IZU1JLZA6</td>\n",
       "      <td>Wes</td>\n",
       "      <td>19</td>\n",
       "      <td>23</td>\n",
       "      <td>negative</td>\n",
       "      <td>2000-01-19</td>\n",
       "      <td>WARNING: CLAMSHELL EDITION IS EDITED TV VERSION</td>\n",
       "      <td>I, myself always enjoyed this movie, it's very...</td>\n",
       "      <td>WARNING: CLAMSHELL EDITION IS EDITED TV VERSIO...</td>\n",
       "      <td>clamshel edit edit version alway enjoy movi fu...</td>\n",
       "    </tr>\n",
       "    <tr>\n",
       "      <th>76881</th>\n",
       "      <td>76882</td>\n",
       "      <td>B00002N8SM</td>\n",
       "      <td>A32DW342WBJ6BX</td>\n",
       "      <td>Buttersugar</td>\n",
       "      <td>0</td>\n",
       "      <td>0</td>\n",
       "      <td>positive</td>\n",
       "      <td>2000-01-24</td>\n",
       "      <td>A sure death for flies</td>\n",
       "      <td>I bought a few of these after my apartment was...</td>\n",
       "      <td>A sure death for flies I bought a few of these...</td>\n",
       "      <td>sure death fli bought apart infest fruit fli h...</td>\n",
       "    </tr>\n",
       "    <tr>\n",
       "      <th>374449</th>\n",
       "      <td>374450</td>\n",
       "      <td>B00004CI84</td>\n",
       "      <td>ACJR7EQF9S6FP</td>\n",
       "      <td>Jeremy Robertson</td>\n",
       "      <td>2</td>\n",
       "      <td>3</td>\n",
       "      <td>positive</td>\n",
       "      <td>2000-02-26</td>\n",
       "      <td>Bettlejuice...Bettlejuice...BETTLEJUICE!</td>\n",
       "      <td>What happens when you say his name three times...</td>\n",
       "      <td>Bettlejuice...Bettlejuice...BETTLEJUICE! What ...</td>\n",
       "      <td>bettlejuic bettlejuic bettlejuic happen say na...</td>\n",
       "    </tr>\n",
       "    <tr>\n",
       "      <th>374399</th>\n",
       "      <td>374400</td>\n",
       "      <td>B00004CI84</td>\n",
       "      <td>A2DEE7F9XKP3ZR</td>\n",
       "      <td>jerome</td>\n",
       "      <td>0</td>\n",
       "      <td>3</td>\n",
       "      <td>positive</td>\n",
       "      <td>2000-06-03</td>\n",
       "      <td>Research - Beatlejuice video - French version</td>\n",
       "      <td>I'm getting crazy.I'm looking for Beatlejuice ...</td>\n",
       "      <td>Research - Beatlejuice video - French version ...</td>\n",
       "      <td>research beatlejuic video french version get c...</td>\n",
       "    </tr>\n",
       "    <tr>\n",
       "      <th>451902</th>\n",
       "      <td>451903</td>\n",
       "      <td>B00004CXX9</td>\n",
       "      <td>A2DEE7F9XKP3ZR</td>\n",
       "      <td>jerome</td>\n",
       "      <td>0</td>\n",
       "      <td>1</td>\n",
       "      <td>positive</td>\n",
       "      <td>2000-06-03</td>\n",
       "      <td>Research</td>\n",
       "      <td>I'm getting crazy.&lt;p&gt;Is it really impossible t...</td>\n",
       "      <td>Research I'm getting crazy.&lt;p&gt;Is it really imp...</td>\n",
       "      <td>research get crazi realli imposs today not fin...</td>\n",
       "    </tr>\n",
       "    <tr>\n",
       "      <th>1244</th>\n",
       "      <td>1245</td>\n",
       "      <td>B00002Z754</td>\n",
       "      <td>A29Z5PI9BW2PU3</td>\n",
       "      <td>Robbie</td>\n",
       "      <td>7</td>\n",
       "      <td>7</td>\n",
       "      <td>positive</td>\n",
       "      <td>2000-06-23</td>\n",
       "      <td>Great Product</td>\n",
       "      <td>This was a really good idea and the final prod...</td>\n",
       "      <td>Great Product This was a really good idea and ...</td>\n",
       "      <td>great product realli good idea final product o...</td>\n",
       "    </tr>\n",
       "    <tr>\n",
       "      <th>1243</th>\n",
       "      <td>1244</td>\n",
       "      <td>B00002Z754</td>\n",
       "      <td>A3B8RCEI0FXFI6</td>\n",
       "      <td>B G Chase</td>\n",
       "      <td>10</td>\n",
       "      <td>10</td>\n",
       "      <td>positive</td>\n",
       "      <td>2000-06-29</td>\n",
       "      <td>WOW Make your own 'slickers' !</td>\n",
       "      <td>I just received my shipment and could hardly w...</td>\n",
       "      <td>WOW Make your own 'slickers' ! I just received...</td>\n",
       "      <td>wow make slicker receiv shipment could hard wa...</td>\n",
       "    </tr>\n",
       "    <tr>\n",
       "      <th>131216</th>\n",
       "      <td>131217</td>\n",
       "      <td>B00004RAMX</td>\n",
       "      <td>A5NQLNC6QPGSI</td>\n",
       "      <td>Kim Nason</td>\n",
       "      <td>7</td>\n",
       "      <td>8</td>\n",
       "      <td>positive</td>\n",
       "      <td>2000-07-31</td>\n",
       "      <td>End your Gopher Problems</td>\n",
       "      <td>I have just recently purchased the Woodstream ...</td>\n",
       "      <td>End your Gopher Problems I have just recently ...</td>\n",
       "      <td>end gopher problem recent purchas woodstream c...</td>\n",
       "    </tr>\n",
       "    <tr>\n",
       "      <th>149769</th>\n",
       "      <td>149770</td>\n",
       "      <td>B00004S1C5</td>\n",
       "      <td>A1KXONFPU2XQ5K</td>\n",
       "      <td>Stephanie Manley</td>\n",
       "      <td>8</td>\n",
       "      <td>8</td>\n",
       "      <td>positive</td>\n",
       "      <td>2000-08-09</td>\n",
       "      <td>Very easy to use</td>\n",
       "      <td>This are so much easier to use than the Wilson...</td>\n",
       "      <td>Very easy to use This are so much easier to us...</td>\n",
       "      <td>easi use much easier use wilson past color col...</td>\n",
       "    </tr>\n",
       "    <tr>\n",
       "      <th>149788</th>\n",
       "      <td>149789</td>\n",
       "      <td>B00004S1C6</td>\n",
       "      <td>A1KXONFPU2XQ5K</td>\n",
       "      <td>Stephanie Manley</td>\n",
       "      <td>26</td>\n",
       "      <td>28</td>\n",
       "      <td>positive</td>\n",
       "      <td>2000-08-09</td>\n",
       "      <td>A must have!</td>\n",
       "      <td>These are easy to use, they do not make a mess...</td>\n",
       "      <td>A must have! These are easy to use, they do no...</td>\n",
       "      <td>must easi use not make mess offer vibrant colo...</td>\n",
       "    </tr>\n",
       "    <tr>\n",
       "      <th>374420</th>\n",
       "      <td>374421</td>\n",
       "      <td>B00004CI84</td>\n",
       "      <td>A1FJOY14X3MUHE</td>\n",
       "      <td>Justin Howard</td>\n",
       "      <td>2</td>\n",
       "      <td>2</td>\n",
       "      <td>positive</td>\n",
       "      <td>2000-08-15</td>\n",
       "      <td>A fresh, original film from master storyteller...</td>\n",
       "      <td>This is such a great film, I don't even know h...</td>\n",
       "      <td>A fresh, original film from master storyteller...</td>\n",
       "      <td>fresh origin film master storytel tim burton g...</td>\n",
       "    </tr>\n",
       "    <tr>\n",
       "      <th>374407</th>\n",
       "      <td>374408</td>\n",
       "      <td>B00004CI84</td>\n",
       "      <td>A1GB1Q193DNFGR</td>\n",
       "      <td>Bruce Lee Pullen</td>\n",
       "      <td>5</td>\n",
       "      <td>5</td>\n",
       "      <td>positive</td>\n",
       "      <td>2000-10-03</td>\n",
       "      <td>Fabulous Comedic Fanasy Directed by a Master</td>\n",
       "      <td>Beetlejuice is an awe-inspiring wonderfully am...</td>\n",
       "      <td>Fabulous Comedic Fanasy Directed by a Master B...</td>\n",
       "      <td>fabul comed fanasi direct master beetlejuic wo...</td>\n",
       "    </tr>\n",
       "    <tr>\n",
       "      <th>149767</th>\n",
       "      <td>149768</td>\n",
       "      <td>B00004S1C5</td>\n",
       "      <td>A7P76IGRZZBFJ</td>\n",
       "      <td>E. Thompson \"Soooooper Genius\"</td>\n",
       "      <td>18</td>\n",
       "      <td>18</td>\n",
       "      <td>positive</td>\n",
       "      <td>2000-12-05</td>\n",
       "      <td>Who Needs Wilton?</td>\n",
       "      <td>I'm sick of scads of nasty toothpicks all over...</td>\n",
       "      <td>Who Needs Wilton? I'm sick of scads of nasty t...</td>\n",
       "      <td>need wilton sick scad nasti toothpick counter ...</td>\n",
       "    </tr>\n",
       "    <tr>\n",
       "      <th>374382</th>\n",
       "      <td>374383</td>\n",
       "      <td>B00004CI84</td>\n",
       "      <td>A34NBH479RB0E</td>\n",
       "      <td>\"dmab6395\"</td>\n",
       "      <td>0</td>\n",
       "      <td>1</td>\n",
       "      <td>positive</td>\n",
       "      <td>2000-12-19</td>\n",
       "      <td>FUNNY</td>\n",
       "      <td>I THOUGHT THIS MOVIE WAS SO FUNNY, MICHAEL KEA...</td>\n",
       "      <td>FUNNY I THOUGHT THIS MOVIE WAS SO FUNNY, MICHA...</td>\n",
       "      <td>funni thought movi funni michael keaton beetle...</td>\n",
       "    </tr>\n",
       "  </tbody>\n",
       "</table>\n",
       "</div>"
      ],
      "text/plain": [
       "            Id   ProductId          UserId                     ProfileName  \\\n",
       "150523  150524  0006641040   ACITT7DI6IDDL                 shari zychinski   \n",
       "150500  150501  0006641040   AJ46FKXOVC7NR              Nicholas A Mesiano   \n",
       "451855  451856  B00004CXX9   AIUWLEQ1ADEG5                Elizabeth Medina   \n",
       "374358  374359  B00004CI84  A344SMIA5JECGM                 Vincent P. Ross   \n",
       "451854  451855  B00004CXX9   AJH6LUC1UT1ON        The Phantom of the Opera   \n",
       "374421  374422  B00004CI84  A1048CYU0OV4O8                    Judy L. Eans   \n",
       "374342  374343  B00004CI84   A1B2IZU1JLZA6                             Wes   \n",
       "76881    76882  B00002N8SM  A32DW342WBJ6BX                     Buttersugar   \n",
       "374449  374450  B00004CI84   ACJR7EQF9S6FP                Jeremy Robertson   \n",
       "374399  374400  B00004CI84  A2DEE7F9XKP3ZR                          jerome   \n",
       "451902  451903  B00004CXX9  A2DEE7F9XKP3ZR                          jerome   \n",
       "1244      1245  B00002Z754  A29Z5PI9BW2PU3                          Robbie   \n",
       "1243      1244  B00002Z754  A3B8RCEI0FXFI6                       B G Chase   \n",
       "131216  131217  B00004RAMX   A5NQLNC6QPGSI                       Kim Nason   \n",
       "149769  149770  B00004S1C5  A1KXONFPU2XQ5K                Stephanie Manley   \n",
       "149788  149789  B00004S1C6  A1KXONFPU2XQ5K                Stephanie Manley   \n",
       "374420  374421  B00004CI84  A1FJOY14X3MUHE                   Justin Howard   \n",
       "374407  374408  B00004CI84  A1GB1Q193DNFGR                Bruce Lee Pullen   \n",
       "149767  149768  B00004S1C5   A7P76IGRZZBFJ  E. Thompson \"Soooooper Genius\"   \n",
       "374382  374383  B00004CI84   A34NBH479RB0E                      \"dmab6395\"   \n",
       "\n",
       "        HelpfulnessNumerator  HelpfulnessDenominator     Score       Time  \\\n",
       "150523                     0                       0  positive 1999-10-08   \n",
       "150500                     2                       2  positive 1999-10-25   \n",
       "451855                     0                       0  positive 1999-12-02   \n",
       "374358                     1                       2  positive 1999-12-06   \n",
       "451854                     0                       0  positive 2000-01-03   \n",
       "374421                     2                       2  positive 2000-01-09   \n",
       "374342                    19                      23  negative 2000-01-19   \n",
       "76881                      0                       0  positive 2000-01-24   \n",
       "374449                     2                       3  positive 2000-02-26   \n",
       "374399                     0                       3  positive 2000-06-03   \n",
       "451902                     0                       1  positive 2000-06-03   \n",
       "1244                       7                       7  positive 2000-06-23   \n",
       "1243                      10                      10  positive 2000-06-29   \n",
       "131216                     7                       8  positive 2000-07-31   \n",
       "149769                     8                       8  positive 2000-08-09   \n",
       "149788                    26                      28  positive 2000-08-09   \n",
       "374420                     2                       2  positive 2000-08-15   \n",
       "374407                     5                       5  positive 2000-10-03   \n",
       "149767                    18                      18  positive 2000-12-05   \n",
       "374382                     0                       1  positive 2000-12-19   \n",
       "\n",
       "                                                  Summary  \\\n",
       "150523                          EVERY book is educational   \n",
       "150500  This whole series is great way to spend time w...   \n",
       "451855                               Entertainingl Funny!   \n",
       "374358                            A modern day fairy tale   \n",
       "451854                                         FANTASTIC!   \n",
       "374421                                              GREAT   \n",
       "374342    WARNING: CLAMSHELL EDITION IS EDITED TV VERSION   \n",
       "76881                              A sure death for flies   \n",
       "374449           Bettlejuice...Bettlejuice...BETTLEJUICE!   \n",
       "374399      Research - Beatlejuice video - French version   \n",
       "451902                                           Research   \n",
       "1244                                        Great Product   \n",
       "1243                       WOW Make your own 'slickers' !   \n",
       "131216                           End your Gopher Problems   \n",
       "149769                                   Very easy to use   \n",
       "149788                                       A must have!   \n",
       "374420  A fresh, original film from master storyteller...   \n",
       "374407       Fabulous Comedic Fanasy Directed by a Master   \n",
       "149767                                  Who Needs Wilton?   \n",
       "374382                                              FUNNY   \n",
       "\n",
       "                                                     Text  \\\n",
       "150523  this witty little book makes my son laugh at l...   \n",
       "150500  I can remember seeing the show when it aired o...   \n",
       "451855  Beetlejuice is a well written movie ..... ever...   \n",
       "374358  A twist of rumplestiskin captured on film, sta...   \n",
       "451854  Beetlejuice is an excellent and funny movie. K...   \n",
       "374421  THIS IS ONE MOVIE THAT SHOULD BE IN YOUR MOVIE...   \n",
       "374342  I, myself always enjoyed this movie, it's very...   \n",
       "76881   I bought a few of these after my apartment was...   \n",
       "374449  What happens when you say his name three times...   \n",
       "374399  I'm getting crazy.I'm looking for Beatlejuice ...   \n",
       "451902  I'm getting crazy.<p>Is it really impossible t...   \n",
       "1244    This was a really good idea and the final prod...   \n",
       "1243    I just received my shipment and could hardly w...   \n",
       "131216  I have just recently purchased the Woodstream ...   \n",
       "149769  This are so much easier to use than the Wilson...   \n",
       "149788  These are easy to use, they do not make a mess...   \n",
       "374420  This is such a great film, I don't even know h...   \n",
       "374407  Beetlejuice is an awe-inspiring wonderfully am...   \n",
       "149767  I'm sick of scads of nasty toothpicks all over...   \n",
       "374382  I THOUGHT THIS MOVIE WAS SO FUNNY, MICHAEL KEA...   \n",
       "\n",
       "                                                 com_text  \\\n",
       "150523  EVERY book is educational this witty little bo...   \n",
       "150500  This whole series is great way to spend time w...   \n",
       "451855  Entertainingl Funny! Beetlejuice is a well wri...   \n",
       "374358  A modern day fairy tale A twist of rumplestisk...   \n",
       "451854  FANTASTIC! Beetlejuice is an excellent and fun...   \n",
       "374421  GREAT THIS IS ONE MOVIE THAT SHOULD BE IN YOUR...   \n",
       "374342  WARNING: CLAMSHELL EDITION IS EDITED TV VERSIO...   \n",
       "76881   A sure death for flies I bought a few of these...   \n",
       "374449  Bettlejuice...Bettlejuice...BETTLEJUICE! What ...   \n",
       "374399  Research - Beatlejuice video - French version ...   \n",
       "451902  Research I'm getting crazy.<p>Is it really imp...   \n",
       "1244    Great Product This was a really good idea and ...   \n",
       "1243    WOW Make your own 'slickers' ! I just received...   \n",
       "131216  End your Gopher Problems I have just recently ...   \n",
       "149769  Very easy to use This are so much easier to us...   \n",
       "149788  A must have! These are easy to use, they do no...   \n",
       "374420  A fresh, original film from master storyteller...   \n",
       "374407  Fabulous Comedic Fanasy Directed by a Master B...   \n",
       "149767  Who Needs Wilton? I'm sick of scads of nasty t...   \n",
       "374382  FUNNY I THOUGHT THIS MOVIE WAS SO FUNNY, MICHA...   \n",
       "\n",
       "                                              CleanedText  \n",
       "150523  everi book educ witti littl book make son laug...  \n",
       "150500  whole seri great way spend time child rememb s...  \n",
       "451855  entertainingl funni beetlejuic well written mo...  \n",
       "374358  modern day fairi tale twist rumplestiskin capt...  \n",
       "451854  fantast beetlejuic excel funni movi keaton hil...  \n",
       "374421  great one movi movi collect fill comedi action...  \n",
       "374342  clamshel edit edit version alway enjoy movi fu...  \n",
       "76881   sure death fli bought apart infest fruit fli h...  \n",
       "374449  bettlejuic bettlejuic bettlejuic happen say na...  \n",
       "374399  research beatlejuic video french version get c...  \n",
       "451902  research get crazi realli imposs today not fin...  \n",
       "1244    great product realli good idea final product o...  \n",
       "1243    wow make slicker receiv shipment could hard wa...  \n",
       "131216  end gopher problem recent purchas woodstream c...  \n",
       "149769  easi use much easier use wilson past color col...  \n",
       "149788  must easi use not make mess offer vibrant colo...  \n",
       "374420  fresh origin film master storytel tim burton g...  \n",
       "374407  fabul comed fanasi direct master beetlejuic wo...  \n",
       "149767  need wilton sick scad nasti toothpick counter ...  \n",
       "374382  funni thought movi funni michael keaton beetle...  "
      ]
     },
     "execution_count": 19,
     "metadata": {},
     "output_type": "execute_result"
    }
   ],
   "source": [
    "b.head(20)"
   ]
  },
  {
   "cell_type": "markdown",
   "metadata": {
    "_uuid": "94613d2bde24d0e6410dbe5f425b88b6bfb98197"
   },
   "source": [
    "After reading first few reviews it is found that the data still has few reviews that does not belong to food products. These reviews are of products like book or movie"
   ]
  },
  {
   "cell_type": "code",
   "execution_count": 20,
   "metadata": {
    "_uuid": "36dcc046eafb995bcbd976edb76502c7b972ba89",
    "collapsed": true
   },
   "outputs": [],
   "source": [
    "regex =  re.compile(r'book|Entertaining|funny|movie|show|film|series') \n",
    "text =    b.Text.str.lower().str.contains(regex)\n",
    "b.drop(b[text].index , inplace=True )\n"
   ]
  },
  {
   "cell_type": "code",
   "execution_count": 21,
   "metadata": {
    "_uuid": "e4bcbd190e6459c531d3fae3b37516e5edcf9d16"
   },
   "outputs": [
    {
     "data": {
      "text/plain": [
       "(353417, 12)"
      ]
     },
     "execution_count": 21,
     "metadata": {},
     "output_type": "execute_result"
    }
   ],
   "source": [
    "b.shape"
   ]
  },
  {
   "cell_type": "code",
   "execution_count": 22,
   "metadata": {},
   "outputs": [
    {
     "data": {
      "text/html": [
       "<div>\n",
       "<style>\n",
       "    .dataframe thead tr:only-child th {\n",
       "        text-align: right;\n",
       "    }\n",
       "\n",
       "    .dataframe thead th {\n",
       "        text-align: left;\n",
       "    }\n",
       "\n",
       "    .dataframe tbody tr th {\n",
       "        vertical-align: top;\n",
       "    }\n",
       "</style>\n",
       "<table border=\"1\" class=\"dataframe\">\n",
       "  <thead>\n",
       "    <tr style=\"text-align: right;\">\n",
       "      <th></th>\n",
       "      <th>Id</th>\n",
       "      <th>ProductId</th>\n",
       "      <th>UserId</th>\n",
       "      <th>ProfileName</th>\n",
       "      <th>HelpfulnessNumerator</th>\n",
       "      <th>HelpfulnessDenominator</th>\n",
       "      <th>Score</th>\n",
       "      <th>Time</th>\n",
       "      <th>Summary</th>\n",
       "      <th>Text</th>\n",
       "      <th>com_text</th>\n",
       "      <th>CleanedText</th>\n",
       "      <th>text length</th>\n",
       "    </tr>\n",
       "  </thead>\n",
       "  <tbody>\n",
       "    <tr>\n",
       "      <th>76881</th>\n",
       "      <td>76882</td>\n",
       "      <td>B00002N8SM</td>\n",
       "      <td>A32DW342WBJ6BX</td>\n",
       "      <td>Buttersugar</td>\n",
       "      <td>0</td>\n",
       "      <td>0</td>\n",
       "      <td>positive</td>\n",
       "      <td>2000-01-24</td>\n",
       "      <td>A sure death for flies</td>\n",
       "      <td>I bought a few of these after my apartment was...</td>\n",
       "      <td>A sure death for flies I bought a few of these...</td>\n",
       "      <td>sure death fli bought apart infest fruit fli h...</td>\n",
       "      <td>172</td>\n",
       "    </tr>\n",
       "    <tr>\n",
       "      <th>374449</th>\n",
       "      <td>374450</td>\n",
       "      <td>B00004CI84</td>\n",
       "      <td>ACJR7EQF9S6FP</td>\n",
       "      <td>Jeremy Robertson</td>\n",
       "      <td>2</td>\n",
       "      <td>3</td>\n",
       "      <td>positive</td>\n",
       "      <td>2000-02-26</td>\n",
       "      <td>Bettlejuice...Bettlejuice...BETTLEJUICE!</td>\n",
       "      <td>What happens when you say his name three times...</td>\n",
       "      <td>Bettlejuice...Bettlejuice...BETTLEJUICE! What ...</td>\n",
       "      <td>bettlejuic bettlejuic bettlejuic happen say na...</td>\n",
       "      <td>633</td>\n",
       "    </tr>\n",
       "    <tr>\n",
       "      <th>1244</th>\n",
       "      <td>1245</td>\n",
       "      <td>B00002Z754</td>\n",
       "      <td>A29Z5PI9BW2PU3</td>\n",
       "      <td>Robbie</td>\n",
       "      <td>7</td>\n",
       "      <td>7</td>\n",
       "      <td>positive</td>\n",
       "      <td>2000-06-23</td>\n",
       "      <td>Great Product</td>\n",
       "      <td>This was a really good idea and the final prod...</td>\n",
       "      <td>Great Product This was a really good idea and ...</td>\n",
       "      <td>great product realli good idea final product o...</td>\n",
       "      <td>116</td>\n",
       "    </tr>\n",
       "    <tr>\n",
       "      <th>1243</th>\n",
       "      <td>1244</td>\n",
       "      <td>B00002Z754</td>\n",
       "      <td>A3B8RCEI0FXFI6</td>\n",
       "      <td>B G Chase</td>\n",
       "      <td>10</td>\n",
       "      <td>10</td>\n",
       "      <td>positive</td>\n",
       "      <td>2000-06-29</td>\n",
       "      <td>WOW Make your own 'slickers' !</td>\n",
       "      <td>I just received my shipment and could hardly w...</td>\n",
       "      <td>WOW Make your own 'slickers' ! I just received...</td>\n",
       "      <td>wow make slicker receiv shipment could hard wa...</td>\n",
       "      <td>250</td>\n",
       "    </tr>\n",
       "    <tr>\n",
       "      <th>131216</th>\n",
       "      <td>131217</td>\n",
       "      <td>B00004RAMX</td>\n",
       "      <td>A5NQLNC6QPGSI</td>\n",
       "      <td>Kim Nason</td>\n",
       "      <td>7</td>\n",
       "      <td>8</td>\n",
       "      <td>positive</td>\n",
       "      <td>2000-07-31</td>\n",
       "      <td>End your Gopher Problems</td>\n",
       "      <td>I have just recently purchased the Woodstream ...</td>\n",
       "      <td>End your Gopher Problems I have just recently ...</td>\n",
       "      <td>end gopher problem recent purchas woodstream c...</td>\n",
       "      <td>275</td>\n",
       "    </tr>\n",
       "  </tbody>\n",
       "</table>\n",
       "</div>"
      ],
      "text/plain": [
       "            Id   ProductId          UserId       ProfileName  \\\n",
       "76881    76882  B00002N8SM  A32DW342WBJ6BX       Buttersugar   \n",
       "374449  374450  B00004CI84   ACJR7EQF9S6FP  Jeremy Robertson   \n",
       "1244      1245  B00002Z754  A29Z5PI9BW2PU3            Robbie   \n",
       "1243      1244  B00002Z754  A3B8RCEI0FXFI6         B G Chase   \n",
       "131216  131217  B00004RAMX   A5NQLNC6QPGSI         Kim Nason   \n",
       "\n",
       "        HelpfulnessNumerator  HelpfulnessDenominator     Score       Time  \\\n",
       "76881                      0                       0  positive 2000-01-24   \n",
       "374449                     2                       3  positive 2000-02-26   \n",
       "1244                       7                       7  positive 2000-06-23   \n",
       "1243                      10                      10  positive 2000-06-29   \n",
       "131216                     7                       8  positive 2000-07-31   \n",
       "\n",
       "                                         Summary  \\\n",
       "76881                     A sure death for flies   \n",
       "374449  Bettlejuice...Bettlejuice...BETTLEJUICE!   \n",
       "1244                               Great Product   \n",
       "1243              WOW Make your own 'slickers' !   \n",
       "131216                  End your Gopher Problems   \n",
       "\n",
       "                                                     Text  \\\n",
       "76881   I bought a few of these after my apartment was...   \n",
       "374449  What happens when you say his name three times...   \n",
       "1244    This was a really good idea and the final prod...   \n",
       "1243    I just received my shipment and could hardly w...   \n",
       "131216  I have just recently purchased the Woodstream ...   \n",
       "\n",
       "                                                 com_text  \\\n",
       "76881   A sure death for flies I bought a few of these...   \n",
       "374449  Bettlejuice...Bettlejuice...BETTLEJUICE! What ...   \n",
       "1244    Great Product This was a really good idea and ...   \n",
       "1243    WOW Make your own 'slickers' ! I just received...   \n",
       "131216  End your Gopher Problems I have just recently ...   \n",
       "\n",
       "                                              CleanedText  text length  \n",
       "76881   sure death fli bought apart infest fruit fli h...          172  \n",
       "374449  bettlejuic bettlejuic bettlejuic happen say na...          633  \n",
       "1244    great product realli good idea final product o...          116  \n",
       "1243    wow make slicker receiv shipment could hard wa...          250  \n",
       "131216  end gopher problem recent purchas woodstream c...          275  "
      ]
     },
     "execution_count": 22,
     "metadata": {},
     "output_type": "execute_result"
    }
   ],
   "source": [
    "# creating a new column to get the length of each text\n",
    "b['text length'] = b['CleanedText'].apply(len)\n",
    "b.head()"
   ]
  },
  {
   "cell_type": "code",
   "execution_count": 23,
   "metadata": {},
   "outputs": [
    {
     "data": {
      "image/png": "[encoded data removed]",
      "text/plain": [
       "<matplotlib.figure.Figure at 0x1ed3de1b048>"
      ]
     },
     "metadata": {},
     "output_type": "display_data"
    }
   ],
   "source": [
    "import seaborn as sns\n",
    "g = sns.FacetGrid(data = b , col = 'Score')\n",
    "g.map(plt.hist , 'text length' , bins = 50)\n",
    "plt.show()"
   ]
  },
  {
   "cell_type": "code",
   "execution_count": 63,
   "metadata": {},
   "outputs": [
    {
     "data": {
      "text/plain": [
       "<matplotlib.axes._subplots.AxesSubplot at 0x2289b776f28>"
      ]
     },
     "execution_count": 63,
     "metadata": {},
     "output_type": "execute_result"
    }
   ],
   "source": [
    "sns.boxplot(x='Score', y='text length', data=b)"
   ]
  },
  {
   "cell_type": "code",
   "execution_count": 64,
   "metadata": {},
   "outputs": [
    {
     "data": {
      "image/png": "[encoded data removed]",
      "text/plain": [
       "<matplotlib.figure.Figure at 0x228a58c0c88>"
      ]
     },
     "metadata": {},
     "output_type": "display_data"
    }
   ],
   "source": [
    "plt.show()"
   ]
  },
  {
   "cell_type": "markdown",
   "metadata": {
    "_uuid": "c514ffee9e1c646d5507efb7ce78214906b3d041"
   },
   "source": [
    "### Function for standardizing data"
   ]
  },
  {
   "cell_type": "code",
   "execution_count": 25,
   "metadata": {
    "_uuid": "664f815b85f24972b9647dd028654056d91a44bd",
    "collapsed": true
   },
   "outputs": [],
   "source": [
    "from sklearn.preprocessing import StandardScaler"
   ]
  },
  {
   "cell_type": "code",
   "execution_count": 26,
   "metadata": {
    "_uuid": "deb6ee5090b6da135a128f871552fa93c3d9b5ab",
    "collapsed": true
   },
   "outputs": [],
   "source": [
    "\n",
    "def std_data(matrix):\n",
    "    scaler  = StandardScaler(with_mean=False)\n",
    "    scaler.fit(matrix)\n",
    "    return scaler.transform(matrix) \n",
    " "
   ]
  },
  {
   "cell_type": "code",
   "execution_count": 27,
   "metadata": {
    "_uuid": "bb4f6aa77cb0647a6f792d131bdae6c3928efa53",
    "collapsed": true
   },
   "outputs": [],
   "source": [
    "# picking top 150k data points \n",
    "sampled_data = b.head(150000)"
   ]
  },
  {
   "cell_type": "code",
   "execution_count": 28,
   "metadata": {
    "_kg_hide-output": true,
    "_uuid": "01d92e0700eb784ee54fc8dea218a96db48aa349"
   },
   "outputs": [
    {
     "data": {
      "text/html": [
       "<div>\n",
       "<style>\n",
       "    .dataframe thead tr:only-child th {\n",
       "        text-align: right;\n",
       "    }\n",
       "\n",
       "    .dataframe thead th {\n",
       "        text-align: left;\n",
       "    }\n",
       "\n",
       "    .dataframe tbody tr th {\n",
       "        vertical-align: top;\n",
       "    }\n",
       "</style>\n",
       "<table border=\"1\" class=\"dataframe\">\n",
       "  <thead>\n",
       "    <tr style=\"text-align: right;\">\n",
       "      <th></th>\n",
       "      <th>Id</th>\n",
       "      <th>ProductId</th>\n",
       "      <th>UserId</th>\n",
       "      <th>ProfileName</th>\n",
       "      <th>HelpfulnessNumerator</th>\n",
       "      <th>HelpfulnessDenominator</th>\n",
       "      <th>Score</th>\n",
       "      <th>Time</th>\n",
       "      <th>Summary</th>\n",
       "      <th>Text</th>\n",
       "      <th>com_text</th>\n",
       "      <th>CleanedText</th>\n",
       "      <th>text length</th>\n",
       "    </tr>\n",
       "  </thead>\n",
       "  <tbody>\n",
       "    <tr>\n",
       "      <th>76881</th>\n",
       "      <td>76882</td>\n",
       "      <td>B00002N8SM</td>\n",
       "      <td>A32DW342WBJ6BX</td>\n",
       "      <td>Buttersugar</td>\n",
       "      <td>0</td>\n",
       "      <td>0</td>\n",
       "      <td>positive</td>\n",
       "      <td>2000-01-24</td>\n",
       "      <td>A sure death for flies</td>\n",
       "      <td>I bought a few of these after my apartment was...</td>\n",
       "      <td>A sure death for flies I bought a few of these...</td>\n",
       "      <td>sure death fli bought apart infest fruit fli h...</td>\n",
       "      <td>172</td>\n",
       "    </tr>\n",
       "    <tr>\n",
       "      <th>374449</th>\n",
       "      <td>374450</td>\n",
       "      <td>B00004CI84</td>\n",
       "      <td>ACJR7EQF9S6FP</td>\n",
       "      <td>Jeremy Robertson</td>\n",
       "      <td>2</td>\n",
       "      <td>3</td>\n",
       "      <td>positive</td>\n",
       "      <td>2000-02-26</td>\n",
       "      <td>Bettlejuice...Bettlejuice...BETTLEJUICE!</td>\n",
       "      <td>What happens when you say his name three times...</td>\n",
       "      <td>Bettlejuice...Bettlejuice...BETTLEJUICE! What ...</td>\n",
       "      <td>bettlejuic bettlejuic bettlejuic happen say na...</td>\n",
       "      <td>633</td>\n",
       "    </tr>\n",
       "    <tr>\n",
       "      <th>1244</th>\n",
       "      <td>1245</td>\n",
       "      <td>B00002Z754</td>\n",
       "      <td>A29Z5PI9BW2PU3</td>\n",
       "      <td>Robbie</td>\n",
       "      <td>7</td>\n",
       "      <td>7</td>\n",
       "      <td>positive</td>\n",
       "      <td>2000-06-23</td>\n",
       "      <td>Great Product</td>\n",
       "      <td>This was a really good idea and the final prod...</td>\n",
       "      <td>Great Product This was a really good idea and ...</td>\n",
       "      <td>great product realli good idea final product o...</td>\n",
       "      <td>116</td>\n",
       "    </tr>\n",
       "    <tr>\n",
       "      <th>1243</th>\n",
       "      <td>1244</td>\n",
       "      <td>B00002Z754</td>\n",
       "      <td>A3B8RCEI0FXFI6</td>\n",
       "      <td>B G Chase</td>\n",
       "      <td>10</td>\n",
       "      <td>10</td>\n",
       "      <td>positive</td>\n",
       "      <td>2000-06-29</td>\n",
       "      <td>WOW Make your own 'slickers' !</td>\n",
       "      <td>I just received my shipment and could hardly w...</td>\n",
       "      <td>WOW Make your own 'slickers' ! I just received...</td>\n",
       "      <td>wow make slicker receiv shipment could hard wa...</td>\n",
       "      <td>250</td>\n",
       "    </tr>\n",
       "    <tr>\n",
       "      <th>131216</th>\n",
       "      <td>131217</td>\n",
       "      <td>B00004RAMX</td>\n",
       "      <td>A5NQLNC6QPGSI</td>\n",
       "      <td>Kim Nason</td>\n",
       "      <td>7</td>\n",
       "      <td>8</td>\n",
       "      <td>positive</td>\n",
       "      <td>2000-07-31</td>\n",
       "      <td>End your Gopher Problems</td>\n",
       "      <td>I have just recently purchased the Woodstream ...</td>\n",
       "      <td>End your Gopher Problems I have just recently ...</td>\n",
       "      <td>end gopher problem recent purchas woodstream c...</td>\n",
       "      <td>275</td>\n",
       "    </tr>\n",
       "  </tbody>\n",
       "</table>\n",
       "</div>"
      ],
      "text/plain": [
       "            Id   ProductId          UserId       ProfileName  \\\n",
       "76881    76882  B00002N8SM  A32DW342WBJ6BX       Buttersugar   \n",
       "374449  374450  B00004CI84   ACJR7EQF9S6FP  Jeremy Robertson   \n",
       "1244      1245  B00002Z754  A29Z5PI9BW2PU3            Robbie   \n",
       "1243      1244  B00002Z754  A3B8RCEI0FXFI6         B G Chase   \n",
       "131216  131217  B00004RAMX   A5NQLNC6QPGSI         Kim Nason   \n",
       "\n",
       "        HelpfulnessNumerator  HelpfulnessDenominator     Score       Time  \\\n",
       "76881                      0                       0  positive 2000-01-24   \n",
       "374449                     2                       3  positive 2000-02-26   \n",
       "1244                       7                       7  positive 2000-06-23   \n",
       "1243                      10                      10  positive 2000-06-29   \n",
       "131216                     7                       8  positive 2000-07-31   \n",
       "\n",
       "                                         Summary  \\\n",
       "76881                     A sure death for flies   \n",
       "374449  Bettlejuice...Bettlejuice...BETTLEJUICE!   \n",
       "1244                               Great Product   \n",
       "1243              WOW Make your own 'slickers' !   \n",
       "131216                  End your Gopher Problems   \n",
       "\n",
       "                                                     Text  \\\n",
       "76881   I bought a few of these after my apartment was...   \n",
       "374449  What happens when you say his name three times...   \n",
       "1244    This was a really good idea and the final prod...   \n",
       "1243    I just received my shipment and could hardly w...   \n",
       "131216  I have just recently purchased the Woodstream ...   \n",
       "\n",
       "                                                 com_text  \\\n",
       "76881   A sure death for flies I bought a few of these...   \n",
       "374449  Bettlejuice...Bettlejuice...BETTLEJUICE! What ...   \n",
       "1244    Great Product This was a really good idea and ...   \n",
       "1243    WOW Make your own 'slickers' ! I just received...   \n",
       "131216  End your Gopher Problems I have just recently ...   \n",
       "\n",
       "                                              CleanedText  text length  \n",
       "76881   sure death fli bought apart infest fruit fli h...          172  \n",
       "374449  bettlejuic bettlejuic bettlejuic happen say na...          633  \n",
       "1244    great product realli good idea final product o...          116  \n",
       "1243    wow make slicker receiv shipment could hard wa...          250  \n",
       "131216  end gopher problem recent purchas woodstream c...          275  "
      ]
     },
     "execution_count": 28,
     "metadata": {},
     "output_type": "execute_result"
    }
   ],
   "source": [
    "sampled_data.head()"
   ]
  },
  {
   "cell_type": "code",
   "execution_count": 29,
   "metadata": {
    "_uuid": "b44f8f0324fa7a00f6167ebc8beac80b47e03b43",
    "collapsed": true
   },
   "outputs": [],
   "source": [
    "# splitting  data into train and test set\n",
    "def response_label(sign):\n",
    "    if sign == \"positive\":\n",
    "        return 1                               # positive-----> 1\n",
    "    else:\n",
    "        return -1                              # negative-----> -1 \n",
    "    \n",
    "sampled_data[\"Score\"] = sampled_data[\"Score\"].map(response_label)\n",
    "X_train, X_test, Y_train, Y_test , len_train , len_test  = train_test_split(sampled_data['CleanedText'],sampled_data['Score'], sampled_data['text length'],test_size=0.3, random_state=45)"
   ]
  },
  {
   "cell_type": "code",
   "execution_count": 30,
   "metadata": {},
   "outputs": [
    {
     "data": {
      "text/plain": [
       " 1    90909\n",
       "-1    14091\n",
       "Name: Score, dtype: int64"
      ]
     },
     "execution_count": 30,
     "metadata": {},
     "output_type": "execute_result"
    }
   ],
   "source": [
    "Y_train.value_counts()"
   ]
  },
  {
   "cell_type": "markdown",
   "metadata": {
    "_uuid": "1cfdfcaea63bd892dd42744da74f09bb5a3fa441"
   },
   "source": [
    "## Bag of Words"
   ]
  },
  {
   "cell_type": "code",
   "execution_count": 31,
   "metadata": {
    "_uuid": "055b08beb7141671bc43afb68307c1f46573169f"
   },
   "outputs": [
    {
     "name": "stdout",
     "output_type": "stream",
     "text": [
      "(105000, 12026)\n",
      "(45000, 12026)\n"
     ]
    }
   ],
   "source": [
    "#CountVectorizer()--> Converts a collection of text documents to a matrix of token counts\n",
    "\n",
    "# Initialize a CountVectorizer object: count_vectorizer\n",
    "count_vect = CountVectorizer(ngram_range = (1,3) , min_df = 50 , max_df = 0.7)\n",
    "\n",
    "# Transforming train/test data into bag of words\n",
    "bow_X_train_matrix = count_vect.fit_transform(X_train.values)\n",
    "print( bow_X_train_matrix.shape)\n",
    "\n",
    "bow_X_test_matrix = count_vect.transform(X_test.values)\n",
    "print(bow_X_test_matrix.shape)"
   ]
  },
  {
   "cell_type": "code",
   "execution_count": 32,
   "metadata": {
    "collapsed": true
   },
   "outputs": [],
   "source": [
    "# feature engineering\n",
    "# adding text length as a feature to the dataset\n",
    "from scipy.sparse import hstack\n",
    "bow_X_train_matrix = hstack((bow_X_train_matrix,np.array(len_train)[:,None]))\n",
    "bow_X_test_matrix = hstack((bow_X_test_matrix,np.array(len_test)[:,None]))\n"
   ]
  },
  {
   "cell_type": "markdown",
   "metadata": {},
   "source": [
    "### Cross Validation for hyperparameter(alpha) tunning\n"
   ]
  },
  {
   "cell_type": "code",
   "execution_count": 33,
   "metadata": {
    "collapsed": true
   },
   "outputs": [],
   "source": [
    "parameter = {\"alpha\":  np.array( [0.00001, 0.0001, 0.001, 0.01, 0.1,10,100 , 1000] )}\n",
    "\n",
    "# since features has discrete values hence choosing MULTINOMIAL Navie Bayes\n",
    "model = MultinomialNB() \n",
    "\n",
    "tscv = TimeSeriesSplit(n_splits=10).split(bow_X_train_matrix , Y_train)\n",
    "clf = GridSearchCV(model, parameter, cv = tscv,scoring='f1')"
   ]
  },
  {
   "cell_type": "code",
   "execution_count": 34,
   "metadata": {},
   "outputs": [
    {
     "data": {
      "text/plain": [
       "GridSearchCV(cv=<generator object TimeSeriesSplit.split at 0x00000228A7D1CA98>,\n",
       "       error_score='raise',\n",
       "       estimator=MultinomialNB(alpha=1.0, class_prior=None, fit_prior=True),\n",
       "       fit_params=None, iid=True, n_jobs=1,\n",
       "       param_grid={'alpha': array([1.e-05, 1.e-04, 1.e-03, 1.e-02, 1.e-01, 1.e+01, 1.e+02, 1.e+03])},\n",
       "       pre_dispatch='2*n_jobs', refit=True, return_train_score='warn',\n",
       "       scoring='f1', verbose=0)"
      ]
     },
     "execution_count": 34,
     "metadata": {},
     "output_type": "execute_result"
    }
   ],
   "source": [
    "clf.fit(bow_X_train_matrix , Y_train)"
   ]
  },
  {
   "cell_type": "code",
   "execution_count": 35,
   "metadata": {},
   "outputs": [
    {
     "name": "stdout",
     "output_type": "stream",
     "text": [
      "f1_score for alpha =  1e-05 is  0.9531058204372995\n",
      "f1_score for alpha =  0.0001 is  0.9535705681503686\n",
      "f1_score for alpha =  0.001 is  0.9542622594678438\n",
      "f1_score for alpha =  0.01 is  0.9548217277820975\n",
      "f1_score for alpha =  0.1 is  0.9546789302010594\n",
      "f1_score for alpha =  10 is  0.9511830460513625\n",
      "f1_score for alpha =  100 is  0.9277208977685663\n",
      "f1_score for alpha =  1000 is  0.9277000491563847\n"
     ]
    }
   ],
   "source": [
    "# checking cross validation accuracy for each alpha\n",
    "cv_score = list(clf.cv_results_.get('mean_test_score'))\n",
    "alpha_values = [0.00001, 0.0001, 0.001, 0.01, 0.1,10,100 , 1000]\n",
    "for i in range(len(cv_score)):\n",
    "    print('f1_score for alpha = ',alpha_values[i],'is ',cv_score[i] )"
   ]
  },
  {
   "cell_type": "code",
   "execution_count": 36,
   "metadata": {},
   "outputs": [
    {
     "data": {
      "text/plain": [
       "dict_keys(['mean_fit_time', 'std_fit_time', 'mean_score_time', 'std_score_time', 'param_alpha', 'params', 'split0_test_score', 'split1_test_score', 'split2_test_score', 'split3_test_score', 'split4_test_score', 'split5_test_score', 'split6_test_score', 'split7_test_score', 'split8_test_score', 'split9_test_score', 'mean_test_score', 'std_test_score', 'rank_test_score', 'split0_train_score', 'split1_train_score', 'split2_train_score', 'split3_train_score', 'split4_train_score', 'split5_train_score', 'split6_train_score', 'split7_train_score', 'split8_train_score', 'split9_train_score', 'mean_train_score', 'std_train_score'])"
      ]
     },
     "execution_count": 36,
     "metadata": {},
     "output_type": "execute_result"
    }
   ],
   "source": [
    "clf.cv_results_.keys()"
   ]
  },
  {
   "cell_type": "code",
   "execution_count": 38,
   "metadata": {},
   "outputs": [
    {
     "data": {
      "image/png": "[encoded data removed]",
      "text/plain": [
       "<matplotlib.figure.Figure at 0x22806f29048>"
      ]
     },
     "metadata": {},
     "output_type": "display_data"
    }
   ],
   "source": [
    "# plot\n",
    "acc_score= clf.cv_results_.get('mean_test_score')\n",
    "error = [1-x for x in acc_score]\n",
    "alpha = np.array( [0.00001, 0.0001, 0.001, 0.01, 0.1,10 , 100 , 1000] )\n",
    "plt.plot(alpha,error , 'o-')\n",
    "plt.xlabel('alpha')\n",
    "plt.ylabel('Missclassification error')\n",
    "plt.title('alpha vs misclassification error')\n",
    "plt.show()"
   ]
  },
  {
   "cell_type": "code",
   "execution_count": 39,
   "metadata": {},
   "outputs": [
    {
     "data": {
      "text/plain": [
       "{'alpha': 0.01}"
      ]
     },
     "execution_count": 39,
     "metadata": {},
     "output_type": "execute_result"
    }
   ],
   "source": [
    "# best value of alpha for model\n",
    "clf.best_params_"
   ]
  },
  {
   "cell_type": "code",
   "execution_count": 41,
   "metadata": {
    "_uuid": "798d7bc7daa46fe3064e641187fb27c90b609bc9"
   },
   "outputs": [
    {
     "data": {
      "text/plain": [
       "MultinomialNB(alpha=0.01, class_prior=None, fit_prior=True)"
      ]
     },
     "execution_count": 41,
     "metadata": {},
     "output_type": "execute_result"
    }
   ],
   "source": [
    "#  model training\n",
    "clf_BOW = MultinomialNB(alpha = clf.best_params_['alpha'])\n",
    "clf_BOW.fit(bow_X_train_matrix, Y_train)\n"
   ]
  },
  {
   "cell_type": "markdown",
   "metadata": {},
   "source": [
    "#### Test and Train accuracy"
   ]
  },
  {
   "cell_type": "code",
   "execution_count": 42,
   "metadata": {
    "_uuid": "0e3f54b964a60d3bcea6a04a739f95a67eb9f06c"
   },
   "outputs": [
    {
     "name": "stdout",
     "output_type": "stream",
     "text": [
      "Test accuracy: 92.173333%\n"
     ]
    }
   ],
   "source": [
    "# test accuracy on trained model\n",
    "test_prediction = clf_BOW.predict(bow_X_test_matrix)  # predicted output of test data\n",
    "test_accuracy = accuracy_score(Y_test, test_prediction) * 100 \n",
    "print('Test accuracy: %f%%'%(test_accuracy))\n"
   ]
  },
  {
   "cell_type": "code",
   "execution_count": 43,
   "metadata": {
    "_uuid": "5f46891c970963201cc4a4119ddc14ca01ec2ea5"
   },
   "outputs": [
    {
     "name": "stdout",
     "output_type": "stream",
     "text": [
      "Train accuracy: 92.846667%\n"
     ]
    }
   ],
   "source": [
    "#  train accuracy\n",
    "train_prediction = clf_BOW.predict(bow_X_train_matrix)  # predicted output of train data\n",
    "train_accuracy = accuracy_score(Y_train, train_prediction) * 100 \n",
    "print('Train accuracy: %f%%'%(train_accuracy))\n"
   ]
  },
  {
   "cell_type": "markdown",
   "metadata": {},
   "source": [
    "### Performance Metrics"
   ]
  },
  {
   "cell_type": "code",
   "execution_count": 44,
   "metadata": {
    "_uuid": "d956ebfb0459fdff503e7ebbe38be0d1dcc0501e"
   },
   "outputs": [
    {
     "name": "stdout",
     "output_type": "stream",
     "text": [
      "             precision    recall  f1-score   support\n",
      "\n",
      "         -1       0.67      0.82      0.74      6149\n",
      "          1       0.97      0.94      0.95     38851\n",
      "\n",
      "avg / total       0.93      0.92      0.92     45000\n",
      "\n"
     ]
    },
    {
     "data": {
      "image/png": "[encoded data removed]",
      "text/plain": [
       "<matplotlib.figure.Figure at 0x2283f720e80>"
      ]
     },
     "metadata": {},
     "output_type": "display_data"
    }
   ],
   "source": [
    "# using metrics like precision, recall f1-score and confusion matrix to evaluate performance of model\n",
    "print(classification_report(Y_test, test_prediction))\n",
    "import scikitplot.metrics as sciplot\n",
    "sciplot.plot_confusion_matrix(Y_test, test_prediction)\n",
    "plt.show()"
   ]
  },
  {
   "cell_type": "markdown",
   "metadata": {},
   "source": [
    "### Feature Importance"
   ]
  },
  {
   "cell_type": "code",
   "execution_count": 46,
   "metadata": {},
   "outputs": [
    {
     "name": "stdout",
     "output_type": "stream",
     "text": [
      "\t\t\tNegative\t\tPostive\n",
      "________________________________________________________________________________________________\n",
      "\t-21.6314\ttotal wast          \t\t-6.3296\tgreat          \n",
      "\t-15.9243\tnot recommend product\t\t-6.3718\tnot            \n",
      "\t-15.9243\trealli want like    \t\t-6.4049\tgood           \n",
      "\t-15.6375\tworst tast          \t\t-6.4058\ttast           \n",
      "\t-15.4148\tzero star           \t\t-6.4250\tlike           \n",
      "\t-15.2328\tbig disappoint      \t\t-6.5290\tlove           \n",
      "\t-15.2328\tnot worth money     \t\t-6.5946\tflavor         \n",
      "\t-15.2328\ttwo star            \t\t-6.6080\ttea            \n",
      "\t-15.0789\textrem disappoint   \t\t-6.7581\tuse            \n",
      "\t-15.0789\trefund money        \t\t-6.7633\tproduct        \n",
      "\t-14.9456\tnot worth price     \t\t-6.7951\tone            \n",
      "\t-14.8279\tavoid product       \t\t-6.8801\tcoffe          \n",
      "\t-14.8279\tnot buy product     \t\t-6.9014\ttri            \n",
      "\t-14.7227\tfals advertis       \t\t-6.9995\tbest           \n",
      "\t-14.7227\tmoney back          \t\t-7.0021\tmake           \n",
      "\t-14.7227\tone worst           \t\t-7.1023\tget            \n",
      "\t-14.7227\trealli disappoint   \t\t-7.2160\tfood           \n",
      "\t-14.6274\tgot bad batch       \t\t-7.3539\tbuy            \n",
      "\t-14.6274\tterribl tast        \t\t-7.3613\ttime           \n",
      "\t-14.6274\twould not purchas   \t\t-7.3816\tprice          \n",
      "\t-14.3865\tnot return          \t\t-7.3830\teat            \n",
      "\t-14.3865\tstrang tast         \t\t-7.3861\tfind           \n",
      "\t-14.3865\tundrink             \t\t-7.3893\tamazon         \n",
      "\t-14.3175\teven finish         \t\t-7.4098\trealli         \n",
      "\t-14.3175\tnot accept          \t\t-7.4376\twould          \n",
      "\t-14.2530\tbuyer bewar         \t\t-7.5096\talso           \n",
      "\t-14.2530\tmeh                 \t\t-7.5259\tmuch           \n",
      "\t-14.2530\tthrew away          \t\t-7.5293\tlittl          \n",
      "\t-14.2530\twould not order     \t\t-7.5463\torder          \n",
      "\t-14.1925\taw tast             \t\t-7.5825\tstore          \n",
      "\t-14.1925\thorribl tast        \t\t-7.5829\tdog            \n",
      "\t-14.1925\tmayb got            \t\t-7.6077\tdelici         \n",
      "\t-14.1925\treceiv not          \t\t-7.6094\tmix            \n",
      "\t-14.1353\tbig mistak          \t\t-7.6218\tchocol         \n",
      "\t-14.1353\tcancel order        \t\t-7.6255\tdrink          \n",
      "\t-14.0813\tbummer              \t\t-7.6530\twell           \n",
      "\t-14.0813\tproduct disappoint  \t\t-7.6615\tbetter         \n",
      "\t-14.0813\ttast stale          \t\t-7.6677\tbag            \n",
      "\t-14.0300\tgot bad             \t\t-7.6767\teven           \n",
      "\t-14.0300\tlike bad            \t\t-7.7734\tsugar          \n",
      "\t-14.0300\tmoldi               \t\t-7.7871\tyear           \n",
      "\t-14.0300\tnot even close      \t\t-7.7992\ttreat          \n",
      "\t-14.0300\tsend back           \t\t-7.8097\tsweet          \n",
      "\t-14.0300\tsometh wrong        \t\t-7.8159\trecommend      \n",
      "\t-14.0300\tthought mayb        \t\t-7.8283\tday            \n",
      "\t-13.9813\tbland not           \t\t-7.8422\tfavorit        \n",
      "\t-13.9813\thard rock           \t\t-7.8720\tbox            \n",
      "\t-13.9348\tdisappoint flavor   \t\t-7.8726\thigh           \n",
      "\t-13.9348\tend give            \t\t-7.8818\tfound          \n",
      "\t-13.9348\tnever receiv        \t\t-7.9172\tcup            \n"
     ]
    }
   ],
   "source": [
    "#Source:https://stackoverflow.com/questions/11116697/how-to-get-most-informative-features-for-scikit-learn-classifiers\n",
    "\n",
    "def show_most_informative_features(vectorizer, clf, n=50):\n",
    "    feature_names = vectorizer.get_feature_names()\n",
    "    coefs_with_fns = sorted(zip(clf.coef_[0], feature_names))\n",
    "    top = zip(coefs_with_fns[:n], coefs_with_fns[:-(n + 1):-1])\n",
    "    print(\"\\t\\t\\tNegative\\t\\tPostive\")\n",
    "    print(\"________________________________________________________________________________________________\")\n",
    "    for (coef_1, fn_1), (coef_2, fn_2) in top:\n",
    "        print(\"\\t%.4f\\t%-20s\\t\\t%.4f\\t%-15s\" % (coef_1, fn_1, coef_2, fn_2))\n",
    "        \n",
    "show_most_informative_features(count_vect , clf_BOW)"
   ]
  },
  {
   "cell_type": "markdown",
   "metadata": {
    "_uuid": "fdde81b2e75e0ff06187375f9537b92113d02c1d"
   },
   "source": [
    "# TF-IDF"
   ]
  },
  {
   "cell_type": "code",
   "execution_count": 47,
   "metadata": {
    "_uuid": "cbbbdd13fd241452837e33ff48fbb49ae069c0f2"
   },
   "outputs": [
    {
     "name": "stdout",
     "output_type": "stream",
     "text": [
      "(105000, 12026)\n",
      "(45000, 12026)\n"
     ]
    }
   ],
   "source": [
    "tf_idf_vect = TfidfVectorizer(ngram_range=(1,3) , min_df = 50 , max_df = 0.7)\n",
    "# Transforming train/test data into tf-idf\n",
    "tf_idf_X_train_matrix = tf_idf_vect.fit_transform(X_train.values)\n",
    "print(tf_idf_X_train_matrix.shape)\n",
    "tf_idf_X_test_matrix = tf_idf_vect.transform(X_test.values)\n",
    "print(tf_idf_X_test_matrix.shape)"
   ]
  },
  {
   "cell_type": "code",
   "execution_count": 48,
   "metadata": {
    "collapsed": true
   },
   "outputs": [],
   "source": [
    "#addling length as feature\n",
    "tf_idf_X_train_matrix = hstack((tf_idf_X_train_matrix,np.array(len_train)[:,None]))\n",
    "tf_idf_X_test_matrix = hstack((tf_idf_X_test_matrix,np.array(len_test)[:,None]))\n"
   ]
  },
  {
   "cell_type": "markdown",
   "metadata": {},
   "source": [
    "### Cross Validation"
   ]
  },
  {
   "cell_type": "code",
   "execution_count": 49,
   "metadata": {
    "collapsed": true
   },
   "outputs": [],
   "source": [
    "# cross validation to find best alpha using grid search\n",
    "parameter = {\"alpha\":  np.array( [0.00001, 0.0001, 0.001, 0.01, 0.1,10,100] )}\n",
    "model = MultinomialNB()\n",
    "tscv = TimeSeriesSplit(n_splits=10).split(tf_idf_X_train_matrix , Y_train)\n",
    "clf2 = GridSearchCV(model, parameter, cv = tscv,scoring='f1')"
   ]
  },
  {
   "cell_type": "code",
   "execution_count": 50,
   "metadata": {},
   "outputs": [
    {
     "data": {
      "text/plain": [
       "GridSearchCV(cv=<generator object TimeSeriesSplit.split at 0x00000228BD981DB0>,\n",
       "       error_score='raise',\n",
       "       estimator=MultinomialNB(alpha=1.0, class_prior=None, fit_prior=True),\n",
       "       fit_params=None, iid=True, n_jobs=1,\n",
       "       param_grid={'alpha': array([1.e-05, 1.e-04, 1.e-03, 1.e-02, 1.e-01, 1.e+01, 1.e+02])},\n",
       "       pre_dispatch='2*n_jobs', refit=True, return_train_score='warn',\n",
       "       scoring='f1', verbose=0)"
      ]
     },
     "execution_count": 50,
     "metadata": {},
     "output_type": "execute_result"
    }
   ],
   "source": [
    "clf2.fit(tf_idf_X_train_matrix , Y_train)"
   ]
  },
  {
   "cell_type": "code",
   "execution_count": 51,
   "metadata": {},
   "outputs": [
    {
     "name": "stdout",
     "output_type": "stream",
     "text": [
      "f1_score for alpha =  1e-05 is  0.9503185657473112\n",
      "f1_score for alpha =  0.0001 is  0.9505842872064835\n",
      "f1_score for alpha =  0.001 is  0.9511225709507862\n",
      "f1_score for alpha =  0.01 is  0.9519651666146532\n",
      "f1_score for alpha =  0.1 is  0.9530441381603616\n",
      "f1_score for alpha =  10 is  0.9280592118563553\n",
      "f1_score for alpha =  100 is  0.9277000491563847\n"
     ]
    }
   ],
   "source": [
    "# checking cross validation accuracy for each alpha\n",
    "cv_score = list(clf2.cv_results_.get('mean_test_score'))\n",
    "alpha_values = [0.00001, 0.0001, 0.001, 0.01, 0.1,10,100 , 1000]\n",
    "for i in range(len(cv_score)):\n",
    "    print('f1_score for alpha = ',alpha_values[i],'is ',cv_score[i] )"
   ]
  },
  {
   "cell_type": "code",
   "execution_count": 52,
   "metadata": {},
   "outputs": [
    {
     "data": {
      "image/png": "[encoded data removed]",
      "text/plain": [
       "<matplotlib.figure.Figure at 0x2288239d550>"
      ]
     },
     "metadata": {},
     "output_type": "display_data"
    }
   ],
   "source": [
    "# plot\n",
    "acc_score= clf2.cv_results_.get('mean_test_score')\n",
    "error = [1-x for x in acc_score]\n",
    "alpha = np.array( [0.00001, 0.0001, 0.001, 0.01, 0.1,10 , 100] )\n",
    "plt.plot(alpha,error , 'o-')\n",
    "plt.xlabel('alpha')\n",
    "plt.ylabel('Missclassification error')\n",
    "plt.title('alpha vs misclassification error')\n",
    "plt.show()"
   ]
  },
  {
   "cell_type": "code",
   "execution_count": 53,
   "metadata": {},
   "outputs": [
    {
     "data": {
      "text/plain": [
       "{'alpha': 0.1}"
      ]
     },
     "execution_count": 53,
     "metadata": {},
     "output_type": "execute_result"
    }
   ],
   "source": [
    "# best parameter\n",
    "clf2.best_params_"
   ]
  },
  {
   "cell_type": "code",
   "execution_count": 54,
   "metadata": {},
   "outputs": [
    {
     "data": {
      "text/plain": [
       "0.9530441381603616"
      ]
     },
     "execution_count": 54,
     "metadata": {},
     "output_type": "execute_result"
    }
   ],
   "source": [
    "clf2.best_score_"
   ]
  },
  {
   "cell_type": "code",
   "execution_count": 55,
   "metadata": {},
   "outputs": [
    {
     "data": {
      "text/plain": [
       "MultinomialNB(alpha=0.1, class_prior=None, fit_prior=True)"
      ]
     },
     "execution_count": 55,
     "metadata": {},
     "output_type": "execute_result"
    }
   ],
   "source": [
    "#training\n",
    "clf_tfIdf = MultinomialNB(alpha = clf2.best_params_['alpha'])\n",
    "clf_tfIdf.fit(tf_idf_X_train_matrix, Y_train)\n"
   ]
  },
  {
   "cell_type": "markdown",
   "metadata": {},
   "source": [
    "### Train and Test accuracy"
   ]
  },
  {
   "cell_type": "code",
   "execution_count": 56,
   "metadata": {},
   "outputs": [
    {
     "name": "stdout",
     "output_type": "stream",
     "text": [
      "Test accuracy: 91.828889%\n"
     ]
    }
   ],
   "source": [
    "# test accuracy on trained model\n",
    "test_prediction_tfIdf = clf_tfIdf.predict(tf_idf_X_test_matrix)  # predicted output of test data\n",
    "test_accuracy_tfIdf = accuracy_score(Y_test, test_prediction_tfIdf) * 100 \n",
    "print('Test accuracy: %f%%'%(test_accuracy_tfIdf))"
   ]
  },
  {
   "cell_type": "code",
   "execution_count": 57,
   "metadata": {},
   "outputs": [
    {
     "name": "stdout",
     "output_type": "stream",
     "text": [
      "Train accuracy: 92.525714%\n"
     ]
    }
   ],
   "source": [
    "#train accuracy\n",
    "train_prediction_tfIdf = clf_tfIdf.predict(tf_idf_X_train_matrix)  # predicted output of train data\n",
    "train_accuracy_tfIdf = accuracy_score(Y_train, train_prediction_tfIdf) * 100 \n",
    "print('Train accuracy: %f%%'%(train_accuracy_tfIdf))"
   ]
  },
  {
   "cell_type": "markdown",
   "metadata": {},
   "source": [
    "### Performance Metrics"
   ]
  },
  {
   "cell_type": "code",
   "execution_count": 58,
   "metadata": {},
   "outputs": [
    {
     "name": "stdout",
     "output_type": "stream",
     "text": [
      "             precision    recall  f1-score   support\n",
      "\n",
      "         -1       0.87      0.47      0.61      6149\n",
      "          1       0.92      0.99      0.95     38851\n",
      "\n",
      "avg / total       0.91      0.92      0.91     45000\n",
      "\n"
     ]
    },
    {
     "data": {
      "image/png": "[encoded data removed]",
      "text/plain": [
       "<matplotlib.figure.Figure at 0x228a63f5c88>"
      ]
     },
     "metadata": {},
     "output_type": "display_data"
    }
   ],
   "source": [
    "print(classification_report(Y_test, test_prediction_tfIdf))\n",
    "import scikitplot.metrics as sciplot\n",
    "sciplot.plot_confusion_matrix(Y_test, test_prediction_tfIdf)\n",
    "plt.show()"
   ]
  },
  {
   "cell_type": "code",
   "execution_count": 59,
   "metadata": {},
   "outputs": [
    {
     "name": "stdout",
     "output_type": "stream",
     "text": [
      "\t\t\tNegative\t\tPostive\n",
      "________________________________________________________________________________________________\n",
      "\t-19.1630\ttotal wast          \t\t-8.9870\tgreat          \n",
      "\t-17.7779\trealli want like    \t\t-9.1045\ttea            \n",
      "\t-17.4623\tnot recommend product\t\t-9.1242\tgood           \n",
      "\t-17.4575\tworst tast          \t\t-9.1367\tlove           \n",
      "\t-17.0628\tzero star           \t\t-9.2278\ttast           \n",
      "\t-16.8946\ttwo star            \t\t-9.2936\tlike           \n",
      "\t-16.8145\tnot worth money     \t\t-9.3082\tcoffe          \n",
      "\t-16.6867\textrem disappoint   \t\t-9.3276\tflavor         \n",
      "\t-16.6597\tbig disappoint      \t\t-9.3344\tnot            \n",
      "\t-16.5674\trefund money        \t\t-9.3743\tproduct        \n",
      "\t-16.5065\tavoid product       \t\t-9.4637\tbest           \n",
      "\t-16.4790\tmoney back          \t\t-9.4702\tuse            \n",
      "\t-16.3830\tnot worth price     \t\t-9.5534\tone            \n",
      "\t-16.3651\tnot buy product     \t\t-9.6226\ttri            \n",
      "\t-16.3251\tfals advertis       \t\t-9.6628\tmake           \n",
      "\t-16.3109\tone worst           \t\t-9.7427\tget            \n",
      "\t-16.2418\trealli disappoint   \t\t-9.7669\tprice          \n",
      "\t-16.2220\tterribl tast        \t\t-9.8010\tfood           \n",
      "\t-16.1884\twould not purchas   \t\t-9.8240\tfind           \n",
      "\t-16.0741\tthrew away          \t\t-9.8307\tdog            \n",
      "\t-16.0539\tgot bad batch       \t\t-9.8327\tbuy            \n",
      "\t-16.0287\teven finish         \t\t-9.8472\tdelici         \n",
      "\t-15.9835\tundrink             \t\t-9.8666\tamazon         \n",
      "\t-15.9512\tmayb got            \t\t-9.8965\ttime           \n",
      "\t-15.9380\tstrang tast         \t\t-9.8976\teat            \n",
      "\t-15.9113\tnot accept          \t\t-9.9003\trealli         \n",
      "\t-15.8961\tnot return          \t\t-9.9083\torder          \n",
      "\t-15.8861\tbuyer bewar         \t\t-9.9446\tchocol         \n",
      "\t-15.8470\taw tast             \t\t-9.9835\tstore          \n",
      "\t-15.8244\tmeh                 \t\t-10.0112\tlittl          \n",
      "\t-15.7949\tthought mayb        \t\t-10.0235\tmix            \n",
      "\t-15.7947\tsometh wrong        \t\t-10.0308\twould          \n",
      "\t-15.7852\tbig mistak          \t\t-10.0359\ttreat          \n",
      "\t-15.7594\thorribl tast        \t\t-10.0554\tmuch           \n",
      "\t-15.7581\tlike bad            \t\t-10.0608\tdrink          \n",
      "\t-15.7516\tmoldi               \t\t-10.0905\tbetter         \n",
      "\t-15.7208\tnot even close      \t\t-10.0988\tfavorit        \n",
      "\t-15.7106\tproduct china       \t\t-10.1062\talso           \n",
      "\t-15.6910\tpoor qualiti        \t\t-10.1148\tbag            \n",
      "\t-15.6892\twould not order     \t\t-10.1168\tsnack          \n",
      "\t-15.6714\ttast stale          \t\t-10.1228\twell           \n",
      "\t-15.6441\thigh hope           \t\t-10.1320\texcel          \n",
      "\t-15.6425\tgot bad             \t\t-10.1638\tsweet          \n",
      "\t-15.6067\thard rock           \t\t-10.1818\tsugar          \n",
      "\t-15.6028\tnot like tast       \t\t-10.1887\tyear           \n",
      "\t-15.5902\tproduct disappoint  \t\t-10.1940\trecommend      \n",
      "\t-15.5830\treceiv not          \t\t-10.2156\teven           \n",
      "\t-15.5751\tsend back           \t\t-10.2286\tnice           \n",
      "\t-15.5576\tdisappoint flavor   \t\t-10.2340\twonder         \n",
      "\t-15.5547\tcancel order        \t\t-10.2469\tperfect        \n"
     ]
    }
   ],
   "source": [
    "        \n",
    "show_most_informative_features(tf_idf_vect , clf_tfIdf)"
   ]
  },
  {
   "cell_type": "markdown",
   "metadata": {},
   "source": [
    "### Results"
   ]
  },
  {
   "cell_type": "code",
   "execution_count": 61,
   "metadata": {
    "collapsed": true
   },
   "outputs": [],
   "source": [
    "from prettytable import PrettyTable\n",
    "x = PrettyTable()"
   ]
  },
  {
   "cell_type": "code",
   "execution_count": 62,
   "metadata": {},
   "outputs": [
    {
     "name": "stdout",
     "output_type": "stream",
     "text": [
      "+---------------+----------------+---------------+----------------+----------+\n",
      "|     Model     | Hyperparameter | Test accuracy | Train accuracy | f1-score |\n",
      "+---------------+----------------+---------------+----------------+----------+\n",
      "|  NB with BOW  |      0.01      |     92.17     |     92.84      |   0.92   |\n",
      "| NB with TfIdf |      0.1       |     91.88     |     92.52      |   0.91   |\n",
      "+---------------+----------------+---------------+----------------+----------+\n"
     ]
    }
   ],
   "source": [
    "x.field_names = [\"Model\", \"Hyperparameter\", \"Test accuracy\", \"Train accuracy\" , \"f1-score\"]\n",
    "x.add_row(['NB with BOW' , '0.01' , '92.17' , '92.84' , '0.92'])\n",
    "x.add_row(['NB with TfIdf' , '0.1' , '91.88' , '92.52' , '0.91'])\n",
    "print(x)"
   ]
  },
  {
   "cell_type": "markdown",
   "metadata": {
    "_uuid": "72479c04b5f536de1077a74137d38dfd0194d59a"
   },
   "source": [
    "### Conclusion\n",
    "1. Naive bayes is a good algorithm for text based classifications.\n",
    "2. the algorithm is fast, both the training and testing time was considerably lesser than other algorithms like kNN.\n",
    "3. performance of the model is good on both seen and unseen data.\n",
    "4. Since naive bayes assumes features to be independent of each other hence vectorization techniques like wrod2vec and tf-Idf    word2vec doesn't work well with naive bayes as w2vec features are dependent.\n",
    "\n",
    " "
   ]
  }
 ],
 "metadata": {
  "kernelspec": {
   "display_name": "Python 3",
   "language": "python",
   "name": "python3"
  },
  "language_info": {
   "codemirror_mode": {
    "name": "ipython",
    "version": 3
   },
   "file_extension": ".py",
   "mimetype": "text/x-python",
   "name": "python",
   "nbconvert_exporter": "python",
   "pygments_lexer": "ipython3",
   "version": "3.6.3"
  }
 },
 "nbformat": 4,
 "nbformat_minor": 1
}
